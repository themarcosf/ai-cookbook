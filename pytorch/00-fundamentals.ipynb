{
 "cells": [
  {
   "cell_type": "code",
   "execution_count": 1,
   "metadata": {},
   "outputs": [
    {
     "name": "stdout",
     "output_type": "stream",
     "text": [
      "2.5.1\n"
     ]
    }
   ],
   "source": [
    "import numpy as np\n",
    "\n",
    "import torch\n",
    "print(torch.__version__)"
   ]
  },
  {
   "cell_type": "markdown",
   "metadata": {},
   "source": [
    "# Introduction to tensors\n",
    "\n",
    "## Creating tensors\n",
    "\n",
    "PyTorch tensors are created using `torch.tensor()`."
   ]
  },
  {
   "cell_type": "code",
   "execution_count": 2,
   "metadata": {},
   "outputs": [
    {
     "name": "stdout",
     "output_type": "stream",
     "text": [
      "tensor(3.)\n",
      "scalar dimension:  0\n",
      "scalar item:  3.0\n"
     ]
    }
   ],
   "source": [
    "# scalar\n",
    "scalar = torch.tensor(3.0)\n",
    "print(scalar)\n",
    "print(\"scalar dimension: \", scalar.dim())\n",
    "print(\"scalar item: \", scalar.item())"
   ]
  },
  {
   "cell_type": "code",
   "execution_count": 3,
   "metadata": {},
   "outputs": [
    {
     "name": "stdout",
     "output_type": "stream",
     "text": [
      "tensor([7., 7.])\n",
      "vector dimension:  1\n",
      "vector shape:  torch.Size([2])\n"
     ]
    }
   ],
   "source": [
    "# vector\n",
    "vector = torch.tensor([7.0, 7.0])\n",
    "print(vector)\n",
    "print(\"vector dimension: \", vector.dim())\n",
    "print(\"vector shape: \", vector.shape)"
   ]
  },
  {
   "cell_type": "code",
   "execution_count": 4,
   "metadata": {},
   "outputs": [
    {
     "name": "stdout",
     "output_type": "stream",
     "text": [
      "tensor([[1., 2.],\n",
      "        [3., 4.]])\n",
      "matrix dimension:  2\n",
      "matrix shape:  torch.Size([2, 2])\n",
      "matrix first dimension:  tensor([1., 2.])\n",
      "matrix second dimension:  tensor([3., 4.])\n"
     ]
    }
   ],
   "source": [
    "# matrix\n",
    "MATRIX = torch.tensor([[1.0, 2.0], [3.0, 4.0]])\n",
    "print(MATRIX)\n",
    "print(\"matrix dimension: \", MATRIX.dim())\n",
    "print(\"matrix shape: \", MATRIX.shape)\n",
    "print(\"matrix first dimension: \", MATRIX[0])\n",
    "print(\"matrix second dimension: \", MATRIX[1])"
   ]
  },
  {
   "cell_type": "code",
   "execution_count": 5,
   "metadata": {},
   "outputs": [
    {
     "name": "stdout",
     "output_type": "stream",
     "text": [
      "tensor([[[1., 2.],\n",
      "         [3., 4.],\n",
      "         [5., 6.]]])\n",
      "tensor dimension:  3\n",
      "tensor shape:  torch.Size([1, 3, 2])\n"
     ]
    }
   ],
   "source": [
    "# tensor\n",
    "TENSOR = torch.tensor([[[1.0, 2.0], [3.0, 4.0], [5.0, 6.0]]])\n",
    "print(TENSOR)\n",
    "print(\"tensor dimension: \", TENSOR.dim())\n",
    "print(\"tensor shape: \", TENSOR.shape)"
   ]
  },
  {
   "cell_type": "markdown",
   "metadata": {},
   "source": [
    "## Creating random tensors\n",
    "\n",
    "Random tensors are important because the way many neural networks learn is that they start with tensors full of random numbers and then adjust those random numbers to better represent the data.\n",
    "\n",
    "`Start with random numbers -> look at data -> update random numbers -> look at data -> update random numbers -> ...`"
   ]
  },
  {
   "cell_type": "code",
   "execution_count": 6,
   "metadata": {},
   "outputs": [
    {
     "name": "stdout",
     "output_type": "stream",
     "text": [
      "tensor([[0.6314, 0.8238, 0.9925, 0.7917],\n",
      "        [0.7415, 0.0382, 0.8795, 0.7245],\n",
      "        [0.1279, 0.4904, 0.6395, 0.6149]])\n",
      "random_tensor dimension:  2\n"
     ]
    }
   ],
   "source": [
    "# create a 2d random tensor of size (3, 4)\n",
    "tensor = torch.rand(3, 4)\n",
    "print(tensor)\n",
    "print(\"random_tensor dimension: \", tensor.dim())"
   ]
  },
  {
   "cell_type": "code",
   "execution_count": 7,
   "metadata": {},
   "outputs": [
    {
     "name": "stdout",
     "output_type": "stream",
     "text": [
      "tensor([[[0.8098, 0.8241, 0.2076, 0.2241],\n",
      "         [0.4719, 0.8465, 0.1072, 0.1380],\n",
      "         [0.7431, 0.3145, 0.6634, 0.9429]]])\n",
      "random_tensor_2 dimension:  3\n"
     ]
    }
   ],
   "source": [
    "# create a 3d random tensor of size (1, 3, 4)\n",
    "tensor_2 = torch.rand(1, 3, 4)\n",
    "print(tensor_2)\n",
    "print(\"random_tensor_2 dimension: \", tensor_2.dim())"
   ]
  },
  {
   "cell_type": "code",
   "execution_count": 15,
   "metadata": {},
   "outputs": [
    {
     "name": "stdout",
     "output_type": "stream",
     "text": [
      "First three width configurations:\n",
      " tensor([[0.8143, 0.9440, 0.3479],\n",
      "        [0.7630, 0.5406, 0.0653],\n",
      "        [0.1154, 0.5749, 0.0954]])\n",
      "image_tensor dimension:  3\n"
     ]
    }
   ],
   "source": [
    "# create a random tensor with shape similar to an image tensor\n",
    "# height, width, color channels\n",
    "image_tensor = torch.rand(size=(224, 224, 3))\n",
    "print(\"First three width configurations:\\n\", image_tensor[0][0:3])\n",
    "print(\"image_tensor dimension: \", image_tensor.dim())"
   ]
  },
  {
   "cell_type": "markdown",
   "metadata": {},
   "source": [
    "## Creating tensors with zeroes and ones"
   ]
  },
  {
   "cell_type": "code",
   "execution_count": 16,
   "metadata": {},
   "outputs": [
    {
     "name": "stdout",
     "output_type": "stream",
     "text": [
      "tensor([[0., 0., 0., 0.],\n",
      "        [0., 0., 0., 0.],\n",
      "        [0., 0., 0., 0.]])\n",
      "zero_tensor dimension:  2\n",
      "zero_tensor dtype:  torch.float32\n"
     ]
    }
   ],
   "source": [
    "tensor = torch.zeros(size=(3, 4))\n",
    "print(tensor)\n",
    "print(\"zero_tensor dimension: \", tensor.dim())\n",
    "print(\"zero_tensor dtype: \", tensor.dtype)"
   ]
  },
  {
   "cell_type": "code",
   "execution_count": 17,
   "metadata": {},
   "outputs": [
    {
     "name": "stdout",
     "output_type": "stream",
     "text": [
      "tensor([[1., 1., 1., 1.],\n",
      "        [1., 1., 1., 1.],\n",
      "        [1., 1., 1., 1.]])\n",
      "ones_tensor dimension:  2\n",
      "ones_tensor dtype:  torch.float32\n"
     ]
    }
   ],
   "source": [
    "tensor = torch.ones(size=(3, 4))\n",
    "print(tensor)\n",
    "print(\"ones_tensor dimension: \", tensor.dim())\n",
    "print(\"ones_tensor dtype: \", tensor.dtype)"
   ]
  },
  {
   "cell_type": "markdown",
   "metadata": {},
   "source": [
    "## Creating a range of tensors and tensors-like"
   ]
  },
  {
   "cell_type": "code",
   "execution_count": 18,
   "metadata": {},
   "outputs": [
    {
     "name": "stdout",
     "output_type": "stream",
     "text": [
      "tensor([ 0.,  2.,  4.,  6.,  8., 10.])\n",
      "range_tensor shape:  torch.Size([6])\n"
     ]
    }
   ],
   "source": [
    "tensor = torch.arange(start=0.0, end=11.0, step=2.0)\n",
    "print(tensor)\n",
    "print(\"range_tensor shape: \", tensor.shape)"
   ]
  },
  {
   "cell_type": "code",
   "execution_count": 19,
   "metadata": {},
   "outputs": [
    {
     "name": "stdout",
     "output_type": "stream",
     "text": [
      "tensor([0., 0., 0., 0., 0., 0.])\n",
      "tensor_like shape:  torch.Size([6])\n"
     ]
    }
   ],
   "source": [
    "# tensors-like: a particular shape to be replicated somewhere else, but not explicitly defined just yet\n",
    "tensor_like = torch.zeros_like(input=tensor)\n",
    "print(tensor_like)\n",
    "print(\"tensor_like shape: \", tensor_like.shape)"
   ]
  },
  {
   "cell_type": "markdown",
   "metadata": {},
   "source": [
    "## Tensor data types\n",
    "\n",
    "**Note:** Tensor datatypes is one of the 3 big errors you'll run into with PyTorch & deep learning:\n",
    "1. Tensor not in right datatype\n",
    "2. Tensor not in right shape\n",
    "3. Tensor not on right device (CPU vs GPU)"
   ]
  },
  {
   "cell_type": "code",
   "execution_count": 22,
   "metadata": {},
   "outputs": [
    {
     "name": "stdout",
     "output_type": "stream",
     "text": [
      "torch.int64\n"
     ]
    }
   ],
   "source": [
    "# default int dtype is int64\n",
    "tensor = torch.tensor([1, 2, 3])\n",
    "print(tensor.dtype)"
   ]
  },
  {
   "cell_type": "code",
   "execution_count": 23,
   "metadata": {},
   "outputs": [
    {
     "name": "stdout",
     "output_type": "stream",
     "text": [
      "torch.float32\n"
     ]
    }
   ],
   "source": [
    "# default float dtype is float32\n",
    "tensor = torch.tensor([1.0, 2.0, 3.0])\n",
    "print(tensor.dtype)"
   ]
  },
  {
   "cell_type": "code",
   "execution_count": 24,
   "metadata": {},
   "outputs": [
    {
     "name": "stdout",
     "output_type": "stream",
     "text": [
      "tensor([1., 2., 3.], dtype=torch.float16)\n"
     ]
    }
   ],
   "source": [
    "# dtype conversion\n",
    "tensor = tensor.type(torch.float16)\n",
    "print(tensor)"
   ]
  },
  {
   "cell_type": "code",
   "execution_count": 25,
   "metadata": {},
   "outputs": [
    {
     "name": "stdout",
     "output_type": "stream",
     "text": [
      "torch.float16\n",
      "torch.Size([3])\n",
      "cpu\n"
     ]
    }
   ],
   "source": [
    "# getting tensor attributes\n",
    "print(tensor.dtype)\n",
    "print(tensor.shape)\n",
    "print(tensor.device)"
   ]
  },
  {
   "cell_type": "markdown",
   "metadata": {},
   "source": [
    "## Tensor operations"
   ]
  },
  {
   "cell_type": "code",
   "execution_count": 26,
   "metadata": {},
   "outputs": [
    {
     "data": {
      "text/plain": [
       "tensor([1., 2., 3.])"
      ]
     },
     "execution_count": 26,
     "metadata": {},
     "output_type": "execute_result"
    }
   ],
   "source": [
    "tensor = tensor.type(torch.float32)\n",
    "tensor"
   ]
  },
  {
   "cell_type": "code",
   "execution_count": 27,
   "metadata": {},
   "outputs": [
    {
     "data": {
      "text/plain": [
       "tensor([6., 7., 8.])"
      ]
     },
     "execution_count": 27,
     "metadata": {},
     "output_type": "execute_result"
    }
   ],
   "source": [
    "tensor + 5"
   ]
  },
  {
   "cell_type": "code",
   "execution_count": 28,
   "metadata": {},
   "outputs": [
    {
     "data": {
      "text/plain": [
       "tensor([6., 7., 8.])"
      ]
     },
     "execution_count": 28,
     "metadata": {},
     "output_type": "execute_result"
    }
   ],
   "source": [
    "torch.add(tensor, 5)"
   ]
  },
  {
   "cell_type": "code",
   "execution_count": 29,
   "metadata": {},
   "outputs": [
    {
     "data": {
      "text/plain": [
       "tensor([-4., -3., -2.])"
      ]
     },
     "execution_count": 29,
     "metadata": {},
     "output_type": "execute_result"
    }
   ],
   "source": [
    "tensor - 5"
   ]
  },
  {
   "cell_type": "code",
   "execution_count": 30,
   "metadata": {},
   "outputs": [
    {
     "data": {
      "text/plain": [
       "tensor([-4., -3., -2.])"
      ]
     },
     "execution_count": 30,
     "metadata": {},
     "output_type": "execute_result"
    }
   ],
   "source": [
    "torch.sub(tensor, 5)"
   ]
  },
  {
   "cell_type": "code",
   "execution_count": 31,
   "metadata": {},
   "outputs": [
    {
     "data": {
      "text/plain": [
       "tensor([ 5., 10., 15.])"
      ]
     },
     "execution_count": 31,
     "metadata": {},
     "output_type": "execute_result"
    }
   ],
   "source": [
    "tensor * 5"
   ]
  },
  {
   "cell_type": "code",
   "execution_count": 32,
   "metadata": {},
   "outputs": [
    {
     "data": {
      "text/plain": [
       "tensor([ 5., 10., 15.])"
      ]
     },
     "execution_count": 32,
     "metadata": {},
     "output_type": "execute_result"
    }
   ],
   "source": [
    "torch.mul(tensor, 5)"
   ]
  },
  {
   "cell_type": "markdown",
   "metadata": {},
   "source": [
    "### Matrix multiplication (dot product)\n",
    "\n",
    "One of the most commom errors in deep learning is shape errors. There are two main rules that performing matrix multiplication needs to satisfy:\n",
    "\n",
    "1. the **inner dimensions** must match:\n",
    "* `(3, 2) @ (3, 2)` will not work\n",
    "* `(3, 2) @ (2, 3)` will work\n",
    "\n",
    "2. the resulting matrix has the shape of the **outer dimensions**:\n",
    "* `(3, 2) @ (2, 3)` will result in a `(3, 3)` matrix"
   ]
  },
  {
   "cell_type": "code",
   "execution_count": 33,
   "metadata": {},
   "outputs": [
    {
     "data": {
      "text/plain": [
       "tensor([[0.3401, 0.5060, 0.8018, 0.9090],\n",
       "        [0.3957, 0.4663, 0.0658, 0.2722],\n",
       "        [0.1487, 0.0516, 0.9073, 0.1180]])"
      ]
     },
     "execution_count": 33,
     "metadata": {},
     "output_type": "execute_result"
    }
   ],
   "source": [
    "tensor_A = torch.rand(size=(3, 4))\n",
    "tensor_A"
   ]
  },
  {
   "cell_type": "code",
   "execution_count": 34,
   "metadata": {},
   "outputs": [
    {
     "data": {
      "text/plain": [
       "tensor([[0.0011, 0.4925, 0.8457],\n",
       "        [0.2750, 0.8785, 0.5952],\n",
       "        [0.1284, 0.8864, 0.3438],\n",
       "        [0.3667, 0.7742, 0.6087]])"
      ]
     },
     "execution_count": 34,
     "metadata": {},
     "output_type": "execute_result"
    }
   ],
   "source": [
    "tensor_B = torch.rand(size=(4, 3))\n",
    "tensor_B"
   ]
  },
  {
   "cell_type": "code",
   "execution_count": 35,
   "metadata": {},
   "outputs": [
    {
     "data": {
      "text/plain": [
       "tensor([0.4019, 0.2482, 0.7191, 0.1898])"
      ]
     },
     "execution_count": 35,
     "metadata": {},
     "output_type": "execute_result"
    }
   ],
   "source": [
    "vector = torch.rand(size=(4,))\n",
    "vector"
   ]
  },
  {
   "cell_type": "code",
   "execution_count": 36,
   "metadata": {},
   "outputs": [
    {
     "data": {
      "text/plain": [
       "tensor([[0.1367, 0.1256, 0.5766, 0.1726],\n",
       "        [0.1591, 0.1157, 0.0473, 0.0517],\n",
       "        [0.0598, 0.0128, 0.6524, 0.0224]])"
      ]
     },
     "execution_count": 36,
     "metadata": {},
     "output_type": "execute_result"
    }
   ],
   "source": [
    "# element-wise\n",
    "tensor_A * vector"
   ]
  },
  {
   "cell_type": "code",
   "execution_count": 50,
   "metadata": {},
   "outputs": [
    {
     "data": {
      "text/plain": [
       "tensor([[0.5758, 2.0264, 1.4177],\n",
       "        [0.2369, 0.8736, 0.8005],\n",
       "        [0.1741, 1.0141, 0.5402]])"
      ]
     },
     "execution_count": 50,
     "metadata": {},
     "output_type": "execute_result"
    }
   ],
   "source": [
    "# matrix multiplication\n",
    "torch.matmul(tensor_A, tensor_B)"
   ]
  },
  {
   "cell_type": "code",
   "execution_count": 51,
   "metadata": {},
   "outputs": [
    {
     "data": {
      "text/plain": [
       "tensor([[0.5758, 2.0264, 1.4177],\n",
       "        [0.2369, 0.8736, 0.8005],\n",
       "        [0.1741, 1.0141, 0.5402]])"
      ]
     },
     "execution_count": 51,
     "metadata": {},
     "output_type": "execute_result"
    }
   ],
   "source": [
    "torch.mm(tensor_A, tensor_B)"
   ]
  },
  {
   "cell_type": "code",
   "execution_count": 52,
   "metadata": {},
   "outputs": [
    {
     "data": {
      "text/plain": [
       "tensor([[0.5758, 2.0264, 1.4177],\n",
       "        [0.2369, 0.8736, 0.8005],\n",
       "        [0.1741, 1.0141, 0.5402]])"
      ]
     },
     "execution_count": 52,
     "metadata": {},
     "output_type": "execute_result"
    }
   ],
   "source": [
    "tensor_A @ tensor_B"
   ]
  },
  {
   "cell_type": "code",
   "execution_count": 53,
   "metadata": {},
   "outputs": [
    {
     "name": "stdout",
     "output_type": "stream",
     "text": [
      "Inner dimensions must match. mat1 and mat2 shapes cannot be multiplied (3x2 and 3x2)\n"
     ]
    }
   ],
   "source": [
    "try:\n",
    "  torch.rand(3, 2) @ torch.rand(3, 2)\n",
    "except Exception as e:\n",
    "  print(f\"Inner dimensions must match. {e}\")"
   ]
  },
  {
   "cell_type": "markdown",
   "metadata": {},
   "source": [
    "### Matrix Transpose (T)\n",
    "\n",
    "To fix our tensor shape issues, we can manipulate the shape of one of our tensors using a **transpose `.T`**.\n",
    "\n",
    "A **transpose** switches the axes or dimensions of a given tensor."
   ]
  },
  {
   "cell_type": "code",
   "execution_count": 54,
   "metadata": {},
   "outputs": [
    {
     "data": {
      "text/plain": [
       "tensor([[0.5421, 0.7182],\n",
       "        [0.9501, 0.8209],\n",
       "        [0.3189, 0.1523]])"
      ]
     },
     "execution_count": 54,
     "metadata": {},
     "output_type": "execute_result"
    }
   ],
   "source": [
    "torch.rand(3, 2)"
   ]
  },
  {
   "cell_type": "code",
   "execution_count": 55,
   "metadata": {},
   "outputs": [
    {
     "data": {
      "text/plain": [
       "tensor([[0.9129, 0.8614, 0.8044],\n",
       "        [0.1332, 0.2079, 0.6473]])"
      ]
     },
     "execution_count": 55,
     "metadata": {},
     "output_type": "execute_result"
    }
   ],
   "source": [
    "torch.rand(3, 2).T"
   ]
  },
  {
   "cell_type": "code",
   "execution_count": 56,
   "metadata": {},
   "outputs": [
    {
     "data": {
      "text/plain": [
       "tensor([[0.8021, 0.4943, 0.9796],\n",
       "        [0.2215, 0.1453, 0.2525],\n",
       "        [0.4501, 0.4243, 0.2483]])"
      ]
     },
     "execution_count": 56,
     "metadata": {},
     "output_type": "execute_result"
    }
   ],
   "source": [
    "torch.rand(3, 2) @ torch.rand(3, 2).T"
   ]
  },
  {
   "cell_type": "markdown",
   "metadata": {},
   "source": [
    "## Tensor Aggregation"
   ]
  },
  {
   "cell_type": "code",
   "execution_count": 57,
   "metadata": {},
   "outputs": [
    {
     "data": {
      "text/plain": [
       "tensor([ 1, 11, 21, 31, 41, 51, 61, 71, 81, 91])"
      ]
     },
     "execution_count": 57,
     "metadata": {},
     "output_type": "execute_result"
    }
   ],
   "source": [
    "tensor = torch.arange(start=1, end=100, step=10)\n",
    "tensor"
   ]
  },
  {
   "cell_type": "code",
   "execution_count": 58,
   "metadata": {},
   "outputs": [
    {
     "data": {
      "text/plain": [
       "(tensor(1), tensor(1))"
      ]
     },
     "execution_count": 58,
     "metadata": {},
     "output_type": "execute_result"
    }
   ],
   "source": [
    "tensor.min(), torch.min(tensor)"
   ]
  },
  {
   "cell_type": "code",
   "execution_count": 59,
   "metadata": {},
   "outputs": [
    {
     "data": {
      "text/plain": [
       "(tensor(91), tensor(91))"
      ]
     },
     "execution_count": 59,
     "metadata": {},
     "output_type": "execute_result"
    }
   ],
   "source": [
    "tensor.max(), torch.max(tensor)"
   ]
  },
  {
   "cell_type": "code",
   "execution_count": 60,
   "metadata": {},
   "outputs": [
    {
     "name": "stdout",
     "output_type": "stream",
     "text": [
      "Mean not implemented for integer tensors. mean(): could not infer output dtype. Input dtype must be either a floating point or complex dtype. Got: Long\n"
     ]
    }
   ],
   "source": [
    "try: \n",
    "  tensor.mean(), torch.mean(tensor)\n",
    "except Exception as e:\n",
    "  print(f\"Mean not implemented for integer tensors. {e}\")"
   ]
  },
  {
   "cell_type": "code",
   "execution_count": 61,
   "metadata": {},
   "outputs": [
    {
     "data": {
      "text/plain": [
       "torch.int64"
      ]
     },
     "execution_count": 61,
     "metadata": {},
     "output_type": "execute_result"
    }
   ],
   "source": [
    "tensor.dtype"
   ]
  },
  {
   "cell_type": "code",
   "execution_count": 62,
   "metadata": {},
   "outputs": [
    {
     "data": {
      "text/plain": [
       "(tensor(46., dtype=torch.float64), tensor(46., dtype=torch.float64))"
      ]
     },
     "execution_count": 62,
     "metadata": {},
     "output_type": "execute_result"
    }
   ],
   "source": [
    "tensor.type(torch.float64).mean(), torch.mean(tensor.type(torch.float64))"
   ]
  },
  {
   "cell_type": "code",
   "execution_count": 63,
   "metadata": {},
   "outputs": [
    {
     "data": {
      "text/plain": [
       "(tensor(460), tensor(460))"
      ]
     },
     "execution_count": 63,
     "metadata": {},
     "output_type": "execute_result"
    }
   ],
   "source": [
    "tensor.sum(), torch.sum(tensor)"
   ]
  },
  {
   "cell_type": "markdown",
   "metadata": {},
   "source": [
    "## Positional Maximum and Minimum values (argmax and argmin)\n",
    "\n",
    "**Spoiler:** Argmax is specially helpful when the softmax activation function is used."
   ]
  },
  {
   "cell_type": "code",
   "execution_count": 64,
   "metadata": {},
   "outputs": [
    {
     "data": {
      "text/plain": [
       "tensor([ 1, 11, 21, 31, 41, 51, 61, 71, 81, 91])"
      ]
     },
     "execution_count": 64,
     "metadata": {},
     "output_type": "execute_result"
    }
   ],
   "source": [
    "tensor"
   ]
  },
  {
   "cell_type": "code",
   "execution_count": 65,
   "metadata": {},
   "outputs": [
    {
     "data": {
      "text/plain": [
       "(tensor(0), tensor(0))"
      ]
     },
     "execution_count": 65,
     "metadata": {},
     "output_type": "execute_result"
    }
   ],
   "source": [
    "tensor.argmin(), torch.argmin(tensor)"
   ]
  },
  {
   "cell_type": "code",
   "execution_count": 66,
   "metadata": {},
   "outputs": [
    {
     "data": {
      "text/plain": [
       "(tensor(9), tensor(9))"
      ]
     },
     "execution_count": 66,
     "metadata": {},
     "output_type": "execute_result"
    }
   ],
   "source": [
    "tensor.argmax(), torch.argmax(tensor)"
   ]
  },
  {
   "cell_type": "markdown",
   "metadata": {},
   "source": [
    "## Reshaping, squeezing and stacking tensors\n",
    "\n",
    "* Reshaping: one of the most commom errors in machine learning and deep learning is shape mismatching between matrices, because they have to satisfy certain rules. This method returns a **new tensor** with the same data as the `self` tensor but of a different shape.\n",
    "\n",
    "* View: returns a view of an input tensor of certain shape, but keep the same memory as the original tensor.\n",
    "\n",
    "* Stacking: combines multiple tensor on top of each other (vstack) or side by side (hstack).\n",
    "\n",
    "* Squeezing: removes all `1` dimensions from a tensor.\n",
    "\n",
    "* Unsqueeze: adds a `1` dimension to a target tensor.\n",
    "\n",
    "* Permute: returns a **view** of the input with dimensions permuted (swapped) in a certain order."
   ]
  },
  {
   "cell_type": "code",
   "execution_count": 67,
   "metadata": {},
   "outputs": [
    {
     "data": {
      "text/plain": [
       "(tensor([1., 2., 3., 4., 5., 6., 7., 8., 9.]), torch.Size([9]))"
      ]
     },
     "execution_count": 67,
     "metadata": {},
     "output_type": "execute_result"
    }
   ],
   "source": [
    "tensor = torch.arange(start=1.0, end=10.0)\n",
    "tensor, tensor.shape"
   ]
  },
  {
   "cell_type": "code",
   "execution_count": 68,
   "metadata": {},
   "outputs": [
    {
     "name": "stdout",
     "output_type": "stream",
     "text": [
      "Dimensions have to be compatible with the original dimensions.\n",
      "shape '[1, 7]' is invalid for input of size 9\n"
     ]
    }
   ],
   "source": [
    "try: \n",
    "  tensor.reshape(1, 7)\n",
    "except Exception as e:\n",
    "  print(f\"Dimensions have to be compatible with the original dimensions.\\n{e}\")"
   ]
  },
  {
   "cell_type": "code",
   "execution_count": 69,
   "metadata": {},
   "outputs": [
    {
     "data": {
      "text/plain": [
       "tensor([[1., 2., 3.],\n",
       "        [4., 5., 6.],\n",
       "        [7., 8., 9.]])"
      ]
     },
     "execution_count": 69,
     "metadata": {},
     "output_type": "execute_result"
    }
   ],
   "source": [
    "tensor.reshape(3, 3)"
   ]
  },
  {
   "cell_type": "code",
   "execution_count": 70,
   "metadata": {},
   "outputs": [
    {
     "data": {
      "text/plain": [
       "tensor([[1., 2., 3.],\n",
       "        [4., 5., 6.],\n",
       "        [7., 8., 9.]])"
      ]
     },
     "execution_count": 70,
     "metadata": {},
     "output_type": "execute_result"
    }
   ],
   "source": [
    "tensor.view(3, 3)"
   ]
  },
  {
   "cell_type": "code",
   "execution_count": 71,
   "metadata": {},
   "outputs": [
    {
     "data": {
      "text/plain": [
       "tensor([[1., 2., 3., 4., 5., 6., 7., 8., 9.],\n",
       "        [1., 2., 3., 4., 5., 6., 7., 8., 9.]])"
      ]
     },
     "execution_count": 71,
     "metadata": {},
     "output_type": "execute_result"
    }
   ],
   "source": [
    "torch.stack([tensor, tensor], dim=0)"
   ]
  },
  {
   "cell_type": "code",
   "execution_count": 72,
   "metadata": {},
   "outputs": [
    {
     "data": {
      "text/plain": [
       "tensor([[1., 1.],\n",
       "        [2., 2.],\n",
       "        [3., 3.],\n",
       "        [4., 4.],\n",
       "        [5., 5.],\n",
       "        [6., 6.],\n",
       "        [7., 7.],\n",
       "        [8., 8.],\n",
       "        [9., 9.]])"
      ]
     },
     "execution_count": 72,
     "metadata": {},
     "output_type": "execute_result"
    }
   ],
   "source": [
    "torch.stack([tensor, tensor], dim=1)"
   ]
  },
  {
   "cell_type": "code",
   "execution_count": 73,
   "metadata": {},
   "outputs": [
    {
     "data": {
      "text/plain": [
       "(tensor([[1., 2., 3., 4., 5., 6., 7., 8., 9.]]), torch.Size([1, 9]))"
      ]
     },
     "execution_count": 73,
     "metadata": {},
     "output_type": "execute_result"
    }
   ],
   "source": [
    "tensor = tensor.reshape(1, 9)\n",
    "tensor, tensor.shape"
   ]
  },
  {
   "cell_type": "code",
   "execution_count": 74,
   "metadata": {},
   "outputs": [
    {
     "data": {
      "text/plain": [
       "(tensor([1., 2., 3., 4., 5., 6., 7., 8., 9.]), torch.Size([9]))"
      ]
     },
     "execution_count": 74,
     "metadata": {},
     "output_type": "execute_result"
    }
   ],
   "source": [
    "tensor.squeeze(), tensor.squeeze().shape"
   ]
  },
  {
   "cell_type": "code",
   "execution_count": 75,
   "metadata": {},
   "outputs": [
    {
     "data": {
      "text/plain": [
       "(tensor([[1.],\n",
       "         [2.],\n",
       "         [3.],\n",
       "         [4.],\n",
       "         [5.],\n",
       "         [6.],\n",
       "         [7.],\n",
       "         [8.],\n",
       "         [9.]]),\n",
       " torch.Size([9, 1]))"
      ]
     },
     "execution_count": 75,
     "metadata": {},
     "output_type": "execute_result"
    }
   ],
   "source": [
    "tensor = tensor.reshape(9, 1)\n",
    "tensor, tensor.shape"
   ]
  },
  {
   "cell_type": "code",
   "execution_count": 76,
   "metadata": {},
   "outputs": [
    {
     "data": {
      "text/plain": [
       "(tensor([1., 2., 3., 4., 5., 6., 7., 8., 9.]), torch.Size([9]))"
      ]
     },
     "execution_count": 76,
     "metadata": {},
     "output_type": "execute_result"
    }
   ],
   "source": [
    "tensor = tensor.squeeze()\n",
    "tensor, tensor.shape"
   ]
  },
  {
   "cell_type": "code",
   "execution_count": 77,
   "metadata": {},
   "outputs": [
    {
     "data": {
      "text/plain": [
       "(tensor([[1., 2., 3., 4., 5., 6., 7., 8., 9.]]), torch.Size([1, 9]))"
      ]
     },
     "execution_count": 77,
     "metadata": {},
     "output_type": "execute_result"
    }
   ],
   "source": [
    "tensor.unsqueeze(dim=0), tensor.unsqueeze(dim=0).shape"
   ]
  },
  {
   "cell_type": "code",
   "execution_count": 78,
   "metadata": {},
   "outputs": [
    {
     "data": {
      "text/plain": [
       "(tensor([[1.],\n",
       "         [2.],\n",
       "         [3.],\n",
       "         [4.],\n",
       "         [5.],\n",
       "         [6.],\n",
       "         [7.],\n",
       "         [8.],\n",
       "         [9.]]),\n",
       " torch.Size([9, 1]))"
      ]
     },
     "execution_count": 78,
     "metadata": {},
     "output_type": "execute_result"
    }
   ],
   "source": [
    "tensor.unsqueeze(dim=1), tensor.unsqueeze(dim=1).shape"
   ]
  },
  {
   "cell_type": "code",
   "execution_count": 79,
   "metadata": {},
   "outputs": [
    {
     "data": {
      "text/plain": [
       "(tensor([[[1., 2., 3.]],\n",
       " \n",
       "         [[4., 5., 6.]],\n",
       " \n",
       "         [[7., 8., 9.]]]),\n",
       " torch.Size([3, 1, 3]))"
      ]
     },
     "execution_count": 79,
     "metadata": {},
     "output_type": "execute_result"
    }
   ],
   "source": [
    "tensor = tensor.reshape(3, 1, 3)\n",
    "tensor, tensor.shape"
   ]
  },
  {
   "cell_type": "code",
   "execution_count": 80,
   "metadata": {},
   "outputs": [
    {
     "data": {
      "text/plain": [
       "(tensor([[[1., 2., 3.],\n",
       "          [4., 5., 6.],\n",
       "          [7., 8., 9.]]]),\n",
       " torch.Size([1, 3, 3]))"
      ]
     },
     "execution_count": 80,
     "metadata": {},
     "output_type": "execute_result"
    }
   ],
   "source": [
    "tensor.permute(1, 0, 2), tensor.permute(1, 0, 2).shape"
   ]
  },
  {
   "cell_type": "code",
   "execution_count": 81,
   "metadata": {},
   "outputs": [
    {
     "data": {
      "text/plain": [
       "(tensor([[1., 2., 3.],\n",
       "         [4., 5., 6.],\n",
       "         [7., 8., 9.]]),\n",
       " torch.Size([3, 3]))"
      ]
     },
     "execution_count": 81,
     "metadata": {},
     "output_type": "execute_result"
    }
   ],
   "source": [
    "tensor.permute(1, 0, 2).squeeze(), tensor.permute(1, 0, 2).squeeze().shape"
   ]
  },
  {
   "cell_type": "code",
   "execution_count": 82,
   "metadata": {},
   "outputs": [
    {
     "data": {
      "text/plain": [
       "tensor([[1., 2., 3.],\n",
       "        [4., 5., 6.],\n",
       "        [7., 8., 9.]])"
      ]
     },
     "execution_count": 82,
     "metadata": {},
     "output_type": "execute_result"
    }
   ],
   "source": [
    "tensor = tensor.squeeze()\n",
    "tensor"
   ]
  },
  {
   "cell_type": "code",
   "execution_count": 83,
   "metadata": {},
   "outputs": [
    {
     "data": {
      "text/plain": [
       "tensor([[1., 4., 7.],\n",
       "        [2., 5., 8.],\n",
       "        [3., 6., 9.]])"
      ]
     },
     "execution_count": 83,
     "metadata": {},
     "output_type": "execute_result"
    }
   ],
   "source": [
    "tensor_permuted = tensor.permute(1, 0)\n",
    "tensor_permuted"
   ]
  },
  {
   "cell_type": "code",
   "execution_count": 84,
   "metadata": {},
   "outputs": [
    {
     "data": {
      "text/plain": [
       "(tensor([[100.,   4.,   7.],\n",
       "         [  2.,   5.,   8.],\n",
       "         [  3.,   6.,   9.]]),\n",
       " tensor([[100.,   2.,   3.],\n",
       "         [  4.,   5.,   6.],\n",
       "         [  7.,   8.,   9.]]))"
      ]
     },
     "execution_count": 84,
     "metadata": {},
     "output_type": "execute_result"
    }
   ],
   "source": [
    "tensor_permuted[0, 0] = 100.0\n",
    "tensor_permuted, tensor"
   ]
  },
  {
   "cell_type": "markdown",
   "metadata": {},
   "source": [
    "## Indexing (selecting data from tensors)"
   ]
  },
  {
   "cell_type": "code",
   "execution_count": 85,
   "metadata": {},
   "outputs": [
    {
     "data": {
      "text/plain": [
       "(tensor([[[1., 2., 3.],\n",
       "          [4., 5., 6.],\n",
       "          [7., 8., 9.]]]),\n",
       " torch.Size([1, 3, 3]))"
      ]
     },
     "execution_count": 85,
     "metadata": {},
     "output_type": "execute_result"
    }
   ],
   "source": [
    "tensor = torch.arange(start=1.0, end=10.0).reshape(1, 3, 3)\n",
    "tensor, tensor.shape"
   ]
  },
  {
   "cell_type": "code",
   "execution_count": 86,
   "metadata": {},
   "outputs": [
    {
     "data": {
      "text/plain": [
       "tensor([[1., 2., 3.],\n",
       "        [4., 5., 6.],\n",
       "        [7., 8., 9.]])"
      ]
     },
     "execution_count": 86,
     "metadata": {},
     "output_type": "execute_result"
    }
   ],
   "source": [
    "tensor[0]"
   ]
  },
  {
   "cell_type": "code",
   "execution_count": 87,
   "metadata": {},
   "outputs": [
    {
     "data": {
      "text/plain": [
       "tensor([1., 2., 3.])"
      ]
     },
     "execution_count": 87,
     "metadata": {},
     "output_type": "execute_result"
    }
   ],
   "source": [
    "tensor[0, 0]"
   ]
  },
  {
   "cell_type": "code",
   "execution_count": 88,
   "metadata": {},
   "outputs": [
    {
     "data": {
      "text/plain": [
       "tensor(1.)"
      ]
     },
     "execution_count": 88,
     "metadata": {},
     "output_type": "execute_result"
    }
   ],
   "source": [
    "tensor[0, 0, 0]"
   ]
  },
  {
   "cell_type": "code",
   "execution_count": 89,
   "metadata": {},
   "outputs": [
    {
     "data": {
      "text/plain": [
       "tensor([[1., 2., 3.]])"
      ]
     },
     "execution_count": 89,
     "metadata": {},
     "output_type": "execute_result"
    }
   ],
   "source": [
    "tensor[:, 0]"
   ]
  },
  {
   "cell_type": "code",
   "execution_count": 90,
   "metadata": {},
   "outputs": [
    {
     "data": {
      "text/plain": [
       "tensor([[2., 5., 8.]])"
      ]
     },
     "execution_count": 90,
     "metadata": {},
     "output_type": "execute_result"
    }
   ],
   "source": [
    "tensor[:, :, 1]"
   ]
  },
  {
   "cell_type": "markdown",
   "metadata": {},
   "source": [
    "## PyTorch tensors and NumPy\n",
    "\n",
    "NumPy is a popular library for working with numerical data in Python. It's powerful because it has a lot of optimised functions and data structures such as arrays and vectors.\n",
    "\n",
    "And because of this, PyToch tensors can interact with NumPy arrays.\n",
    "\n",
    "* Converting a NumPy array to a PyTorch tensor: `torch.from_numpy()`\n",
    "* Converting a PyTorch tensor to a NumPy array: `torch.Tensor.numpy()`\n",
    "\n",
    "**Warning:** when converting from NumPy to PyTorch, PyTorch reflects NumPy's default datatype of float64, leading to a PyTorch tensor of dtype float64. This is not ideal since PyTorch usually defaults to float32. To change a PyTorch tensor's datatype, you can use the `torch.Tensor.type()` method."
   ]
  },
  {
   "cell_type": "code",
   "execution_count": 91,
   "metadata": {},
   "outputs": [
    {
     "data": {
      "text/plain": [
       "(array([1., 2., 3., 4., 5., 6., 7., 8., 9.]),\n",
       " tensor([1., 2., 3., 4., 5., 6., 7., 8., 9.]))"
      ]
     },
     "execution_count": 91,
     "metadata": {},
     "output_type": "execute_result"
    }
   ],
   "source": [
    "array = np.arange(start=1.0, stop=10.0)\n",
    "tensor = torch.from_numpy(array).type(torch.float32)\n",
    "array, tensor"
   ]
  },
  {
   "cell_type": "code",
   "execution_count": 92,
   "metadata": {},
   "outputs": [
    {
     "data": {
      "text/plain": [
       "(tensor([1., 1., 1., 1., 1., 1., 1.]), array([1., 1., 1., 1., 1., 1., 1.]))"
      ]
     },
     "execution_count": 92,
     "metadata": {},
     "output_type": "execute_result"
    }
   ],
   "source": [
    "tensor = torch.ones(7)\n",
    "array = tensor.numpy().astype(np.float64)\n",
    "tensor, array"
   ]
  },
  {
   "cell_type": "markdown",
   "metadata": {},
   "source": [
    "## Reproducibility (taking the random out of random)"
   ]
  },
  {
   "cell_type": "code",
   "execution_count": 93,
   "metadata": {},
   "outputs": [
    {
     "data": {
      "text/plain": [
       "False"
      ]
     },
     "execution_count": 93,
     "metadata": {},
     "output_type": "execute_result"
    }
   ],
   "source": [
    "# set random seed\n",
    "torch.manual_seed(42)\n",
    "\n",
    "# generate random numbers\n",
    "rand1 = torch.rand(size=(3, 4))\n",
    "rand2 = torch.rand(size=(3, 4))\n",
    "\n",
    "# check if the two random tensors are equal\n",
    "torch.equal(rand1, rand2)"
   ]
  },
  {
   "cell_type": "code",
   "execution_count": 94,
   "metadata": {},
   "outputs": [
    {
     "data": {
      "text/plain": [
       "True"
      ]
     },
     "execution_count": 94,
     "metadata": {},
     "output_type": "execute_result"
    }
   ],
   "source": [
    "# set random seed and generate random numbers\n",
    "torch.manual_seed(42)\n",
    "rand1 = torch.rand(size=(3, 4))\n",
    "\n",
    "# set random seed and generate random numbers again\n",
    "torch.manual_seed(42)\n",
    "rand2 = torch.rand(size=(3, 4))\n",
    "\n",
    "# check if the two random tensors are equal\n",
    "torch.equal(rand1, rand2)"
   ]
  },
  {
   "cell_type": "markdown",
   "metadata": {},
   "source": [
    "## Running PyTorch on GPU"
   ]
  },
  {
   "cell_type": "code",
   "execution_count": 95,
   "metadata": {},
   "outputs": [
    {
     "data": {
      "text/plain": [
       "False"
      ]
     },
     "execution_count": 95,
     "metadata": {},
     "output_type": "execute_result"
    }
   ],
   "source": [
    "torch.cuda.is_available()"
   ]
  },
  {
   "cell_type": "code",
   "execution_count": 96,
   "metadata": {},
   "outputs": [
    {
     "data": {
      "text/plain": [
       "'cpu'"
      ]
     },
     "execution_count": 96,
     "metadata": {},
     "output_type": "execute_result"
    }
   ],
   "source": [
    "# setup device agnostic code\n",
    "device = \"cuda\" if torch.cuda.is_available() else \"cpu\"\n",
    "device"
   ]
  },
  {
   "cell_type": "code",
   "execution_count": 97,
   "metadata": {},
   "outputs": [
    {
     "data": {
      "text/plain": [
       "(tensor([1, 2, 3]), device(type='cpu'))"
      ]
     },
     "execution_count": 97,
     "metadata": {},
     "output_type": "execute_result"
    }
   ],
   "source": [
    "tensor = torch.tensor([1, 2, 3], device=device)\n",
    "tensor, tensor.device"
   ]
  },
  {
   "cell_type": "markdown",
   "metadata": {},
   "source": [
    "## References:\n",
    "\n",
    "1. [PyTorch at Tesla - Andrej Karpathy, Tesla](https://www.youtube.com/watch?v=oBklltKXtDE)\n",
    "2. [Google's Best Practices for ML Engineering](https://developers.google.com/machine-learning/guides/rules-of-ml)\n",
    "3. [Introduction to PyTorch - Official documentation](https://pytorch.org/tutorials/beginner/basics/intro.html)\n",
    "4. [Quickstart - Official documentation](https://pytorch.org/tutorials/beginner/basics/quickstart_tutorial.html)\n",
    "5. [Tensors - Official documentation](https://pytorch.org/tutorials/beginner/basics/tensorqs_tutorial.html)\n",
    "6. [torch.Tensor - API documentation](https://pytorch.org/docs/stable/tensors.html)\n",
    "7. [torch.cuda - API documentation](https://pytorch.org/docs/stable/cuda.html)\n",
    "8. [Unofficial Style Guide](https://github.com/IgorSusmelj/pytorch-styleguide#recommended-code-structure-for-training-your-model)\n",
    "9. [Ground truth notebook](https://www.learnpytorch.io/00_pytorch_fundamentals/)"
   ]
  }
 ],
 "metadata": {
  "kernelspec": {
   "display_name": "ai-cookbook-DNsoNefS",
   "language": "python",
   "name": "python3"
  },
  "language_info": {
   "codemirror_mode": {
    "name": "ipython",
    "version": 3
   },
   "file_extension": ".py",
   "mimetype": "text/x-python",
   "name": "python",
   "nbconvert_exporter": "python",
   "pygments_lexer": "ipython3",
   "version": "3.12.2"
  }
 },
 "nbformat": 4,
 "nbformat_minor": 2
}
