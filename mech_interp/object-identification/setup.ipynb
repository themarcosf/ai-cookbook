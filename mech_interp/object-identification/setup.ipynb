{
 "cells": [
  {
   "cell_type": "code",
   "execution_count": 1,
   "id": "42f565e0",
   "metadata": {},
   "outputs": [],
   "source": [
    "import warnings\n",
    "warnings.filterwarnings('ignore')"
   ]
  },
  {
   "cell_type": "code",
   "execution_count": 18,
   "id": "57171013",
   "metadata": {},
   "outputs": [],
   "source": [
    "import math\n",
    "import os\n",
    "from pathlib import Path\n",
    "\n",
    "import torch\n",
    "from huggingface_hub import snapshot_download\n",
    "from transformers import DistilBertTokenizer, DistilBertForSequenceClassification\n",
    "from transformer_lens import HookedEncoder, HookedTransformerConfig\n",
    "from transformer_lens.loading_from_pretrained import get_pretrained_state_dict"
   ]
  },
  {
   "cell_type": "code",
   "execution_count": 3,
   "id": "b5198561",
   "metadata": {},
   "outputs": [
    {
     "name": "stdout",
     "output_type": "stream",
     "text": [
      "Changed working directory to parent directory\n",
      "Hugging Face token loaded: hf_...\n",
      "Using device: cpu\n"
     ]
    }
   ],
   "source": [
    "os.chdir('..')\n",
    "print('Changed working directory to parent directory')\n",
    "\n",
    "with open(os.path.expanduser('~/.huggingface/token')) as f:\n",
    "    os.environ['HF_TOKEN'] = f.read().strip()\n",
    "    print(f'Hugging Face token loaded: {os.environ['HF_TOKEN'][:3]}...')\n",
    "\n",
    "torch.set_grad_enabled(False)\n",
    "device = torch.device('cuda' if torch.cuda.is_available() else 'cpu')\n",
    "print(f'Using device: {device}')"
   ]
  },
  {
   "cell_type": "code",
   "execution_count": 4,
   "id": "109fb8ad",
   "metadata": {},
   "outputs": [],
   "source": [
    "checkpoint = 'distilbert/distilbert-base-uncased-finetuned-sst-2-english'"
   ]
  },
  {
   "cell_type": "markdown",
   "id": "703a88a9",
   "metadata": {},
   "source": [
    "### 1. Download weights from Hugging Face"
   ]
  },
  {
   "cell_type": "code",
   "execution_count": 5,
   "id": "c82437e6",
   "metadata": {},
   "outputs": [],
   "source": [
    "if not Path(checkpoint).exists():\n",
    "    print(f'Downloading {checkpoint}...')\n",
    "    snapshot_download(repo_id=checkpoint, local_dir=Path(checkpoint).resolve(), local_dir_use_symlinks=False)\n",
    "    print(f'Downloaded {checkpoint}.')"
   ]
  },
  {
   "cell_type": "markdown",
   "id": "9a22663f",
   "metadata": {},
   "source": [
    "### 2. Download model from Hugging Face"
   ]
  },
  {
   "cell_type": "code",
   "execution_count": 6,
   "id": "5f952a70",
   "metadata": {},
   "outputs": [],
   "source": [
    "hf_model = DistilBertForSequenceClassification.from_pretrained(\n",
    "    Path(checkpoint).resolve(),\n",
    "    torch_dtype=torch.float32,\n",
    "    token=os.environ.get(\"HF_TOKEN\", \"\") \n",
    ")"
   ]
  },
  {
   "cell_type": "code",
   "execution_count": 7,
   "id": "721e12f0",
   "metadata": {},
   "outputs": [
    {
     "data": {
      "text/plain": [
       "DistilBertConfig {\n",
       "  \"_attn_implementation_autoset\": true,\n",
       "  \"_name_or_path\": \"/Users/marcosf/Desktop/research/mech_interp/distilbert/distilbert-base-uncased-finetuned-sst-2-english\",\n",
       "  \"activation\": \"gelu\",\n",
       "  \"architectures\": [\n",
       "    \"DistilBertForSequenceClassification\"\n",
       "  ],\n",
       "  \"attention_dropout\": 0.1,\n",
       "  \"dim\": 768,\n",
       "  \"dropout\": 0.1,\n",
       "  \"finetuning_task\": \"sst-2\",\n",
       "  \"hidden_dim\": 3072,\n",
       "  \"id2label\": {\n",
       "    \"0\": \"NEGATIVE\",\n",
       "    \"1\": \"POSITIVE\"\n",
       "  },\n",
       "  \"initializer_range\": 0.02,\n",
       "  \"label2id\": {\n",
       "    \"NEGATIVE\": 0,\n",
       "    \"POSITIVE\": 1\n",
       "  },\n",
       "  \"max_position_embeddings\": 512,\n",
       "  \"model_type\": \"distilbert\",\n",
       "  \"n_heads\": 12,\n",
       "  \"n_layers\": 6,\n",
       "  \"output_past\": true,\n",
       "  \"pad_token_id\": 0,\n",
       "  \"qa_dropout\": 0.1,\n",
       "  \"seq_classif_dropout\": 0.2,\n",
       "  \"sinusoidal_pos_embds\": false,\n",
       "  \"tie_weights_\": true,\n",
       "  \"transformers_version\": \"4.49.0\",\n",
       "  \"vocab_size\": 30522\n",
       "}"
      ]
     },
     "execution_count": 7,
     "metadata": {},
     "output_type": "execute_result"
    }
   ],
   "source": [
    "hf_model.config"
   ]
  },
  {
   "cell_type": "code",
   "execution_count": 8,
   "id": "abe6e93c",
   "metadata": {},
   "outputs": [
    {
     "data": {
      "text/plain": [
       "DistilBertForSequenceClassification(\n",
       "  (distilbert): DistilBertModel(\n",
       "    (embeddings): Embeddings(\n",
       "      (word_embeddings): Embedding(30522, 768, padding_idx=0)\n",
       "      (position_embeddings): Embedding(512, 768)\n",
       "      (LayerNorm): LayerNorm((768,), eps=1e-12, elementwise_affine=True)\n",
       "      (dropout): Dropout(p=0.1, inplace=False)\n",
       "    )\n",
       "    (transformer): Transformer(\n",
       "      (layer): ModuleList(\n",
       "        (0-5): 6 x TransformerBlock(\n",
       "          (attention): DistilBertSdpaAttention(\n",
       "            (dropout): Dropout(p=0.1, inplace=False)\n",
       "            (q_lin): Linear(in_features=768, out_features=768, bias=True)\n",
       "            (k_lin): Linear(in_features=768, out_features=768, bias=True)\n",
       "            (v_lin): Linear(in_features=768, out_features=768, bias=True)\n",
       "            (out_lin): Linear(in_features=768, out_features=768, bias=True)\n",
       "          )\n",
       "          (sa_layer_norm): LayerNorm((768,), eps=1e-12, elementwise_affine=True)\n",
       "          (ffn): FFN(\n",
       "            (dropout): Dropout(p=0.1, inplace=False)\n",
       "            (lin1): Linear(in_features=768, out_features=3072, bias=True)\n",
       "            (lin2): Linear(in_features=3072, out_features=768, bias=True)\n",
       "            (activation): GELUActivation()\n",
       "          )\n",
       "          (output_layer_norm): LayerNorm((768,), eps=1e-12, elementwise_affine=True)\n",
       "        )\n",
       "      )\n",
       "    )\n",
       "  )\n",
       "  (pre_classifier): Linear(in_features=768, out_features=768, bias=True)\n",
       "  (classifier): Linear(in_features=768, out_features=2, bias=True)\n",
       "  (dropout): Dropout(p=0.2, inplace=False)\n",
       ")"
      ]
     },
     "execution_count": 8,
     "metadata": {},
     "output_type": "execute_result"
    }
   ],
   "source": [
    "hf_model"
   ]
  },
  {
   "cell_type": "markdown",
   "id": "e60cf22b",
   "metadata": {},
   "source": [
    "### 3. Hooked `state_dict`"
   ]
  },
  {
   "cell_type": "code",
   "execution_count": null,
   "id": "a8cecf0a",
   "metadata": {},
   "outputs": [],
   "source": [
    "cfg = HookedTransformerConfig(\n",
    "  model_name=checkpoint,\n",
    "  tokenizer_name=checkpoint,               \n",
    "  d_model=hf_model.config.dim,\n",
    "  d_head=hf_model.config.dim // hf_model.config.n_heads,\n",
    "  d_mlp=hf_model.config.hidden_dim,\n",
    "  n_ctx=hf_model.config.max_position_embeddings,\n",
    "  n_heads=hf_model.config.n_heads,\n",
    "  n_layers=hf_model.config.n_layers,\n",
    "  act_fn=hf_model.config.activation,\n",
    "  original_architecture=hf_model.config.architectures[0],\n",
    "  d_vocab=hf_model.config.vocab_size,\n",
    "  d_vocab_out=len(hf_model.config.id2label),\n",
    "  eps=1e-12,                                                          \n",
    "  device=device,\n",
    "  attn_scale=math.sqrt(hf_model.config.dim // hf_model.config.n_heads),     # lib default\n",
    "  use_hook_tokens=False,                                                    # memory intensive, but may be tested later\n",
    "  use_attn_result=False,                                                    # memory intensive, but may be tested later\n",
    "  use_split_qkv_input=False,                                                # memory intensive, but may be tested later\n",
    "  use_hook_mlp_in=False,                                                    # memory intensive, but may be tested later\n",
    "  use_attn_in=False,                                                        # memory intensive, but may be tested later\n",
    "  # use_attn_scale=True,                                                    # as in Attention is All You Need -- may need to be adjusted\n",
    "  # ungroup_grouped_query_attention=False,                                  # wild guess\n",
    ")"
   ]
  },
  {
   "cell_type": "code",
   "execution_count": 20,
   "id": "8f44f611",
   "metadata": {},
   "outputs": [],
   "source": [
    "state_dict = get_pretrained_state_dict(checkpoint, cfg)"
   ]
  },
  {
   "cell_type": "markdown",
   "id": "1f88dfdb",
   "metadata": {},
   "source": [
    "### 4. Hooked `Encoder`"
   ]
  },
  {
   "cell_type": "code",
   "execution_count": 11,
   "id": "d9ce6695",
   "metadata": {},
   "outputs": [],
   "source": [
    "tokenizer = DistilBertTokenizer.from_pretrained(checkpoint)"
   ]
  },
  {
   "cell_type": "code",
   "execution_count": 21,
   "id": "78ede51c",
   "metadata": {},
   "outputs": [
    {
     "name": "stdout",
     "output_type": "stream",
     "text": [
      "Moving model to device:  cpu\n"
     ]
    }
   ],
   "source": [
    "hooked_model = HookedEncoder(cfg, tokenizer)"
   ]
  },
  {
   "cell_type": "code",
   "execution_count": 22,
   "id": "841d2a8f",
   "metadata": {},
   "outputs": [],
   "source": [
    "hm_sd = hooked_model.state_dict()"
   ]
  },
  {
   "cell_type": "code",
   "execution_count": 23,
   "id": "6b61e5ad",
   "metadata": {},
   "outputs": [
    {
     "data": {
      "text/plain": [
       "odict_keys(['embed.embed.W_E', 'embed.pos_embed.W_pos', 'embed.token_type_embed.W_token_type', 'embed.ln.w', 'embed.ln.b', 'blocks.0.attn.W_Q', 'blocks.0.attn.W_O', 'blocks.0.attn.b_Q', 'blocks.0.attn.b_O', 'blocks.0.attn.W_K', 'blocks.0.attn.W_V', 'blocks.0.attn.b_K', 'blocks.0.attn.b_V', 'blocks.0.attn.mask', 'blocks.0.attn.IGNORE', 'blocks.0.ln1.w', 'blocks.0.ln1.b', 'blocks.0.mlp.W_in', 'blocks.0.mlp.b_in', 'blocks.0.mlp.W_out', 'blocks.0.mlp.b_out', 'blocks.0.ln2.w', 'blocks.0.ln2.b', 'blocks.1.attn.W_Q', 'blocks.1.attn.W_O', 'blocks.1.attn.b_Q', 'blocks.1.attn.b_O', 'blocks.1.attn.W_K', 'blocks.1.attn.W_V', 'blocks.1.attn.b_K', 'blocks.1.attn.b_V', 'blocks.1.attn.mask', 'blocks.1.attn.IGNORE', 'blocks.1.ln1.w', 'blocks.1.ln1.b', 'blocks.1.mlp.W_in', 'blocks.1.mlp.b_in', 'blocks.1.mlp.W_out', 'blocks.1.mlp.b_out', 'blocks.1.ln2.w', 'blocks.1.ln2.b', 'blocks.2.attn.W_Q', 'blocks.2.attn.W_O', 'blocks.2.attn.b_Q', 'blocks.2.attn.b_O', 'blocks.2.attn.W_K', 'blocks.2.attn.W_V', 'blocks.2.attn.b_K', 'blocks.2.attn.b_V', 'blocks.2.attn.mask', 'blocks.2.attn.IGNORE', 'blocks.2.ln1.w', 'blocks.2.ln1.b', 'blocks.2.mlp.W_in', 'blocks.2.mlp.b_in', 'blocks.2.mlp.W_out', 'blocks.2.mlp.b_out', 'blocks.2.ln2.w', 'blocks.2.ln2.b', 'blocks.3.attn.W_Q', 'blocks.3.attn.W_O', 'blocks.3.attn.b_Q', 'blocks.3.attn.b_O', 'blocks.3.attn.W_K', 'blocks.3.attn.W_V', 'blocks.3.attn.b_K', 'blocks.3.attn.b_V', 'blocks.3.attn.mask', 'blocks.3.attn.IGNORE', 'blocks.3.ln1.w', 'blocks.3.ln1.b', 'blocks.3.mlp.W_in', 'blocks.3.mlp.b_in', 'blocks.3.mlp.W_out', 'blocks.3.mlp.b_out', 'blocks.3.ln2.w', 'blocks.3.ln2.b', 'blocks.4.attn.W_Q', 'blocks.4.attn.W_O', 'blocks.4.attn.b_Q', 'blocks.4.attn.b_O', 'blocks.4.attn.W_K', 'blocks.4.attn.W_V', 'blocks.4.attn.b_K', 'blocks.4.attn.b_V', 'blocks.4.attn.mask', 'blocks.4.attn.IGNORE', 'blocks.4.ln1.w', 'blocks.4.ln1.b', 'blocks.4.mlp.W_in', 'blocks.4.mlp.b_in', 'blocks.4.mlp.W_out', 'blocks.4.mlp.b_out', 'blocks.4.ln2.w', 'blocks.4.ln2.b', 'blocks.5.attn.W_Q', 'blocks.5.attn.W_O', 'blocks.5.attn.b_Q', 'blocks.5.attn.b_O', 'blocks.5.attn.W_K', 'blocks.5.attn.W_V', 'blocks.5.attn.b_K', 'blocks.5.attn.b_V', 'blocks.5.attn.mask', 'blocks.5.attn.IGNORE', 'blocks.5.ln1.w', 'blocks.5.ln1.b', 'blocks.5.mlp.W_in', 'blocks.5.mlp.b_in', 'blocks.5.mlp.W_out', 'blocks.5.mlp.b_out', 'blocks.5.ln2.w', 'blocks.5.ln2.b', 'mlm_head.W', 'mlm_head.b', 'mlm_head.ln.w', 'mlm_head.ln.b', 'unembed.W_U', 'unembed.b_U', 'nsp_head.W', 'nsp_head.b', 'pooler.W', 'pooler.b'])"
      ]
     },
     "execution_count": 23,
     "metadata": {},
     "output_type": "execute_result"
    }
   ],
   "source": [
    "hm_sd.keys()"
   ]
  },
  {
   "cell_type": "code",
   "execution_count": 24,
   "id": "c783479b",
   "metadata": {},
   "outputs": [
    {
     "data": {
      "text/plain": [
       "dict_keys(['embed.embed.W_E', 'embed.pos_embed.W_pos', 'embed.ln.w', 'embed.ln.b', 'blocks.0.attn.W_Q', 'blocks.0.attn.b_Q', 'blocks.0.attn.W_K', 'blocks.0.attn.b_K', 'blocks.0.attn.W_V', 'blocks.0.attn.b_V', 'blocks.0.attn.W_O', 'blocks.0.attn.b_O', 'blocks.0.ln1.w', 'blocks.0.ln1.b', 'blocks.0.mlp.W_in', 'blocks.0.mlp.b_in', 'blocks.0.mlp.W_out', 'blocks.0.mlp.b_out', 'blocks.0.ln2.w', 'blocks.0.ln2.b', 'blocks.1.attn.W_Q', 'blocks.1.attn.b_Q', 'blocks.1.attn.W_K', 'blocks.1.attn.b_K', 'blocks.1.attn.W_V', 'blocks.1.attn.b_V', 'blocks.1.attn.W_O', 'blocks.1.attn.b_O', 'blocks.1.ln1.w', 'blocks.1.ln1.b', 'blocks.1.mlp.W_in', 'blocks.1.mlp.b_in', 'blocks.1.mlp.W_out', 'blocks.1.mlp.b_out', 'blocks.1.ln2.w', 'blocks.1.ln2.b', 'blocks.2.attn.W_Q', 'blocks.2.attn.b_Q', 'blocks.2.attn.W_K', 'blocks.2.attn.b_K', 'blocks.2.attn.W_V', 'blocks.2.attn.b_V', 'blocks.2.attn.W_O', 'blocks.2.attn.b_O', 'blocks.2.ln1.w', 'blocks.2.ln1.b', 'blocks.2.mlp.W_in', 'blocks.2.mlp.b_in', 'blocks.2.mlp.W_out', 'blocks.2.mlp.b_out', 'blocks.2.ln2.w', 'blocks.2.ln2.b', 'blocks.3.attn.W_Q', 'blocks.3.attn.b_Q', 'blocks.3.attn.W_K', 'blocks.3.attn.b_K', 'blocks.3.attn.W_V', 'blocks.3.attn.b_V', 'blocks.3.attn.W_O', 'blocks.3.attn.b_O', 'blocks.3.ln1.w', 'blocks.3.ln1.b', 'blocks.3.mlp.W_in', 'blocks.3.mlp.b_in', 'blocks.3.mlp.W_out', 'blocks.3.mlp.b_out', 'blocks.3.ln2.w', 'blocks.3.ln2.b', 'blocks.4.attn.W_Q', 'blocks.4.attn.b_Q', 'blocks.4.attn.W_K', 'blocks.4.attn.b_K', 'blocks.4.attn.W_V', 'blocks.4.attn.b_V', 'blocks.4.attn.W_O', 'blocks.4.attn.b_O', 'blocks.4.ln1.w', 'blocks.4.ln1.b', 'blocks.4.mlp.W_in', 'blocks.4.mlp.b_in', 'blocks.4.mlp.W_out', 'blocks.4.mlp.b_out', 'blocks.4.ln2.w', 'blocks.4.ln2.b', 'blocks.5.attn.W_Q', 'blocks.5.attn.b_Q', 'blocks.5.attn.W_K', 'blocks.5.attn.b_K', 'blocks.5.attn.W_V', 'blocks.5.attn.b_V', 'blocks.5.attn.W_O', 'blocks.5.attn.b_O', 'blocks.5.ln1.w', 'blocks.5.ln1.b', 'blocks.5.mlp.W_in', 'blocks.5.mlp.b_in', 'blocks.5.mlp.W_out', 'blocks.5.mlp.b_out', 'blocks.5.ln2.w', 'blocks.5.ln2.b', 'pre_classifier.W', 'pre_classifier.b', 'classifier.W', 'classifier.b'])"
      ]
     },
     "execution_count": 24,
     "metadata": {},
     "output_type": "execute_result"
    }
   ],
   "source": [
    "state_dict.keys()"
   ]
  },
  {
   "cell_type": "code",
   "execution_count": 25,
   "id": "6de0ebc1",
   "metadata": {},
   "outputs": [
    {
     "data": {
      "text/plain": [
       "(123, 104)"
      ]
     },
     "execution_count": 25,
     "metadata": {},
     "output_type": "execute_result"
    }
   ],
   "source": [
    "len(hm_sd.keys()), len(state_dict.keys())"
   ]
  },
  {
   "cell_type": "code",
   "execution_count": 26,
   "id": "579fdfa5",
   "metadata": {},
   "outputs": [
    {
     "data": {
      "text/plain": [
       "{'blocks.0.attn.IGNORE',\n",
       " 'blocks.0.attn.mask',\n",
       " 'blocks.1.attn.IGNORE',\n",
       " 'blocks.1.attn.mask',\n",
       " 'blocks.2.attn.IGNORE',\n",
       " 'blocks.2.attn.mask',\n",
       " 'blocks.3.attn.IGNORE',\n",
       " 'blocks.3.attn.mask',\n",
       " 'blocks.4.attn.IGNORE',\n",
       " 'blocks.4.attn.mask',\n",
       " 'blocks.5.attn.IGNORE',\n",
       " 'blocks.5.attn.mask',\n",
       " 'embed.token_type_embed.W_token_type',\n",
       " 'mlm_head.W',\n",
       " 'mlm_head.b',\n",
       " 'mlm_head.ln.b',\n",
       " 'mlm_head.ln.w',\n",
       " 'nsp_head.W',\n",
       " 'nsp_head.b',\n",
       " 'pooler.W',\n",
       " 'pooler.b',\n",
       " 'unembed.W_U',\n",
       " 'unembed.b_U'}"
      ]
     },
     "execution_count": 26,
     "metadata": {},
     "output_type": "execute_result"
    }
   ],
   "source": [
    "hm_sd.keys() - state_dict.keys()"
   ]
  },
  {
   "cell_type": "code",
   "execution_count": null,
   "id": "bf2de892",
   "metadata": {},
   "outputs": [],
   "source": []
  },
  {
   "cell_type": "code",
   "execution_count": null,
   "id": "e5180d0a",
   "metadata": {},
   "outputs": [],
   "source": []
  },
  {
   "cell_type": "code",
   "execution_count": null,
   "id": "058b569d",
   "metadata": {},
   "outputs": [],
   "source": [
    "hooked_model.load_state_dict(state_dict, strict=False)"
   ]
  },
  {
   "cell_type": "code",
   "execution_count": null,
   "id": "d70c8109",
   "metadata": {},
   "outputs": [],
   "source": [
    "inputs = tokenizer(\n",
    "  'I am in love with it.', \n",
    "  return_tensors='pt', \n",
    "  padding='max_length', \n",
    "  truncation=True,\n",
    "  max_length=512\n",
    ").to(device)"
   ]
  },
  {
   "cell_type": "code",
   "execution_count": null,
   "id": "70b003bc",
   "metadata": {},
   "outputs": [],
   "source": [
    "import torch.nn.functional as F"
   ]
  },
  {
   "cell_type": "code",
   "execution_count": null,
   "id": "2989a8e3",
   "metadata": {},
   "outputs": [],
   "source": [
    "logits = hooked_model(inputs['input_ids'])\n",
    "logits"
   ]
  },
  {
   "cell_type": "markdown",
   "id": "4a04566a",
   "metadata": {},
   "source": [
    "# Sources\n",
    "\n",
    "1. [Ground truth - Arena::Indirect Object Identification](https://arena-chapter1-transformer-interp.streamlit.app/[1.4.1]_Indirect_Object_Identification)\n",
    "2. [Interpretability in the wild: A circuit for indirect object identification in GPT-2 small, by Wang, K, et. al.](https://arxiv.org/pdf/2211.00593)\n",
    "3. [NOTEBOOK - Exploratory Analysis Demo, by Neel Nanda](https://colab.research.google.com/github/TransformerLensOrg/TransformerLens/blob/main/demos/Exploratory_Analysis_Demo.ipynb#scrollTo=WXktSe0CvBdh)\n",
    "4. [An analogy for understanding transformers, by Callum McDougall](https://www.lesswrong.com/posts/euam65XjigaCJQkcN/an-analogy-for-understanding-transformers)"
   ]
  }
 ],
 "metadata": {
  "kernelspec": {
   "display_name": ".venv",
   "language": "python",
   "name": "python3"
  },
  "language_info": {
   "codemirror_mode": {
    "name": "ipython",
    "version": 3
   },
   "file_extension": ".py",
   "mimetype": "text/x-python",
   "name": "python",
   "nbconvert_exporter": "python",
   "pygments_lexer": "ipython3",
   "version": "3.12.2"
  }
 },
 "nbformat": 4,
 "nbformat_minor": 5
}
