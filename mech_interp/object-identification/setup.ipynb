{
 "cells": [
  {
   "cell_type": "code",
   "execution_count": 1,
   "id": "42f565e0",
   "metadata": {},
   "outputs": [],
   "source": [
    "import warnings\n",
    "warnings.filterwarnings('ignore')"
   ]
  },
  {
   "cell_type": "code",
   "execution_count": 2,
   "id": "57171013",
   "metadata": {},
   "outputs": [],
   "source": [
    "import math\n",
    "import os\n",
    "from pathlib import Path\n",
    "\n",
    "import torch\n",
    "from huggingface_hub import snapshot_download\n",
    "from transformer_lens import HookedEncoder, HookedTransformerConfig\n",
    "from transformers import DistilBertTokenizer, DistilBertForSequenceClassification"
   ]
  },
  {
   "cell_type": "code",
   "execution_count": 3,
   "id": "b5198561",
   "metadata": {},
   "outputs": [
    {
     "name": "stdout",
     "output_type": "stream",
     "text": [
      "Changed working directory to parent directory\n",
      "Hugging Face token loaded: hf_...\n",
      "Using device: cpu\n"
     ]
    }
   ],
   "source": [
    "os.chdir('..')\n",
    "print('Changed working directory to parent directory')\n",
    "\n",
    "with open(os.path.expanduser('~/.huggingface/token')) as f:\n",
    "    os.environ['HF_TOKEN'] = f.read().strip()\n",
    "    print(f'Hugging Face token loaded: {os.environ['HF_TOKEN'][:3]}...')\n",
    "\n",
    "torch.set_grad_enabled(False)\n",
    "device = torch.device('cuda' if torch.cuda.is_available() else 'cpu')\n",
    "print(f'Using device: {device}')"
   ]
  },
  {
   "cell_type": "markdown",
   "id": "703a88a9",
   "metadata": {},
   "source": [
    "# 1. Download weights from Hugging Face"
   ]
  },
  {
   "cell_type": "code",
   "execution_count": 4,
   "id": "109fb8ad",
   "metadata": {},
   "outputs": [],
   "source": [
    "checkpoint = 'distilbert/distilbert-base-uncased-finetuned-sst-2-english'"
   ]
  },
  {
   "cell_type": "code",
   "execution_count": 5,
   "id": "c82437e6",
   "metadata": {},
   "outputs": [],
   "source": [
    "if not Path(checkpoint).exists():\n",
    "    print(f'Downloading {checkpoint}...')\n",
    "    local_dir = Path(checkpoint).resolve()\n",
    "    snapshot_download(repo_id=checkpoint, local_dir=local_dir, local_dir_use_symlinks=False)\n",
    "    print(f'Downloaded {checkpoint}.')"
   ]
  },
  {
   "cell_type": "markdown",
   "id": "9a22663f",
   "metadata": {},
   "source": [
    "# 1. Model setup"
   ]
  },
  {
   "cell_type": "code",
   "execution_count": 6,
   "id": "d4ec6e31",
   "metadata": {},
   "outputs": [
    {
     "data": {
      "text/plain": [
       "DistilBertConfig {\n",
       "  \"_attn_implementation_autoset\": true,\n",
       "  \"_name_or_path\": \"distilbert/distilbert-base-uncased-finetuned-sst-2-english\",\n",
       "  \"activation\": \"gelu\",\n",
       "  \"architectures\": [\n",
       "    \"DistilBertForSequenceClassification\"\n",
       "  ],\n",
       "  \"attention_dropout\": 0.1,\n",
       "  \"dim\": 768,\n",
       "  \"dropout\": 0.1,\n",
       "  \"finetuning_task\": \"sst-2\",\n",
       "  \"hidden_dim\": 3072,\n",
       "  \"id2label\": {\n",
       "    \"0\": \"NEGATIVE\",\n",
       "    \"1\": \"POSITIVE\"\n",
       "  },\n",
       "  \"initializer_range\": 0.02,\n",
       "  \"label2id\": {\n",
       "    \"NEGATIVE\": 0,\n",
       "    \"POSITIVE\": 1\n",
       "  },\n",
       "  \"max_position_embeddings\": 512,\n",
       "  \"model_type\": \"distilbert\",\n",
       "  \"n_heads\": 12,\n",
       "  \"n_layers\": 6,\n",
       "  \"output_past\": true,\n",
       "  \"pad_token_id\": 0,\n",
       "  \"qa_dropout\": 0.1,\n",
       "  \"seq_classif_dropout\": 0.2,\n",
       "  \"sinusoidal_pos_embds\": false,\n",
       "  \"tie_weights_\": true,\n",
       "  \"torch_dtype\": \"float32\",\n",
       "  \"transformers_version\": \"4.49.0\",\n",
       "  \"vocab_size\": 30522\n",
       "}"
      ]
     },
     "execution_count": 6,
     "metadata": {},
     "output_type": "execute_result"
    }
   ],
   "source": [
    "tokenizer = DistilBertTokenizer.from_pretrained(checkpoint)\n",
    "model = DistilBertForSequenceClassification.from_pretrained(checkpoint).to(device)\n",
    "model.config"
   ]
  },
  {
   "cell_type": "code",
   "execution_count": null,
   "id": "a8cecf0a",
   "metadata": {},
   "outputs": [],
   "source": [
    "cfg = HookedTransformerConfig(\n",
    "  model_name=checkpoint,\n",
    "  tokenizer_name=checkpoint,\n",
    "  device=device,\n",
    "  d_model=model.config.dim,\n",
    "  d_head=model.config.dim // model.config.n_heads,\n",
    "  n_layers=model.config.n_layers,\n",
    "  n_ctx=model.config.max_position_embeddings,\n",
    "  act_fn=model.config.activation,\n",
    "  original_architecture=model.config.architectures[0],\n",
    "  # below are optional\n",
    "  n_heads=model.config.n_heads,\n",
    "  d_mlp=model.config.hidden_dim,\n",
    "  d_vocab=model.config.vocab_size,\n",
    "  d_vocab_out=len(model.config.id2label),\n",
    "  use_attn_scale=True,                                                # as in Attention is All You Need -- may need to be adjusted\n",
    "  eps=1e-12,                                                          # chatGPT query -- may need to be adjusted\n",
    "  use_hook_tokens=False,                                              # memory intensive, but may be tested later\n",
    "  use_attn_result=False,                                              # memory intensive, but may be tested later\n",
    "  use_split_qkv_input=False,                                          # memory intensive, but may be tested later\n",
    "  use_hook_mlp_in=False,                                              # memory intensive, but may be tested later\n",
    "  use_attn_in=False,                                                  # memory intensive, but may be tested later\n",
    "  ungroup_grouped_query_attention=False,                              # wild guess\n",
    "  attn_scale=math.sqrt(model.config.dim // model.config.n_heads),     # lib default\n",
    ")"
   ]
  },
  {
   "cell_type": "code",
   "execution_count": 26,
   "id": "05ea2880",
   "metadata": {},
   "outputs": [],
   "source": [
    "huggingface_token = os.environ.get(\"HF_TOKEN\", \"\") "
   ]
  },
  {
   "cell_type": "code",
   "execution_count": 20,
   "id": "f582c86d",
   "metadata": {},
   "outputs": [
    {
     "data": {
      "text/plain": [
       "'/Users/marcosf/Desktop/research/mech_interp/distilbert/distilbert-base-uncased-finetuned-sst-2-english'"
      ]
     },
     "execution_count": 20,
     "metadata": {},
     "output_type": "execute_result"
    }
   ],
   "source": [
    "official_model_name = '/Users/marcosf/Desktop/research/mech_interp/distilbert/distilbert-base-uncased-finetuned-sst-2-english'\n",
    "official_model_name"
   ]
  },
  {
   "cell_type": "code",
   "execution_count": 11,
   "id": "f762f753",
   "metadata": {},
   "outputs": [
    {
     "data": {
      "text/plain": [
       "(torch.float32, {})"
      ]
     },
     "execution_count": 11,
     "metadata": {},
     "output_type": "execute_result"
    }
   ],
   "source": [
    "dtype = torch.float32\n",
    "kwargs = {}\n",
    "dtype, kwargs"
   ]
  },
  {
   "cell_type": "code",
   "execution_count": 19,
   "id": "fa5da753",
   "metadata": {},
   "outputs": [],
   "source": [
    "from transformers import DistilBertForSequenceClassification"
   ]
  },
  {
   "cell_type": "code",
   "execution_count": 21,
   "id": "ecf3d0dd",
   "metadata": {},
   "outputs": [],
   "source": [
    "hf_model = DistilBertForSequenceClassification.from_pretrained(\n",
    "    official_model_name,\n",
    "    torch_dtype=dtype,\n",
    "    token=huggingface_token if len(huggingface_token) > 0 else None\n",
    "    **kwargs,\n",
    ")"
   ]
  },
  {
   "cell_type": "code",
   "execution_count": 22,
   "id": "206d0938",
   "metadata": {},
   "outputs": [
    {
     "data": {
      "text/plain": [
       "DistilBertForSequenceClassification(\n",
       "  (distilbert): DistilBertModel(\n",
       "    (embeddings): Embeddings(\n",
       "      (word_embeddings): Embedding(30522, 768, padding_idx=0)\n",
       "      (position_embeddings): Embedding(512, 768)\n",
       "      (LayerNorm): LayerNorm((768,), eps=1e-12, elementwise_affine=True)\n",
       "      (dropout): Dropout(p=0.1, inplace=False)\n",
       "    )\n",
       "    (transformer): Transformer(\n",
       "      (layer): ModuleList(\n",
       "        (0-5): 6 x TransformerBlock(\n",
       "          (attention): DistilBertSdpaAttention(\n",
       "            (dropout): Dropout(p=0.1, inplace=False)\n",
       "            (q_lin): Linear(in_features=768, out_features=768, bias=True)\n",
       "            (k_lin): Linear(in_features=768, out_features=768, bias=True)\n",
       "            (v_lin): Linear(in_features=768, out_features=768, bias=True)\n",
       "            (out_lin): Linear(in_features=768, out_features=768, bias=True)\n",
       "          )\n",
       "          (sa_layer_norm): LayerNorm((768,), eps=1e-12, elementwise_affine=True)\n",
       "          (ffn): FFN(\n",
       "            (dropout): Dropout(p=0.1, inplace=False)\n",
       "            (lin1): Linear(in_features=768, out_features=3072, bias=True)\n",
       "            (lin2): Linear(in_features=3072, out_features=768, bias=True)\n",
       "            (activation): GELUActivation()\n",
       "          )\n",
       "          (output_layer_norm): LayerNorm((768,), eps=1e-12, elementwise_affine=True)\n",
       "        )\n",
       "      )\n",
       "    )\n",
       "  )\n",
       "  (pre_classifier): Linear(in_features=768, out_features=768, bias=True)\n",
       "  (classifier): Linear(in_features=768, out_features=2, bias=True)\n",
       "  (dropout): Dropout(p=0.2, inplace=False)\n",
       ")"
      ]
     },
     "execution_count": 22,
     "metadata": {},
     "output_type": "execute_result"
    }
   ],
   "source": [
    "hf_model"
   ]
  },
  {
   "cell_type": "code",
   "execution_count": null,
   "id": "78ede51c",
   "metadata": {},
   "outputs": [],
   "source": [
    "hooked_model = HookedEncoder(cfg)"
   ]
  },
  {
   "cell_type": "code",
   "execution_count": null,
   "id": "8f44f611",
   "metadata": {},
   "outputs": [],
   "source": [
    "from transformer_lens import loading_from_pretrained as loading\n",
    "\n",
    "state_dict = loading.get_pretrained_state_dict(checkpoint, cfg)\n",
    "state_dict"
   ]
  },
  {
   "cell_type": "code",
   "execution_count": null,
   "id": "058b569d",
   "metadata": {},
   "outputs": [],
   "source": [
    "hooked_model.state_dict()"
   ]
  },
  {
   "cell_type": "code",
   "execution_count": null,
   "id": "d70c8109",
   "metadata": {},
   "outputs": [],
   "source": [
    "inputs = tokenizer(\n",
    "  'I am in love with it.', \n",
    "  return_tensors='pt', \n",
    "  padding='max_length', \n",
    "  truncation=True,\n",
    "  max_length=512\n",
    ").to(device)"
   ]
  },
  {
   "cell_type": "code",
   "execution_count": null,
   "id": "70b003bc",
   "metadata": {},
   "outputs": [],
   "source": [
    "import torch.nn.functional as F"
   ]
  },
  {
   "cell_type": "code",
   "execution_count": null,
   "id": "2989a8e3",
   "metadata": {},
   "outputs": [],
   "source": [
    "logits = hooked_model(inputs['input_ids'])\n",
    "logits"
   ]
  },
  {
   "cell_type": "markdown",
   "id": "4a04566a",
   "metadata": {},
   "source": [
    "# Sources\n",
    "\n",
    "1. [Ground truth - Arena::Indirect Object Identification](https://arena-chapter1-transformer-interp.streamlit.app/[1.4.1]_Indirect_Object_Identification)\n",
    "2. [Interpretability in the wild: A circuit for indirect object identification in GPT-2 small, by Wang, K, et. al.](https://arxiv.org/pdf/2211.00593)\n",
    "3. [NOTEBOOK - Exploratory Analysis Demo, by Neel Nanda](https://colab.research.google.com/github/TransformerLensOrg/TransformerLens/blob/main/demos/Exploratory_Analysis_Demo.ipynb#scrollTo=WXktSe0CvBdh)\n",
    "4. [An analogy for understanding transformers, by Callum McDougall](https://www.lesswrong.com/posts/euam65XjigaCJQkcN/an-analogy-for-understanding-transformers)"
   ]
  }
 ],
 "metadata": {
  "kernelspec": {
   "display_name": ".venv",
   "language": "python",
   "name": "python3"
  },
  "language_info": {
   "codemirror_mode": {
    "name": "ipython",
    "version": 3
   },
   "file_extension": ".py",
   "mimetype": "text/x-python",
   "name": "python",
   "nbconvert_exporter": "python",
   "pygments_lexer": "ipython3",
   "version": "3.12.2"
  }
 },
 "nbformat": 4,
 "nbformat_minor": 5
}
