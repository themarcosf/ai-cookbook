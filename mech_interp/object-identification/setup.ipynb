{
 "cells": [
  {
   "cell_type": "code",
   "execution_count": 1,
   "id": "42f565e0",
   "metadata": {},
   "outputs": [],
   "source": [
    "import warnings\n",
    "warnings.filterwarnings('ignore')"
   ]
  },
  {
   "cell_type": "code",
   "execution_count": 2,
   "id": "57171013",
   "metadata": {},
   "outputs": [],
   "source": [
    "import math\n",
    "import os\n",
    "from pathlib import Path\n",
    "\n",
    "import torch\n",
    "from huggingface_hub import snapshot_download\n",
    "from transformers import DistilBertTokenizer, DistilBertForSequenceClassification\n",
    "from transformer_lens import HookedTransformerConfig\n",
    "from transformer_lens.loading_from_pretrained import get_pretrained_state_dict"
   ]
  },
  {
   "cell_type": "code",
   "execution_count": 3,
   "id": "b5198561",
   "metadata": {},
   "outputs": [
    {
     "name": "stdout",
     "output_type": "stream",
     "text": [
      "Changed working directory to parent directory\n",
      "Hugging Face token loaded: hf_...\n",
      "Using device: cpu\n"
     ]
    }
   ],
   "source": [
    "os.chdir('..')\n",
    "print('Changed working directory to parent directory')\n",
    "\n",
    "with open(os.path.expanduser('~/.huggingface/token')) as f:\n",
    "    os.environ['HF_TOKEN'] = f.read().strip()\n",
    "    print(f'Hugging Face token loaded: {os.environ['HF_TOKEN'][:3]}...')\n",
    "\n",
    "torch.set_grad_enabled(False)\n",
    "device = torch.device('cuda' if torch.cuda.is_available() else 'cpu')\n",
    "print(f'Using device: {device}')"
   ]
  },
  {
   "cell_type": "code",
   "execution_count": 4,
   "id": "109fb8ad",
   "metadata": {},
   "outputs": [],
   "source": [
    "checkpoint = 'distilbert/distilbert-base-uncased-finetuned-sst-2-english'"
   ]
  },
  {
   "cell_type": "markdown",
   "id": "703a88a9",
   "metadata": {},
   "source": [
    "### 1. Download weights from Hugging Face"
   ]
  },
  {
   "cell_type": "code",
   "execution_count": 5,
   "id": "c82437e6",
   "metadata": {},
   "outputs": [
    {
     "name": "stdout",
     "output_type": "stream",
     "text": [
      "Downloading distilbert/distilbert-base-uncased-finetuned-sst-2-english...\n"
     ]
    },
    {
     "name": "stderr",
     "output_type": "stream",
     "text": [
      "Fetching 17 files: 100%|██████████| 17/17 [01:46<00:00,  6.26s/it]"
     ]
    },
    {
     "name": "stdout",
     "output_type": "stream",
     "text": [
      "Downloaded distilbert/distilbert-base-uncased-finetuned-sst-2-english.\n"
     ]
    },
    {
     "name": "stderr",
     "output_type": "stream",
     "text": [
      "\n"
     ]
    }
   ],
   "source": [
    "if not Path(checkpoint).exists():\n",
    "    print(f'Downloading {checkpoint}...')\n",
    "    snapshot_download(repo_id=checkpoint, local_dir=Path(checkpoint).resolve(), local_dir_use_symlinks=False)\n",
    "    print(f'Downloaded {checkpoint}.')"
   ]
  },
  {
   "cell_type": "markdown",
   "id": "9a22663f",
   "metadata": {},
   "source": [
    "### 2. Download model from Hugging Face"
   ]
  },
  {
   "cell_type": "code",
   "execution_count": null,
   "id": "5f952a70",
   "metadata": {},
   "outputs": [],
   "source": [
    "hf_model = DistilBertForSequenceClassification.from_pretrained(\n",
    "    Path(checkpoint).resolve(),\n",
    "    torch_dtype=torch.float32,\n",
    "    token=os.environ.get(\"HF_TOKEN\", \"\") \n",
    ")"
   ]
  },
  {
   "cell_type": "code",
   "execution_count": null,
   "id": "721e12f0",
   "metadata": {},
   "outputs": [],
   "source": [
    "hf_model.config"
   ]
  },
  {
   "cell_type": "code",
   "execution_count": null,
   "id": "abe6e93c",
   "metadata": {},
   "outputs": [],
   "source": [
    "hf_model"
   ]
  },
  {
   "cell_type": "markdown",
   "id": "e60cf22b",
   "metadata": {},
   "source": [
    "### 3. Hooked `state_dict`"
   ]
  },
  {
   "cell_type": "code",
   "execution_count": null,
   "id": "a8cecf0a",
   "metadata": {},
   "outputs": [],
   "source": [
    "cfg = HookedTransformerConfig(\n",
    "  model_name=checkpoint,\n",
    "  tokenizer_name=checkpoint,               \n",
    "  d_model=hf_model.config.dim,\n",
    "  d_head=hf_model.config.dim // hf_model.config.n_heads,\n",
    "  d_mlp=hf_model.config.hidden_dim,\n",
    "  n_ctx=hf_model.config.max_position_embeddings,\n",
    "  n_heads=hf_model.config.n_heads,\n",
    "  n_layers=hf_model.config.n_layers,\n",
    "  act_fn=hf_model.config.activation,\n",
    "  original_architecture=hf_model.config.architectures[0],\n",
    "  d_vocab=hf_model.config.vocab_size,\n",
    "  d_vocab_out=len(hf_model.config.id2label),\n",
    "  eps=1e-12,                                                          \n",
    "  device=device,\n",
    "  attn_scale=math.sqrt(hf_model.config.dim // hf_model.config.n_heads),     # lib default\n",
    "  use_hook_tokens=False,                                                    # memory intensive, but may be tested later\n",
    "  use_attn_result=False,                                                    # memory intensive, but may be tested later\n",
    "  use_split_qkv_input=False,                                                # memory intensive, but may be tested later\n",
    "  use_hook_mlp_in=False,                                                    # memory intensive, but may be tested later\n",
    "  use_attn_in=False,                                                        # memory intensive, but may be tested later\n",
    "  # use_attn_scale=True,                                                    # as in Attention is All You Need -- may need to be adjusted\n",
    "  # ungroup_grouped_query_attention=False,                                  # wild guess\n",
    ")"
   ]
  },
  {
   "cell_type": "code",
   "execution_count": null,
   "id": "8f44f611",
   "metadata": {},
   "outputs": [],
   "source": [
    "state_dict = get_pretrained_state_dict(checkpoint, cfg)"
   ]
  },
  {
   "cell_type": "markdown",
   "id": "1f88dfdb",
   "metadata": {},
   "source": [
    "### 4. Hooked `Encoder`"
   ]
  },
  {
   "cell_type": "code",
   "execution_count": null,
   "id": "d9ce6695",
   "metadata": {},
   "outputs": [],
   "source": [
    "tokenizer = DistilBertTokenizer.from_pretrained(checkpoint)"
   ]
  },
  {
   "cell_type": "code",
   "execution_count": null,
   "id": "78ede51c",
   "metadata": {},
   "outputs": [],
   "source": [
    "hooked_model = '?'"
   ]
  },
  {
   "cell_type": "code",
   "execution_count": null,
   "id": "d70c8109",
   "metadata": {},
   "outputs": [],
   "source": [
    "# inputs = tokenizer(\n",
    "#   'I am in love with it.', \n",
    "#   return_tensors='pt', \n",
    "#   padding='max_length', \n",
    "#   truncation=True,\n",
    "#   max_length=512\n",
    "# ).to(device)\n",
    "\n",
    "# logits = hooked_model(inputs['input_ids'])\n",
    "# logits"
   ]
  },
  {
   "cell_type": "markdown",
   "id": "4a04566a",
   "metadata": {},
   "source": [
    "# Sources\n",
    "\n",
    "1. [Ground truth - Arena::Indirect Object Identification](https://arena-chapter1-transformer-interp.streamlit.app/[1.4.1]_Indirect_Object_Identification)\n",
    "2. [Interpretability in the wild: A circuit for indirect object identification in GPT-2 small, by Wang, K, et. al.](https://arxiv.org/pdf/2211.00593)\n",
    "3. [NOTEBOOK - Exploratory Analysis Demo, by Neel Nanda](https://colab.research.google.com/github/TransformerLensOrg/TransformerLens/blob/main/demos/Exploratory_Analysis_Demo.ipynb#scrollTo=WXktSe0CvBdh)\n",
    "4. [An analogy for understanding transformers, by Callum McDougall](https://www.lesswrong.com/posts/euam65XjigaCJQkcN/an-analogy-for-understanding-transformers)"
   ]
  }
 ],
 "metadata": {
  "kernelspec": {
   "display_name": ".venv",
   "language": "python",
   "name": "python3"
  },
  "language_info": {
   "codemirror_mode": {
    "name": "ipython",
    "version": 3
   },
   "file_extension": ".py",
   "mimetype": "text/x-python",
   "name": "python",
   "nbconvert_exporter": "python",
   "pygments_lexer": "ipython3",
   "version": "3.12.2"
  }
 },
 "nbformat": 4,
 "nbformat_minor": 5
}
