{
 "cells": [
  {
   "cell_type": "code",
   "execution_count": 1,
   "metadata": {},
   "outputs": [],
   "source": [
    "import warnings\n",
    "warnings.filterwarnings('ignore')"
   ]
  },
  {
   "cell_type": "code",
   "execution_count": 70,
   "metadata": {},
   "outputs": [],
   "source": [
    "from pathlib import Path\n",
    "\n",
    "import torch\n",
    "import torch.nn as nn\n",
    "import torch.optim as optim\n",
    "import torch.nn.functional as F\n",
    "\n",
    "from torch.utils.data import Dataset, DataLoader"
   ]
  },
  {
   "cell_type": "markdown",
   "metadata": {},
   "source": [
    "# 1. Base case tokenization"
   ]
  },
  {
   "cell_type": "code",
   "execution_count": 3,
   "metadata": {},
   "outputs": [],
   "source": [
    "from transformers import DistilBertTokenizer\n",
    "\n",
    "sentence = 'happy'\n",
    "\n",
    "tokenizer_ckpt = 'distilbert/distilbert-base-uncased-finetuned-sst-2-english'\n",
    "tokenizer = DistilBertTokenizer.from_pretrained(tokenizer_ckpt)"
   ]
  },
  {
   "cell_type": "code",
   "execution_count": 4,
   "metadata": {},
   "outputs": [
    {
     "data": {
      "text/plain": [
       "['happy']"
      ]
     },
     "execution_count": 4,
     "metadata": {},
     "output_type": "execute_result"
    }
   ],
   "source": [
    "tokenizer.tokenize(sentence)"
   ]
  },
  {
   "cell_type": "code",
   "execution_count": 5,
   "metadata": {},
   "outputs": [
    {
     "data": {
      "text/plain": [
       "[101, 3407, 102]"
      ]
     },
     "execution_count": 5,
     "metadata": {},
     "output_type": "execute_result"
    }
   ],
   "source": [
    "tokenizer(sentence)['input_ids']"
   ]
  },
  {
   "cell_type": "code",
   "execution_count": 6,
   "metadata": {},
   "outputs": [
    {
     "data": {
      "text/plain": [
       "{'happy': 3407}"
      ]
     },
     "execution_count": 6,
     "metadata": {},
     "output_type": "execute_result"
    }
   ],
   "source": [
    "# EXTRA IMPORTANT GOTCHA HERE! WHY IS THE ID 1?\n",
    "\n",
    "token = tokenizer.tokenize(sentence)[0]\n",
    "id = tokenizer(sentence)['input_ids'][1]\n",
    "\n",
    "token_to_index = { token: id }\n",
    "token_to_index"
   ]
  },
  {
   "cell_type": "markdown",
   "metadata": {},
   "source": [
    "# 2. Tokenizer emulator"
   ]
  },
  {
   "cell_type": "code",
   "execution_count": 7,
   "metadata": {},
   "outputs": [],
   "source": [
    "from transformers import DistilBertForSequenceClassification\n",
    "\n",
    "base_model_ckpt = 'distilbert/distilbert-base-uncased-finetuned-sst-2-english'\n",
    "\n",
    "base_model = DistilBertForSequenceClassification.from_pretrained(base_model_ckpt)"
   ]
  },
  {
   "cell_type": "code",
   "execution_count": 8,
   "metadata": {},
   "outputs": [
    {
     "data": {
      "text/plain": [
       "Embeddings(\n",
       "  (word_embeddings): Embedding(30522, 768, padding_idx=0)\n",
       "  (position_embeddings): Embedding(512, 768)\n",
       "  (LayerNorm): LayerNorm((768,), eps=1e-12, elementwise_affine=True)\n",
       "  (dropout): Dropout(p=0.1, inplace=False)\n",
       ")"
      ]
     },
     "execution_count": 8,
     "metadata": {},
     "output_type": "execute_result"
    }
   ],
   "source": [
    "base_model.distilbert.embeddings"
   ]
  },
  {
   "cell_type": "code",
   "execution_count": 9,
   "metadata": {},
   "outputs": [
    {
     "data": {
      "text/plain": [
       "Embedding(30522, 768, padding_idx=0)"
      ]
     },
     "execution_count": 9,
     "metadata": {},
     "output_type": "execute_result"
    }
   ],
   "source": [
    "word_embeddings = base_model.distilbert.embeddings.word_embeddings\n",
    "word_embeddings"
   ]
  },
  {
   "cell_type": "code",
   "execution_count": 23,
   "metadata": {},
   "outputs": [
    {
     "name": "stdout",
     "output_type": "stream",
     "text": [
      "happy -> 3407\n",
      "Embeddings shape: torch.Size([768])\n"
     ]
    }
   ],
   "source": [
    "token_embeddings = {}\n",
    "\n",
    "for k, v in token_to_index.items():\n",
    "    print(f'{k} -> {v}')\n",
    "\n",
    "    emb = word_embeddings(torch.tensor(v))\n",
    "    print('Embeddings shape:', emb.shape)\n",
    "\n",
    "    token_embeddings[k] = emb.tolist()\n"
   ]
  },
  {
   "cell_type": "markdown",
   "metadata": {},
   "source": [
    "## 2.1. Dataset for tokenizer emulator"
   ]
  },
  {
   "cell_type": "code",
   "execution_count": 34,
   "metadata": {},
   "outputs": [],
   "source": [
    "class TokenEmbeddingDataset(Dataset):\n",
    "    def __init__(self, token_to_index, token_embeddings):\n",
    "        self.token_to_index = token_to_index\n",
    "        self.tokens = list(token_embeddings.keys())\n",
    "        self.embeddings = [torch.tensor(token_embeddings[token]) for token in self.tokens]\n",
    "\n",
    "    def __len__(self):\n",
    "        return len(self.tokens)\n",
    "\n",
    "    def __getitem__(self, idx):\n",
    "        token = self.tokens[idx]\n",
    "        token_index = self.token_to_index[token]\n",
    "        embedding = self.embeddings[idx]\n",
    "        return torch.tensor(token_index), embedding"
   ]
  },
  {
   "cell_type": "code",
   "execution_count": 35,
   "metadata": {},
   "outputs": [
    {
     "name": "stdout",
     "output_type": "stream",
     "text": [
      "Token Indices: tensor([3407])\n",
      "Embeddings: torch.Size([1, 768])\n"
     ]
    }
   ],
   "source": [
    "dataset = TokenEmbeddingDataset(token_to_index, token_embeddings)\n",
    "\n",
    "dataloader = DataLoader(dataset, batch_size=1, shuffle=True)\n",
    "\n",
    "for token_indices, embeddings in dataloader:\n",
    "    print(\"Token Indices:\", token_indices)\n",
    "    print(\"Embeddings:\", embeddings.shape)"
   ]
  },
  {
   "cell_type": "markdown",
   "metadata": {},
   "source": [
    "## 2.2. Defining and training the tokenizer emulator"
   ]
  },
  {
   "cell_type": "code",
   "execution_count": 36,
   "metadata": {},
   "outputs": [],
   "source": [
    "class TokenEmulator(nn.Module):\n",
    "    def __init__(self, vocab_size, embedding_dim):\n",
    "        super(TokenEmulator, self).__init__()\n",
    "        self.embedding = nn.Embedding(vocab_size, embedding_dim)\n",
    "\n",
    "    def forward(self, token_indices):\n",
    "        return self.embedding(token_indices)"
   ]
  },
  {
   "cell_type": "code",
   "execution_count": 47,
   "metadata": {},
   "outputs": [
    {
     "name": "stdout",
     "output_type": "stream",
     "text": [
      "Epoch [500/5000], Loss: 0.4592\n",
      "Epoch [1000/5000], Loss: 0.2081\n",
      "Epoch [1500/5000], Loss: 0.0907\n",
      "Epoch [2000/5000], Loss: 0.0372\n",
      "Epoch [2500/5000], Loss: 0.0141\n",
      "Epoch [3000/5000], Loss: 0.0048\n",
      "Epoch [3500/5000], Loss: 0.0014\n",
      "Epoch [4000/5000], Loss: 0.0004\n",
      "Epoch [4500/5000], Loss: 0.0001\n",
      "Epoch [5000/5000], Loss: 0.0000\n"
     ]
    }
   ],
   "source": [
    "model = TokenEmulator(vocab_size=tokenizer.vocab_size, embedding_dim=base_model.config.dim)\n",
    "criterion = nn.MSELoss()\n",
    "optimizer = optim.Adam(model.parameters(), lr=0.001)\n",
    "\n",
    "num_epochs = 5000\n",
    "\n",
    "for epoch in range(num_epochs):\n",
    "    total_loss = 0\n",
    "    for token_idx, embedding in dataloader:\n",
    "        optimizer.zero_grad()\n",
    "        outputs = model(token_idx)\n",
    "        loss = criterion(outputs, embedding)\n",
    "        total_loss += loss.item()\n",
    "\n",
    "        loss.backward()\n",
    "        optimizer.step()\n",
    "\n",
    "    if (epoch + 1) % 500 == 0:\n",
    "        print(f\"Epoch [{epoch + 1}/{num_epochs}], Loss: {total_loss:.4f}\")"
   ]
  },
  {
   "cell_type": "code",
   "execution_count": 69,
   "metadata": {},
   "outputs": [
    {
     "data": {
      "text/plain": [
       "True"
      ]
     },
     "execution_count": 69,
     "metadata": {},
     "output_type": "execute_result"
    }
   ],
   "source": [
    "base_model_embedding = word_embeddings(torch.tensor(token_to_index['happy']))\n",
    "output = model(torch.tensor(token_to_index['happy']))\n",
    "torch.allclose(base_model_embedding, output, rtol=1e-06, atol=1e-01)"
   ]
  },
  {
   "cell_type": "code",
   "execution_count": 71,
   "metadata": {},
   "outputs": [],
   "source": [
    "Path(\"models\").mkdir(exist_ok=True)\n",
    "torch.save(obj=model.state_dict(), f='./models/token-emulator.pt')"
   ]
  },
  {
   "cell_type": "markdown",
   "metadata": {},
   "source": [
    "# 2. Preprocessor network\n",
    "\n",
    "## 2.1. Class definition"
   ]
  },
  {
   "cell_type": "code",
   "execution_count": 9,
   "metadata": {},
   "outputs": [],
   "source": [
    "from torch.nn import Module, Linear, ReLU, Sequential, Embedding\n",
    "\n",
    "class Preprocessor(Module):\n",
    "    def __init__(self, vocab_size, embedding_dim):\n",
    "        super(Preprocessor, self).__init__()\n",
    "\n",
    "        self.embedding = Embedding(vocab_size, embedding_dim)\n",
    "        \n",
    "        self.encoder = Sequential(\n",
    "            Linear(embedding_dim, 32),\n",
    "            ReLU(),\n",
    "            Linear(32, 16),\n",
    "        )\n",
    "        \n",
    "        self.decoder = Sequential(\n",
    "            Linear(16, 32),\n",
    "            ReLU(),\n",
    "            Linear(32, embedding_dim)\n",
    "        )\n",
    "        \n",
    "        self.output = Linear(embedding_dim, vocab_size)\n",
    "\n",
    "    def forward(self, x):\n",
    "        embedded = self.embedding(x)\n",
    "        encoded = self.encoder(embedded)\n",
    "        decoded = self.decoder(encoded)\n",
    "        logits = self.output(decoded)\n",
    "        return logits"
   ]
  },
  {
   "cell_type": "markdown",
   "metadata": {},
   "source": [
    "## 2.2. Initialization"
   ]
  },
  {
   "cell_type": "code",
   "execution_count": null,
   "metadata": {},
   "outputs": [],
   "source": [
    "VOCAB_SIZE = 7\n",
    "EMBEDDING_DIM = 50\n",
    "\n",
    "model = Preprocessor(VOCAB_SIZE, EMBEDDING_DIM)\n",
    "model"
   ]
  },
  {
   "cell_type": "code",
   "execution_count": null,
   "metadata": {},
   "outputs": [],
   "source": [
    "from torch import tensor, argmax\n",
    "\n",
    "fixed_input = tensor([[ 1, 2, 3, 4, 5, 6]])\n",
    "\n",
    "logits = model(fixed_input)\n",
    "output = argmax(logits, dim=-1)\n",
    "output.shape, logits.shape, logits"
   ]
  },
  {
   "cell_type": "markdown",
   "metadata": {},
   "source": [
    "## 2.3. Training"
   ]
  },
  {
   "cell_type": "code",
   "execution_count": null,
   "metadata": {},
   "outputs": [],
   "source": [
    "from torch import argmax, randint\n",
    "from torch.nn import CrossEntropyLoss\n",
    "from torch.optim import Adam\n",
    "from torch.utils.data import DataLoader, TensorDataset\n",
    "\n",
    "BATCH_SIZE = 32\n",
    "SEQ_LENGTH = 6\n",
    "\n",
    "model.train()\n",
    "\n",
    "criterion = CrossEntropyLoss()\n",
    "optimizer = Adam(model.parameters(), lr=1e-3)\n",
    "\n",
    "num_epochs = 2500\n",
    "for epoch in range(num_epochs):\n",
    "    total_loss = 0\n",
    "\n",
    "    inputs = randint(0, VOCAB_SIZE, (BATCH_SIZE, SEQ_LENGTH))\n",
    "    targets = inputs.clone()\n",
    "\n",
    "    dataset = TensorDataset(inputs, targets)\n",
    "    data_loader = DataLoader(dataset, batch_size=BATCH_SIZE, shuffle=True)\n",
    "\n",
    "    for batch_inputs, batch_targets in data_loader:\n",
    "        logits = model(batch_inputs)\n",
    "        loss = criterion(logits.permute(0, 2, 1), batch_targets)\n",
    "        total_loss += loss.item()\n",
    "        \n",
    "        optimizer.zero_grad()\n",
    "        loss.backward()\n",
    "        optimizer.step()\n",
    "    \n",
    "    if (epoch + 1) % 250 == 0:\n",
    "        print(f\"Epoch [{epoch + 1}/{num_epochs}], Loss: {total_loss:.4f}\")"
   ]
  },
  {
   "cell_type": "markdown",
   "metadata": {},
   "source": [
    "## 2.4. Testing"
   ]
  },
  {
   "cell_type": "code",
   "execution_count": null,
   "metadata": {},
   "outputs": [],
   "source": [
    "logits = model(fixed_input)\n",
    "output = argmax(logits, dim=-1)\n",
    "output"
   ]
  },
  {
   "cell_type": "markdown",
   "metadata": {},
   "source": [
    "## 2.5. Save model"
   ]
  },
  {
   "cell_type": "code",
   "execution_count": 14,
   "metadata": {},
   "outputs": [],
   "source": [
    "from pathlib import Path\n",
    "from torch import save\n",
    "\n",
    "Path(\"models\").mkdir(exist_ok=True)\n",
    "save(obj=model.state_dict(), f='./models/preprocessor.pt')"
   ]
  }
 ],
 "metadata": {
  "kernelspec": {
   "display_name": "ai-cookbook-DNsoNefS",
   "language": "python",
   "name": "python3"
  },
  "language_info": {
   "codemirror_mode": {
    "name": "ipython",
    "version": 3
   },
   "file_extension": ".py",
   "mimetype": "text/x-python",
   "name": "python",
   "nbconvert_exporter": "python",
   "pygments_lexer": "ipython3",
   "version": "3.12.2"
  }
 },
 "nbformat": 4,
 "nbformat_minor": 2
}
