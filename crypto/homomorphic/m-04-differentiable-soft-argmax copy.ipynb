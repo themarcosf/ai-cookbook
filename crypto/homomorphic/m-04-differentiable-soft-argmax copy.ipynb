{
 "cells": [
  {
   "cell_type": "code",
   "execution_count": 1,
   "metadata": {},
   "outputs": [],
   "source": [
    "import warnings\n",
    "warnings.filterwarnings('ignore')"
   ]
  },
  {
   "cell_type": "code",
   "execution_count": 2,
   "metadata": {},
   "outputs": [],
   "source": [
    "import torch\n",
    "import torch.nn as nn\n",
    "import torch.nn.functional as F"
   ]
  },
  {
   "cell_type": "markdown",
   "metadata": {},
   "source": [
    "# 1. Differentiable Soft Argmax Layer"
   ]
  },
  {
   "cell_type": "code",
   "execution_count": 6,
   "metadata": {},
   "outputs": [],
   "source": [
    "class DifferentiableSoftArgmaxLayer(nn.Module):\n",
    "    def __init__(self, dim=-1, temperature=1.0):\n",
    "        super(DifferentiableSoftArgmaxLayer, self).__init__()\n",
    "        self.dim = dim\n",
    "        self.temperature = temperature\n",
    "\n",
    "        self.computation = lambda x: torch.sum(\n",
    "            F.softmax(x / self.temperature, dim=self.dim) * \n",
    "            torch.arange(x.size(self.dim), device=x.device, dtype=x.dtype).view(*([1] * (x.dim() - 1)), -1),\n",
    "            dim=self.dim\n",
    "        )\n",
    "\n",
    "    def __call__(self, x):\n",
    "        return torch.sum(\n",
    "            F.softmax(x / self.temperature, dim=self.dim) * \n",
    "            torch.arange(x.size(self.dim), device=x.device, dtype=x.dtype).view(*([1] * (x.dim() - 1)), -1),\n",
    "            dim=self.dim\n",
    "        )"
   ]
  },
  {
   "cell_type": "code",
   "execution_count": 7,
   "metadata": {},
   "outputs": [
    {
     "name": "stdout",
     "output_type": "stream",
     "text": [
      "tensor([[1., 2., 3., 4., 5., 6.]])\n"
     ]
    }
   ],
   "source": [
    "tensor_data = torch.tensor([[[ -10.4249,  12.3542, -10.5049, -10.4770, -14.2411, -11.1246, -10.6761],\n",
    "                              [-20.8229,  -7.6676,  15.1833,  -7.6492,  -7.5959,  -7.9427,  -8.7889],\n",
    "                              [-13.4050, -13.1791, -13.2362,   9.5195, -13.0957, -14.9319, -23.5854],\n",
    "                              [-13.4611, -17.0730,  -7.6502,  -7.2442,  15.3833,  -7.8079,  -7.5043],\n",
    "                              [ -4.7446,  -5.5294,  -4.8128,  -5.7451,  -4.8391,  18.0267,  -7.5303],\n",
    "                              [ -4.6189,  -2.7684,  -3.2782,  -4.6394,  -2.5019,  -3.3491,  19.2203]]])\n",
    "\n",
    "soft_argmax_layer = DifferentiableSoftArgmaxLayer(dim=-1, temperature=1.0)\n",
    "\n",
    "positions = soft_argmax_layer(tensor_data)\n",
    "positions"
   ]
  }
 ],
 "metadata": {
  "kernelspec": {
   "display_name": "ai-cookbook-DNsoNefS",
   "language": "python",
   "name": "python3"
  },
  "language_info": {
   "codemirror_mode": {
    "name": "ipython",
    "version": 3
   },
   "file_extension": ".py",
   "mimetype": "text/x-python",
   "name": "python",
   "nbconvert_exporter": "python",
   "pygments_lexer": "ipython3",
   "version": "3.12.2"
  }
 },
 "nbformat": 4,
 "nbformat_minor": 2
}
