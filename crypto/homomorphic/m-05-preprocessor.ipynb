{
 "cells": [
  {
   "cell_type": "code",
   "execution_count": 1,
   "metadata": {},
   "outputs": [],
   "source": [
    "import warnings\n",
    "warnings.filterwarnings('ignore')"
   ]
  },
  {
   "cell_type": "code",
   "execution_count": 2,
   "metadata": {},
   "outputs": [],
   "source": [
    "import torch\n",
    "import torch.nn as nn"
   ]
  },
  {
   "cell_type": "markdown",
   "metadata": {},
   "source": [
    "# 2. Preprocessor network\n",
    "\n",
    "## 2.1. Class definition"
   ]
  },
  {
   "cell_type": "code",
   "execution_count": 6,
   "metadata": {},
   "outputs": [],
   "source": [
    "from torch.nn import Module, Linear, ReLU, Sequential, Embedding\n",
    "\n",
    "class Preprocessor(Module):\n",
    "    def __init__(self, vocab_size, embedding_dim):\n",
    "        super(Preprocessor, self).__init__()\n",
    "\n",
    "        self.embedding = Embedding(vocab_size, embedding_dim)\n",
    "        \n",
    "        self.encoder = Sequential(\n",
    "            Linear(embedding_dim, 32),\n",
    "            ReLU(),\n",
    "            Linear(32, 16),\n",
    "        )\n",
    "        \n",
    "        self.decoder = Sequential(\n",
    "            Linear(16, 32),\n",
    "            ReLU(),\n",
    "            Linear(32, embedding_dim)\n",
    "        )\n",
    "        \n",
    "        self.output = Linear(embedding_dim, vocab_size)\n",
    "\n",
    "    def forward(self, x):\n",
    "        embedded = self.embedding(x)\n",
    "        encoded = self.encoder(embedded)\n",
    "        decoded = self.decoder(encoded)\n",
    "        logits = self.output(decoded)\n",
    "        return logits"
   ]
  },
  {
   "cell_type": "markdown",
   "metadata": {},
   "source": [
    "## 2.2. Initialization"
   ]
  },
  {
   "cell_type": "code",
   "execution_count": 7,
   "metadata": {},
   "outputs": [
    {
     "name": "stdout",
     "output_type": "stream",
     "text": [
      "tensor([[1., 2., 3., 4., 5., 6.]])\n"
     ]
    }
   ],
   "source": [
    "VOCAB_SIZE = 7\n",
    "EMBEDDING_DIM = 50\n",
    "\n",
    "model = Preprocessor(VOCAB_SIZE, EMBEDDING_DIM)\n",
    "model"
   ]
  },
  {
   "cell_type": "code",
   "execution_count": null,
   "metadata": {},
   "outputs": [],
   "source": [
    "from torch import tensor, argmax\n",
    "\n",
    "fixed_input = tensor([[ 1, 2, 3, 4, 5, 6]])\n",
    "\n",
    "logits = model(fixed_input)\n",
    "output = argmax(logits, dim=-1)\n",
    "output.shape, logits.shape, logits"
   ]
  },
  {
   "cell_type": "markdown",
   "metadata": {},
   "source": [
    "## 2.3. Training"
   ]
  },
  {
   "cell_type": "code",
   "execution_count": null,
   "metadata": {},
   "outputs": [],
   "source": [
    "from torch import argmax, randint\n",
    "from torch.nn import CrossEntropyLoss\n",
    "from torch.optim import Adam\n",
    "from torch.utils.data import DataLoader, TensorDataset\n",
    "\n",
    "BATCH_SIZE = 32\n",
    "SEQ_LENGTH = 6\n",
    "\n",
    "model.train()\n",
    "\n",
    "criterion = CrossEntropyLoss()\n",
    "optimizer = Adam(model.parameters(), lr=1e-3)\n",
    "\n",
    "num_epochs = 2500\n",
    "for epoch in range(num_epochs):\n",
    "    total_loss = 0\n",
    "\n",
    "    inputs = randint(0, VOCAB_SIZE, (BATCH_SIZE, SEQ_LENGTH))\n",
    "    targets = inputs.clone()\n",
    "\n",
    "    dataset = TensorDataset(inputs, targets)\n",
    "    data_loader = DataLoader(dataset, batch_size=BATCH_SIZE, shuffle=True)\n",
    "\n",
    "    for batch_inputs, batch_targets in data_loader:\n",
    "        logits = model(batch_inputs)\n",
    "        loss = criterion(logits.permute(0, 2, 1), batch_targets)\n",
    "        total_loss += loss.item()\n",
    "        \n",
    "        optimizer.zero_grad()\n",
    "        loss.backward()\n",
    "        optimizer.step()\n",
    "    \n",
    "    if (epoch + 1) % 250 == 0:\n",
    "        print(f\"Epoch [{epoch + 1}/{num_epochs}], Loss: {total_loss:.4f}\")"
   ]
  },
  {
   "cell_type": "markdown",
   "metadata": {},
   "source": [
    "## 2.4. Testing"
   ]
  },
  {
   "cell_type": "code",
   "execution_count": null,
   "metadata": {},
   "outputs": [],
   "source": [
    "logits = model(fixed_input)\n",
    "output = argmax(logits, dim=-1)\n",
    "output"
   ]
  },
  {
   "cell_type": "markdown",
   "metadata": {},
   "source": [
    "## 2.5. Save model"
   ]
  },
  {
   "cell_type": "code",
   "execution_count": null,
   "metadata": {},
   "outputs": [],
   "source": [
    "from pathlib import Path\n",
    "from torch import save\n",
    "\n",
    "Path(\"models\").mkdir(exist_ok=True)\n",
    "save(obj=model.state_dict(), f='./models/preprocessor.pt')"
   ]
  }
 ],
 "metadata": {
  "kernelspec": {
   "display_name": "ai-cookbook-DNsoNefS",
   "language": "python",
   "name": "python3"
  },
  "language_info": {
   "codemirror_mode": {
    "name": "ipython",
    "version": 3
   },
   "file_extension": ".py",
   "mimetype": "text/x-python",
   "name": "python",
   "nbconvert_exporter": "python",
   "pygments_lexer": "ipython3",
   "version": "3.12.2"
  }
 },
 "nbformat": 4,
 "nbformat_minor": 2
}
