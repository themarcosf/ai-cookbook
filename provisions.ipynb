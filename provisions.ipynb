{
 "cells": [
  {
   "cell_type": "markdown",
   "metadata": {},
   "source": [
    "# Base Scenario\n",
    "\n",
    "Think of a FDIC which held Lojas Americanas' debt before news of the company's financial problems were made public. Considering its long history of stable cash flows, its recognized brand and the fact it is controlled by a respected group of investors (3G), it would be only reasonable to expect, at the time, that any outstanding debt should be accounted for at face value.\n",
    "\n",
    "In accordance to Brazilian Central Bank's regulations (no. 2682/99), which adopts the methodology of \"incurred losses\", the fund would have classified the debt as \"AA\" and, therefore, would have to hold no provisions for it. This regulation is still largely used today, even though it has been surpassed by others, which are more aligned with international standards and adopt the \"expected losses\" methodology.\n",
    "\n",
    "# Rule-based scenario adjustment with Calculation Engine\n",
    "\n",
    "The fund's risk management team could have used the calculation engine to adjust the scenario based on market information. For instance, the variation observed in a given metric, such as parametric VAR, over time could have been used to estimate the potential loss of the debt through a rule-based scenario adjustment.\n",
    "\n",
    "```python\n",
    "import numpy as np\n",
    "\n",
    "# Percentual variation of VAR in the last x days\n",
    "delta_var_in_percent = 20.0\n",
    "\n",
    "# Face value of the debt\n",
    "face_value = 1000.0\n",
    "\n",
    "# Adjusting the scenario based on the variation of VAR\n",
    "face_value_adjusted = face_value * (1 - delta_var_in_percent / 100)\n",
    "\n",
    "# Calculating the potential loss\n",
    "potential_loss = face_value - face_value_adjusted\n",
    "```\n",
    "\n",
    "# Adjusting the scenario with **Out-of-Distribution** data\n",
    "\n",
    "In accordance to international accounting rules, certain financial operations (e.g. `risco sacado`) are not accounted for in the balance sheet, but are disclosed in the notes. This information (or similarly gathered) could have been used to adjust the classification of the company's debt, which would have led to the creation of provisions.\n",
    "\n",
    "For internal or external purposes, AI-based processing of `unstructured` data could have been used to adjust the scenario along with the calculation engine. This would have allowed the fund to better understand the risks it was exposed to and to make better decisions.\n",
    "\n",
    "# Conclusion\n",
    "\n",
    "For most receivables bought by FIDCs, the debtor will not be a public company, but small and medium-sized enterprises or individuals. In this case, the fund would have to rely on the calculation engine to adjust the scenario based either on comparable companies or on the debtor's financial health, which could be estimated through the use of AI-based processing of `unstructured` data."
   ]
  }
 ],
 "metadata": {
  "language_info": {
   "name": "python"
  }
 },
 "nbformat": 4,
 "nbformat_minor": 2
}
