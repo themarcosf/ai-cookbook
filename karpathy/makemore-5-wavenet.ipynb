{
 "cells": [
  {
   "cell_type": "markdown",
   "metadata": {},
   "source": [
    "# 1. Starter code\n",
    "\n",
    "## 1.1. Data setup"
   ]
  },
  {
   "cell_type": "code",
   "execution_count": 1,
   "metadata": {},
   "outputs": [],
   "source": [
    "import torch\n",
    "import torch.nn.functional as F\n",
    "import matplotlib.pyplot as plt\n",
    "%matplotlib inline"
   ]
  },
  {
   "cell_type": "code",
   "execution_count": 2,
   "metadata": {},
   "outputs": [
    {
     "data": {
      "text/plain": [
       "['emma', 'olivia', 'ava', 'isabella', 'sophia']"
      ]
     },
     "execution_count": 2,
     "metadata": {},
     "output_type": "execute_result"
    }
   ],
   "source": [
    "import json\n",
    "\n",
    "names = json.loads(open(\"../data/names.txt\", \"r\").read())\n",
    "names = names[\"payload\"][\"blob\"][\"rawLines\"]\n",
    "names[:5]"
   ]
  },
  {
   "cell_type": "code",
   "execution_count": 3,
   "metadata": {},
   "outputs": [
    {
     "name": "stdout",
     "output_type": "stream",
     "text": [
      "Length of dataset:  32033\n"
     ]
    }
   ],
   "source": [
    "print(\"Length of dataset: \", len(names))"
   ]
  },
  {
   "cell_type": "code",
   "execution_count": 4,
   "metadata": {},
   "outputs": [
    {
     "name": "stdout",
     "output_type": "stream",
     "text": [
      "chtoi:  {'a': 1, 'b': 2, 'c': 3, 'd': 4, 'e': 5, 'f': 6, 'g': 7, 'h': 8, 'i': 9, 'j': 10, 'k': 11, 'l': 12, 'm': 13, 'n': 14, 'o': 15, 'p': 16, 'q': 17, 'r': 18, 's': 19, 't': 20, 'u': 21, 'v': 22, 'w': 23, 'x': 24, 'y': 25, 'z': 26, '.': 0}\n",
      "itoch:  {1: 'a', 2: 'b', 3: 'c', 4: 'd', 5: 'e', 6: 'f', 7: 'g', 8: 'h', 9: 'i', 10: 'j', 11: 'k', 12: 'l', 13: 'm', 14: 'n', 15: 'o', 16: 'p', 17: 'q', 18: 'r', 19: 's', 20: 't', 21: 'u', 22: 'v', 23: 'w', 24: 'x', 25: 'y', 26: 'z', 0: '.'}\n",
      "vocab_size:  27\n"
     ]
    }
   ],
   "source": [
    "# build the vocabulary of characters and mappings to/from integers\n",
    "chars = sorted(list(set(\"\".join(names))))\n",
    "chtoi = {ch:i+1 for i, ch in enumerate(chars)}\n",
    "chtoi[\".\"] = 0\n",
    "itoch = {i:ch for ch, i in chtoi.items()}\n",
    "vocab_size = len(chtoi)\n",
    "print(\"chtoi: \", chtoi)\n",
    "print(\"itoch: \", itoch)\n",
    "print(\"vocab_size: \", vocab_size)"
   ]
  },
  {
   "cell_type": "code",
   "execution_count": 5,
   "metadata": {},
   "outputs": [
    {
     "name": "stdout",
     "output_type": "stream",
     "text": [
      "Xtr.shape: torch.Size([182461, 3]), ytr.shape: torch.Size([182461])\n",
      "Xval.shape: torch.Size([22779, 3]), yval.shape: torch.Size([22779])\n",
      "Xte.shape: torch.Size([22906, 3]), yte.shape: torch.Size([22906])\n"
     ]
    }
   ],
   "source": [
    "import random\n",
    "\n",
    "def build_dataset(data, mode=\"tr\", context_len=3):\n",
    "  \"\"\"\n",
    "  Builds the dataset from the given list of words.\n",
    "  \n",
    "  Args:\n",
    "    data (list): list of words to use\n",
    "    mode (str): mode of the dataset (default: \"tr\" for training)\n",
    "    context_len (int): length of the context window (default: 3)\n",
    "  \"\"\"\n",
    "  \n",
    "  X, y = [], []\n",
    "  \n",
    "  for word in data:\n",
    "    context = [0] * context_len\n",
    "    for ch in word + \".\":\n",
    "      ix = chtoi[ch]\n",
    "      X.append(context)\n",
    "      y.append(ix)\n",
    "      context = context[1:] + [ix]\n",
    "  \n",
    "  X = torch.tensor(X)\n",
    "  y = torch.tensor(y)\n",
    "  \n",
    "  print(f\"X{mode}.shape: {X.shape}, y{mode}.shape: {y.shape}\")\n",
    "  return X, y\n",
    "\n",
    "\n",
    "random.shuffle(names)\n",
    "n1 = int(0.8 * len(names))\n",
    "n2 = int(0.9 * len(names))\n",
    "\n",
    "Xtr, ytr   = build_dataset(names[:n1]  , mode=\"tr\")\n",
    "Xval, yval = build_dataset(names[n1:n2], mode=\"val\")\n",
    "Xte, yte   = build_dataset(names[n2:]  , mode=\"te\")"
   ]
  },
  {
   "cell_type": "code",
   "execution_count": 6,
   "metadata": {},
   "outputs": [
    {
     "name": "stdout",
     "output_type": "stream",
     "text": [
      "... > y\n",
      "..y > a\n",
      ".ya > r\n",
      "yar > i\n",
      "ari > e\n"
     ]
    }
   ],
   "source": [
    "for X, y in zip(Xtr[:5], ytr[:5]):\n",
    "  print(\"\".join(itoch[ix.item()] for ix in X), \">\", itoch[y.item()])"
   ]
  },
  {
   "cell_type": "markdown",
   "metadata": {},
   "source": [
    "## 1.2. Neural-layer classes definition\n",
    "\n",
    "This segment reimplements the neural-layer classes from the previous notebooks and defines an API quite similar to PyTorch's."
   ]
  },
  {
   "cell_type": "code",
   "execution_count": 7,
   "metadata": {},
   "outputs": [],
   "source": [
    "import math\n",
    "\n",
    "class Sequential:\n",
    "  def __init__(self, name, layers):\n",
    "    self.name = name\n",
    "    self.layers = layers\n",
    "\n",
    "  def __repr__(self):\n",
    "    return self.name\n",
    "    \n",
    "  def __call__(self, x):\n",
    "    for layer in self.layers:\n",
    "      x = layer(x)\n",
    "    self.out = x\n",
    "    return self.out\n",
    "\n",
    "  def params(self):\n",
    "    return [p for layer in self.layers for p in layer.params()]\n",
    "\n",
    "class Embedding:\n",
    "  def __init__(self, vocab_size, emb_size):\n",
    "    self.weight = torch.randn(vocab_size, emb_size) / math.sqrt(emb_size)\n",
    "\n",
    "  def __repr__(self):\n",
    "    return f\"Embedding({self.weight.shape})\"\n",
    "\n",
    "  def __call__(self, x):\n",
    "    self.out = self.weight[x]\n",
    "    return self.out\n",
    "\n",
    "  def params(self):\n",
    "    return [self.weight]\n",
    "  \n",
    "class Flatten:\n",
    "  def __call__(self, x):\n",
    "    self.out = x.view(x.shape[0], -1)\n",
    "    return self.out\n",
    "  \n",
    "  def __repr__(self):\n",
    "    return f\"Flatten({self.out.shape})\"\n",
    "\n",
    "  def params(self):\n",
    "    return []\n",
    "  \n",
    "class Linear:\n",
    "  \"\"\"\n",
    "  This layer applies a linear transformation to its input, expressed as\n",
    "  y = x @ W + b, where x is the input, W is the weight matrix and b is the bias.\n",
    "  This layer is also known as a fully connected layer or a dense layer.\n",
    "  \"\"\"\n",
    "  def __init__(self, fan_in, fan_out, kaiming=True, scaling=False, bias=True):\n",
    "    self.gain = 5.0 / 3.0\n",
    "    self.weight = torch.randn(fan_in, fan_out) / math.sqrt(fan_in)\n",
    "    self.weight = self.weight * self.gain if kaiming else self.weight\n",
    "    self.weight = self.weight * 0.1 if scaling else self.weight\n",
    "    self.bias = torch.zeros(fan_out) if bias else None\n",
    "\n",
    "  def __repr__(self):\n",
    "    return f\"Linear({self.weight.shape}, {None if self.bias is None else self.bias})\"\n",
    "\n",
    "  def __call__(self, x):\n",
    "    self.out = x @ self.weight\n",
    "    self.out = self.out + self.bias if self.bias is not None else self.out\n",
    "    return self.out\n",
    "\n",
    "  def params(self):\n",
    "    return [self.weight, self.bias] if self.bias is not None else [self.weight]\n",
    "  \n",
    "class BatchNorm:\n",
    "  \"\"\"\n",
    "  This layer applies batch normalization to its input, which is a technique\n",
    "  that normalizes the input to the layer, in order to make the training process\n",
    "  more stable and faster.\n",
    "  \"\"\"\n",
    "  def __init__(self, dim, eps=1e-5, momentum=0.01):\n",
    "    self.eps = eps\n",
    "    self.momentum = momentum\n",
    "    self.training = True\n",
    "    self.beta = torch.zeros((1, dim))                  # aka shift\n",
    "    self.gamma = torch.ones((1, dim))                  # aka scale\n",
    "\n",
    "    # running statistics buffers\n",
    "    self.running_mean = torch.zeros((1, dim))\n",
    "    self.running_var = torch.ones((1, dim))\n",
    "\n",
    "  def __repr__(self):\n",
    "    return f\"BatchNorm({self.gamma.shape}, {self.beta.shape})\"\n",
    "\n",
    "  def __call__(self, x):\n",
    "    # forward pass\n",
    "    if self.training:\n",
    "      xmean = x.mean(0, keepdim=True)                  # batch mean\n",
    "      xvar = x.var(0, keepdim=True)                    # batch variance\n",
    "    else:\n",
    "      xmean = self.running_mean\n",
    "      xvar = self.running_var\n",
    "    \n",
    "    x_hat = (x - xmean) / torch.sqrt(xvar + self.eps)  # normalize\n",
    "    self.out = self.gamma * x_hat + self.beta          # scale and shift\n",
    "\n",
    "    # update buffers\n",
    "    if self.training:\n",
    "      with torch.no_grad():\n",
    "        self.running_mean = (1 - self.momentum) * self.running_mean + self.momentum * xmean\n",
    "        self.running_var = (1 - self.momentum) * self.running_var + self.momentum * xvar\n",
    "\n",
    "    return self.out\n",
    "\n",
    "  def params(self):\n",
    "    return [self.gamma, self.beta]\n",
    "  \n",
    "class Tanh:\n",
    "  \"\"\"\n",
    "  This layer applies an activation function (the hyperbolic tangent) element-wise\n",
    "  to its input.\n",
    "  \"\"\"\n",
    "  def __call__(self, x):\n",
    "    self.out = torch.tanh(x)\n",
    "    return self.out\n",
    "  \n",
    "  def __repr__(self):\n",
    "    return f\"Tanh({self.out})\"\n",
    "\n",
    "  def params(self):\n",
    "    return []"
   ]
  },
  {
   "cell_type": "markdown",
   "metadata": {},
   "source": [
    "## 1.3. Neural network initialization"
   ]
  },
  {
   "cell_type": "code",
   "execution_count": 8,
   "metadata": {},
   "outputs": [],
   "source": [
    "n_embd      = 10\n",
    "n_hidden    = 200\n",
    "context_len = 3\n",
    "\n",
    "base_model = Sequential(\"base-model\", [\n",
    "  Embedding(vocab_size, n_embd), Flatten(), \n",
    "  Linear(n_embd * context_len, n_hidden, bias=False), BatchNorm(n_hidden), Tanh(),\n",
    "  Linear(n_hidden, vocab_size, scaling=True)\n",
    "])"
   ]
  },
  {
   "cell_type": "code",
   "execution_count": 9,
   "metadata": {},
   "outputs": [
    {
     "name": "stdout",
     "output_type": "stream",
     "text": [
      "Number of parameters:  12097\n"
     ]
    }
   ],
   "source": [
    "print(\"Number of parameters: \", sum(p.nelement() for p in base_model.params()))\n",
    "for p in base_model.params():\n",
    "  p.requires_grad = True"
   ]
  },
  {
   "cell_type": "markdown",
   "metadata": {},
   "source": [
    "## 1.4. Optimization step"
   ]
  },
  {
   "cell_type": "code",
   "execution_count": 10,
   "metadata": {},
   "outputs": [
    {
     "name": "stdout",
     "output_type": "stream",
     "text": [
      "      1/ 200000: 3.3151\n",
      "  25000/ 200000: 2.2749\n",
      "  50000/ 200000: 2.0545\n",
      "  75000/ 200000: 1.9939\n",
      " 100000/ 200000: 2.4061\n",
      " 125000/ 200000: 2.2899\n",
      " 150000/ 200000: 2.3502\n",
      " 175000/ 200000: 2.0109\n",
      " 200000/ 200000: 1.9919\n"
     ]
    }
   ],
   "source": [
    "max_steps  = 200_000\n",
    "batch_size = 32\n",
    "lossi      = []\n",
    "\n",
    "for step in range(max_steps):\n",
    "  # minibatch construct\n",
    "  ix = torch.randint(0, Xtr.shape[0], (batch_size,))\n",
    "  Xb, yb = Xtr[ix], ytr[ix]\n",
    "\n",
    "  # forward pass\n",
    "  logits = base_model(Xb)\n",
    "  loss = F.cross_entropy(logits, yb)\n",
    "\n",
    "  # backward pass\n",
    "  for p in base_model.params():\n",
    "    p.grad = None\n",
    "  loss.backward()\n",
    "\n",
    "  # update params\n",
    "  lr = 0.1 if step < 100_000 else 0.02\n",
    "  for p in base_model.params():\n",
    "    p.data += -lr * p.grad\n",
    "\n",
    "  # track stats\n",
    "  if step == 0 or (step+1) % 25_000 == 0:\n",
    "    print(f\"{(step+1):7d}/{max_steps:7d}: {loss.item():.4f}\")\n",
    "  lossi.append(loss.log10().item())"
   ]
  },
  {
   "cell_type": "code",
   "execution_count": 11,
   "metadata": {},
   "outputs": [
    {
     "name": "stdout",
     "output_type": "stream",
     "text": [
      "Embedding : (32, 3, 10)\n",
      "Flatten : (32, 30)\n",
      "Linear : (32, 200)\n",
      "BatchNorm : (32, 200)\n",
      "Tanh : (32, 200)\n",
      "Linear : (32, 27)\n"
     ]
    }
   ],
   "source": [
    "for layer in base_model.layers:\n",
    "  print(layer.__class__.__name__, \":\", tuple(layer.out.shape))"
   ]
  },
  {
   "cell_type": "code",
   "execution_count": 12,
   "metadata": {},
   "outputs": [
    {
     "data": {
      "text/plain": [
       "Text(105, 0.345, 'Learning rate decay')"
      ]
     },
     "execution_count": 12,
     "metadata": {},
     "output_type": "execute_result"
    },
    {
     "data": {
      "image/png": "[encoded data removed]",
      "text/plain": [
       "<Figure size 640x480 with 1 Axes>"
      ]
     },
     "metadata": {},
     "output_type": "display_data"
    }
   ],
   "source": [
    "plt.plot(torch.tensor(lossi).view(-1, 1000).mean(1))\n",
    "plt.title(\"Loss decay during training\")\n",
    "plt.xlabel(\"Number of epochs (thousands)\")\n",
    "plt.ylabel(\"Log of loss\")\n",
    "\n",
    "plt.annotate('Learning rate decay',\n",
    "             xy=(102, 0.335),\n",
    "             xytext=(105, 0.345),\n",
    "             arrowprops=dict(facecolor='black', shrink=0.02)) "
   ]
  },
  {
   "cell_type": "markdown",
   "metadata": {},
   "source": [
    "## 1.5. Evaluation step"
   ]
  },
  {
   "cell_type": "code",
   "execution_count": 13,
   "metadata": {},
   "outputs": [
    {
     "name": "stdout",
     "output_type": "stream",
     "text": [
      "{base-model: {'context_len': 3, 'hidden_neurons': 200, 'params': 12097, 'tr_loss': 2.0685, 'val_loss': 2.1162, 'te_loss': 2.1232}}\n"
     ]
    }
   ],
   "source": [
    "performance_log = {}\n",
    "\n",
    "for layer in base_model.layers:\n",
    "  layer.training = False\n",
    "\n",
    "@torch.no_grad()\n",
    "def split_loss(model):\n",
    "  tr_logits  = model(Xtr)\n",
    "  val_logits = model(Xval)\n",
    "  te_logits  = model(Xte)\n",
    "\n",
    "  performance_log[model] = {\n",
    "    \"context_len\": context_len,\n",
    "    \"hidden_neurons\": n_hidden,\n",
    "    \"params\": sum(p.nelement() for p in model.params()),\n",
    "    \"tr_loss\": round(F.cross_entropy(tr_logits, ytr).item(), 4),\n",
    "    \"val_loss\": round(F.cross_entropy(val_logits, yval).item(), 4),\n",
    "    \"te_loss\": round(F.cross_entropy(te_logits, yte).item(), 4),\n",
    "  }\n",
    "\n",
    "  print(performance_log)\n",
    "  \n",
    "split_loss(base_model)"
   ]
  },
  {
   "cell_type": "markdown",
   "metadata": {},
   "source": [
    "## 1.6. Sampling from the model"
   ]
  },
  {
   "cell_type": "code",
   "execution_count": 14,
   "metadata": {},
   "outputs": [
    {
     "name": "stdout",
     "output_type": "stream",
     "text": [
      "janellanabir.\n",
      "malexy.\n",
      "cia.\n",
      "cobby.\n",
      "adconniel.\n",
      "raber.\n",
      "eljoniel.\n",
      "hem.\n",
      "oni.\n",
      "levanni.\n",
      "quan.\n",
      "azmarrudenayon.\n",
      "kona.\n",
      "ley.\n",
      "aary.\n",
      "chamelecklin.\n",
      "devie.\n",
      "cob.\n",
      "takari.\n",
      "macle.\n"
     ]
    }
   ],
   "source": [
    "for _ in range(20):\n",
    "  out = []\n",
    "  context = [0] * context_len\n",
    "  while True:\n",
    "    # forward pass the neural net\n",
    "    logits = base_model(torch.tensor(context).unsqueeze(0))\n",
    "    probs = F.softmax(logits, dim=1)\n",
    "\n",
    "    # sample from the distribution\n",
    "    ix = torch.multinomial(probs, num_samples=1).item()\n",
    "\n",
    "    # shift context window and track samples\n",
    "    context = context[1:] + [ix]\n",
    "    out.append(ix)\n",
    "    if ix == 0:\n",
    "      break\n",
    "\n",
    "  print(\"\".join(itoch[i] for i in out))\n",
    "    "
   ]
  },
  {
   "cell_type": "markdown",
   "metadata": {},
   "source": [
    "# 2. Lazily scaling up context length"
   ]
  },
  {
   "cell_type": "code",
   "execution_count": 15,
   "metadata": {},
   "outputs": [
    {
     "name": "stdout",
     "output_type": "stream",
     "text": [
      "Xtr.shape: torch.Size([182461, 8]), ytr.shape: torch.Size([182461])\n",
      "Xval.shape: torch.Size([22779, 8]), yval.shape: torch.Size([22779])\n",
      "Xte.shape: torch.Size([22906, 8]), yte.shape: torch.Size([22906])\n"
     ]
    }
   ],
   "source": [
    "Xtr, ytr   = build_dataset(names[:n1]  , mode=\"tr\" , context_len=8)\n",
    "Xval, yval = build_dataset(names[n1:n2], mode=\"val\", context_len=8)\n",
    "Xte, yte   = build_dataset(names[n2:]  , mode=\"te\" , context_len=8)"
   ]
  },
  {
   "cell_type": "code",
   "execution_count": 16,
   "metadata": {},
   "outputs": [
    {
     "name": "stdout",
     "output_type": "stream",
     "text": [
      "........ > y\n",
      ".......y > a\n",
      "......ya > r\n",
      ".....yar > i\n",
      "....yari > e\n"
     ]
    }
   ],
   "source": [
    "for X, y in zip(Xtr[:5], ytr[:5]):\n",
    "  print(\"\".join(itoch[ix.item()] for ix in X), \">\", itoch[y.item()])"
   ]
  },
  {
   "cell_type": "code",
   "execution_count": 17,
   "metadata": {},
   "outputs": [],
   "source": [
    "n_embd      = 10\n",
    "n_hidden    = 200\n",
    "context_len = 8\n",
    "\n",
    "scaled_model = Sequential(\"scaled-model\", [\n",
    "  Embedding(vocab_size, n_embd), Flatten(), \n",
    "  Linear(n_embd * context_len, n_hidden, bias=False), BatchNorm(n_hidden), Tanh(),\n",
    "  Linear(n_hidden, vocab_size, scaling=True)\n",
    "])"
   ]
  },
  {
   "cell_type": "code",
   "execution_count": 18,
   "metadata": {},
   "outputs": [
    {
     "name": "stdout",
     "output_type": "stream",
     "text": [
      "Number of parameters:  22097\n"
     ]
    }
   ],
   "source": [
    "print(\"Number of parameters: \", sum(p.nelement() for p in scaled_model.params()))\n",
    "for p in scaled_model.params():\n",
    "  p.requires_grad = True"
   ]
  },
  {
   "cell_type": "code",
   "execution_count": 19,
   "metadata": {},
   "outputs": [
    {
     "name": "stdout",
     "output_type": "stream",
     "text": [
      "      1/ 200000: 3.2814\n",
      "  25000/ 200000: 1.8952\n",
      "  50000/ 200000: 2.3980\n",
      "  75000/ 200000: 2.0952\n",
      " 100000/ 200000: 1.5902\n",
      " 125000/ 200000: 1.6262\n",
      " 150000/ 200000: 1.7623\n",
      " 175000/ 200000: 1.7887\n",
      " 200000/ 200000: 2.0464\n"
     ]
    }
   ],
   "source": [
    "max_steps  = 200_000\n",
    "batch_size = 32\n",
    "lossi      = []\n",
    "\n",
    "for step in range(max_steps):\n",
    "  # minibatch construct\n",
    "  ix = torch.randint(0, Xtr.shape[0], (batch_size,))\n",
    "  Xb, yb = Xtr[ix], ytr[ix]\n",
    "\n",
    "  # forward pass\n",
    "  logits = scaled_model(Xb)\n",
    "  loss   = F.cross_entropy(logits, yb)\n",
    "\n",
    "  # backward pass\n",
    "  for p in scaled_model.params():\n",
    "    p.grad = None\n",
    "  loss.backward()\n",
    "\n",
    "  # update params\n",
    "  lr = 0.1 if step < 100_000 else 0.01\n",
    "  for p in scaled_model.params():\n",
    "    p.data += -lr * p.grad\n",
    "\n",
    "  # track stats\n",
    "  if step == 0 or (step+1) % 25_000 == 0:\n",
    "    print(f\"{(step+1):7d}/{max_steps:7d}: {loss.item():.4f}\")\n",
    "  lossi.append(loss.log10().item())"
   ]
  },
  {
   "cell_type": "code",
   "execution_count": 20,
   "metadata": {},
   "outputs": [
    {
     "name": "stdout",
     "output_type": "stream",
     "text": [
      "Embedding : (32, 8, 10)\n",
      "Flatten : (32, 80)\n",
      "Linear : (32, 200)\n",
      "BatchNorm : (32, 200)\n",
      "Tanh : (32, 200)\n",
      "Linear : (32, 27)\n",
      "{base-model: {'context_len': 3, 'hidden_neurons': 200, 'params': 12097, 'tr_loss': 2.0685, 'val_loss': 2.1162, 'te_loss': 2.1232}, scaled-model: {'context_len': 8, 'hidden_neurons': 200, 'params': 22097, 'tr_loss': 1.9319, 'val_loss': 2.0305, 'te_loss': 2.0369}}\n"
     ]
    }
   ],
   "source": [
    "for layer in scaled_model.layers:\n",
    "  print(layer.__class__.__name__, \":\", tuple(layer.out.shape))\n",
    "  layer.training = False\n",
    "  \n",
    "split_loss(scaled_model)"
   ]
  },
  {
   "cell_type": "code",
   "execution_count": 21,
   "metadata": {},
   "outputs": [
    {
     "name": "stdout",
     "output_type": "stream",
     "text": [
      "jayah.\n",
      "mandix.\n",
      "shaun.\n",
      "rowk.\n",
      "jorner.\n",
      "kiria.\n",
      "isaryk.\n",
      "ramjilla.\n",
      "zyanyah.\n",
      "lucilah.\n",
      "stion.\n",
      "damyah.\n",
      "soan.\n",
      "lthon.\n",
      "frenkish.\n",
      "aliga.\n",
      "grace.\n",
      "depsalia.\n",
      "alahi.\n",
      "jaaviyah.\n"
     ]
    }
   ],
   "source": [
    "for _ in range(20):\n",
    "  out = []\n",
    "  context = [0] * context_len\n",
    "  while True:\n",
    "    # forward pass the neural net\n",
    "    logits = scaled_model(torch.tensor(context).unsqueeze(0))\n",
    "    probs = F.softmax(logits, dim=1)\n",
    "\n",
    "    # sample from the distribution\n",
    "    ix = torch.multinomial(probs, num_samples=1).item()\n",
    "\n",
    "    # shift context window and track samples\n",
    "    context = context[1:] + [ix]\n",
    "    out.append(ix)\n",
    "    if ix == 0:\n",
    "      break\n",
    "\n",
    "  print(\"\".join(itoch[i] for i in out))"
   ]
  },
  {
   "cell_type": "markdown",
   "metadata": {},
   "source": [
    "## 3. Implementing WaveNet\n",
    "\n",
    "The architecture currently being used was proposed by [Bengio et al. 2003](https://www.jmlr.org/papers/volume3/bengio03a/bengio03a.pdf), in which a given number of characters are fed through a single hidden layer and then the output is used to predict the next character. In the first model presented here, the context length is 3 characters and in the second model, the context length is 8 characters.\n",
    "\n",
    "<img src=\"../assets/neural-prob-LM.jpg\" width=\"400\"/>\n",
    "\n",
    "Even though additional layers could be introduced, making the neural network deeper, the model would still be compressing all the information from the input into a single vector, which is then used to predict the next character.\n",
    "\n",
    "**WaveNet**, on the other hand, is a deep generative model that is able to generate the output using a stack of *dilated causal convolutions*. This means that the output at a given time step is only dependent on the input at previous time steps, and the receptive field of the model grows exponentially with the number of layers.\n",
    "\n",
    "<img src=\"../assets/wavenet.jpg\" width=\"400\"/>\n",
    "\n",
    "### 3.1. Scratch space\n",
    "\n",
    "Understanding the forward pass of the neural networks implemented previously and inspecting the shapes of the tensors being used."
   ]
  },
  {
   "cell_type": "code",
   "execution_count": 22,
   "metadata": {},
   "outputs": [
    {
     "data": {
      "text/plain": [
       "(torch.Size([4, 8]), torch.Size([4]))"
      ]
     },
     "execution_count": 22,
     "metadata": {},
     "output_type": "execute_result"
    }
   ],
   "source": [
    "# construct a batch of size 4\n",
    "ix = torch.randint(0, Xtr.shape[0], (4,))\n",
    "Xb, yb = Xtr[ix], ytr[ix]\n",
    "Xb.shape, yb.shape"
   ]
  },
  {
   "cell_type": "code",
   "execution_count": 23,
   "metadata": {},
   "outputs": [
    {
     "data": {
      "text/plain": [
       "torch.Size([1, 8, 10])"
      ]
     },
     "execution_count": 23,
     "metadata": {},
     "output_type": "execute_result"
    }
   ],
   "source": [
    "# output shape of the first layer of the model (the Embedding layer)\n",
    "scaled_model.layers[0].out.shape"
   ]
  },
  {
   "cell_type": "code",
   "execution_count": 24,
   "metadata": {},
   "outputs": [
    {
     "data": {
      "text/plain": [
       "torch.Size([1, 80])"
      ]
     },
     "execution_count": 24,
     "metadata": {},
     "output_type": "execute_result"
    }
   ],
   "source": [
    "# output shape of the second layer of the model (the Flatten layer)\n",
    "scaled_model.layers[1].out.shape"
   ]
  },
  {
   "cell_type": "code",
   "execution_count": 25,
   "metadata": {},
   "outputs": [
    {
     "data": {
      "text/plain": [
       "torch.Size([1, 200])"
      ]
     },
     "execution_count": 25,
     "metadata": {},
     "output_type": "execute_result"
    }
   ],
   "source": [
    "# output shape of the third layer of the model (the Linear layer)\n",
    "scaled_model.layers[2].out.shape"
   ]
  },
  {
   "cell_type": "code",
   "execution_count": 26,
   "metadata": {},
   "outputs": [
    {
     "data": {
      "text/plain": [
       "torch.Size([4, 200])"
      ]
     },
     "execution_count": 26,
     "metadata": {},
     "output_type": "execute_result"
    }
   ],
   "source": [
    "# inner operation of the third layer of the model (the Linear layer)\n",
    "(torch.randn(4, 80) @ torch.randn(80, 200) + torch.randn(200)).shape"
   ]
  },
  {
   "cell_type": "code",
   "execution_count": 27,
   "metadata": {},
   "outputs": [
    {
     "data": {
      "text/plain": [
       "torch.Size([4, 5, 200])"
      ]
     },
     "execution_count": 27,
     "metadata": {},
     "output_type": "execute_result"
    }
   ],
   "source": [
    "# IMPORTANT: inner operation above also works with high dimensional input data (e.g. 3D)\n",
    "(torch.randn(4, 5, 80) @ torch.randn(80, 200) + torch.randn(200)).shape"
   ]
  },
  {
   "cell_type": "code",
   "execution_count": 28,
   "metadata": {},
   "outputs": [
    {
     "data": {
      "text/plain": [
       "torch.Size([4, 4, 200])"
      ]
     },
     "execution_count": 28,
     "metadata": {},
     "output_type": "execute_result"
    }
   ],
   "source": [
    "# in the previous models, the input characters were flattened into a single dimension\n",
    "# now, we will introduce a batch dimension to fuse the characters into two-element pairs\n",
    "# eg. (1, 2) (3, 4) (5, 6) (7, 8), embedded into batch_size x 2D_pairs x n_embd tensor\n",
    "(torch.randn(4, 4, 20) @ torch.randn(20, 200) + torch.randn(200)).shape"
   ]
  },
  {
   "cell_type": "code",
   "execution_count": 29,
   "metadata": {},
   "outputs": [
    {
     "data": {
      "text/plain": [
       "torch.Size([4, 4, 20])"
      ]
     },
     "execution_count": 29,
     "metadata": {},
     "output_type": "execute_result"
    }
   ],
   "source": [
    "# goal: reshape output of Embedding layer into a tensor of shape (4, 4, 20)\n",
    "e = torch.randn(4, 8, 10)     # current architecture: (batch_size, context_len, n_embd)\n",
    "exp_cat = torch.cat([e[:, ::2, :], e[:, 1::2, :]], dim=2)\n",
    "exp_cat.shape"
   ]
  },
  {
   "cell_type": "code",
   "execution_count": 30,
   "metadata": {},
   "outputs": [
    {
     "data": {
      "text/plain": [
       "tensor(True)"
      ]
     },
     "execution_count": 30,
     "metadata": {},
     "output_type": "execute_result"
    }
   ],
   "source": [
    "(e.view(4, -1, 20) == exp_cat).all()"
   ]
  },
  {
   "cell_type": "markdown",
   "metadata": {},
   "source": [
    "### 3.2. Updating the Flatten layer to include batch dimension"
   ]
  },
  {
   "cell_type": "code",
   "execution_count": 31,
   "metadata": {},
   "outputs": [],
   "source": [
    "class FlattenV2(Flatten):\n",
    "  def __init__(self, n_elements):\n",
    "    self.n_elements = n_elements\n",
    "\n",
    "  def __call__(self, x):\n",
    "    B, T, C = x.shape\n",
    "    x = x.view(B, T // self.n_elements, C * self.n_elements)\n",
    "    if x.shape[1] == 1:\n",
    "      x = x.squeeze(1)\n",
    "    self.out = x\n",
    "    return self.out"
   ]
  },
  {
   "cell_type": "code",
   "execution_count": 32,
   "metadata": {},
   "outputs": [],
   "source": [
    "n_embd = 10\n",
    "n_hidden = 68     # adjust hidden layer so total number of parameters is the same of previous models\n",
    "\n",
    "wavenet_model_v1 = Sequential(\"wavenet-model-v1\", [\n",
    "  Embedding(vocab_size, n_embd),\n",
    "  FlattenV2(2), Linear(n_embd * 2, n_hidden, bias=False), BatchNorm(n_hidden), Tanh(),\n",
    "  FlattenV2(2), Linear(n_hidden * 2, n_hidden, bias=False), BatchNorm(n_hidden), Tanh(),\n",
    "  FlattenV2(2), Linear(n_hidden * 2, n_hidden, bias=False), BatchNorm(n_hidden), Tanh(),\n",
    "  Linear(n_hidden, vocab_size, scaling=True)\n",
    "])"
   ]
  },
  {
   "cell_type": "code",
   "execution_count": 33,
   "metadata": {},
   "outputs": [
    {
     "name": "stdout",
     "output_type": "stream",
     "text": [
      "Number of parameters:  22397\n"
     ]
    }
   ],
   "source": [
    "print(\"Number of parameters: \", sum(p.nelement() for p in wavenet_model_v1.params()))\n",
    "for p in wavenet_model_v1.params():\n",
    "  p.requires_grad = True"
   ]
  },
  {
   "cell_type": "markdown",
   "metadata": {},
   "source": [
    "### 3.3. Training the WaveNet: first pass"
   ]
  },
  {
   "cell_type": "code",
   "execution_count": 34,
   "metadata": {},
   "outputs": [
    {
     "name": "stdout",
     "output_type": "stream",
     "text": [
      "      1/ 200000: 3.2903\n",
      "  25000/ 200000: 2.4359\n",
      "  50000/ 200000: 1.6422\n",
      "  75000/ 200000: 2.0187\n",
      " 100000/ 200000: 2.1975\n",
      " 125000/ 200000: 2.1933\n",
      " 150000/ 200000: 1.5275\n",
      " 175000/ 200000: 2.1747\n",
      " 200000/ 200000: 1.7174\n"
     ]
    }
   ],
   "source": [
    "max_steps = 200_000\n",
    "batch_size = 32\n",
    "lossi = []\n",
    "\n",
    "for step in range(max_steps):\n",
    "  # minibatch construct\n",
    "  ix = torch.randint(0, Xtr.shape[0], (batch_size,))\n",
    "  Xb, yb = Xtr[ix], ytr[ix]\n",
    "\n",
    "  # forward pass\n",
    "  logits = wavenet_model_v1(Xb)\n",
    "  loss = F.cross_entropy(logits, yb)\n",
    "\n",
    "  # backward pass\n",
    "  for p in wavenet_model_v1.params():\n",
    "    p.grad = None\n",
    "  loss.backward()\n",
    "\n",
    "  # update params\n",
    "  lr = 0.1 if step < 100_000 else 0.02\n",
    "  for p in wavenet_model_v1.params():\n",
    "    p.data += -lr * p.grad\n",
    "\n",
    "  # track stats\n",
    "  if step == 0 or (step+1) % 25_000 == 0:\n",
    "    print(f\"{(step+1):7d}/{max_steps:7d}: {loss.item():.4f}\")\n",
    "  lossi.append(loss.log10().item())"
   ]
  },
  {
   "cell_type": "code",
   "execution_count": 35,
   "metadata": {},
   "outputs": [
    {
     "name": "stdout",
     "output_type": "stream",
     "text": [
      "Embedding : (32, 8, 10)\n",
      "FlattenV2 : (32, 4, 20)\n",
      "Linear : (32, 4, 68)\n",
      "BatchNorm : (32, 4, 68)\n",
      "Tanh : (32, 4, 68)\n",
      "FlattenV2 : (32, 2, 136)\n",
      "Linear : (32, 2, 68)\n",
      "BatchNorm : (32, 2, 68)\n",
      "Tanh : (32, 2, 68)\n",
      "FlattenV2 : (32, 136)\n",
      "Linear : (32, 68)\n",
      "BatchNorm : (32, 68)\n",
      "Tanh : (32, 68)\n",
      "Linear : (32, 27)\n",
      "{base-model: {'context_len': 3, 'hidden_neurons': 200, 'params': 12097, 'tr_loss': 2.0685, 'val_loss': 2.1162, 'te_loss': 2.1232}, scaled-model: {'context_len': 8, 'hidden_neurons': 200, 'params': 22097, 'tr_loss': 1.9319, 'val_loss': 2.0305, 'te_loss': 2.0369}, wavenet-model-v1: {'context_len': 8, 'hidden_neurons': 68, 'params': 22397, 'tr_loss': 1.9525, 'val_loss': 2.0256, 'te_loss': 2.044}}\n"
     ]
    }
   ],
   "source": [
    "for layer in wavenet_model_v1.layers:\n",
    "  print(layer.__class__.__name__, \":\", tuple(layer.out.shape))\n",
    "  layer.training = False\n",
    "  \n",
    "split_loss(wavenet_model_v1)"
   ]
  },
  {
   "cell_type": "code",
   "execution_count": 36,
   "metadata": {},
   "outputs": [
    {
     "name": "stdout",
     "output_type": "stream",
     "text": [
      "banitter.\n",
      "daverly.\n",
      "aivany.\n",
      "cermie.\n",
      "cynni.\n",
      "ataleya.\n",
      "eristyn.\n",
      "ruberfo.\n",
      "kinlee.\n",
      "jaire.\n",
      "ruhhyn.\n",
      "arahir.\n",
      "makor.\n",
      "alizela.\n",
      "barattin.\n",
      "dekse.\n",
      "mykana.\n",
      "marvaci.\n",
      "kaimiyah.\n",
      "deyonn.\n"
     ]
    }
   ],
   "source": [
    "for _ in range(20):\n",
    "  out = []\n",
    "  context = [0] * context_len\n",
    "  while True:\n",
    "    # forward pass the neural net\n",
    "    logits = wavenet_model_v1(torch.tensor(context).unsqueeze(0))\n",
    "    probs = F.softmax(logits, dim=1)\n",
    "\n",
    "    # sample from the distribution\n",
    "    ix = torch.multinomial(probs, num_samples=1).item()\n",
    "\n",
    "    # shift context window and track samples\n",
    "    context = context[1:] + [ix]\n",
    "    out.append(ix)\n",
    "    if ix == 0:\n",
    "      break\n",
    "\n",
    "  print(\"\".join(itoch[i] for i in out))"
   ]
  },
  {
   "cell_type": "markdown",
   "metadata": {},
   "source": [
    "### 3.4. Updating the BatchNorm layer to include batch dimension\n",
    "\n",
    "The Batch Normalization layer, as currently implemented, is receiving a 2D tensor of shape `(batch_size, n_hidden)`. Since, in Pytorch, everything broadcasts properly, this layer is able to normalize the activations of the hidden layer. However, in the WaveNet model, the hidden layer is a 3D tensor of shape `(batch_size, context_len // dilated_causal_convolutions, n_hidden)`. This means that the Batch Normalization layer is normalizing the activations of the hidden layer along the wrong axis."
   ]
  },
  {
   "cell_type": "code",
   "execution_count": 48,
   "metadata": {},
   "outputs": [
    {
     "data": {
      "text/plain": [
       "(tensor([[-1.4956,  0.2474, -0.7903],\n",
       "         [-0.7031, -0.3599, -0.4418]]),\n",
       " tensor([[-1.0993, -0.0563, -0.6161]]),\n",
       " tensor([[0.3140, 0.1844, 0.0607]]),\n",
       " tensor([[-0.7071,  0.7071, -0.7070],\n",
       "         [ 0.7071, -0.7071,  0.7070]]))"
      ]
     },
     "execution_count": 48,
     "metadata": {},
     "output_type": "execute_result"
    }
   ],
   "source": [
    "# how it is currently implemented...\n",
    "e      = torch.randn(2, 3)                         # input of shape (2, 3)\n",
    "e_mean = e.mean(0, keepdim=True)                   # batch mean of shape (1, 3)\n",
    "e_var  = e.var(0, keepdim=True)                    # batch variance of shape (1, 3)\n",
    "e_hat  = (e - e_mean) / torch.sqrt(e_var + 1e-5)   # normalized input of shape (2, 3)\n",
    "e, e_mean, e_var, e_hat"
   ]
  },
  {
   "cell_type": "code",
   "execution_count": 49,
   "metadata": {},
   "outputs": [
    {
     "data": {
      "text/plain": [
       "(tensor([[[ 1.3287,  0.4370,  0.5469, -0.9049],\n",
       "          [ 0.5698,  1.6174,  0.9841,  0.4329],\n",
       "          [-0.0867,  0.0665,  1.2209,  0.8377]],\n",
       " \n",
       "         [[ 0.0830,  0.8253, -0.7065, -1.0320],\n",
       "          [-0.4697,  1.0208, -0.8714, -0.2629],\n",
       "          [-1.8326,  0.0820,  0.9459,  0.0695]]]),\n",
       " tensor([[[ 0.7058,  0.6312, -0.0798, -0.9684],\n",
       "          [ 0.0501,  1.3191,  0.0564,  0.0850],\n",
       "          [-0.9596,  0.0743,  1.0834,  0.4536]]]),\n",
       " tensor([[[7.7596e-01, 7.5385e-02, 7.8556e-01, 8.0742e-03],\n",
       "          [5.4034e-01, 1.7794e-01, 1.7215e+00, 2.4204e-01],\n",
       "          [1.5242e+00, 1.2016e-04, 3.7838e-02, 2.9507e-01]]]),\n",
       " tensor([[[ 0.7071, -0.7071,  0.7071,  0.7067],\n",
       "          [ 0.7071,  0.7071,  0.7071,  0.7071],\n",
       "          [ 0.7071, -0.6794,  0.7070,  0.7071]],\n",
       " \n",
       "         [[-0.7071,  0.7071, -0.7071, -0.7067],\n",
       "          [-0.7071, -0.7071, -0.7071, -0.7071],\n",
       "          [-0.7071,  0.6794, -0.7070, -0.7071]]]))"
      ]
     },
     "execution_count": 49,
     "metadata": {},
     "output_type": "execute_result"
    }
   ],
   "source": [
    "# ...how it will incorrectly broadcast...\n",
    "e      = torch.randn(2, 3, 4)                      # input of shape (2, 3, 4)\n",
    "e_mean = e.mean(0, keepdim=True)                   # batch mean of shape (1, 3, 4)\n",
    "e_var  = e.var(0, keepdim=True)                    # batch variance of shape (1, 3, 4)\n",
    "e_hat  = (e - e_mean) / torch.sqrt(e_var + 1e-5)   # normalized input of shape (2, 3, 4)\n",
    "e, e_mean, e_var, e_hat"
   ]
  },
  {
   "cell_type": "code",
   "execution_count": 53,
   "metadata": {},
   "outputs": [
    {
     "data": {
      "text/plain": [
       "(tensor([[[ 0.3711, -1.0470,  1.2473, -2.2059],\n",
       "          [ 1.4369,  0.3064,  0.4757,  0.0254],\n",
       "          [-1.1406, -1.5060, -0.3617, -0.8203]],\n",
       " \n",
       "         [[ 0.0976, -0.0644,  1.4956,  0.8565],\n",
       "          [ 0.6067, -1.0009,  0.6808,  0.9212],\n",
       "          [ 0.4694, -0.3725, -0.3627,  0.0358]]]),\n",
       " tensor([[[ 0.3069, -0.6141,  0.5292, -0.1979]]]),\n",
       " tensor([[[0.7073, 0.4681, 0.6130, 1.3776]]]),\n",
       " tensor([[[ 0.0764, -0.6328,  0.9173, -1.7108],\n",
       "          [ 1.3437,  1.3454, -0.0683,  0.1902],\n",
       "          [-1.7211, -1.3036, -1.1379, -0.5303]],\n",
       " \n",
       "         [[-0.2488,  0.8034,  1.2344,  0.8983],\n",
       "          [ 0.3565, -0.5655,  0.1936,  0.9534],\n",
       "          [ 0.1933,  0.3531, -1.1391,  0.1991]]]))"
      ]
     },
     "execution_count": 53,
     "metadata": {},
     "output_type": "execute_result"
    }
   ],
   "source": [
    "# ...how it should be\n",
    "e      = torch.randn(2, 3, 4)                      # input of shape (2, 3, 4)\n",
    "e_mean = e.mean((0, 1), keepdim=True)              # batch mean of shape (1, 1, 4)\n",
    "e_var  = e.var((0, 1), keepdim=True)               # batch variance of shape (1, 1, 4)\n",
    "e_hat  = (e - e_mean) / torch.sqrt(e_var + 1e-5)   # normalized input of shape (2, 3, 4)\n",
    "e, e_mean, e_var, e_hat"
   ]
  },
  {
   "cell_type": "code",
   "execution_count": 58,
   "metadata": {},
   "outputs": [],
   "source": [
    "class BatchNormV2(BatchNorm):\n",
    "  \"\"\"\n",
    "  This layer applies batch normalization to its input, which is a technique\n",
    "  that normalizes the input to the layer, in order to make the training process\n",
    "  more stable and faster.\n",
    "\n",
    "  V2 can handle both 2D and 3D input matrices.\n",
    "  \"\"\"\n",
    "  def __init__(self, dim, eps=1e-5, momentum=0.01):\n",
    "    self.eps = eps\n",
    "    self.momentum = momentum\n",
    "    self.training = True\n",
    "    self.beta = torch.zeros((1, dim))                  # aka shift\n",
    "    self.gamma = torch.ones((1, dim))                  # aka scale\n",
    "\n",
    "    # running statistics buffers\n",
    "    self.running_mean = torch.zeros((1, dim))\n",
    "    self.running_var = torch.ones((1, dim))\n",
    "\n",
    "  def __repr__(self):\n",
    "    return f\"BatchNorm({self.gamma.shape}, {self.beta.shape})\"\n",
    "\n",
    "  def __call__(self, x):\n",
    "    # forward pass\n",
    "    if self.training:\n",
    "      dim   = 0 if x.ndim == 2 else (0, 1)\n",
    "      xmean = x.mean(dim, keepdim=True)                     # batch mean\n",
    "      xvar  = x.var(dim, keepdim=True)                      # batch variance\n",
    "    else:\n",
    "      xmean = self.running_mean\n",
    "      xvar  = self.running_var\n",
    "    \n",
    "    x_hat    = (x - xmean) / torch.sqrt(xvar + self.eps)  # normalize\n",
    "    self.out = self.gamma * x_hat + self.beta             # scale and shift\n",
    "\n",
    "    # update buffers\n",
    "    if self.training:\n",
    "      with torch.no_grad():\n",
    "        self.running_mean = (1 - self.momentum) * self.running_mean + self.momentum * xmean\n",
    "        self.running_var  = (1 - self.momentum) * self.running_var  + self.momentum * xvar\n",
    "\n",
    "    return self.out\n",
    "\n",
    "  def params(self):\n",
    "    return [self.gamma, self.beta]\n",
    "  \n",
    "\n",
    "class BatchNormV2(BatchNorm):\n",
    "  pass"
   ]
  },
  {
   "cell_type": "markdown",
   "metadata": {},
   "source": [
    "### 3.5. Training the WaveNet: second pass"
   ]
  },
  {
   "cell_type": "code",
   "execution_count": 59,
   "metadata": {},
   "outputs": [],
   "source": [
    "n_embd = 10\n",
    "n_hidden = 68     \n",
    "\n",
    "wavenet_model_v2 = Sequential(\"wavenet-model-v2\", [\n",
    "  Embedding(vocab_size, n_embd),\n",
    "  FlattenV2(2), Linear(n_embd   * 2, n_hidden, bias=False), BatchNormV2(n_hidden), Tanh(),\n",
    "  FlattenV2(2), Linear(n_hidden * 2, n_hidden, bias=False), BatchNormV2(n_hidden), Tanh(),\n",
    "  FlattenV2(2), Linear(n_hidden * 2, n_hidden, bias=False), BatchNormV2(n_hidden), Tanh(),\n",
    "  Linear(n_hidden, vocab_size, scaling=True)\n",
    "])"
   ]
  },
  {
   "cell_type": "code",
   "execution_count": 62,
   "metadata": {},
   "outputs": [
    {
     "name": "stdout",
     "output_type": "stream",
     "text": [
      "Number of parameters:  22397\n"
     ]
    }
   ],
   "source": [
    "print(\"Number of parameters: \", sum(p.nelement() for p in wavenet_model_v2.params()))\n",
    "for p in wavenet_model_v2.params():\n",
    "  p.requires_grad = True"
   ]
  },
  {
   "cell_type": "code",
   "execution_count": 64,
   "metadata": {},
   "outputs": [
    {
     "name": "stdout",
     "output_type": "stream",
     "text": [
      "      1/ 200000: 3.2802\n",
      "  25000/ 200000: 2.3674\n",
      "  50000/ 200000: 2.2365\n",
      "  75000/ 200000: 1.4827\n",
      " 100000/ 200000: 1.7679\n",
      " 125000/ 200000: 2.2758\n",
      " 150000/ 200000: 2.0375\n",
      " 175000/ 200000: 1.7230\n",
      " 200000/ 200000: 1.9166\n"
     ]
    }
   ],
   "source": [
    "max_steps = 200_000\n",
    "batch_size = 32\n",
    "lossi = []\n",
    "\n",
    "for step in range(max_steps):\n",
    "  # minibatch construct\n",
    "  ix = torch.randint(0, Xtr.shape[0], (batch_size,))\n",
    "  Xb, yb = Xtr[ix], ytr[ix]\n",
    "\n",
    "  # forward pass\n",
    "  logits = wavenet_model_v2(Xb)\n",
    "  loss = F.cross_entropy(logits, yb)\n",
    "\n",
    "  # backward pass\n",
    "  for p in wavenet_model_v2.params():\n",
    "    p.grad = None\n",
    "  loss.backward()\n",
    "\n",
    "  # update params\n",
    "  lr = 0.1 if step < 100_000 else 0.02\n",
    "  for p in wavenet_model_v2.params():\n",
    "    p.data += -lr * p.grad\n",
    "\n",
    "  # track stats\n",
    "  if step == 0 or (step+1) % 25_000 == 0:\n",
    "    print(f\"{(step+1):7d}/{max_steps:7d}: {loss.item():.4f}\")\n",
    "  lossi.append(loss.log10().item())"
   ]
  },
  {
   "cell_type": "code",
   "execution_count": 65,
   "metadata": {},
   "outputs": [
    {
     "name": "stdout",
     "output_type": "stream",
     "text": [
      "Embedding : (32, 8, 10)\n",
      "FlattenV2 : (32, 4, 20)\n",
      "Linear : (32, 4, 68)\n",
      "BatchNormV2 : (32, 4, 68)\n",
      "Tanh : (32, 4, 68)\n",
      "FlattenV2 : (32, 2, 136)\n",
      "Linear : (32, 2, 68)\n",
      "BatchNormV2 : (32, 2, 68)\n",
      "Tanh : (32, 2, 68)\n",
      "FlattenV2 : (32, 136)\n",
      "Linear : (32, 68)\n",
      "BatchNormV2 : (32, 68)\n",
      "Tanh : (32, 68)\n",
      "Linear : (32, 27)\n",
      "{base-model: {'context_len': 3, 'hidden_neurons': 200, 'params': 12097, 'tr_loss': 2.0685, 'val_loss': 2.1162, 'te_loss': 2.1232}, scaled-model: {'context_len': 8, 'hidden_neurons': 200, 'params': 22097, 'tr_loss': 1.9319, 'val_loss': 2.0305, 'te_loss': 2.0369}, wavenet-model-v1: {'context_len': 8, 'hidden_neurons': 68, 'params': 22397, 'tr_loss': 1.9525, 'val_loss': 2.0256, 'te_loss': 2.044}, wavenet-model-v2: {'context_len': 8, 'hidden_neurons': 68, 'params': 22397, 'tr_loss': 1.9237, 'val_loss': 2.0237, 'te_loss': 2.0368}}\n"
     ]
    }
   ],
   "source": [
    "for layer in wavenet_model_v2.layers:\n",
    "  print(layer.__class__.__name__, \":\", tuple(layer.out.shape))\n",
    "  layer.training = False\n",
    "  \n",
    "split_loss(wavenet_model_v2)"
   ]
  },
  {
   "cell_type": "code",
   "execution_count": 67,
   "metadata": {},
   "outputs": [
    {
     "name": "stdout",
     "output_type": "stream",
     "text": [
      "ahnia.\n",
      "xatay.\n",
      "lyra.\n",
      "janai.\n",
      "mylyann.\n",
      "edricco.\n",
      "muhazha.\n",
      "liverlin.\n",
      "skite.\n",
      "perzie.\n",
      "kalayah.\n",
      "kori.\n",
      "adel.\n",
      "vyonna.\n",
      "treya.\n",
      "kaylani.\n",
      "aaris.\n",
      "kiann.\n",
      "akaall.\n",
      "angela.\n"
     ]
    }
   ],
   "source": [
    "for _ in range(20):\n",
    "  out = []\n",
    "  context = [0] * context_len\n",
    "  while True:\n",
    "    # forward pass the neural net\n",
    "    logits = wavenet_model_v2(torch.tensor(context).unsqueeze(0))\n",
    "    probs = F.softmax(logits, dim=1)\n",
    "\n",
    "    # sample from the distribution\n",
    "    ix = torch.multinomial(probs, num_samples=1).item()\n",
    "\n",
    "    # shift context window and track samples\n",
    "    context = context[1:] + [ix]\n",
    "    out.append(ix)\n",
    "    if ix == 0:\n",
    "      break\n",
    "\n",
    "  print(\"\".join(itoch[i] for i in out))"
   ]
  },
  {
   "cell_type": "markdown",
   "metadata": {},
   "source": [
    "### 3.6. Scaling up WaveNet: third pass"
   ]
  },
  {
   "cell_type": "code",
   "execution_count": 68,
   "metadata": {},
   "outputs": [],
   "source": [
    "n_embd = 24\n",
    "n_hidden = 128     \n",
    "\n",
    "wavenet_model_v3 = Sequential(\"wavenet-model-v3\", [\n",
    "  Embedding(vocab_size, n_embd),\n",
    "  FlattenV2(2), Linear(n_embd   * 2, n_hidden, bias=False), BatchNormV2(n_hidden), Tanh(),\n",
    "  FlattenV2(2), Linear(n_hidden * 2, n_hidden, bias=False), BatchNormV2(n_hidden), Tanh(),\n",
    "  FlattenV2(2), Linear(n_hidden * 2, n_hidden, bias=False), BatchNormV2(n_hidden), Tanh(),\n",
    "  Linear(n_hidden, vocab_size, scaling=True)\n",
    "])"
   ]
  },
  {
   "cell_type": "code",
   "execution_count": 69,
   "metadata": {},
   "outputs": [
    {
     "name": "stdout",
     "output_type": "stream",
     "text": [
      "Number of parameters:  76579\n"
     ]
    }
   ],
   "source": [
    "print(\"Number of parameters: \", sum(p.nelement() for p in wavenet_model_v3.params()))\n",
    "for p in wavenet_model_v3.params():\n",
    "  p.requires_grad = True"
   ]
  },
  {
   "cell_type": "code",
   "execution_count": 70,
   "metadata": {},
   "outputs": [
    {
     "name": "stdout",
     "output_type": "stream",
     "text": [
      "      1/ 200000: 3.3056\n",
      "  25000/ 200000: 2.1383\n",
      "  50000/ 200000: 1.6891\n",
      "  75000/ 200000: 2.2325\n",
      " 100000/ 200000: 1.8008\n",
      " 125000/ 200000: 1.7201\n",
      " 150000/ 200000: 1.9271\n",
      " 175000/ 200000: 2.0595\n",
      " 200000/ 200000: 1.5532\n"
     ]
    }
   ],
   "source": [
    "max_steps = 200_000\n",
    "batch_size = 32\n",
    "lossi = []\n",
    "\n",
    "for step in range(max_steps):\n",
    "  # minibatch construct\n",
    "  ix = torch.randint(0, Xtr.shape[0], (batch_size,))\n",
    "  Xb, yb = Xtr[ix], ytr[ix]\n",
    "\n",
    "  # forward pass\n",
    "  logits = wavenet_model_v3(Xb)\n",
    "  loss = F.cross_entropy(logits, yb)\n",
    "\n",
    "  # backward pass\n",
    "  for p in wavenet_model_v3.params():\n",
    "    p.grad = None\n",
    "  loss.backward()\n",
    "\n",
    "  # update params\n",
    "  lr = 0.1 if step < 100_000 else 0.02\n",
    "  for p in wavenet_model_v3.params():\n",
    "    p.data += -lr * p.grad\n",
    "\n",
    "  # track stats\n",
    "  if step == 0 or (step+1) % 25_000 == 0:\n",
    "    print(f\"{(step+1):7d}/{max_steps:7d}: {loss.item():.4f}\")\n",
    "  lossi.append(loss.log10().item())"
   ]
  },
  {
   "cell_type": "code",
   "execution_count": 71,
   "metadata": {},
   "outputs": [
    {
     "name": "stdout",
     "output_type": "stream",
     "text": [
      "Embedding : (32, 8, 24)\n",
      "FlattenV2 : (32, 4, 48)\n",
      "Linear : (32, 4, 128)\n",
      "BatchNormV2 : (32, 4, 128)\n",
      "Tanh : (32, 4, 128)\n",
      "FlattenV2 : (32, 2, 256)\n",
      "Linear : (32, 2, 128)\n",
      "BatchNormV2 : (32, 2, 128)\n",
      "Tanh : (32, 2, 128)\n",
      "FlattenV2 : (32, 256)\n",
      "Linear : (32, 128)\n",
      "BatchNormV2 : (32, 128)\n",
      "Tanh : (32, 128)\n",
      "Linear : (32, 27)\n",
      "{base-model: {'context_len': 3, 'hidden_neurons': 200, 'params': 12097, 'tr_loss': 2.0685, 'val_loss': 2.1162, 'te_loss': 2.1232}, scaled-model: {'context_len': 8, 'hidden_neurons': 200, 'params': 22097, 'tr_loss': 1.9319, 'val_loss': 2.0305, 'te_loss': 2.0369}, wavenet-model-v1: {'context_len': 8, 'hidden_neurons': 68, 'params': 22397, 'tr_loss': 1.9525, 'val_loss': 2.0256, 'te_loss': 2.044}, wavenet-model-v2: {'context_len': 8, 'hidden_neurons': 68, 'params': 22397, 'tr_loss': 1.9237, 'val_loss': 2.0237, 'te_loss': 2.0368}, wavenet-model-v3: {'context_len': 8, 'hidden_neurons': 128, 'params': 76579, 'tr_loss': 1.7918, 'val_loss': 2.0002, 'te_loss': 2.0094}}\n"
     ]
    }
   ],
   "source": [
    "for layer in wavenet_model_v3.layers:\n",
    "  print(layer.__class__.__name__, \":\", tuple(layer.out.shape))\n",
    "  layer.training = False\n",
    "  \n",
    "split_loss(wavenet_model_v3)"
   ]
  },
  {
   "cell_type": "code",
   "execution_count": 72,
   "metadata": {},
   "outputs": [
    {
     "name": "stdout",
     "output_type": "stream",
     "text": [
      "taemar.\n",
      "artheriya.\n",
      "jamille.\n",
      "hermoni.\n",
      "dreisce.\n",
      "eriyanni.\n",
      "harmonie.\n",
      "zack.\n",
      "kathis.\n",
      "shayden.\n",
      "adaline.\n",
      "chisaber.\n",
      "sherri.\n",
      "kathon.\n",
      "brynlin.\n",
      "nahlie.\n",
      "kardier.\n",
      "rossey.\n",
      "jaqueline.\n",
      "smulyk.\n"
     ]
    }
   ],
   "source": [
    "for _ in range(20):\n",
    "  out = []\n",
    "  context = [0] * context_len\n",
    "  while True:\n",
    "    # forward pass the neural net\n",
    "    logits = wavenet_model_v3(torch.tensor(context).unsqueeze(0))\n",
    "    probs = F.softmax(logits, dim=1)\n",
    "\n",
    "    # sample from the distribution\n",
    "    ix = torch.multinomial(probs, num_samples=1).item()\n",
    "\n",
    "    # shift context window and track samples\n",
    "    context = context[1:] + [ix]\n",
    "    out.append(ix)\n",
    "    if ix == 0:\n",
    "      break\n",
    "\n",
    "  print(\"\".join(itoch[i] for i in out))"
   ]
  },
  {
   "cell_type": "markdown",
   "metadata": {},
   "source": [
    "# Sources\n",
    "\n",
    "1. [Ground truth - Building makemore Part 5: Building a wavenet, By Andrej Karpathy](https://www.youtube.com/watch?v=t3YJ5hKiMQ0)\n",
    "2. van den Oord, Aäron et al. WaveNet: A generative model for raw audio, 2016. URL: https://arxiv.org/abs/1609.03499\n",
    "3. Torch.NN documentation: https://pytorch.org/docs/stable/nn.html"
   ]
  }
 ],
 "metadata": {
  "kernelspec": {
   "display_name": "ai-cookbook-DNsoNefS",
   "language": "python",
   "name": "python3"
  },
  "language_info": {
   "codemirror_mode": {
    "name": "ipython",
    "version": 3
   },
   "file_extension": ".py",
   "mimetype": "text/x-python",
   "name": "python",
   "nbconvert_exporter": "python",
   "pygments_lexer": "ipython3",
   "version": "3.9.6"
  }
 },
 "nbformat": 4,
 "nbformat_minor": 2
}
