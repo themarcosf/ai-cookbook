{
 "cells": [
  {
   "cell_type": "markdown",
   "metadata": {},
   "source": [
    "# 1. Starter code\n",
    "\n",
    "## 1.1. Data setup"
   ]
  },
  {
   "cell_type": "code",
   "execution_count": 1,
   "metadata": {},
   "outputs": [],
   "source": [
    "import torch\n",
    "import torch.nn.functional as F\n",
    "import matplotlib.pyplot as plt\n",
    "%matplotlib inline"
   ]
  },
  {
   "cell_type": "code",
   "execution_count": 2,
   "metadata": {},
   "outputs": [
    {
     "data": {
      "text/plain": [
       "['emma', 'olivia', 'ava', 'isabella', 'sophia']"
      ]
     },
     "execution_count": 2,
     "metadata": {},
     "output_type": "execute_result"
    }
   ],
   "source": [
    "import json\n",
    "\n",
    "names = json.loads(open(\"../data/names.txt\", \"r\").read())\n",
    "names = names[\"payload\"][\"blob\"][\"rawLines\"]\n",
    "names[:5]"
   ]
  },
  {
   "cell_type": "code",
   "execution_count": 3,
   "metadata": {},
   "outputs": [
    {
     "name": "stdout",
     "output_type": "stream",
     "text": [
      "Length of dataset:  32033\n"
     ]
    }
   ],
   "source": [
    "print(\"Length of dataset: \", len(names))"
   ]
  },
  {
   "cell_type": "code",
   "execution_count": 4,
   "metadata": {},
   "outputs": [
    {
     "name": "stdout",
     "output_type": "stream",
     "text": [
      "chtoi:  {'a': 1, 'b': 2, 'c': 3, 'd': 4, 'e': 5, 'f': 6, 'g': 7, 'h': 8, 'i': 9, 'j': 10, 'k': 11, 'l': 12, 'm': 13, 'n': 14, 'o': 15, 'p': 16, 'q': 17, 'r': 18, 's': 19, 't': 20, 'u': 21, 'v': 22, 'w': 23, 'x': 24, 'y': 25, 'z': 26, '.': 0}\n",
      "itoch:  {1: 'a', 2: 'b', 3: 'c', 4: 'd', 5: 'e', 6: 'f', 7: 'g', 8: 'h', 9: 'i', 10: 'j', 11: 'k', 12: 'l', 13: 'm', 14: 'n', 15: 'o', 16: 'p', 17: 'q', 18: 'r', 19: 's', 20: 't', 21: 'u', 22: 'v', 23: 'w', 24: 'x', 25: 'y', 26: 'z', 0: '.'}\n",
      "vocab_size:  27\n"
     ]
    }
   ],
   "source": [
    "# build the vocabulary of characters and mappings to/from integers\n",
    "chars = sorted(list(set(\"\".join(names))))\n",
    "chtoi = {ch:i+1 for i, ch in enumerate(chars)}\n",
    "chtoi[\".\"] = 0\n",
    "itoch = {i:ch for ch, i in chtoi.items()}\n",
    "vocab_size = len(chtoi)\n",
    "print(\"chtoi: \", chtoi)\n",
    "print(\"itoch: \", itoch)\n",
    "print(\"vocab_size: \", vocab_size)"
   ]
  },
  {
   "cell_type": "code",
   "execution_count": 5,
   "metadata": {},
   "outputs": [
    {
     "name": "stdout",
     "output_type": "stream",
     "text": [
      "Xtr.shape: torch.Size([182389, 3]), ytr.shape: torch.Size([182389])\n",
      "Xval.shape: torch.Size([22900, 3]), yval.shape: torch.Size([22900])\n",
      "Xte.shape: torch.Size([22857, 3]), yte.shape: torch.Size([22857])\n"
     ]
    }
   ],
   "source": [
    "import random\n",
    "\n",
    "def build_dataset(data, mode=\"tr\", context_len=3):\n",
    "  \"\"\"\n",
    "  Builds the dataset from the given list of words.\n",
    "  \n",
    "  Args:\n",
    "    data (list): list of words to use\n",
    "    mode (str): mode of the dataset (default: \"tr\" for training)\n",
    "    context_len (int): length of the context window (default: 3)\n",
    "  \"\"\"\n",
    "  \n",
    "  X, y = [], []\n",
    "  \n",
    "  for word in data:\n",
    "    context = [0] * context_len\n",
    "    for ch in word + \".\":\n",
    "      ix = chtoi[ch]\n",
    "      X.append(context)\n",
    "      y.append(ix)\n",
    "      context = context[1:] + [ix]\n",
    "  \n",
    "  X = torch.tensor(X)\n",
    "  y = torch.tensor(y)\n",
    "  \n",
    "  print(f\"X{mode}.shape: {X.shape}, y{mode}.shape: {y.shape}\")\n",
    "  return X, y\n",
    "\n",
    "\n",
    "random.shuffle(names)\n",
    "n1 = int(0.8 * len(names))\n",
    "n2 = int(0.9 * len(names))\n",
    "\n",
    "Xtr, ytr = build_dataset(names[:n1])\n",
    "Xval, yval = build_dataset(names[n1:n2], mode=\"val\")\n",
    "Xte, yte = build_dataset(names[n2:], mode=\"te\")"
   ]
  },
  {
   "cell_type": "code",
   "execution_count": 6,
   "metadata": {},
   "outputs": [
    {
     "name": "stdout",
     "output_type": "stream",
     "text": [
      "... > x\n",
      "..x > z\n",
      ".xz > a\n",
      "xza > y\n",
      "zay > v\n"
     ]
    }
   ],
   "source": [
    "for X, y in zip(Xtr[:5], ytr[:5]):\n",
    "  print(\"\".join(itoch[ix.item()] for ix in X), \">\", itoch[y.item()])"
   ]
  },
  {
   "cell_type": "markdown",
   "metadata": {},
   "source": [
    "## 1.2. Neural-layer classes definition\n",
    "\n",
    "This segment reimplements the neural-layer classes from the previous notebooks and defines an API quite similar to PyTorch's."
   ]
  },
  {
   "cell_type": "code",
   "execution_count": 7,
   "metadata": {},
   "outputs": [],
   "source": [
    "import math\n",
    "\n",
    "class Linear:\n",
    "  def __init__(self, fan_in, fan_out, kaiming=True, scaling=False, bias=True):\n",
    "    self.gain = 5.0 / 3.0\n",
    "    self.weight = torch.randn(fan_in, fan_out) / math.sqrt(fan_in)\n",
    "    self.weight = self.weight * self.gain if kaiming else self.weight\n",
    "    self.weight = self.weight * 0.1 if scaling else self.weight\n",
    "    self.bias = torch.zeros(fan_out) if bias else None\n",
    "\n",
    "  def __call__(self, x):\n",
    "    self.out = x @ self.weight\n",
    "    self.out = self.out + self.bias if self.bias is not None else self.out\n",
    "    return self.out\n",
    "\n",
    "  def params(self):\n",
    "    return [self.weight, self.bias] if self.bias is not None else [self.weight]\n",
    "  \n",
    "class BatchNorm:\n",
    "  def __init__(self, dim, eps=1e-5, momentum=0.01):\n",
    "    self.eps = eps\n",
    "    self.momentum = momentum\n",
    "    self.training = True\n",
    "    self.gamma = torch.ones((1, dim))\n",
    "    self.beta = torch.zeros((1, dim))\n",
    "\n",
    "    # running statistics buffers\n",
    "    self.running_mean = torch.zeros((1, dim))\n",
    "    self.running_var = torch.ones((1, dim))\n",
    "\n",
    "  def __call__(self, x):\n",
    "    # forward pass\n",
    "    if self.training:\n",
    "      xmean = x.mean(0, keepdim=True)                  # batch mean\n",
    "      xvar = x.var(0, keepdim=True)                    # batch variance\n",
    "    else:\n",
    "      xmean = self.running_mean\n",
    "      xvar = self.running_var\n",
    "    \n",
    "    x_hat = (x - xmean) / torch.sqrt(xvar + self.eps)  # normalize\n",
    "    self.out = self.gamma * x_hat + self.beta          # scale and shift\n",
    "\n",
    "    # update buffers\n",
    "    if self.training:\n",
    "      with torch.no_grad():\n",
    "        self.running_mean = (1 - self.momentum) * self.running_mean + self.momentum * xmean\n",
    "        self.running_var = (1 - self.momentum) * self.running_var + self.momentum * xvar\n",
    "\n",
    "    return self.out\n",
    "\n",
    "  def params(self):\n",
    "    return [self.gamma, self.beta]\n",
    "  \n",
    "class Tanh:\n",
    "  def __call__(self, x):\n",
    "    self.out = torch.tanh(x)\n",
    "    return self.out\n",
    "\n",
    "  def params(self):\n",
    "    return []\n",
    "  \n",
    "class Embedding:\n",
    "  def __init__(self, vocab_size, emb_size):\n",
    "    self.weight = torch.randn(vocab_size, emb_size) / math.sqrt(emb_size)\n",
    "\n",
    "  def __call__(self, x):\n",
    "    self.out = self.weight[x]\n",
    "    return self.out\n",
    "\n",
    "  def params(self):\n",
    "    return [self.weight]\n",
    "  \n",
    "class Flatten:\n",
    "  def __call__(self, x):\n",
    "    self.out = x.view(x.shape[0], -1)\n",
    "    return self.out\n",
    "\n",
    "  def params(self):\n",
    "    return []\n",
    "  \n",
    "class Sequential:\n",
    "  def __init__(self, name, layers):\n",
    "    self.name = name\n",
    "    self.layers = layers\n",
    "\n",
    "  def __repr__(self):\n",
    "    return self.name\n",
    "    \n",
    "  def __call__(self, x):\n",
    "    for layer in self.layers:\n",
    "      x = layer(x)\n",
    "    self.out = x\n",
    "    return self.out\n",
    "\n",
    "  def params(self):\n",
    "    return [p for layer in self.layers for p in layer.params()]"
   ]
  },
  {
   "cell_type": "markdown",
   "metadata": {},
   "source": [
    "## 1.3. Neural network initialization"
   ]
  },
  {
   "cell_type": "code",
   "execution_count": 8,
   "metadata": {},
   "outputs": [],
   "source": [
    "n_embd = 10\n",
    "n_hidden = 200\n",
    "context_len = 3\n",
    "\n",
    "base_model = Sequential(\"base-model\", [\n",
    "  Embedding(vocab_size, n_embd),\n",
    "  Flatten(), Linear(n_embd * context_len, n_hidden, bias=False), BatchNorm(n_hidden), Tanh(),\n",
    "  Linear(n_hidden, vocab_size, scaling=True)\n",
    "])"
   ]
  },
  {
   "cell_type": "code",
   "execution_count": 9,
   "metadata": {},
   "outputs": [
    {
     "name": "stdout",
     "output_type": "stream",
     "text": [
      "Number of parameters:  12097\n"
     ]
    }
   ],
   "source": [
    "print(\"Number of parameters: \", sum(p.nelement() for p in base_model.params()))\n",
    "for p in base_model.params():\n",
    "  p.requires_grad = True"
   ]
  },
  {
   "cell_type": "markdown",
   "metadata": {},
   "source": [
    "## 1.4. Optimization step"
   ]
  },
  {
   "cell_type": "code",
   "execution_count": 10,
   "metadata": {},
   "outputs": [
    {
     "name": "stdout",
     "output_type": "stream",
     "text": [
      "      1/ 200000: 3.3048\n",
      "  25000/ 200000: 1.8981\n",
      "  50000/ 200000: 2.5494\n",
      "  75000/ 200000: 1.9345\n",
      " 100000/ 200000: 1.9006\n",
      " 125000/ 200000: 2.4719\n",
      " 150000/ 200000: 2.3633\n",
      " 175000/ 200000: 2.1772\n",
      " 200000/ 200000: 2.1799\n"
     ]
    }
   ],
   "source": [
    "max_steps = 200_000\n",
    "batch_size = 32\n",
    "lossi = []\n",
    "\n",
    "for step in range(max_steps):\n",
    "  # minibatch construct\n",
    "  ix = torch.randint(0, Xtr.shape[0], (batch_size,))\n",
    "  Xb, yb = Xtr[ix], ytr[ix]\n",
    "\n",
    "  # forward pass\n",
    "  logits = base_model(Xb)\n",
    "  loss = F.cross_entropy(logits, yb)\n",
    "\n",
    "  # backward pass\n",
    "  for p in base_model.params():\n",
    "    p.grad = None\n",
    "  loss.backward()\n",
    "\n",
    "  # update params\n",
    "  lr = 0.1 if step < 100_000 else 0.01\n",
    "  for p in base_model.params():\n",
    "    p.data += -lr * p.grad\n",
    "\n",
    "  # track stats\n",
    "  if step == 0 or (step+1) % 25_000 == 0:\n",
    "    print(f\"{(step+1):7d}/{max_steps:7d}: {loss.item():.4f}\")\n",
    "  lossi.append(loss.log10().item())"
   ]
  },
  {
   "cell_type": "code",
   "execution_count": 11,
   "metadata": {},
   "outputs": [
    {
     "data": {
      "text/plain": [
       "Text(105, 0.345, 'Learning rate decay')"
      ]
     },
     "execution_count": 11,
     "metadata": {},
     "output_type": "execute_result"
    },
    {
     "data": {
      "image/png": "[encoded data removed]",
      "text/plain": [
       "<Figure size 640x480 with 1 Axes>"
      ]
     },
     "metadata": {},
     "output_type": "display_data"
    }
   ],
   "source": [
    "plt.plot(torch.tensor(lossi).view(-1, 1000).mean(1))\n",
    "plt.title(\"Loss decay during training\")\n",
    "plt.xlabel(\"Number of epochs (thousands)\")\n",
    "plt.ylabel(\"Log of loss\")\n",
    "\n",
    "plt.annotate('Learning rate decay',\n",
    "             xy=(102, 0.335),\n",
    "             xytext=(105, 0.345),\n",
    "             arrowprops=dict(facecolor='black', shrink=0.02)) "
   ]
  },
  {
   "cell_type": "markdown",
   "metadata": {},
   "source": [
    "## 1.5. Evaluation step"
   ]
  },
  {
   "cell_type": "code",
   "execution_count": 12,
   "metadata": {},
   "outputs": [
    {
     "name": "stdout",
     "output_type": "stream",
     "text": [
      "{base-model: {'context_len': 3, 'hidden_neurons': 200, 'params': 12097, 'tr_loss': 2.065, 'val_loss': 2.1161, 'te_loss': 2.1192}}\n"
     ]
    }
   ],
   "source": [
    "performance_log = {}\n",
    "\n",
    "for layer in base_model.layers:\n",
    "  layer.training = False\n",
    "\n",
    "@torch.no_grad()\n",
    "def split_loss(model):\n",
    "  tr_logits = model(Xtr)\n",
    "  val_logits = model(Xval)\n",
    "  te_logits = model(Xte)\n",
    "\n",
    "  performance_log[model] = {\n",
    "    \"context_len\": context_len,\n",
    "    \"hidden_neurons\": n_hidden,\n",
    "    \"params\": sum(p.nelement() for p in model.params()),\n",
    "    \"tr_loss\": round(F.cross_entropy(tr_logits, ytr).item(), 4),\n",
    "    \"val_loss\": round(F.cross_entropy(val_logits, yval).item(), 4),\n",
    "    \"te_loss\": round(F.cross_entropy(te_logits, yte).item(), 4),\n",
    "  }\n",
    "\n",
    "  print(performance_log)\n",
    "  \n",
    "split_loss(base_model)"
   ]
  },
  {
   "cell_type": "markdown",
   "metadata": {},
   "source": [
    "## 1.6. Sampling from the model"
   ]
  },
  {
   "cell_type": "code",
   "execution_count": 13,
   "metadata": {},
   "outputs": [
    {
     "name": "stdout",
     "output_type": "stream",
     "text": [
      "trian.\n",
      "humarthia.\n",
      "jaryanne.\n",
      "arik.\n",
      "talila.\n",
      "lakla.\n",
      "yverenia.\n",
      "aala.\n",
      "tylee.\n",
      "aadiybe.\n",
      "asbe.\n",
      "tay.\n",
      "zaarshem.\n",
      "harlai.\n",
      "larena.\n",
      "katimarbedjah.\n",
      "michsra.\n",
      "oocyce.\n",
      "macariah.\n",
      "aubrabelle.\n"
     ]
    }
   ],
   "source": [
    "for _ in range(20):\n",
    "  out = []\n",
    "  context = [0] * context_len\n",
    "  while True:\n",
    "    # forward pass the neural net\n",
    "    logits = base_model(torch.tensor(context).unsqueeze(0))\n",
    "    probs = F.softmax(logits, dim=1)\n",
    "\n",
    "    # sample from the distribution\n",
    "    ix = torch.multinomial(probs, num_samples=1).item()\n",
    "\n",
    "    # shift context window and track samples\n",
    "    context = context[1:] + [ix]\n",
    "    out.append(ix)\n",
    "    if ix == 0:\n",
    "      break\n",
    "\n",
    "  print(\"\".join(itoch[i] for i in out))\n",
    "    "
   ]
  },
  {
   "cell_type": "markdown",
   "metadata": {},
   "source": [
    "## 2. Lazily scaling up context length"
   ]
  },
  {
   "cell_type": "code",
   "execution_count": 14,
   "metadata": {},
   "outputs": [
    {
     "name": "stdout",
     "output_type": "stream",
     "text": [
      "Xtr.shape: torch.Size([182389, 8]), ytr.shape: torch.Size([182389])\n",
      "Xval.shape: torch.Size([22900, 8]), yval.shape: torch.Size([22900])\n",
      "Xte.shape: torch.Size([22857, 8]), yte.shape: torch.Size([22857])\n"
     ]
    }
   ],
   "source": [
    "Xtr, ytr = build_dataset(names[:n1], context_len=8)\n",
    "Xval, yval = build_dataset(names[n1:n2], mode=\"val\", context_len=8)\n",
    "Xte, yte = build_dataset(names[n2:], mode=\"te\", context_len=8)"
   ]
  },
  {
   "cell_type": "code",
   "execution_count": 15,
   "metadata": {},
   "outputs": [
    {
     "name": "stdout",
     "output_type": "stream",
     "text": [
      "........ > x\n",
      ".......x > z\n",
      "......xz > a\n",
      ".....xza > y\n",
      "....xzay > v\n"
     ]
    }
   ],
   "source": [
    "for X, y in zip(Xtr[:5], ytr[:5]):\n",
    "  print(\"\".join(itoch[ix.item()] for ix in X), \">\", itoch[y.item()])"
   ]
  },
  {
   "cell_type": "code",
   "execution_count": 16,
   "metadata": {},
   "outputs": [],
   "source": [
    "n_embd = 10\n",
    "n_hidden = 200\n",
    "context_len = 8\n",
    "\n",
    "scaled_model = Sequential(\"scaled-model\", [\n",
    "  Embedding(vocab_size, n_embd),\n",
    "  Flatten(), Linear(n_embd * context_len, n_hidden, bias=False), BatchNorm(n_hidden), Tanh(),\n",
    "  Linear(n_hidden, vocab_size, scaling=True)\n",
    "])"
   ]
  },
  {
   "cell_type": "code",
   "execution_count": 17,
   "metadata": {},
   "outputs": [
    {
     "name": "stdout",
     "output_type": "stream",
     "text": [
      "Number of parameters:  22097\n"
     ]
    }
   ],
   "source": [
    "print(\"Number of parameters: \", sum(p.nelement() for p in scaled_model.params()))\n",
    "for p in scaled_model.params():\n",
    "  p.requires_grad = True"
   ]
  },
  {
   "cell_type": "code",
   "execution_count": 18,
   "metadata": {},
   "outputs": [
    {
     "name": "stdout",
     "output_type": "stream",
     "text": [
      "      1/ 200000: 3.3107\n",
      "  25000/ 200000: 2.1694\n",
      "  50000/ 200000: 2.2055\n",
      "  75000/ 200000: 2.0761\n",
      " 100000/ 200000: 2.3932\n",
      " 125000/ 200000: 1.8724\n",
      " 150000/ 200000: 1.8073\n",
      " 175000/ 200000: 1.7807\n",
      " 200000/ 200000: 2.0253\n"
     ]
    }
   ],
   "source": [
    "max_steps = 200_000\n",
    "batch_size = 32\n",
    "lossi = []\n",
    "\n",
    "for step in range(max_steps):\n",
    "  # minibatch construct\n",
    "  ix = torch.randint(0, Xtr.shape[0], (batch_size,))\n",
    "  Xb, yb = Xtr[ix], ytr[ix]\n",
    "\n",
    "  # forward pass\n",
    "  logits = scaled_model(Xb)\n",
    "  loss = F.cross_entropy(logits, yb)\n",
    "\n",
    "  # backward pass\n",
    "  for p in scaled_model.params():\n",
    "    p.grad = None\n",
    "  loss.backward()\n",
    "\n",
    "  # update params\n",
    "  lr = 0.1 if step < 100_000 else 0.01\n",
    "  for p in scaled_model.params():\n",
    "    p.data += -lr * p.grad\n",
    "\n",
    "  # track stats\n",
    "  if step == 0 or (step+1) % 25_000 == 0:\n",
    "    print(f\"{(step+1):7d}/{max_steps:7d}: {loss.item():.4f}\")\n",
    "  lossi.append(loss.log10().item())"
   ]
  },
  {
   "cell_type": "code",
   "execution_count": 19,
   "metadata": {},
   "outputs": [
    {
     "name": "stdout",
     "output_type": "stream",
     "text": [
      "{base-model: {'context_len': 3, 'hidden_neurons': 200, 'params': 12097, 'tr_loss': 2.065, 'val_loss': 2.1161, 'te_loss': 2.1192}, scaled-model: {'context_len': 8, 'hidden_neurons': 200, 'params': 22097, 'tr_loss': 1.9381, 'val_loss': 2.0398, 'te_loss': 2.0356}}\n"
     ]
    }
   ],
   "source": [
    "for layer in scaled_model.layers:\n",
    "  layer.training = False\n",
    "  \n",
    "split_loss(scaled_model)"
   ]
  },
  {
   "cell_type": "code",
   "execution_count": 20,
   "metadata": {},
   "outputs": [
    {
     "name": "stdout",
     "output_type": "stream",
     "text": [
      "andrico.\n",
      "fyethan.\n",
      "copy.\n",
      "josaph.\n",
      "aleina.\n",
      "laniyah.\n",
      "kyli.\n",
      "ciana.\n",
      "masilynn.\n",
      "yanita.\n",
      "kailyn.\n",
      "foxebeld.\n",
      "adesseben.\n",
      "natia.\n",
      "kelsh.\n",
      "jailani.\n",
      "abal.\n",
      "karlova.\n",
      "jarelyn.\n",
      "isah.\n"
     ]
    }
   ],
   "source": [
    "for _ in range(20):\n",
    "  out = []\n",
    "  context = [0] * context_len\n",
    "  while True:\n",
    "    # forward pass the neural net\n",
    "    logits = scaled_model(torch.tensor(context).unsqueeze(0))\n",
    "    probs = F.softmax(logits, dim=1)\n",
    "\n",
    "    # sample from the distribution\n",
    "    ix = torch.multinomial(probs, num_samples=1).item()\n",
    "\n",
    "    # shift context window and track samples\n",
    "    context = context[1:] + [ix]\n",
    "    out.append(ix)\n",
    "    if ix == 0:\n",
    "      break\n",
    "\n",
    "  print(\"\".join(itoch[i] for i in out))"
   ]
  },
  {
   "cell_type": "markdown",
   "metadata": {},
   "source": [
    "## 3. Implementing WaveNet\n",
    "\n",
    "The architecture currently being used was proposed by [Bengio et al. 2003](https://www.jmlr.org/papers/volume3/bengio03a/bengio03a.pdf), in which a given number of characters are fed through a single hidden layer and then the output is used to predict the next character.\n",
    "\n",
    "<img src=\"../assets/neural-prob-LM.jpg\" width=\"400\"/>\n",
    "\n",
    "Even though additional layers could be introduced, making the neural network deeper, the model would still be compressing all the information from the input into a single vector, which is then used to predict the next character.\n",
    "\n",
    "**WaveNet**, on the other hand, is a deep generative model that is able to generate the output using a stack of dilated causal convolutions. This means that the output at a given time step is only dependent on the input at previous time steps, and the receptive field of the model grows exponentially with the number of layers.\n",
    "\n",
    "<img src=\"../assets/wavenet.jpg\" width=\"400\"/>\n",
    "\n",
    "### 3.1. Scratch space\n",
    "\n",
    "Understanding the forward pass of the neural networks implemented previously and inspecting the shapes of the tensors being used."
   ]
  },
  {
   "cell_type": "code",
   "execution_count": 35,
   "metadata": {},
   "outputs": [
    {
     "data": {
      "text/plain": [
       "(torch.Size([4, 8]), torch.Size([4]))"
      ]
     },
     "execution_count": 35,
     "metadata": {},
     "output_type": "execute_result"
    }
   ],
   "source": [
    "# construct a batch of size 4\n",
    "ix = torch.randint(0, Xtr.shape[0], (4,))\n",
    "Xb, yb = Xtr[ix], ytr[ix]\n",
    "Xb.shape, yb.shape"
   ]
  },
  {
   "cell_type": "code",
   "execution_count": 34,
   "metadata": {},
   "outputs": [
    {
     "data": {
      "text/plain": [
       "torch.Size([4, 8, 10])"
      ]
     },
     "execution_count": 34,
     "metadata": {},
     "output_type": "execute_result"
    }
   ],
   "source": [
    "# output shape of the first layer of the model (the Embedding layer)\n",
    "scaled_model.layers[0].out.shape"
   ]
  },
  {
   "cell_type": "code",
   "execution_count": 36,
   "metadata": {},
   "outputs": [
    {
     "data": {
      "text/plain": [
       "torch.Size([4, 80])"
      ]
     },
     "execution_count": 36,
     "metadata": {},
     "output_type": "execute_result"
    }
   ],
   "source": [
    "# output shape of the second layer of the model (the Flatten layer)\n",
    "scaled_model.layers[1].out.shape"
   ]
  },
  {
   "cell_type": "code",
   "execution_count": 37,
   "metadata": {},
   "outputs": [
    {
     "data": {
      "text/plain": [
       "torch.Size([4, 200])"
      ]
     },
     "execution_count": 37,
     "metadata": {},
     "output_type": "execute_result"
    }
   ],
   "source": [
    "# output shape of the third layer of the model (the Linear layer)\n",
    "scaled_model.layers[2].out.shape"
   ]
  },
  {
   "cell_type": "code",
   "execution_count": 38,
   "metadata": {},
   "outputs": [
    {
     "data": {
      "text/plain": [
       "torch.Size([4, 200])"
      ]
     },
     "execution_count": 38,
     "metadata": {},
     "output_type": "execute_result"
    }
   ],
   "source": [
    "# inner operation of the third layer of the model (the Linear layer)\n",
    "(torch.randn(4, 80) @ torch.randn(80, 200) + torch.randn(200)).shape"
   ]
  },
  {
   "cell_type": "code",
   "execution_count": 39,
   "metadata": {},
   "outputs": [
    {
     "data": {
      "text/plain": [
       "torch.Size([4, 5, 200])"
      ]
     },
     "execution_count": 39,
     "metadata": {},
     "output_type": "execute_result"
    }
   ],
   "source": [
    "# IMPORTANT: inner operation above also works with input high dimensional data (e.g. 3D)\n",
    "(torch.randn(4, 5, 80) @ torch.randn(80, 200) + torch.randn(200)).shape"
   ]
  },
  {
   "cell_type": "code",
   "execution_count": 40,
   "metadata": {},
   "outputs": [
    {
     "data": {
      "text/plain": [
       "torch.Size([4, 4, 200])"
      ]
     },
     "execution_count": 40,
     "metadata": {},
     "output_type": "execute_result"
    }
   ],
   "source": [
    "# in the previous models, the input characters were flattened into a single dimension\n",
    "# now, we will introduce a batch dimension to fuse the characters into two-element pairs\n",
    "# eg. (1, 2) (3, 4) (5, 6) (7, 8), embedded into batch_size x 2D_pairs x n_embd tensor\n",
    "(torch.randn(4, 4, 20) @ torch.randn(20, 200) + torch.randn(200)).shape"
   ]
  },
  {
   "cell_type": "code",
   "execution_count": 47,
   "metadata": {},
   "outputs": [
    {
     "data": {
      "text/plain": [
       "torch.Size([4, 4, 20])"
      ]
     },
     "execution_count": 47,
     "metadata": {},
     "output_type": "execute_result"
    }
   ],
   "source": [
    "# goal: reshape output of Embedding layer into a tensor of shape (4, 4, 20)\n",
    "e = torch.randn(4, 8, 10)     # current architecture: (batch_size, context_len, n_embd)\n",
    "exp_cat = torch.cat([e[:, ::2, :], e[:, 1::2, :]], dim=2)\n",
    "exp_cat.shape"
   ]
  },
  {
   "cell_type": "code",
   "execution_count": 51,
   "metadata": {},
   "outputs": [
    {
     "data": {
      "text/plain": [
       "tensor(True)"
      ]
     },
     "execution_count": 51,
     "metadata": {},
     "output_type": "execute_result"
    }
   ],
   "source": [
    "(e.view(4, -1, 20) == exp_cat).all()"
   ]
  },
  {
   "cell_type": "markdown",
   "metadata": {},
   "source": [
    "### 3.2. Updating the Flatten layer to include batch dimension"
   ]
  },
  {
   "cell_type": "code",
   "execution_count": 53,
   "metadata": {},
   "outputs": [],
   "source": [
    "class FlattenV2(Flatten):\n",
    "  def __init__(self, n_elements):\n",
    "    self.n_elements = n_elements\n",
    "\n",
    "  def __call__(self, x):\n",
    "    B, T, C = x.shape\n",
    "    x = x.view(B, T // self.n_elements, C * self.n_elements)\n",
    "    if x.shape[1] == 1:\n",
    "      x = x.squeeze(1)\n",
    "    self.out = x\n",
    "    return self.out"
   ]
  },
  {
   "cell_type": "code",
   "execution_count": 67,
   "metadata": {},
   "outputs": [],
   "source": [
    "n_embd = 10\n",
    "n_hidden = 68     # adjust hidden layer so total number of parameters is the same\n",
    "\n",
    "wavenet_model_v1 = Sequential(\"wavenet-model-v1\", [\n",
    "  Embedding(vocab_size, n_embd),\n",
    "  FlattenV2(2), Linear(n_embd * 2, n_hidden, bias=False), BatchNorm(n_hidden), Tanh(),\n",
    "  FlattenV2(2), Linear(n_hidden * 2, n_hidden, bias=False), BatchNorm(n_hidden), Tanh(),\n",
    "  FlattenV2(2), Linear(n_hidden * 2, n_hidden, bias=False), BatchNorm(n_hidden), Tanh(),\n",
    "  Linear(n_hidden, vocab_size, scaling=True)\n",
    "])"
   ]
  },
  {
   "cell_type": "code",
   "execution_count": 68,
   "metadata": {},
   "outputs": [
    {
     "name": "stdout",
     "output_type": "stream",
     "text": [
      "Number of parameters:  22397\n"
     ]
    }
   ],
   "source": [
    "print(\"Number of parameters: \", sum(p.nelement() for p in wavenet_model_v1.params()))\n",
    "for p in wavenet_model_v1.params():\n",
    "  p.requires_grad = True"
   ]
  },
  {
   "cell_type": "code",
   "execution_count": 69,
   "metadata": {},
   "outputs": [
    {
     "name": "stdout",
     "output_type": "stream",
     "text": [
      "Embedding : (4, 8, 10)\n",
      "FlattenV2 : (4, 4, 20)\n",
      "Linear : (4, 4, 68)\n",
      "BatchNorm : (4, 4, 68)\n",
      "Tanh : (4, 4, 68)\n",
      "FlattenV2 : (4, 2, 136)\n",
      "Linear : (4, 2, 68)\n",
      "BatchNorm : (4, 2, 68)\n",
      "Tanh : (4, 2, 68)\n",
      "FlattenV2 : (4, 136)\n",
      "Linear : (4, 68)\n",
      "BatchNorm : (4, 68)\n",
      "Tanh : (4, 68)\n",
      "Linear : (4, 27)\n"
     ]
    }
   ],
   "source": [
    "logits = wavenet_model_v1(Xb)\n",
    "\n",
    "for layer in wavenet_model_v1.layers:\n",
    "  print(layer.__class__.__name__, \":\", tuple(layer.out.shape))"
   ]
  },
  {
   "cell_type": "markdown",
   "metadata": {},
   "source": [
    "### 3.3 Training the WaveNet: first pass"
   ]
  },
  {
   "cell_type": "code",
   "execution_count": 71,
   "metadata": {},
   "outputs": [
    {
     "name": "stdout",
     "output_type": "stream",
     "text": [
      "      1/ 200000: 3.3361\n",
      "  25000/ 200000: 2.3509\n",
      "  50000/ 200000: 1.7069\n",
      "  75000/ 200000: 2.3238\n",
      " 100000/ 200000: 1.8814\n",
      " 125000/ 200000: 1.9462\n",
      " 150000/ 200000: 1.9071\n",
      " 175000/ 200000: 1.4376\n",
      " 200000/ 200000: 1.9782\n"
     ]
    }
   ],
   "source": [
    "max_steps = 200_000\n",
    "batch_size = 32\n",
    "lossi = []\n",
    "\n",
    "for step in range(max_steps):\n",
    "  # minibatch construct\n",
    "  ix = torch.randint(0, Xtr.shape[0], (batch_size,))\n",
    "  Xb, yb = Xtr[ix], ytr[ix]\n",
    "\n",
    "  # forward pass\n",
    "  logits = wavenet_model_v1(Xb)\n",
    "  loss = F.cross_entropy(logits, yb)\n",
    "\n",
    "  # backward pass\n",
    "  for p in wavenet_model_v1.params():\n",
    "    p.grad = None\n",
    "  loss.backward()\n",
    "\n",
    "  # update params\n",
    "  lr = 0.1 if step < 100_000 else 0.01\n",
    "  for p in wavenet_model_v1.params():\n",
    "    p.data += -lr * p.grad\n",
    "\n",
    "  # track stats\n",
    "  if step == 0 or (step+1) % 25_000 == 0:\n",
    "    print(f\"{(step+1):7d}/{max_steps:7d}: {loss.item():.4f}\")\n",
    "  lossi.append(loss.log10().item())"
   ]
  },
  {
   "cell_type": "code",
   "execution_count": 72,
   "metadata": {},
   "outputs": [
    {
     "name": "stdout",
     "output_type": "stream",
     "text": [
      "{base-model: {'context_len': 3, 'hidden_neurons': 200, 'params': 12097, 'tr_loss': 2.065, 'val_loss': 2.1161, 'te_loss': 2.1192}, scaled-model: {'context_len': 8, 'hidden_neurons': 200, 'params': 22097, 'tr_loss': 1.9381, 'val_loss': 2.0398, 'te_loss': 2.0356}, wavenet-model-v1: {'context_len': 8, 'hidden_neurons': 68, 'params': 22397, 'tr_loss': 1.9557, 'val_loss': 2.0451, 'te_loss': 2.0404}}\n"
     ]
    }
   ],
   "source": [
    "for layer in wavenet_model_v1.layers:\n",
    "  layer.training = False\n",
    "  \n",
    "split_loss(wavenet_model_v1)"
   ]
  },
  {
   "cell_type": "code",
   "execution_count": 73,
   "metadata": {},
   "outputs": [
    {
     "name": "stdout",
     "output_type": "stream",
     "text": [
      "diyza.\n",
      "myhaiqun.\n",
      "shamorolew.\n",
      "mairi.\n",
      "rayder.\n",
      "barealch.\n",
      "naleigh.\n",
      "josiel.\n",
      "hania.\n",
      "jose.\n",
      "aaxell.\n",
      "tian.\n",
      "zlora.\n",
      "idai.\n",
      "capia.\n",
      "chessa.\n",
      "loslie.\n",
      "sandon.\n",
      "inalyn.\n",
      "ayes.\n"
     ]
    }
   ],
   "source": [
    "for _ in range(20):\n",
    "  out = []\n",
    "  context = [0] * context_len\n",
    "  while True:\n",
    "    # forward pass the neural net\n",
    "    logits = wavenet_model_v1(torch.tensor(context).unsqueeze(0))\n",
    "    probs = F.softmax(logits, dim=1)\n",
    "\n",
    "    # sample from the distribution\n",
    "    ix = torch.multinomial(probs, num_samples=1).item()\n",
    "\n",
    "    # shift context window and track samples\n",
    "    context = context[1:] + [ix]\n",
    "    out.append(ix)\n",
    "    if ix == 0:\n",
    "      break\n",
    "\n",
    "  print(\"\".join(itoch[i] for i in out))"
   ]
  },
  {
   "cell_type": "markdown",
   "metadata": {},
   "source": [
    "# Sources\n",
    "\n",
    "1. [Ground truth - Building makemore Part 5: Building a wavenet, By Andrej Karpathy](https://www.youtube.com/watch?v=t3YJ5hKiMQ0)\n",
    "2. van den Oord, Aäron et al. WaveNet: A generative model for raw audio, 2016. URL: https://arxiv.org/abs/1609.03499\n",
    "3. Torch.NN documentation: https://pytorch.org/docs/stable/nn.html"
   ]
  }
 ],
 "metadata": {
  "kernelspec": {
   "display_name": "ai-cookbook-DNsoNefS",
   "language": "python",
   "name": "python3"
  },
  "language_info": {
   "codemirror_mode": {
    "name": "ipython",
    "version": 3
   },
   "file_extension": ".py",
   "mimetype": "text/x-python",
   "name": "python",
   "nbconvert_exporter": "python",
   "pygments_lexer": "ipython3",
   "version": "3.9.6"
  }
 },
 "nbformat": 4,
 "nbformat_minor": 2
}
