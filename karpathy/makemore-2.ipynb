{
 "cells": [
  {
   "cell_type": "markdown",
   "metadata": {},
   "source": [
    "## PART II: Multi Layer Perceptron (MLP)\n",
    "\n",
    "> This implementation is based along the lines of [Bengio et al. 2003](https://www.jmlr.org/papers/volume3/bengio03a/bengio03a.pdf)\n",
    "\n",
    "<img src=\"../assets/neural-prob-LM.jpg\" width=\"400\"/>"
   ]
  },
  {
   "cell_type": "markdown",
   "metadata": {},
   "source": [
    "### Reading and exploring the dataset"
   ]
  },
  {
   "cell_type": "code",
   "execution_count": 1,
   "metadata": {},
   "outputs": [
    {
     "data": {
      "text/plain": [
       "['emma', 'olivia', 'ava', 'isabella', 'sophia']"
      ]
     },
     "execution_count": 1,
     "metadata": {},
     "output_type": "execute_result"
    }
   ],
   "source": [
    "import json\n",
    "\n",
    "names = json.loads(open(\"names.txt\", \"r\").read())\n",
    "names = names[\"payload\"][\"blob\"][\"rawLines\"]\n",
    "names[:5]"
   ]
  },
  {
   "cell_type": "code",
   "execution_count": 2,
   "metadata": {},
   "outputs": [
    {
     "data": {
      "text/plain": [
       "32033"
      ]
     },
     "execution_count": 2,
     "metadata": {},
     "output_type": "execute_result"
    }
   ],
   "source": [
    "len(names)"
   ]
  },
  {
   "cell_type": "code",
   "execution_count": 3,
   "metadata": {},
   "outputs": [],
   "source": [
    "# build the vocabulary of characters and mappings to/from integers\n",
    "chars = sorted(list(set(\"\".join(names))))\n",
    "chtoi = {ch:i+1 for i, ch in enumerate(chars)}\n",
    "chtoi[\".\"] = 0\n",
    "itoch = {i:ch for ch, i in chtoi.items()}"
   ]
  },
  {
   "cell_type": "markdown",
   "metadata": {},
   "source": [
    "### Building the training dataset"
   ]
  },
  {
   "cell_type": "code",
   "execution_count": 4,
   "metadata": {},
   "outputs": [],
   "source": [
    "import torch\n",
    "\n",
    "def build_dataset(words, context_len=3):\n",
    "    \"\"\"\n",
    "    Builds the dataset from the given list of words.\n",
    "\n",
    "    Args:\n",
    "        words (list): list of words to use\n",
    "        context_len (int): length of the context window (default: 3)\n",
    "    \"\"\"\n",
    "\n",
    "    X, y = [], []\n",
    "\n",
    "    for name in words:\n",
    "        context = [0] * context_len\n",
    "        for ch in name + \".\":\n",
    "            ix = chtoi[ch]\n",
    "            X.append(context)\n",
    "            y.append(ix)\n",
    "            context = context[1:] + [ix]\n",
    "    \n",
    "    X = torch.tensor(X)\n",
    "    y = torch.tensor(y)\n",
    "\n",
    "    return X, y"
   ]
  },
  {
   "cell_type": "code",
   "execution_count": 5,
   "metadata": {},
   "outputs": [
    {
     "data": {
      "text/plain": [
       "(torch.Size([32, 3]), torch.int64, torch.Size([32]), torch.int64)"
      ]
     },
     "execution_count": 5,
     "metadata": {},
     "output_type": "execute_result"
    }
   ],
   "source": [
    "X, y = build_dataset(names[:5])\n",
    "X.shape, X.dtype, y.shape, y.dtype"
   ]
  },
  {
   "cell_type": "markdown",
   "metadata": {},
   "source": [
    "### Implementing the embedding lookup table"
   ]
  },
  {
   "cell_type": "code",
   "execution_count": 6,
   "metadata": {},
   "outputs": [
    {
     "data": {
      "text/plain": [
       "(torch.Size([32, 3, 2]),\n",
       " tensor([[-0.0621,  2.2292],\n",
       "         [-0.0621,  2.2292],\n",
       "         [ 0.0447, -0.2113]]))"
      ]
     },
     "execution_count": 6,
     "metadata": {},
     "output_type": "execute_result"
    }
   ],
   "source": [
    "C = torch.randn(27, 2)     # randomly-initialized embedding matrix (27 characters, 2 dimensions)\n",
    "emb = C[X]                 # embeddings for the input sequence\n",
    "emb.shape, emb[1]"
   ]
  },
  {
   "cell_type": "markdown",
   "metadata": {},
   "source": [
    "### Implementing the non-linearity (tanh hidden layer)"
   ]
  },
  {
   "cell_type": "code",
   "execution_count": 7,
   "metadata": {},
   "outputs": [
    {
     "name": "stdout",
     "output_type": "stream",
     "text": [
      "torch.Size([3, 2])\n"
     ]
    },
    {
     "data": {
      "text/plain": [
       "6"
      ]
     },
     "execution_count": 7,
     "metadata": {},
     "output_type": "execute_result"
    }
   ],
   "source": [
    "print(emb.shape[1:])                             # number of inputs: 2-d embeddings * 3 context characters\n",
    "\n",
    "first_element = emb.shape[1:][0]\n",
    "second_element = emb.shape[1:][1]\n",
    "\n",
    "# Multiplying the numbers\n",
    "inputs = first_element * second_element\n",
    "inputs"
   ]
  },
  {
   "cell_type": "code",
   "execution_count": 8,
   "metadata": {},
   "outputs": [
    {
     "data": {
      "text/plain": [
       "(torch.Size([32, 100]),\n",
       " tensor([ 0.9924,  1.0000,  0.4009,  0.9688, -0.2730, -0.9591, -0.9908, -0.9959,\n",
       "         -0.8032,  0.8351, -0.7868, -0.9923, -0.0741, -0.9988,  0.9756,  0.7490,\n",
       "         -0.9193, -0.8485, -0.9341,  0.9945,  0.5644, -0.7946, -0.6432,  0.9265,\n",
       "         -0.8490, -0.7049, -1.0000, -0.9336,  0.9915, -0.9833,  0.9190, -0.4805,\n",
       "          0.9999,  0.8809, -0.9999,  0.9996, -0.9860, -0.0930,  0.8550, -0.8853,\n",
       "         -0.9971,  0.2588,  0.1579,  0.7433, -0.9998,  0.9984,  0.9324,  0.9973,\n",
       "          0.9998, -0.9997,  0.9932,  0.3282,  0.7329,  0.9830,  0.7961, -0.8633,\n",
       "          1.0000, -0.9994, -0.7606,  0.9943,  0.2329,  0.9996, -0.9965, -0.9158,\n",
       "          1.0000, -0.9990, -0.9997, -0.9234,  0.9965,  0.9974, -1.0000,  0.9919,\n",
       "          0.9999,  0.9993,  0.7055, -0.5172,  0.1743,  0.2529,  1.0000,  0.9790,\n",
       "          0.9920,  0.9942,  0.4924, -0.6871,  0.9995,  0.9805,  0.5697,  0.9984,\n",
       "         -0.9849, -1.0000,  0.9923, -0.6180, -1.0000, -0.4167,  0.9958,  0.5861,\n",
       "         -0.9713, -0.9999,  0.9999,  0.6954]))"
      ]
     },
     "execution_count": 8,
     "metadata": {},
     "output_type": "execute_result"
    }
   ],
   "source": [
    "n_neurons = 100                                  # number of neurons in the hidden layer\n",
    "\n",
    "W1 = torch.randn(inputs, n_neurons)              # randomly-initialized hidden layer weights (6 inputs, 100 neurons)\n",
    "b1 = torch.randn(n_neurons)                      # randomly-initialized hidden layer biases (100 neurons)\n",
    "h = torch.tanh(emb.view(-1, inputs) @ W1 + b1)   # hidden layer activations\n",
    "h.shape, h[1]"
   ]
  },
  {
   "cell_type": "markdown",
   "metadata": {},
   "source": [
    "### Implementing the output layer\n",
    "\n",
    "> **About logits exponentiation:** The softmax function is often used in the final layer of a neural network-based classifier and consists of a function that turns a vector of real values into a vector of probabilities that sum to 1.\n",
    "\n",
    "> The exponentiation is applied to ensure that all values become positive, as softmax is sensitive to the scale of the input values. Exponentiation also helps to emphasize the differences between the logits, making it easier to distinguish and highlight the higher-scoring logits. It's important to note that the relative order of the logits remains the same after exponentiation, so the model's ability to discriminate between classes is preserved."
   ]
  },
  {
   "cell_type": "code",
   "execution_count": 9,
   "metadata": {},
   "outputs": [
    {
     "data": {
      "text/plain": [
       "(torch.Size([32, 27]),\n",
       " tensor([  9.5317,   5.1898,  -0.0695,   2.9561, -14.6236,  22.7268,   3.6663,\n",
       "           2.1190,  15.8852,  -6.8138, -11.2776,   4.1125,   4.6623,   0.6967,\n",
       "           6.7944,   1.7034,   8.7961,  -2.3232,  -5.3432,  -5.5482,  -6.8734,\n",
       "          18.5450,  -9.9768, -12.4764,   0.1615,   9.1584,   1.6269]))"
      ]
     },
     "execution_count": 9,
     "metadata": {},
     "output_type": "execute_result"
    }
   ],
   "source": [
    "W2 = torch.randn(100, 27)                     # randomly-initialized output layer weights (100 neurons, 27 outputs)\n",
    "b2 = torch.randn(27)                          # randomly-initialized output layer biases (27 outputs)\n",
    "\n",
    "logits = h @ W2 + b2                          # output layer activations\n",
    "logits.shape, logits[1]"
   ]
  },
  {
   "cell_type": "code",
   "execution_count": 10,
   "metadata": {},
   "outputs": [
    {
     "data": {
      "text/plain": [
       "(torch.Size([32, 27]),\n",
       " tensor(1.0000),\n",
       " tensor([1.8297e-06, 2.3809e-08, 1.2378e-10, 2.5506e-09, 5.9140e-17, 9.8392e-01,\n",
       "         5.1889e-09, 1.1044e-09, 1.0512e-03, 1.4576e-13, 1.6790e-15, 8.1076e-09,\n",
       "         1.4049e-08, 2.6632e-10, 1.1846e-07, 7.2877e-10, 8.7685e-07, 1.2998e-11,\n",
       "         6.3435e-13, 5.1676e-13, 1.3732e-13, 1.5025e-02, 6.1654e-15, 5.0630e-16,\n",
       "         1.5595e-10, 1.2598e-06, 6.7513e-10]))"
      ]
     },
     "execution_count": 10,
     "metadata": {},
     "output_type": "execute_result"
    }
   ],
   "source": [
    "counts = logits.exp()                        # convert activations to counts\n",
    "prob = counts / counts.sum(1, keepdims=True) # softmax\n",
    "prob.shape, prob[1].sum(), prob[1]"
   ]
  },
  {
   "cell_type": "markdown",
   "metadata": {},
   "source": [
    "### Implementing the loss function"
   ]
  },
  {
   "cell_type": "code",
   "execution_count": 11,
   "metadata": {},
   "outputs": [
    {
     "data": {
      "text/plain": [
       "tensor([ 5, 13, 13,  1,  0, 15, 12,  9, 22,  9,  1,  0,  1, 22,  1,  0,  9, 19,\n",
       "         1,  2,  5, 12, 12,  1,  0, 19, 15, 16,  8,  9,  1,  0])"
      ]
     },
     "execution_count": 11,
     "metadata": {},
     "output_type": "execute_result"
    }
   ],
   "source": [
    "y"
   ]
  },
  {
   "cell_type": "code",
   "execution_count": 12,
   "metadata": {},
   "outputs": [
    {
     "data": {
      "text/plain": [
       "tensor(19.2025)"
      ]
     },
     "execution_count": 12,
     "metadata": {},
     "output_type": "execute_result"
    }
   ],
   "source": [
    "loss = -prob[torch.arange(prob.shape[0]), y].log().mean()\n",
    "loss"
   ]
  },
  {
   "cell_type": "code",
   "execution_count": 13,
   "metadata": {},
   "outputs": [
    {
     "data": {
      "text/plain": [
       "tensor(19.2025)"
      ]
     },
     "execution_count": 13,
     "metadata": {},
     "output_type": "execute_result"
    }
   ],
   "source": [
    "import torch.nn.functional as F\n",
    "\n",
    "loss = F.cross_entropy(logits, y)\n",
    "loss"
   ]
  },
  {
   "cell_type": "markdown",
   "metadata": {},
   "source": [
    "### Training using batches\n",
    "\n",
    "> Once the dataset gets large enough, it becomes feasible to work with batches of data. This is because, in practice, it is computationally expensive to compute the gradients on the full dataset. However, performing training (ie. forward pass, backward pass and parameter update) on a randomly selected batch of data results in good approximations of the gradients computed on the full dataset.\n",
    "\n",
    "> Because we are using batches of data, the quality of each individual gradient is lower, but the direction of the gradient is good enough to move the parameters towards a local minimum. This is why we see the loss decreasing over time.\n",
    "\n",
    "<img src=\"../assets/lecun-batch-size.jpg\" width=\"600\"/>"
   ]
  },
  {
   "cell_type": "code",
   "execution_count": 14,
   "metadata": {},
   "outputs": [],
   "source": [
    "def train(words, inputs, lr=0.01, n_epochs=1000):\n",
    "    \"\"\"Trains a neural network language model\"\"\"\n",
    "    X, y = build_dataset(words)\n",
    "    C = torch.randn(27, 2)\n",
    "    W1 = torch.randn(6, 100)\n",
    "    b1 = torch.randn(100)\n",
    "    W2 = torch.randn(100, 27)\n",
    "    b2 = torch.randn(27)\n",
    "\n",
    "    params = [C, W1, b1, W2, b2]\n",
    "\n",
    "    for p in params:\n",
    "        p.requires_grad = True\n",
    "\n",
    "    for _ in range(n_epochs):\n",
    "        # minibatch construction\n",
    "        ix = torch.randint(0, X.shape[0], (32,))\n",
    "        \n",
    "        # forward pass\n",
    "        emb = C[X[ix]]\n",
    "        h = torch.tanh(emb.view(-1, inputs) @ W1 + b1)\n",
    "        logits = h @ W2 + b2\n",
    "        loss = F.cross_entropy(logits, y[ix])\n",
    "\n",
    "        # backward pass\n",
    "        for p in params:\n",
    "            p.grad = None\n",
    "        loss.backward()\n",
    "\n",
    "        # parameter updates\n",
    "        for p in params:\n",
    "            p.data -= lr * p.grad\n",
    "\n",
    "    print(\"loss:\", loss.item())"
   ]
  },
  {
   "cell_type": "code",
   "execution_count": 15,
   "metadata": {},
   "outputs": [
    {
     "name": "stdout",
     "output_type": "stream",
     "text": [
      "loss: 3.5632967948913574\n"
     ]
    }
   ],
   "source": [
    "train(names, inputs)"
   ]
  },
  {
   "cell_type": "markdown",
   "metadata": {},
   "source": [
    "### Establishing an appropriate learning rate\n",
    "\n",
    "> **Important:** Regarding working with batches, it is expected that some \"noise\" will be created in the gradients. This is because the gradients are computed on a subset of the data, and not the full dataset. This is why we see the loss \"jumping around\" during training."
   ]
  },
  {
   "cell_type": "code",
   "execution_count": 16,
   "metadata": {},
   "outputs": [],
   "source": [
    "lr_exp = torch.linspace(-3, 0, 1000)\n",
    "lr_schedule = 10**lr_exp"
   ]
  },
  {
   "cell_type": "code",
   "execution_count": 17,
   "metadata": {},
   "outputs": [
    {
     "name": "stdout",
     "output_type": "stream",
     "text": [
      "loss: 6.609652042388916\n"
     ]
    }
   ],
   "source": [
    "X, y = build_dataset(names)\n",
    "C = torch.randn(27, 2)\n",
    "W1 = torch.randn(6, 100)\n",
    "b1 = torch.randn(100)\n",
    "W2 = torch.randn(100, 27)\n",
    "b2 = torch.randn(27)\n",
    "params = [C, W1, b1, W2, b2]\n",
    "\n",
    "for p in params:\n",
    "    p.requires_grad = True\n",
    "\n",
    "lre_epoch = []\n",
    "lrs_epoch = []\n",
    "loss_epoch = []\n",
    "\n",
    "for epoch in range(1000):\n",
    "    # minibatch construction\n",
    "    ix = torch.randint(0, X.shape[0], (32,))\n",
    "\n",
    "    # forward pass\n",
    "    emb = C[X[ix]]\n",
    "    h = torch.tanh(emb.view(-1, inputs) @ W1 + b1)\n",
    "    logits = h @ W2 + b2\n",
    "    loss = F.cross_entropy(logits, y[ix])\n",
    "\n",
    "    # backward pass\n",
    "    for p in params:\n",
    "        p.grad = None\n",
    "    loss.backward()\n",
    "\n",
    "    # parameter updates\n",
    "    for p in params:\n",
    "        p.data -= lr_schedule[epoch] * p.grad\n",
    "\n",
    "    # track stats\n",
    "    lre_epoch.append(lr_exp[epoch])\n",
    "    lrs_epoch.append(lr_schedule[epoch])\n",
    "    loss_epoch.append(loss.item())\n",
    "\n",
    "print(\"loss:\", loss.item())"
   ]
  },
  {
   "cell_type": "code",
   "execution_count": 18,
   "metadata": {},
   "outputs": [
    {
     "data": {
      "image/png": "[encoded data removed]",
      "text/plain": [
       "<Figure size 640x480 with 1 Axes>"
      ]
     },
     "metadata": {},
     "output_type": "display_data"
    }
   ],
   "source": [
    "import matplotlib.pyplot as plt\n",
    "\n",
    "min_loss_index = loss_epoch.index(min(loss_epoch))\n",
    "\n",
    "plt.plot(lre_epoch, loss_epoch)\n",
    "plt.scatter(lre_epoch[min_loss_index], loss_epoch[min_loss_index], color='red')\n",
    "plt.annotate(f'Min Loss at {lre_epoch[min_loss_index]}', \n",
    "             xy=(lre_epoch[min_loss_index], loss_epoch[min_loss_index]),\n",
    "             xytext=(lre_epoch[min_loss_index] + 0.5, loss_epoch[min_loss_index] + 1),\n",
    "             arrowprops=dict(facecolor='black', arrowstyle='->'))\n",
    "plt.show();"
   ]
  },
  {
   "cell_type": "code",
   "execution_count": 19,
   "metadata": {},
   "outputs": [
    {
     "data": {
      "image/png": "[encoded data removed]",
      "text/plain": [
       "<Figure size 640x480 with 1 Axes>"
      ]
     },
     "metadata": {},
     "output_type": "display_data"
    }
   ],
   "source": [
    "plt.plot(lrs_epoch, loss_epoch)\n",
    "plt.scatter(lrs_epoch[min_loss_index], loss_epoch[min_loss_index], color='red')\n",
    "plt.annotate(f'Min Loss at {lrs_epoch[min_loss_index]}', \n",
    "             xy=(lrs_epoch[min_loss_index], loss_epoch[min_loss_index]),\n",
    "             xytext=(lrs_epoch[min_loss_index] + 0.5, loss_epoch[min_loss_index] + 1),\n",
    "             arrowprops=dict(facecolor='black', arrowstyle='->'))\n",
    "plt.show();"
   ]
  },
  {
   "cell_type": "markdown",
   "metadata": {},
   "source": [
    "### Retraining using an appropriate learning rate"
   ]
  },
  {
   "cell_type": "code",
   "execution_count": 20,
   "metadata": {},
   "outputs": [],
   "source": [
    "def lrs_train(data, lr=0.01, emb_len=2, n_neurons=100, n_epochs=10000, rounds=10):\n",
    "    \"\"\"\n",
    "    Trains a neural network language model with learning rate scheduling.\n",
    "\n",
    "    Args:\n",
    "        data: list of names to train on\n",
    "        lr: learning rate (default: 0.01)\n",
    "        emb_len: embeddings length (default: 2)\n",
    "        n_neurons: number of neurons in the hidden layer (default: 100)\n",
    "        n_epochs: number of epochs to train for (default: 10000)\n",
    "        rounds: number of training rounds (default: 10)\n",
    "    \"\"\"\n",
    "\n",
    "    VOCABULARY = 27\n",
    "\n",
    "    X, y = build_dataset(data)\n",
    "    C = torch.randn(VOCABULARY, emb_len)\n",
    "    W1 = torch.randn(X.shape[1] * emb_len, n_neurons)\n",
    "    b1 = torch.randn(n_neurons)\n",
    "    W2 = torch.randn(n_neurons, VOCABULARY)\n",
    "    b2 = torch.randn(VOCABULARY)\n",
    "\n",
    "    params = [C, W1, b1, W2, b2]\n",
    "\n",
    "    for p in params:\n",
    "        p.requires_grad = True\n",
    "\n",
    "    for i in range(rounds):\n",
    "        for epoch in range(n_epochs):\n",
    "            # minibatch construction\n",
    "            ix = torch.randint(0, X.shape[0], (32,))\n",
    "            \n",
    "            # forward pass\n",
    "            emb = C[X[ix]]\n",
    "            h = torch.tanh(emb.view(-1, inputs) @ W1 + b1)\n",
    "            logits = h @ W2 + b2\n",
    "            loss = F.cross_entropy(logits, y[ix])\n",
    "\n",
    "            # backward pass\n",
    "            for p in params:\n",
    "                p.grad = None\n",
    "            loss.backward()\n",
    "\n",
    "            # parameter updates\n",
    "            for p in params:\n",
    "                _lr = lr if i < 5 else lr/(i-3)\n",
    "                p.data -= _lr * p.grad     # learning rate decay\n",
    "\n",
    "        print(f\"[INFO] Training round: {i+1}/{10} Loss: {loss.item()}\")\n",
    "    \n",
    "    return params"
   ]
  },
  {
   "cell_type": "code",
   "execution_count": 21,
   "metadata": {},
   "outputs": [
    {
     "name": "stdout",
     "output_type": "stream",
     "text": [
      "[INFO] Training round: 1/10 Loss: 2.5617852210998535\n",
      "[INFO] Training round: 2/10 Loss: 2.5940818786621094\n",
      "[INFO] Training round: 3/10 Loss: 2.6365180015563965\n",
      "[INFO] Training round: 4/10 Loss: 2.394603967666626\n",
      "[INFO] Training round: 5/10 Loss: 2.103705406188965\n",
      "[INFO] Training round: 6/10 Loss: 2.5117578506469727\n",
      "[INFO] Training round: 7/10 Loss: 2.3024144172668457\n",
      "[INFO] Training round: 8/10 Loss: 1.98526930809021\n",
      "[INFO] Training round: 9/10 Loss: 1.9959443807601929\n",
      "[INFO] Training round: 10/10 Loss: 2.624523878097534\n"
     ]
    }
   ],
   "source": [
    "loss_epoch.index(min(loss_epoch))\n",
    "lr = lrs_epoch[min_loss_index]\n",
    "_ = lrs_train(data=names, lr=lr)"
   ]
  },
  {
   "cell_type": "markdown",
   "metadata": {},
   "source": [
    "### Splitting the data into training, validation and test sets\n",
    "\n",
    "> Neural networs can get very complex and overfit the training data. To avoid this, we can split the data in three sets:\n",
    "\n",
    "> 1. Training set: used to train the parameters of the model. It usually contains 80% of the data.\n",
    "> 2. Validation set: used to evaluate the performance of the model during training, and to perform hyperparameter tuning (eg. learning rate, number of epochs, etc.). It usually contains 10% of the data.\n",
    "> 3. Test set: used to evaluate the final performance of the model. It usually contains 10% of the data.\n",
    "\n",
    "> Basically, lots of experiments are run on the validation set, and the best model is selected. Then, the test set is used to evaluate the final performance of the model."
   ]
  },
  {
   "cell_type": "code",
   "execution_count": 22,
   "metadata": {},
   "outputs": [
    {
     "data": {
      "text/plain": [
       "(torch.Size([182469, 3]), torch.Size([22908, 3]), torch.Size([22769, 3]))"
      ]
     },
     "execution_count": 22,
     "metadata": {},
     "output_type": "execute_result"
    }
   ],
   "source": [
    "import random\n",
    "\n",
    "random.shuffle(names)\n",
    "n1 = int(0.8 * len(names))\n",
    "n2 = int(0.9 * len(names))\n",
    "\n",
    "Xtr, ytr = build_dataset(names[:n1])\n",
    "Xval, yval = build_dataset(names[n1:n2])\n",
    "Xte, yte = build_dataset(names[n2:])\n",
    "\n",
    "Xtr.shape, Xval.shape, Xte.shape"
   ]
  },
  {
   "cell_type": "code",
   "execution_count": 23,
   "metadata": {},
   "outputs": [
    {
     "name": "stdout",
     "output_type": "stream",
     "text": [
      "[INFO] Training round: 1/10 Loss: 2.3498172760009766\n",
      "[INFO] Training round: 2/10 Loss: 2.397759437561035\n",
      "[INFO] Training round: 3/10 Loss: 2.323692798614502\n",
      "[INFO] Training round: 4/10 Loss: 2.03157901763916\n",
      "[INFO] Training round: 5/10 Loss: 2.289524793624878\n",
      "[INFO] Training round: 6/10 Loss: 2.531852960586548\n",
      "[INFO] Training round: 7/10 Loss: 2.554377794265747\n",
      "[INFO] Training round: 8/10 Loss: 2.4952802658081055\n",
      "[INFO] Training round: 9/10 Loss: 2.4224064350128174\n",
      "[INFO] Training round: 10/10 Loss: 2.3233888149261475\n"
     ]
    }
   ],
   "source": [
    "model_params = lrs_train(data=names[:n1], lr=lr)"
   ]
  },
  {
   "cell_type": "code",
   "execution_count": 24,
   "metadata": {},
   "outputs": [
    {
     "name": "stdout",
     "output_type": "stream",
     "text": [
      "[INFO] Evaluation round: 1/10 Loss: 2.3844566345214844\n",
      "[INFO] Evaluation round: 2/10 Loss: 2.034604072570801\n",
      "[INFO] Evaluation round: 3/10 Loss: 2.2256836891174316\n",
      "[INFO] Evaluation round: 4/10 Loss: 1.837475061416626\n",
      "[INFO] Evaluation round: 5/10 Loss: 2.137334108352661\n",
      "[INFO] Evaluation round: 6/10 Loss: 2.436065435409546\n",
      "[INFO] Evaluation round: 7/10 Loss: 2.6393840312957764\n",
      "[INFO] Evaluation round: 8/10 Loss: 2.1732754707336426\n",
      "[INFO] Evaluation round: 9/10 Loss: 2.5062320232391357\n",
      "[INFO] Evaluation round: 10/10 Loss: 2.2860636711120605\n"
     ]
    }
   ],
   "source": [
    "[C, W1, b1, W2, b2] = model_params\n",
    "\n",
    "for p in model_params:\n",
    "    p.requires_grad = True\n",
    "\n",
    "for i in range(10):\n",
    "    # minibatch construction\n",
    "    ix = torch.randint(0, Xval.shape[0], (32,))\n",
    "\n",
    "    # forward pass\n",
    "    emb = C[Xval[ix]]\n",
    "    h = torch.tanh(emb.view(-1, inputs) @ W1 + b1)\n",
    "    logits = h @ W2 + b2\n",
    "    loss = F.cross_entropy(logits, yval[ix])\n",
    "    print(f\"[INFO] Evaluation round: {i+1}/{10} Loss: {loss.item()}\")"
   ]
  },
  {
   "cell_type": "markdown",
   "metadata": {},
   "source": [
    "### Visualizing the embeddings created by the model"
   ]
  },
  {
   "cell_type": "code",
   "execution_count": 25,
   "metadata": {},
   "outputs": [
    {
     "data": {
      "image/png": "[encoded data removed]",
      "text/plain": [
       "<Figure size 1000x500 with 1 Axes>"
      ]
     },
     "metadata": {},
     "output_type": "display_data"
    }
   ],
   "source": [
    "plt.figure(figsize=(10, 5))\n",
    "plt.scatter(C[:, 0].data, C[:, 1].data, s=200)\n",
    "for i in range(C.shape[0]):\n",
    "    plt.text(C[i, 0].item(), C[i, 1].item(), itoch[i], ha='center', va='center', color='white')\n",
    "plt.grid(\"minor\");"
   ]
  },
  {
   "cell_type": "markdown",
   "metadata": {},
   "source": [
    "### Sampling from the model"
   ]
  },
  {
   "cell_type": "code",
   "execution_count": 26,
   "metadata": {},
   "outputs": [
    {
     "name": "stdout",
     "output_type": "stream",
     "text": [
      "jadin.\n",
      "niy.\n",
      "izenny.\n",
      "nosavaris.\n",
      "audryni.\n",
      "car.\n",
      "annegothic.\n",
      "suri.\n",
      "avanvesin.\n",
      "suover.\n",
      "maileynieyah.\n",
      "jhreneelianeya.\n",
      "ezrin.\n",
      "yuvs.\n",
      "keno.\n",
      "ialilay.\n",
      "veira.\n",
      "qudinn.\n",
      "beashah.\n",
      "shinonno.\n"
     ]
    }
   ],
   "source": [
    "CONTEXT_LENGTH = 3\n",
    "\n",
    "for _ in range(20):\n",
    "    out = []\n",
    "    context = [0] * CONTEXT_LENGTH\n",
    "\n",
    "    while True:\n",
    "        emb = C[torch.tensor(context)]\n",
    "        h = torch.tanh(emb.view(1, -1) @ W1 + b1)\n",
    "        logits = h @ W2 + b2\n",
    "        probs = F.softmax(logits, dim=1)\n",
    "        ix = torch.multinomial(probs, num_samples=1).item()\n",
    "        context = context[1:] + [ix]\n",
    "        out.append(ix)\n",
    "        if ix == 0:\n",
    "            break\n",
    "\n",
    "    print(\"\".join([itoch[i] for i in out]))"
   ]
  },
  {
   "cell_type": "markdown",
   "metadata": {},
   "source": [
    "# Sources\n",
    "\n",
    "1. [Pytorch Internals - Edward Z. Yang](http://blog.ezyang.com/2019/05/pytorch-internals/)\n",
    "2. [Ground truth - Building makemore Part 2: MLP, By Andrej Karpathy](https://www.youtube.com/watch?v=TCH_1BHY58I&t=2702s)"
   ]
  }
 ],
 "metadata": {
  "kernelspec": {
   "display_name": "Python 3",
   "language": "python",
   "name": "python3"
  },
  "language_info": {
   "codemirror_mode": {
    "name": "ipython",
    "version": 3
   },
   "file_extension": ".py",
   "mimetype": "text/x-python",
   "name": "python",
   "nbconvert_exporter": "python",
   "pygments_lexer": "ipython3",
   "version": "3.9.6"
  },
  "orig_nbformat": 4
 },
 "nbformat": 4,
 "nbformat_minor": 2
}
