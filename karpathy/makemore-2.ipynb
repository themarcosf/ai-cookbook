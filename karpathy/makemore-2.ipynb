{
 "cells": [
  {
   "cell_type": "markdown",
   "metadata": {},
   "source": [
    "## PART II: Multi Layer Perceptron (MLP)\n",
    "\n",
    "> This implementation is based along the lines of [Bengio et al. 2003](https://www.jmlr.org/papers/volume3/bengio03a/bengio03a.pdf)\n",
    "\n",
    "<img src=\"../assets/neural-prob-LM.jpg\" width=\"400\"/>"
   ]
  },
  {
   "cell_type": "markdown",
   "metadata": {},
   "source": [
    "### Reading and exploring the dataset"
   ]
  },
  {
   "cell_type": "code",
   "execution_count": 1,
   "metadata": {},
   "outputs": [
    {
     "data": {
      "text/plain": [
       "['emma', 'olivia', 'ava', 'isabella', 'sophia']"
      ]
     },
     "execution_count": 1,
     "metadata": {},
     "output_type": "execute_result"
    }
   ],
   "source": [
    "import json\n",
    "\n",
    "names = json.loads(open(\"names.txt\", \"r\").read())\n",
    "names = names[\"payload\"][\"blob\"][\"rawLines\"]\n",
    "names[:5]"
   ]
  },
  {
   "cell_type": "code",
   "execution_count": 2,
   "metadata": {},
   "outputs": [
    {
     "data": {
      "text/plain": [
       "32033"
      ]
     },
     "execution_count": 2,
     "metadata": {},
     "output_type": "execute_result"
    }
   ],
   "source": [
    "len(names)"
   ]
  },
  {
   "cell_type": "code",
   "execution_count": 3,
   "metadata": {},
   "outputs": [],
   "source": [
    "# build the vocabulary of characters and mappings to/from integers\n",
    "chars = sorted(list(set(\"\".join(names))))\n",
    "chtoi = {ch:i+1 for i, ch in enumerate(chars)}\n",
    "chtoi[\".\"] = 0\n",
    "itoch = {i:ch for ch, i in chtoi.items()}"
   ]
  },
  {
   "cell_type": "markdown",
   "metadata": {},
   "source": [
    "### Building the training dataset"
   ]
  },
  {
   "cell_type": "code",
   "execution_count": 28,
   "metadata": {},
   "outputs": [],
   "source": [
    "import torch\n",
    "\n",
    "def build_dataset(words, context_len=3):\n",
    "    \"\"\"\n",
    "    Builds the dataset from the given list of words.\n",
    "\n",
    "    Args:\n",
    "        words (list): list of words to use\n",
    "        context_len (int): length of the context window (default: 3)\n",
    "    \"\"\"\n",
    "\n",
    "    X, y = [], []\n",
    "\n",
    "    for name in words:\n",
    "        context = [0] * context_len\n",
    "        for ch in name + \".\":\n",
    "            ix = chtoi[ch]\n",
    "            X.append(context)\n",
    "            y.append(ix)\n",
    "            context = context[1:] + [ix]\n",
    "    \n",
    "    X = torch.tensor(X)\n",
    "    y = torch.tensor(y)\n",
    "\n",
    "    return X, y"
   ]
  },
  {
   "cell_type": "code",
   "execution_count": 29,
   "metadata": {},
   "outputs": [
    {
     "data": {
      "text/plain": [
       "(torch.Size([32, 3]), torch.int64, torch.Size([32]), torch.int64)"
      ]
     },
     "execution_count": 29,
     "metadata": {},
     "output_type": "execute_result"
    }
   ],
   "source": [
    "X, y = build_dataset(names[:5])\n",
    "X.shape, X.dtype, y.shape, y.dtype"
   ]
  },
  {
   "cell_type": "markdown",
   "metadata": {},
   "source": [
    "### Implementing the embedding lookup table"
   ]
  },
  {
   "cell_type": "code",
   "execution_count": 6,
   "metadata": {},
   "outputs": [
    {
     "data": {
      "text/plain": [
       "(torch.Size([228146, 3, 2]),\n",
       " tensor([[-0.8332, -0.9162],\n",
       "         [-0.8332, -0.9162],\n",
       "         [ 0.6978, -0.1664]]))"
      ]
     },
     "execution_count": 6,
     "metadata": {},
     "output_type": "execute_result"
    }
   ],
   "source": [
    "C = torch.randn(27, 2)     # randomly-initialized embedding matrix (27 characters, 2 dimensions)\n",
    "emb = C[X]                 # embeddings for the input sequence\n",
    "emb.shape, emb[1]"
   ]
  },
  {
   "cell_type": "markdown",
   "metadata": {},
   "source": [
    "### Implementing the non-linearity (tanh hidden layer)"
   ]
  },
  {
   "cell_type": "code",
   "execution_count": 7,
   "metadata": {},
   "outputs": [
    {
     "name": "stdout",
     "output_type": "stream",
     "text": [
      "torch.Size([3, 2])\n"
     ]
    },
    {
     "data": {
      "text/plain": [
       "6"
      ]
     },
     "execution_count": 7,
     "metadata": {},
     "output_type": "execute_result"
    }
   ],
   "source": [
    "print(emb.shape[1:])                             # number of inputs: 2-d embeddings * 3 context characters\n",
    "\n",
    "first_element = emb.shape[1:][0]\n",
    "second_element = emb.shape[1:][1]\n",
    "\n",
    "# Multiplying the numbers\n",
    "inputs = first_element * second_element\n",
    "inputs"
   ]
  },
  {
   "cell_type": "code",
   "execution_count": 8,
   "metadata": {},
   "outputs": [
    {
     "data": {
      "text/plain": [
       "(torch.Size([228146, 100]),\n",
       " tensor([-0.1575, -0.9975, -0.5686,  0.9949,  0.9364, -0.8390, -0.8760, -0.9975,\n",
       "          0.8544,  0.9790,  0.9999, -0.4201, -0.9903,  0.0048, -0.4109,  0.6189,\n",
       "          0.8224,  0.9960, -0.7742,  0.9978,  0.9470, -0.8997, -0.9989,  0.3712,\n",
       "         -0.9719,  0.9975,  0.6938, -0.7094,  0.9987,  0.1974, -0.9763,  0.8822,\n",
       "          0.9228, -0.7877,  0.7906,  0.9820, -0.8895, -0.9999,  0.7098,  0.2722,\n",
       "         -0.4884, -0.1765,  0.4159,  0.9183,  0.3755, -0.6907, -0.9369,  0.5613,\n",
       "          0.8820,  0.9629, -0.9157, -0.9894,  0.4654, -0.9971,  0.4374,  0.0514,\n",
       "         -0.9294, -0.9997, -0.8662, -0.4156,  0.9925, -0.7459,  0.9614, -0.7870,\n",
       "         -0.0106,  0.9570,  0.9259, -0.8807, -0.8944, -0.1596,  0.9987,  0.8033,\n",
       "         -0.9916,  0.7639, -0.8138, -0.9959, -0.9997,  0.2371, -0.8235,  0.4910,\n",
       "          0.9897, -0.8142, -0.8223, -0.9997, -0.9994, -0.9955,  0.9918,  0.8301,\n",
       "         -0.9544, -0.9987, -0.7247, -0.3761, -0.1783,  0.4299,  0.6258, -0.8503,\n",
       "         -0.3821, -0.6345, -0.6914,  0.8436]))"
      ]
     },
     "execution_count": 8,
     "metadata": {},
     "output_type": "execute_result"
    }
   ],
   "source": [
    "n_neurons = 100                                  # number of neurons in the hidden layer\n",
    "\n",
    "W1 = torch.randn(inputs, n_neurons)              # randomly-initialized hidden layer weights (6 inputs, 100 neurons)\n",
    "b1 = torch.randn(n_neurons)                      # randomly-initialized hidden layer biases (100 neurons)\n",
    "h = torch.tanh(emb.view(-1, inputs) @ W1 + b1)   # hidden layer activations\n",
    "h.shape, h[1]"
   ]
  },
  {
   "cell_type": "markdown",
   "metadata": {},
   "source": [
    "### Implementing the output layer\n",
    "\n",
    "> **About logits exponentiation:** The softmax function is often used in the final layer of a neural network-based classifier and consists of a function that turns a vector of real values into a vector of probabilities that sum to 1.\n",
    "\n",
    "> The exponentiation is applied to ensure that all values become positive, as softmax is sensitive to the scale of the input values. Exponentiation also helps to emphasize the differences between the logits, making it easier to distinguish and highlight the higher-scoring logits. It's important to note that the relative order of the logits remains the same after exponentiation, so the model's ability to discriminate between classes is preserved."
   ]
  },
  {
   "cell_type": "code",
   "execution_count": 9,
   "metadata": {},
   "outputs": [
    {
     "data": {
      "text/plain": [
       "(torch.Size([228146, 27]),\n",
       " tensor([  3.2862,  11.4991, -12.4459,  -2.6497,   2.7653,  -8.8691, -18.1701,\n",
       "         -13.0208, -16.1197,   0.4059,  -3.0442,  -8.3563,  -5.0531,   5.4852,\n",
       "          24.0950, -15.0772,   1.6255,   4.4704,   3.4148,  -6.4985,  -2.5159,\n",
       "          -2.0221,  -7.4010, -15.4985,   2.0026,  -3.5938,   1.9887]))"
      ]
     },
     "execution_count": 9,
     "metadata": {},
     "output_type": "execute_result"
    }
   ],
   "source": [
    "W2 = torch.randn(100, 27)                     # randomly-initialized output layer weights (100 neurons, 27 outputs)\n",
    "b2 = torch.randn(27)                          # randomly-initialized output layer biases (27 outputs)\n",
    "\n",
    "logits = h @ W2 + b2                          # output layer activations\n",
    "logits.shape, logits[1]"
   ]
  },
  {
   "cell_type": "code",
   "execution_count": 10,
   "metadata": {},
   "outputs": [
    {
     "data": {
      "text/plain": [
       "(torch.Size([228146, 27]),\n",
       " tensor(1.),\n",
       " tensor([9.1804e-10, 3.3860e-06, 1.3505e-16, 2.4263e-12, 5.4531e-10, 4.8291e-15,\n",
       "         4.4107e-19, 7.5999e-17, 3.4276e-18, 5.1519e-11, 1.6353e-12, 8.0645e-15,\n",
       "         2.1936e-13, 8.2766e-09, 1.0000e+00, 9.7220e-18, 1.7443e-10, 3.0001e-09,\n",
       "         1.0440e-09, 5.1691e-14, 2.7735e-12, 4.5444e-12, 2.0963e-14, 6.3791e-18,\n",
       "         2.5432e-10, 9.4384e-13, 2.5082e-10]))"
      ]
     },
     "execution_count": 10,
     "metadata": {},
     "output_type": "execute_result"
    }
   ],
   "source": [
    "counts = logits.exp()                        # convert activations to counts\n",
    "prob = counts / counts.sum(1, keepdims=True) # softmax\n",
    "prob.shape, prob[1].sum(), prob[1]"
   ]
  },
  {
   "cell_type": "markdown",
   "metadata": {},
   "source": [
    "### Implementing the loss function"
   ]
  },
  {
   "cell_type": "code",
   "execution_count": 11,
   "metadata": {},
   "outputs": [
    {
     "data": {
      "text/plain": [
       "tensor([ 5, 13, 13,  ..., 26, 24,  0])"
      ]
     },
     "execution_count": 11,
     "metadata": {},
     "output_type": "execute_result"
    }
   ],
   "source": [
    "y"
   ]
  },
  {
   "cell_type": "code",
   "execution_count": 12,
   "metadata": {},
   "outputs": [
    {
     "data": {
      "text/plain": [
       "tensor(14.4271)"
      ]
     },
     "execution_count": 12,
     "metadata": {},
     "output_type": "execute_result"
    }
   ],
   "source": [
    "loss = -prob[torch.arange(prob.shape[0]), y].log().mean()\n",
    "loss"
   ]
  },
  {
   "cell_type": "code",
   "execution_count": 13,
   "metadata": {},
   "outputs": [
    {
     "data": {
      "text/plain": [
       "tensor(14.4271)"
      ]
     },
     "execution_count": 13,
     "metadata": {},
     "output_type": "execute_result"
    }
   ],
   "source": [
    "import torch.nn.functional as F\n",
    "\n",
    "loss = F.cross_entropy(logits, y)\n",
    "loss"
   ]
  },
  {
   "cell_type": "markdown",
   "metadata": {},
   "source": [
    "### Training using batches\n",
    "\n",
    "> Once the dataset gets large enough, it becomes feasible to work with batches of data. This is because, in practice, it is computationally expensive to compute the gradients on the full dataset. However, performing training (ie. forward pass, backward pass and parameter update) on a randomly selected batch of data results in good approximations of the gradients computed on the full dataset.\n",
    "\n",
    "> Because we are using batches of data, the quality of each individual gradient is lower, but the direction of the gradient is good enough to move the parameters towards a local minimum. This is why we see the loss decreasing over time.\n",
    "\n",
    "<img src=\"../assets/lecun-batch-size.jpg\" width=\"600\"/>"
   ]
  },
  {
   "cell_type": "code",
   "execution_count": 31,
   "metadata": {},
   "outputs": [],
   "source": [
    "def train(words, inputs, lr=0.01, n_epochs=1000):\n",
    "    \"\"\"Trains a neural network language model\"\"\"\n",
    "    X, y = build_dataset(words)\n",
    "    C = torch.randn(27, 2)\n",
    "    W1 = torch.randn(6, 100)\n",
    "    b1 = torch.randn(100)\n",
    "    W2 = torch.randn(100, 27)\n",
    "    b2 = torch.randn(27)\n",
    "\n",
    "    params = [C, W1, b1, W2, b2]\n",
    "\n",
    "    for p in params:\n",
    "        p.requires_grad = True\n",
    "\n",
    "    for _ in range(n_epochs):\n",
    "        # minibatch construction\n",
    "        ix = torch.randint(0, X.shape[0], (32,))\n",
    "        \n",
    "        # forward pass\n",
    "        emb = C[X[ix]]\n",
    "        h = torch.tanh(emb.view(-1, inputs) @ W1 + b1)\n",
    "        logits = h @ W2 + b2\n",
    "        loss = F.cross_entropy(logits, y[ix])\n",
    "\n",
    "        # backward pass\n",
    "        for p in params:\n",
    "            p.grad = None\n",
    "        loss.backward()\n",
    "\n",
    "        # parameter updates\n",
    "        for p in params:\n",
    "            p.data -= lr * p.grad\n",
    "\n",
    "    print(\"loss:\", loss.item())"
   ]
  },
  {
   "cell_type": "code",
   "execution_count": 32,
   "metadata": {},
   "outputs": [
    {
     "name": "stdout",
     "output_type": "stream",
     "text": [
      "loss: 3.11824107170105\n"
     ]
    }
   ],
   "source": [
    "train(names, inputs)"
   ]
  },
  {
   "cell_type": "markdown",
   "metadata": {},
   "source": [
    "### Establishing an appropriate learning rate\n",
    "\n",
    "> **Important:** Regarding working with batches, it is expected that some \"noise\" will be created in the gradients. This is because the gradients are computed on a subset of the data, and not the full dataset. This is why we see the loss \"jumping around\" during training."
   ]
  },
  {
   "cell_type": "code",
   "execution_count": 33,
   "metadata": {},
   "outputs": [],
   "source": [
    "lr_exp = torch.linspace(-3, 0, 1000)\n",
    "lr_schedule = 10**lr_exp"
   ]
  },
  {
   "cell_type": "code",
   "execution_count": 34,
   "metadata": {},
   "outputs": [
    {
     "name": "stdout",
     "output_type": "stream",
     "text": [
      "loss: 8.541800498962402\n"
     ]
    }
   ],
   "source": [
    "X, y = build_dataset(names)\n",
    "C = torch.randn(27, 2)\n",
    "W1 = torch.randn(6, 100)\n",
    "b1 = torch.randn(100)\n",
    "W2 = torch.randn(100, 27)\n",
    "b2 = torch.randn(27)\n",
    "params = [C, W1, b1, W2, b2]\n",
    "\n",
    "for p in params:\n",
    "    p.requires_grad = True\n",
    "\n",
    "lre_epoch = []\n",
    "lrs_epoch = []\n",
    "loss_epoch = []\n",
    "\n",
    "for epoch in range(1000):\n",
    "    # minibatch construction\n",
    "    ix = torch.randint(0, X.shape[0], (32,))\n",
    "\n",
    "    # forward pass\n",
    "    emb = C[X[ix]]\n",
    "    h = torch.tanh(emb.view(-1, inputs) @ W1 + b1)\n",
    "    logits = h @ W2 + b2\n",
    "    loss = F.cross_entropy(logits, y[ix])\n",
    "\n",
    "    # backward pass\n",
    "    for p in params:\n",
    "        p.grad = None\n",
    "    loss.backward()\n",
    "\n",
    "    # parameter updates\n",
    "    for p in params:\n",
    "        p.data -= lr_schedule[epoch] * p.grad\n",
    "\n",
    "    # track stats\n",
    "    lre_epoch.append(lr_exp[epoch])\n",
    "    lrs_epoch.append(lr_schedule[epoch])\n",
    "    loss_epoch.append(loss.item())\n",
    "\n",
    "print(\"loss:\", loss.item())"
   ]
  },
  {
   "cell_type": "code",
   "execution_count": 20,
   "metadata": {},
   "outputs": [
    {
     "data": {
      "image/png": "[encoded data removed]",
      "text/plain": [
       "<Figure size 640x480 with 1 Axes>"
      ]
     },
     "metadata": {},
     "output_type": "display_data"
    }
   ],
   "source": [
    "import matplotlib.pyplot as plt\n",
    "\n",
    "min_loss_index = loss_epoch.index(min(loss_epoch))\n",
    "\n",
    "plt.plot(lre_epoch, loss_epoch)\n",
    "plt.scatter(lre_epoch[min_loss_index], loss_epoch[min_loss_index], color='red')\n",
    "plt.annotate(f'Min Loss at {lre_epoch[min_loss_index]}', \n",
    "             xy=(lre_epoch[min_loss_index], loss_epoch[min_loss_index]),\n",
    "             xytext=(lre_epoch[min_loss_index] + 0.5, loss_epoch[min_loss_index] + 1),\n",
    "             arrowprops=dict(facecolor='black', arrowstyle='->'))\n",
    "plt.show();"
   ]
  },
  {
   "cell_type": "code",
   "execution_count": 21,
   "metadata": {},
   "outputs": [
    {
     "data": {
      "image/png": "[encoded data removed]",
      "text/plain": [
       "<Figure size 640x480 with 1 Axes>"
      ]
     },
     "metadata": {},
     "output_type": "display_data"
    }
   ],
   "source": [
    "plt.plot(lrs_epoch, loss_epoch)\n",
    "plt.scatter(lrs_epoch[min_loss_index], loss_epoch[min_loss_index], color='red')\n",
    "plt.annotate(f'Min Loss at {lrs_epoch[min_loss_index]}', \n",
    "             xy=(lrs_epoch[min_loss_index], loss_epoch[min_loss_index]),\n",
    "             xytext=(lrs_epoch[min_loss_index] + 0.5, loss_epoch[min_loss_index] + 1),\n",
    "             arrowprops=dict(facecolor='black', arrowstyle='->'))\n",
    "plt.show();"
   ]
  },
  {
   "cell_type": "markdown",
   "metadata": {},
   "source": [
    "### Retraining using an appropriate learning rate"
   ]
  },
  {
   "cell_type": "code",
   "execution_count": 50,
   "metadata": {},
   "outputs": [],
   "source": [
    "def lrs_train(data, lr=0.01, emb_len=2, n_neurons=100, n_epochs=10000, rounds=10):\n",
    "    \"\"\"\n",
    "    Trains a neural network language model with learning rate scheduling.\n",
    "\n",
    "    Args:\n",
    "        data: list of names to train on\n",
    "        lr: learning rate (default: 0.01)\n",
    "        emb_len: embeddings length (default: 2)\n",
    "        n_neurons: number of neurons in the hidden layer (default: 100)\n",
    "        n_epochs: number of epochs to train for (default: 10000)\n",
    "        rounds: number of training rounds (default: 10)\n",
    "    \"\"\"\n",
    "\n",
    "    VOCABULARY = 27\n",
    "\n",
    "    X, y = build_dataset(data)\n",
    "    C = torch.randn(VOCABULARY, emb_len)\n",
    "    W1 = torch.randn(X.shape[1] * emb_len, n_neurons)\n",
    "    b1 = torch.randn(n_neurons)\n",
    "    W2 = torch.randn(n_neurons, VOCABULARY)\n",
    "    b2 = torch.randn(VOCABULARY)\n",
    "\n",
    "    params = [C, W1, b1, W2, b2]\n",
    "\n",
    "    for p in params:\n",
    "        p.requires_grad = True\n",
    "\n",
    "    for i in range(rounds):\n",
    "        for epoch in range(n_epochs):\n",
    "            # minibatch construction\n",
    "            ix = torch.randint(0, X.shape[0], (32,))\n",
    "            \n",
    "            # forward pass\n",
    "            emb = C[X[ix]]\n",
    "            h = torch.tanh(emb.view(-1, inputs) @ W1 + b1)\n",
    "            logits = h @ W2 + b2\n",
    "            loss = F.cross_entropy(logits, y[ix])\n",
    "\n",
    "            # backward pass\n",
    "            for p in params:\n",
    "                p.grad = None\n",
    "            loss.backward()\n",
    "\n",
    "            # parameter updates\n",
    "            for p in params:\n",
    "                _lr = lr if i < 5 else lr/(i-3)\n",
    "                p.data -= _lr * p.grad     # learning rate decay\n",
    "\n",
    "        print(f\"[INFO] Training round: {i+1}/{10} Loss: {loss.item()}\")\n",
    "    \n",
    "    return params"
   ]
  },
  {
   "cell_type": "code",
   "execution_count": 43,
   "metadata": {},
   "outputs": [
    {
     "name": "stdout",
     "output_type": "stream",
     "text": [
      "[INFO] Training round: 1/10 Loss: 2.3954102993011475\n",
      "[INFO] Training round: 2/10 Loss: 2.1747143268585205\n",
      "[INFO] Training round: 3/10 Loss: 2.446422576904297\n",
      "[INFO] Training round: 4/10 Loss: 2.6316986083984375\n",
      "[INFO] Training round: 5/10 Loss: 2.330375909805298\n",
      "[INFO] Training round: 6/10 Loss: 2.163496971130371\n",
      "[INFO] Training round: 7/10 Loss: 2.3821017742156982\n",
      "[INFO] Training round: 8/10 Loss: 2.2504100799560547\n",
      "[INFO] Training round: 9/10 Loss: 2.0044870376586914\n",
      "[INFO] Training round: 10/10 Loss: 2.2853739261627197\n"
     ]
    }
   ],
   "source": [
    "loss_epoch.index(min(loss_epoch))\n",
    "lr = lrs_epoch[min_loss_index]\n",
    "lrs_train(data=names, lr=lr)"
   ]
  },
  {
   "cell_type": "markdown",
   "metadata": {},
   "source": [
    "### Splitting the data into training, validation and test sets\n",
    "\n",
    "> Neural networs can get very complex and overfit the training data. To avoid this, we can split the data in three sets:\n",
    "\n",
    "> 1. Training set: used to train the parameters of the model. It usually contains 80% of the data.\n",
    "> 2. Validation set: used to evaluate the performance of the model during training, and to perform hyperparameter tuning (eg. learning rate, number of epochs, etc.). It usually contains 10% of the data.\n",
    "> 3. Test set: used to evaluate the final performance of the model. It usually contains 10% of the data.\n",
    "\n",
    "> Basically, lots of experiments are run on the validation set, and the best model is selected. Then, the test set is used to evaluate the final performance of the model."
   ]
  },
  {
   "cell_type": "code",
   "execution_count": 45,
   "metadata": {},
   "outputs": [
    {
     "data": {
      "text/plain": [
       "(torch.Size([182564, 3]), torch.Size([22826, 3]), torch.Size([22756, 3]))"
      ]
     },
     "execution_count": 45,
     "metadata": {},
     "output_type": "execute_result"
    }
   ],
   "source": [
    "import random\n",
    "\n",
    "random.shuffle(names)\n",
    "n1 = int(0.8 * len(names))\n",
    "n2 = int(0.9 * len(names))\n",
    "\n",
    "Xtr, ytr = build_dataset(names[:n1])\n",
    "Xval, yval = build_dataset(names[n1:n2])\n",
    "Xte, yte = build_dataset(names[n2:])\n",
    "\n",
    "Xtr.shape, Xval.shape, Xte.shape"
   ]
  },
  {
   "cell_type": "code",
   "execution_count": 51,
   "metadata": {},
   "outputs": [
    {
     "name": "stdout",
     "output_type": "stream",
     "text": [
      "[INFO] Training round: 1/10 Loss: 2.4120736122131348\n",
      "[INFO] Training round: 2/10 Loss: 2.17292857170105\n",
      "[INFO] Training round: 3/10 Loss: 2.256068706512451\n",
      "[INFO] Training round: 4/10 Loss: 2.6008431911468506\n",
      "[INFO] Training round: 5/10 Loss: 2.2795913219451904\n",
      "[INFO] Training round: 6/10 Loss: 2.352890729904175\n",
      "[INFO] Training round: 7/10 Loss: 2.4120705127716064\n",
      "[INFO] Training round: 8/10 Loss: 2.403562068939209\n",
      "[INFO] Training round: 9/10 Loss: 2.2332568168640137\n",
      "[INFO] Training round: 10/10 Loss: 2.362532138824463\n"
     ]
    }
   ],
   "source": [
    "model_params = lrs_train(data=names[:n1], lr=lr)"
   ]
  },
  {
   "cell_type": "code",
   "execution_count": 55,
   "metadata": {},
   "outputs": [
    {
     "name": "stdout",
     "output_type": "stream",
     "text": [
      "[INFO] Evaluation round: 1/10 Loss: 2.3030319213867188\n",
      "[INFO] Evaluation round: 2/10 Loss: 2.0948965549468994\n",
      "[INFO] Evaluation round: 3/10 Loss: 2.78712797164917\n",
      "[INFO] Evaluation round: 4/10 Loss: 2.351212978363037\n",
      "[INFO] Evaluation round: 5/10 Loss: 2.2382023334503174\n",
      "[INFO] Evaluation round: 6/10 Loss: 2.3115105628967285\n",
      "[INFO] Evaluation round: 7/10 Loss: 2.4667446613311768\n",
      "[INFO] Evaluation round: 8/10 Loss: 2.5042338371276855\n",
      "[INFO] Evaluation round: 9/10 Loss: 2.4007833003997803\n",
      "[INFO] Evaluation round: 10/10 Loss: 2.459280014038086\n"
     ]
    }
   ],
   "source": [
    "[C, W1, b1, W2, b2] = model_params\n",
    "\n",
    "for p in model_params:\n",
    "    p.requires_grad = True\n",
    "\n",
    "for i in range(10):\n",
    "    # minibatch construction\n",
    "    ix = torch.randint(0, Xval.shape[0], (32,))\n",
    "\n",
    "    # forward pass\n",
    "    emb = C[Xval[ix]]\n",
    "    h = torch.tanh(emb.view(-1, inputs) @ W1 + b1)\n",
    "    logits = h @ W2 + b2\n",
    "    loss = F.cross_entropy(logits, yval[ix])\n",
    "    print(f\"[INFO] Evaluation round: {i+1}/{10} Loss: {loss.item()}\")"
   ]
  },
  {
   "cell_type": "markdown",
   "metadata": {},
   "source": [
    "### Visualizing the embeddings created by the model"
   ]
  },
  {
   "cell_type": "code",
   "execution_count": 56,
   "metadata": {},
   "outputs": [
    {
     "data": {
      "image/png": "[encoded data removed]",
      "text/plain": [
       "<Figure size 1000x500 with 1 Axes>"
      ]
     },
     "metadata": {},
     "output_type": "display_data"
    }
   ],
   "source": [
    "plt.figure(figsize=(10, 5))\n",
    "plt.scatter(C[:, 0].data, C[:, 1].data, s=200)\n",
    "for i in range(C.shape[0]):\n",
    "    plt.text(C[i, 0].item(), C[i, 1].item(), itoch[i], ha='center', va='center', color='white')\n",
    "plt.grid(\"minor\");"
   ]
  },
  {
   "cell_type": "markdown",
   "metadata": {},
   "source": [
    "### Sampling from the model"
   ]
  },
  {
   "cell_type": "code",
   "execution_count": 57,
   "metadata": {},
   "outputs": [
    {
     "name": "stdout",
     "output_type": "stream",
     "text": [
      "sylin.\n",
      "midlay.\n",
      "zellysob.\n",
      "wooli.\n",
      "adi.\n",
      "dian.\n",
      "chaqmox.\n",
      "alv.\n",
      "kale.\n",
      "kalenn.\n",
      "diorayahi.\n",
      "nella.\n",
      "haid.\n",
      "licen.\n",
      "the.\n",
      "jainy.\n",
      "hamefbeyah.\n",
      "zakie.\n",
      "zys.\n",
      "ky.\n"
     ]
    }
   ],
   "source": [
    "CONTEXT_LENGTH = 3\n",
    "\n",
    "for _ in range(20):\n",
    "    out = []\n",
    "    context = [0] * CONTEXT_LENGTH\n",
    "\n",
    "    while True:\n",
    "        emb = C[torch.tensor(context)]\n",
    "        h = torch.tanh(emb.view(1, -1) @ W1 + b1)\n",
    "        logits = h @ W2 + b2\n",
    "        probs = F.softmax(logits, dim=1)\n",
    "        ix = torch.multinomial(probs, num_samples=1).item()\n",
    "        context = context[1:] + [ix]\n",
    "        out.append(ix)\n",
    "        if ix == 0:\n",
    "            break\n",
    "\n",
    "    print(\"\".join([itoch[i] for i in out]))"
   ]
  },
  {
   "cell_type": "markdown",
   "metadata": {},
   "source": [
    "# Sources\n",
    "\n",
    "1. [Pytorch Internals - Edward Z. Yang](http://blog.ezyang.com/2019/05/pytorch-internals/)\n",
    "2. [Ground truth - Building makemore Part 2: MLP, By Andrej Karpathy](https://www.youtube.com/watch?v=TCH_1BHY58I&t=2702s)"
   ]
  }
 ],
 "metadata": {
  "kernelspec": {
   "display_name": "Python 3",
   "language": "python",
   "name": "python3"
  },
  "language_info": {
   "codemirror_mode": {
    "name": "ipython",
    "version": 3
   },
   "file_extension": ".py",
   "mimetype": "text/x-python",
   "name": "python",
   "nbconvert_exporter": "python",
   "pygments_lexer": "ipython3",
   "version": "3.9.6"
  },
  "orig_nbformat": 4
 },
 "nbformat": 4,
 "nbformat_minor": 2
}
