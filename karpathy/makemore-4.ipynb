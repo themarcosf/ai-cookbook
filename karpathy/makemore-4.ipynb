{
 "cells": [
  {
   "cell_type": "markdown",
   "metadata": {},
   "source": [
    "## Starter code"
   ]
  },
  {
   "cell_type": "code",
   "execution_count": 1,
   "metadata": {},
   "outputs": [],
   "source": [
    "import torch\n",
    "import torch.nn.functional as F\n",
    "import matplotlib.pyplot as plt\n",
    "%matplotlib inline"
   ]
  },
  {
   "cell_type": "code",
   "execution_count": 2,
   "metadata": {},
   "outputs": [
    {
     "data": {
      "text/plain": [
       "['emma', 'olivia', 'ava', 'isabella', 'sophia']"
      ]
     },
     "execution_count": 2,
     "metadata": {},
     "output_type": "execute_result"
    }
   ],
   "source": [
    "import json\n",
    "\n",
    "names = json.loads(open(\"../data/names.txt\", \"r\").read())\n",
    "names = names[\"payload\"][\"blob\"][\"rawLines\"]\n",
    "names[:5]"
   ]
  },
  {
   "cell_type": "code",
   "execution_count": 3,
   "metadata": {},
   "outputs": [
    {
     "name": "stdout",
     "output_type": "stream",
     "text": [
      "Length of dataset:  32033\n"
     ]
    }
   ],
   "source": [
    "print(\"Length of dataset: \", len(names))"
   ]
  },
  {
   "cell_type": "code",
   "execution_count": 4,
   "metadata": {},
   "outputs": [
    {
     "name": "stdout",
     "output_type": "stream",
     "text": [
      "chtoi:  {'a': 1, 'b': 2, 'c': 3, 'd': 4, 'e': 5, 'f': 6, 'g': 7, 'h': 8, 'i': 9, 'j': 10, 'k': 11, 'l': 12, 'm': 13, 'n': 14, 'o': 15, 'p': 16, 'q': 17, 'r': 18, 's': 19, 't': 20, 'u': 21, 'v': 22, 'w': 23, 'x': 24, 'y': 25, 'z': 26, '.': 0}\n",
      "itoch:  {1: 'a', 2: 'b', 3: 'c', 4: 'd', 5: 'e', 6: 'f', 7: 'g', 8: 'h', 9: 'i', 10: 'j', 11: 'k', 12: 'l', 13: 'm', 14: 'n', 15: 'o', 16: 'p', 17: 'q', 18: 'r', 19: 's', 20: 't', 21: 'u', 22: 'v', 23: 'w', 24: 'x', 25: 'y', 26: 'z', 0: '.'}\n",
      "vocab_size:  27\n"
     ]
    }
   ],
   "source": [
    "# build the vocabulary of characters and mappings to/from integers\n",
    "chars = sorted(list(set(\"\".join(names))))\n",
    "chtoi = {ch:i+1 for i, ch in enumerate(chars)}\n",
    "chtoi[\".\"] = 0\n",
    "itoch = {i:ch for ch, i in chtoi.items()}\n",
    "vocab_size = len(chtoi)\n",
    "print(\"chtoi: \", chtoi)\n",
    "print(\"itoch: \", itoch)\n",
    "print(\"vocab_size: \", vocab_size)"
   ]
  },
  {
   "cell_type": "code",
   "execution_count": 5,
   "metadata": {},
   "outputs": [
    {
     "name": "stdout",
     "output_type": "stream",
     "text": [
      "Xtr.shape: torch.Size([182384, 3]), ytr.shape: torch.Size([182384])\n",
      "Xval.shape: torch.Size([22883, 3]), yval.shape: torch.Size([22883])\n",
      "Xte.shape: torch.Size([22879, 3]), yte.shape: torch.Size([22879])\n"
     ]
    }
   ],
   "source": [
    "import random\n",
    "\n",
    "def build_dataset(data, mode=\"tr\", context_len=3):\n",
    "  \"\"\"\n",
    "  Builds the dataset from the given list of words.\n",
    "  \n",
    "  Args:\n",
    "    data (list): list of words to use\n",
    "    mode (str): mode of the dataset (default: \"tr\" for training)\n",
    "    context_len (int): length of the context window (default: 3)\n",
    "  \"\"\"\n",
    "  \n",
    "  X, y = [], []\n",
    "  \n",
    "  for word in data:\n",
    "    context = [0] * context_len\n",
    "    for ch in word + \".\":\n",
    "      ix = chtoi[ch]\n",
    "      X.append(context)\n",
    "      y.append(ix)\n",
    "      context = context[1:] + [ix]\n",
    "  \n",
    "  X = torch.tensor(X)\n",
    "  y = torch.tensor(y)\n",
    "  \n",
    "  print(f\"X{mode}.shape: {X.shape}, y{mode}.shape: {y.shape}\")\n",
    "  return X, y\n",
    "\n",
    "\n",
    "random.shuffle(names)\n",
    "n1 = int(0.8 * len(names))\n",
    "n2 = int(0.9 * len(names))\n",
    "\n",
    "Xtr, ytr = build_dataset(names[:n1])\n",
    "Xval, yval = build_dataset(names[n1:n2], mode=\"val\")\n",
    "Xte, yte = build_dataset(names[n2:], mode=\"te\")"
   ]
  },
  {
   "cell_type": "code",
   "execution_count": 6,
   "metadata": {},
   "outputs": [],
   "source": [
    "def cmp(s, dt, t):\n",
    "  \"\"\"\n",
    "  Utility function to compare manual and PyTorch gradients\n",
    "\n",
    "  Args:\n",
    "    s (str): name of the tensor\n",
    "    dt (torch.Tensor): manual gradient\n",
    "    t (torch.Tensor): PyTorch gradient\n",
    "  \"\"\"\n",
    "  \n",
    "  ex = torch.all(dt == t.grad).item()\n",
    "  app = torch.allclose(dt, t.grad)\n",
    "  max_diff = (dt - t.grad).abs().max().item()\n",
    "  print(f\"{s:15s} | exact: {str(ex):5s} | approx: {str(app):5s} | max_diff: {max_diff:.2f}\")"
   ]
  },
  {
   "cell_type": "code",
   "execution_count": 7,
   "metadata": {},
   "outputs": [
    {
     "data": {
      "text/plain": [
       "4137"
      ]
     },
     "execution_count": 7,
     "metadata": {},
     "output_type": "execute_result"
    }
   ],
   "source": [
    "import math\n",
    "\n",
    "n_embd = 10         # dimensionality of character embeddings vector\n",
    "n_hidden = 64       # number of neurons in the hidden layer\n",
    "context_len = 3     # length of the context window\n",
    "gain = 5.0 / 3.0    # gain for the Kaiming initialization\n",
    "\n",
    "\"\"\"\n",
    "Parameters are initialized in non-standard ways because initializing them with\n",
    "all zeroes could mask an incorrect implementation of the backpropagation.\n",
    "\n",
    "Using b1 despite batch normalization because it's easier to compare the gradients.\n",
    "\"\"\"\n",
    "\n",
    "C =  torch.randn(vocab_size, n_embd,             requires_grad=True)\n",
    "# Layer 1\n",
    "W1 = torch.randn(n_embd * context_len, n_hidden, requires_grad=True) * gain / math.sqrt(n_embd * context_len)\n",
    "b1 = torch.randn(n_hidden,                       requires_grad=True) * 0.1\n",
    "# Layer 2\n",
    "W2 = torch.randn(n_hidden, vocab_size,           requires_grad=True) * 0.1\n",
    "b2 = torch.randn(vocab_size,                     requires_grad=True) * 0.1\n",
    "# BatchNorm params\n",
    "gamma = torch.randn(1, n_hidden,                 requires_grad=True) * 0.1 + 1.0\n",
    "beta =  torch.randn(1, n_hidden,                 requires_grad=True) * 0.1\n",
    "\n",
    "params = [C, W1, b1, W2, b2, gamma, beta]\n",
    "sum(p.nelement() for p in params)"
   ]
  },
  {
   "cell_type": "code",
   "execution_count": 8,
   "metadata": {},
   "outputs": [],
   "source": [
    "batch_size = 32\n",
    "\n",
    "# construct a mini-batch\n",
    "ix = torch.randint(0, len(Xtr), (batch_size,))\n",
    "Xb, yb = Xtr[ix], ytr[ix]     # batch X, y"
   ]
  },
  {
   "cell_type": "code",
   "execution_count": 9,
   "metadata": {},
   "outputs": [],
   "source": [
    "# manual implementation of forward pass\n",
    "emb = C[Xb]                                                      # embedding characters into vectors\n",
    "embcat = emb.view(emb.shape[0], -1)                              # concatenate embeddings\n",
    "\n",
    "# Linear layer 1\n",
    "hprebn = embcat @ W1 + b1                                        # pre-batchnorm hidden layer"
   ]
  },
  {
   "cell_type": "code",
   "execution_count": 10,
   "metadata": {},
   "outputs": [],
   "source": [
    "# PyTorch implementation of batch normalization\n",
    "hpreact_fast = gamma * (hprebn - hprebn.mean(dim=0, keepdim=True)) / torch.sqrt(hprebn.var(dim=0, keepdim=True, unbiased=True) + 1e-5) + beta"
   ]
  },
  {
   "cell_type": "code",
   "execution_count": 11,
   "metadata": {},
   "outputs": [
    {
     "name": "stdout",
     "output_type": "stream",
     "text": [
      "max diff:  0.0\n"
     ]
    }
   ],
   "source": [
    "# explicit implementation of batch normalization\n",
    "bnmeani = hprebn.mean(dim=0, keepdim=True)\n",
    "bndiff = hprebn - bnmeani\n",
    "bndiffsq = bndiff ** 2\n",
    "bnvar = bndiffsq.sum(dim=0, keepdim=True) / (batch_size - 1)     # Bessel's correction (N-1)\n",
    "bnvar_inv = (bnvar + 1e-5) ** -0.5                               # equivalent to 1.0 / torch.sqrt(bnvar + 1e-5)\n",
    "bnraw = bndiff * bnvar_inv\n",
    "hpreact = gamma * bnraw + beta\n",
    "print(\"max diff: \", round((hpreact - hpreact_fast).abs().max().item(), 4))"
   ]
  },
  {
   "cell_type": "code",
   "execution_count": 12,
   "metadata": {},
   "outputs": [],
   "source": [
    "# non-linearity\n",
    "h = torch.tanh(hpreact)\n",
    "\n",
    "# Linear layer 2\n",
    "logits = h @ W2 + b2                                             # output layer"
   ]
  },
  {
   "cell_type": "code",
   "execution_count": 13,
   "metadata": {},
   "outputs": [
    {
     "data": {
      "text/plain": [
       "tensor(3.4687, grad_fn=<NllLossBackward0>)"
      ]
     },
     "execution_count": 13,
     "metadata": {},
     "output_type": "execute_result"
    }
   ],
   "source": [
    "# PyTorch implementation of cross-entropy loss\n",
    "loss_fast = F.cross_entropy(logits, yb)\n",
    "loss_fast"
   ]
  },
  {
   "cell_type": "code",
   "execution_count": 14,
   "metadata": {},
   "outputs": [
    {
     "name": "stdout",
     "output_type": "stream",
     "text": [
      "3.4687 max diff:  -0.0\n"
     ]
    }
   ],
   "source": [
    "# explicit implementation of cross-entropy loss\n",
    "logits_maxes = logits.max(1, keepdim=True).values\n",
    "norm_logits = logits - logits_maxes                              # subtract max for numerical stability\n",
    "counts = norm_logits.exp()                                       # transform logits into positive values\n",
    "counts_sum = counts.sum(1, keepdim=True)\n",
    "counts_sum_inv = counts_sum ** -1                                # (1.0 / counts_sum) cannot get bit-exact backpropagation\n",
    "probs = counts * counts_sum_inv                                  # transform normalized counts into probabilities\n",
    "log_probs = probs.log()\n",
    "loss = -log_probs[range(batch_size), yb].mean()\n",
    "print(round(loss.item(), 4), \"max diff: \", round(loss_fast.item() - loss.item(), 4))"
   ]
  },
  {
   "cell_type": "code",
   "execution_count": 15,
   "metadata": {},
   "outputs": [
    {
     "data": {
      "text/plain": [
       "tensor(3.4687, grad_fn=<NegBackward0>)"
      ]
     },
     "execution_count": 15,
     "metadata": {},
     "output_type": "execute_result"
    }
   ],
   "source": [
    "# Pytorch gradient computation\n",
    "training_tensors = [log_probs, probs, counts_sum_inv, counts_sum, counts, norm_logits, logits_maxes, logits, h, W2, b2, hpreact, gamma, beta, bnraw, bnvar_inv, bnvar, bndiffsq, bndiff, bnmeani, hprebn, embcat, emb, W1, b1]\n",
    "\n",
    "for t in training_tensors:\n",
    "  t.retain_grad()\n",
    "\n",
    "for p in params:\n",
    "  p.grad = None\n",
    "\n",
    "loss.backward()\n",
    "loss"
   ]
  },
  {
   "cell_type": "markdown",
   "metadata": {},
   "source": [
    "## 1. Atomic compute graph backpropagation\n",
    "\n",
    "Implement backpropagation manually for the entire forward pass compute graph, using atomic operations as building blocks.\n",
    "\n",
    "### Step: Explicit implementation of cross entropy loss"
   ]
  },
  {
   "cell_type": "code",
   "execution_count": 16,
   "metadata": {},
   "outputs": [
    {
     "name": "stdout",
     "output_type": "stream",
     "text": [
      "dloss_dlogprobs | exact: True  | approx: True  | max_diff: 0.00\n"
     ]
    }
   ],
   "source": [
    "\"\"\"\n",
    "interpretation: how loss changes with respect to each of log_probs\n",
    "\n",
    "derivation of log_probs in relation to loss: loss = -log_probs[range(batch_size), yb].mean()\n",
    "loss = - (a + b + c) / n\n",
    "loss = -a/n + -b/n + -c/n\n",
    "dloss_da = -1/n\n",
    "dloss_db = -1/n\n",
    "dloss_dc = -1/n\n",
    "\"\"\"\n",
    "dloss_dlogprobs = torch.zeros_like(log_probs)\n",
    "dloss_dlogprobs[range(batch_size), yb] = -1.0 / batch_size\n",
    "cmp(\"dloss_dlogprobs\", dloss_dlogprobs, log_probs)"
   ]
  },
  {
   "cell_type": "code",
   "execution_count": 17,
   "metadata": {},
   "outputs": [
    {
     "name": "stdout",
     "output_type": "stream",
     "text": [
      "dloss_dprobs    | exact: True  | approx: True  | max_diff: 0.00\n"
     ]
    }
   ],
   "source": [
    "\"\"\"\n",
    "interpretation: how loss changes with respect to each of probs\n",
    "note: intuitively, a high probability character will be simply passed through the chain rule, while a low probability will be boosted to generate a high local gradient.\n",
    "\n",
    "derivation of probs in relation to log_probs: log_probs = probs.log()\n",
    "log_probs = log(a), log(b), log(c)\n",
    "dlogprobs_da = 1/a\n",
    "dlogprobs_db = 1/b\n",
    "dlogprobs_dc = 1/c\n",
    "\n",
    "derivation of probs in relation to loss: dlogprobs_dn * chain_rule\n",
    "\"\"\"\n",
    "dloss_dprobs = 1.0 / probs * dloss_dlogprobs\n",
    "cmp(\"dloss_dprobs\", dloss_dprobs, probs)"
   ]
  },
  {
   "cell_type": "code",
   "execution_count": 18,
   "metadata": {},
   "outputs": [
    {
     "name": "stdout",
     "output_type": "stream",
     "text": [
      "dloss_dcountssuminv | exact: True  | approx: True  | max_diff: 0.00\n"
     ]
    }
   ],
   "source": [
    "\"\"\"\n",
    "interpretation: how loss changes with respect to each of counts_sum_inv\n",
    "\n",
    "derivation of counts_sum_inv in relation to probs: probs = counts * counts_sum_inv\n",
    "probs = a * b\n",
    "dprobs_da = b\n",
    "dprobs_db = a\n",
    "\n",
    "counts.shape: (batch_size, vocab_size)\n",
    "counts_sum_inv.shape: (batch_size, 1)\n",
    "\n",
    "matrix broadcasting with tensors:\n",
    "a[3,2] * b[3,1] ---> c[3,2]\n",
    "a11 * b1, a12 * b1\n",
    "a21 * b2, a22 * b2\n",
    "a31 * b3, a32 * b3\n",
    "\n",
    "derivation of counts_sum_inv in relation to loss: SUM(dprobs_dn * chain_rule) backpropagating through matrix broadcasting\n",
    "\"\"\"\n",
    "dloss_dcountssuminv = (counts * dloss_dprobs).sum(1, keepdim=True)\n",
    "cmp(\"dloss_dcountssuminv\", dloss_dcountssuminv, counts_sum_inv)"
   ]
  },
  {
   "cell_type": "code",
   "execution_count": 19,
   "metadata": {},
   "outputs": [
    {
     "name": "stdout",
     "output_type": "stream",
     "text": [
      "dloss_dcountssum | exact: True  | approx: True  | max_diff: 0.00\n"
     ]
    }
   ],
   "source": [
    "\"\"\"\n",
    "interpretation: how loss changes with respect to each of counts_sum\n",
    "\n",
    "derivation of counts_sum in relation to counts_sum_inv: counts_sum_inv = counts_sum ** -1\n",
    "counts_sum_inv = a^-1\n",
    "dcountssum_da = - a^-2\n",
    "\n",
    "derivation of counts_sum in relation to loss: dcountssum_dn * chain_rule\n",
    "\"\"\"\n",
    "dloss_dcountssum = -counts_sum ** -2 * dloss_dcountssuminv\n",
    "cmp(\"dloss_dcountssum\", dloss_dcountssum, counts_sum)"
   ]
  },
  {
   "cell_type": "code",
   "execution_count": 20,
   "metadata": {},
   "outputs": [
    {
     "name": "stdout",
     "output_type": "stream",
     "text": [
      "dloss_dcounts   | exact: True  | approx: True  | max_diff: 0.00\n"
     ]
    }
   ],
   "source": [
    "\"\"\"\n",
    "interpretation: how loss changes with respect to each of counts\n",
    "note: both probs and counts_sum depend on counts, so we need to backpropagate through both branches\n",
    "\n",
    "(1st branch) derivation of counts in relation to probs: probs = counts * counts_sum_inv\n",
    "probs = a * b\n",
    "dprobs_da = b\n",
    "dprobs_db = a\n",
    "\n",
    "(2nd branch) derivation of counts in relation to counts_sum: counts_sum = counts.sum(1, keepdim=True)\n",
    "counts_sum = a + b + c\n",
    "dcountssum_da = 1\n",
    "dcountssum_db = 1\n",
    "dcountssum_dc = 1\n",
    "\n",
    "counts.shape: (batch_size, vocab_size)\n",
    "counts_sum.shape: (batch_size, 1)\n",
    "\n",
    "matrix broadcasting with tensors:\n",
    "sum(a[3,2]) ---> b[3,1]\n",
    "a11 + a12 ---> b1\n",
    "a21 + a22 ---> b2\n",
    "a31 + a32 ---> b3\n",
    "\n",
    "derivation of counts in relation to loss: dprobs_dn * chain_rule + dcountssum_dn * chain_rule\n",
    "\"\"\"\n",
    "dloss_dcounts = counts_sum_inv * dloss_dprobs + torch.ones_like(counts) * dloss_dcountssum\n",
    "cmp(\"dloss_dcounts\", dloss_dcounts, counts)"
   ]
  },
  {
   "cell_type": "code",
   "execution_count": 21,
   "metadata": {},
   "outputs": [
    {
     "name": "stdout",
     "output_type": "stream",
     "text": [
      "dloss_dnormlogits | exact: True  | approx: True  | max_diff: 0.00\n"
     ]
    }
   ],
   "source": [
    "\"\"\"\n",
    "interpretation: how loss changes with respect to each of norm_logits\n",
    "\n",
    "derivation of norm_logits in relation to counts: counts = norm_logits.exp()\n",
    "counts = e^a\n",
    "dcounts_da = e^a\n",
    "\n",
    "derivation of norm_logits in relation to loss: dcounts_dn * chain_rule\n",
    "\"\"\"\n",
    "dloss_dnormlogits = counts * dloss_dcounts\n",
    "cmp(\"dloss_dnormlogits\", dloss_dnormlogits, norm_logits)"
   ]
  },
  {
   "cell_type": "code",
   "execution_count": 22,
   "metadata": {},
   "outputs": [
    {
     "name": "stdout",
     "output_type": "stream",
     "text": [
      "dloss_dlogitsmaxes | exact: True  | approx: True  | max_diff: 0.00\n"
     ]
    }
   ],
   "source": [
    "\"\"\"\n",
    "interpretation: how loss changes with respect to each of logits_maxes\n",
    "note: logits_maxes are calculated only for numerical stability of softmax function and do not affect the loss. Therefore, the gradient is zero (or close to it, due to floating point precision).\n",
    "\n",
    "derivation of logits_maxes in relation to norm_logits: norm_logits = logits - logits_maxes\n",
    "norm_logits = a + -b\n",
    "dnormlogits_da = 1\n",
    "dnormlogits_db = -1\n",
    "\n",
    "counts.shape: (batch_size, vocab_size)\n",
    "counts_sum_inv.shape: (batch_size, 1)\n",
    "\n",
    "matrix broadcasting with tensors:\n",
    "a[3,2] - b[3,1] ---> c[3,2]\n",
    "a11 - b1, a12 - b1\n",
    "a21 - b2, a22 - b2\n",
    "a31 - b3, a32 - b3\n",
    "\n",
    "derivation of logits_maxes in relation to loss: SUM(dnormlogits_dn * chain_rule) backpropagating through matrix broadcasting\n",
    "\"\"\"\n",
    "dloss_dlogitsmaxes = -dloss_dnormlogits.sum(1, keepdim=True)\n",
    "cmp(\"dloss_dlogitsmaxes\", dloss_dlogitsmaxes, logits_maxes)"
   ]
  },
  {
   "cell_type": "code",
   "execution_count": 23,
   "metadata": {},
   "outputs": [
    {
     "name": "stdout",
     "output_type": "stream",
     "text": [
      "dloss_dlogits   | exact: True  | approx: True  | max_diff: 0.00\n"
     ]
    }
   ],
   "source": [
    "\"\"\"\n",
    "interpretation: how loss changes with respect to each of logits\n",
    "note: both norm_logits and logits_maxes depend on logits, so we need to backpropagate through both branches\n",
    "\n",
    "(1st branch) derivation of logits in relation to norm_logits: check dloss_dlogitsmaxes\n",
    "\n",
    "(2nd branch) derivation of logits in relation to logits_maxes: logits_maxes = logits.max(1, keepdim=True).values\n",
    "logits_maxes = a\n",
    "dlogitsmaxes_da = 1\n",
    "\n",
    "derivation of logits in relation to loss: dnormlogits_dn * chain_rule + dlogitsmaxes_dn * chain_rule\n",
    "\"\"\"\n",
    "dloss_dlogits = dloss_dnormlogits.clone() + F.one_hot(logits.max(dim=1).indices, num_classes=logits.shape[1]) * dloss_dlogitsmaxes\n",
    "cmp(\"dloss_dlogits\", dloss_dlogits, logits)"
   ]
  },
  {
   "cell_type": "code",
   "execution_count": 24,
   "metadata": {},
   "outputs": [
    {
     "data": {
      "text/plain": [
       "Text(0.5, 1.0, 'One-hot encoding of the maximum logits')"
      ]
     },
     "execution_count": 24,
     "metadata": {},
     "output_type": "execute_result"
    },
    {
     "data": {
      "image/png": "[encoded data removed]",
      "text/plain": [
       "<Figure size 640x480 with 1 Axes>"
      ]
     },
     "metadata": {},
     "output_type": "display_data"
    }
   ],
   "source": [
    "plt.imshow(F.one_hot(logits.max(dim=1).indices, num_classes=logits.shape[1]))\n",
    "plt.xlabel(\"logits\")\n",
    "plt.ylabel(\"batch_size\")\n",
    "plt.title(\"One-hot encoding of the maximum logits\")"
   ]
  },
  {
   "cell_type": "markdown",
   "metadata": {},
   "source": [
    "### Step: Linear layer 2"
   ]
  },
  {
   "cell_type": "code",
   "execution_count": 25,
   "metadata": {},
   "outputs": [
    {
     "name": "stdout",
     "output_type": "stream",
     "text": [
      "dloss_dh        | exact: True  | approx: True  | max_diff: 0.00\n",
      "dloss_dW2       | exact: True  | approx: True  | max_diff: 0.00\n",
      "dloss_db2       | exact: True  | approx: True  | max_diff: 0.00\n"
     ]
    }
   ],
   "source": [
    "\"\"\"\n",
    "interpretation: how loss changes with respect to each element of the linear layer: logits = h @ W2 + b2\n",
    "\n",
    "derivation of h in relation to logits: dlogits/dh = W2.T\n",
    "derivation of W2 in relation to logits: dlogits/dW2 = h.T\n",
    "derivation of b2 in relation to logits: dlogits/db2 = 1\n",
    "\n",
    "h.shape: (batch_size, n_hidden)\n",
    "W2.shape: (n_hidden, vocab_size)\n",
    "b2.shape: (vocab_size,)\n",
    "\n",
    "matrix broadcasting with tensors:\n",
    "d[2,2] ---> a[2,2] @ b[2,2] + c[2]\n",
    "d11 = a11 * b11 + a12 * b21 + c1\n",
    "d12 = a11 * b12 + a12 * b22 + c2\n",
    "d21 = a21 * b11 + a22 * b21 + c1\n",
    "d22 = a21 * b12 + a22 * b22 + c2\n",
    "\n",
    "derivation of x in relation to a: dx/da[i,j] = dx/dd[i,j] @ b[i,j].T\n",
    "dx/da11 = dx/dd11 * b11 + dx/dd12 * b12\n",
    "dx/da12 = dx/dd11 * b21 + dx/dd12 * b22\n",
    "dx/da21 = dx/dd21 * b11 + dx/dd22 * b12\n",
    "dx/da22 = dx/dd21 * b21 + dx/dd22 * b22\n",
    "\n",
    "derivation of x in relation to b: dx/db[i, j] = a[i, j].T @ dx/dd[i, j]\n",
    "\n",
    "derivation of x in relation to c: dx/dc[i] = dx/dd[i].sum(dim=0)\n",
    "dx/dc1 = dx/dd11 * 1 + dx/dd21 * 1\n",
    "dx/dc2 = dx/dd12 * 1 + dx/dd22 * 1\n",
    "\n",
    "derivation of h in relation to loss: chain rule @ W2.T\n",
    "derivation of W2 in relation to loss: h.T @ chain rule\n",
    "derivation of b2 in relation to loss: SUM(chain rule) @ 1\n",
    "\"\"\"\n",
    "dloss_dh = dloss_dlogits @ W2.T\n",
    "dloss_dW2 = h.T @ dloss_dlogits\n",
    "dloss_db2 = dloss_dlogits.sum(dim=0)\n",
    "cmp(\"dloss_dh\", dloss_dh, h)\n",
    "cmp(\"dloss_dW2\", dloss_dW2, W2)\n",
    "cmp(\"dloss_db2\", dloss_db2, b2)"
   ]
  },
  {
   "cell_type": "markdown",
   "metadata": {},
   "source": [
    "### Step: Non-linearity"
   ]
  },
  {
   "cell_type": "code",
   "execution_count": 26,
   "metadata": {},
   "outputs": [
    {
     "name": "stdout",
     "output_type": "stream",
     "text": [
      "dloss_dhpreact  | exact: True  | approx: True  | max_diff: 0.00\n"
     ]
    }
   ],
   "source": [
    "\"\"\"\n",
    "interpretation: how loss changes with respect to each output of the first layer before activation (hpreact)\n",
    "\n",
    "derivation of hpreact in relation to h: h = torch.tanh(hpreact)\n",
    "h = tanh(a)\n",
    "dh_da = 1 - h^2\n",
    "\n",
    "derivation of hpreact in relation to loss: dh_dn * chain_rule\n",
    "\"\"\"\n",
    "dloss_dhpreact = (1.0 - h ** 2) * dloss_dh\n",
    "cmp(\"dloss_dhpreact\", dloss_dhpreact, hpreact)"
   ]
  },
  {
   "cell_type": "markdown",
   "metadata": {},
   "source": [
    "### Step: Batch Normalization"
   ]
  },
  {
   "cell_type": "code",
   "execution_count": 27,
   "metadata": {},
   "outputs": [
    {
     "name": "stdout",
     "output_type": "stream",
     "text": [
      "dloss_dgamma    | exact: True  | approx: True  | max_diff: 0.00\n",
      "dloss_dbnraw    | exact: True  | approx: True  | max_diff: 0.00\n",
      "dloss_dbeta     | exact: True  | approx: True  | max_diff: 0.00\n"
     ]
    }
   ],
   "source": [
    "\"\"\"\n",
    "interpretation: how loss changes with respect to each element of the batch normalization output: hpreact = gamma * bnraw + beta\n",
    "\n",
    "derivation of gamma in relation to hpreact:\n",
    "hpreact = a * b + c\n",
    "dpreact_da = b\n",
    "dpreact_db = a\n",
    "\n",
    "derivation of bnraw in relation to hpreact: see above\n",
    "\n",
    "derivation of beta in relation to hpreact:\n",
    "dpreact_dc = 1\n",
    "\n",
    "gamma.shape: (1, n_hidden)\n",
    "bnraw.shape: (batch_size, n_hidden)\n",
    "beta.shape: (1, n_hidden)\n",
    "\n",
    "derivation of gamma in relation to loss: SUM(dpreact_dn * chain_rule) backpropagating through matrix broadcasting\n",
    "derivation of bnraw in relation to loss: dpreact_dn * chain_rule\n",
    "derivation of beta in relation to loss: SUM(dpreact_dn * chain_rule) backpropagating through matrix broadcasting\n",
    "\"\"\"\n",
    "dloss_dgamma = (bnraw * dloss_dhpreact).sum(dim=0, keepdim=True)\n",
    "dloss_dbnraw = (gamma * dloss_dhpreact)\n",
    "dloss_dbeta = dloss_dhpreact.sum(dim=0, keepdim=True)\n",
    "cmp(\"dloss_dgamma\", dloss_dgamma, gamma)\n",
    "cmp(\"dloss_dbnraw\", dloss_dbnraw, bnraw)\n",
    "cmp(\"dloss_dbeta\", dloss_dbeta, beta)"
   ]
  },
  {
   "cell_type": "code",
   "execution_count": 28,
   "metadata": {},
   "outputs": [
    {
     "name": "stdout",
     "output_type": "stream",
     "text": [
      "dloss_dbnvarinv | exact: True  | approx: True  | max_diff: 0.00\n"
     ]
    }
   ],
   "source": [
    "\"\"\"\n",
    "interpretation: how loss changes with respect to each of bnvar_inv\n",
    "\n",
    "derivation of bnvar_inv in relation to bnraw: bnraw = bndiff * bnvar_inv\n",
    "bnraw = a * b\n",
    "dbnraw_da = b\n",
    "dbnraw_db = a\n",
    "\n",
    "derivation of bnvar_inv in relation to loss: SUM(dbnraw_dn * chain_rule) backpropagating through matrix broadcasting\n",
    "\"\"\"\n",
    "dloss_dbnvarinv = (bndiff * dloss_dbnraw).sum(dim=0, keepdim=True)\n",
    "cmp(\"dloss_dbnvarinv\", dloss_dbnvarinv, bnvar_inv)"
   ]
  },
  {
   "cell_type": "code",
   "execution_count": 29,
   "metadata": {},
   "outputs": [
    {
     "name": "stdout",
     "output_type": "stream",
     "text": [
      "dloss_dbnvar    | exact: True  | approx: True  | max_diff: 0.00\n"
     ]
    }
   ],
   "source": [
    "\"\"\"\n",
    "interpretation: how loss changes with respect to each of bnvar\n",
    "\n",
    "derivation of bnvar in relation to bnvar_inv: bnvar_inv = (bnvar + 1e-5)^-0.5\n",
    "bnvar_inv = a^b\n",
    "dbnvarinv_da = b * a^(b-1)\n",
    "\n",
    "derivation of bnvar in relation to loss: dbnvarinv_dn * chain_rule\n",
    "\"\"\"\n",
    "dloss_dbnvar = -0.5 * (bnvar + 1e-5) ** (-0.5 - 1) * dloss_dbnvarinv\n",
    "cmp(\"dloss_dbnvar\", dloss_dbnvar, bnvar)"
   ]
  },
  {
   "cell_type": "code",
   "execution_count": 30,
   "metadata": {},
   "outputs": [
    {
     "name": "stdout",
     "output_type": "stream",
     "text": [
      "dloss_dbndiffsq | exact: True  | approx: True  | max_diff: 0.00\n"
     ]
    }
   ],
   "source": [
    "\"\"\"\n",
    "interpretation: how loss changes with respect to each of bndiffsq\n",
    "\n",
    "derivation of bndiffsq in relation to bnvar: bnvar = bndiffsq.sum(dim=0, keepdim=True) / (batch_size - 1)\n",
    "bnvar = (a + b + c) / (n - 1)\n",
    "dbnvar_dn = 1 / (n - 1)\n",
    "\n",
    "derivation of bndiffsq in relation to loss: dbnvar_dn * chain_rule\n",
    "\"\"\"\n",
    "dloss_dbndiffsq = torch.ones_like(bndiffsq) * dloss_dbnvar / (batch_size - 1)\n",
    "cmp(\"dloss_dbndiffsq\", dloss_dbndiffsq, bndiffsq)"
   ]
  },
  {
   "cell_type": "code",
   "execution_count": 31,
   "metadata": {},
   "outputs": [
    {
     "name": "stdout",
     "output_type": "stream",
     "text": [
      "dloss_dbndiff   | exact: True  | approx: True  | max_diff: 0.00\n"
     ]
    }
   ],
   "source": [
    "\"\"\"\n",
    "interpretation: how loss changes with respect to each of bndiff\n",
    "note: both bnraw and bndiffsq depend on counts, so we need to backpropagate through both branches\n",
    "\n",
    "(1st branch) derivation of bndiff in relation to bnraw: bnraw = bndiff * bnvar_inv\n",
    "bnraw = a * b\n",
    "dbnraw_da = b\n",
    "dbnraw_db = a\n",
    "\n",
    "(2nd branch) derivation of bndiff in relation to bndiffsq: bndiffsq = bndiff^2\n",
    "bndiffsq = a^2\n",
    "dbndiffsq_da = 2a\n",
    "\n",
    "derivation of bndiff in relation to loss: dbnraw_dn * chain_rule + dbndiffsq_dn * chain_rule\n",
    "\"\"\"\n",
    "dloss_dbndiff = bnvar_inv * dloss_dbnraw + 2 * bndiff * dloss_dbndiffsq\n",
    "cmp(\"dloss_dbndiff\", dloss_dbndiff, bndiff)"
   ]
  },
  {
   "cell_type": "code",
   "execution_count": 32,
   "metadata": {},
   "outputs": [
    {
     "name": "stdout",
     "output_type": "stream",
     "text": [
      "dloss_dbnmeani  | exact: True  | approx: True  | max_diff: 0.00\n"
     ]
    }
   ],
   "source": [
    "\"\"\"\n",
    "interpretation: how loss changes with respect to each of bnmeani\n",
    "\n",
    "derivation of bnmeani in relation to bndiff: bndiff = hprebn - bnmeani\n",
    "bndiff = a + -b\n",
    "dbndiff_da = 1\n",
    "dbndiff_db = -1\n",
    "\n",
    "derivation of bnmeani in relation to loss: SUM(-1.0 * chain_rule) backpropagating through matrix broadcasting\n",
    "\"\"\"\n",
    "dloss_dbnmeani = -dloss_dbndiff.sum(dim=0, keepdim=True)\n",
    "cmp(\"dloss_dbnmeani\", dloss_dbnmeani, bnmeani)"
   ]
  },
  {
   "cell_type": "code",
   "execution_count": 33,
   "metadata": {},
   "outputs": [
    {
     "name": "stdout",
     "output_type": "stream",
     "text": [
      "dloss_dhprebn   | exact: True  | approx: True  | max_diff: 0.00\n"
     ]
    }
   ],
   "source": [
    "\"\"\"\n",
    "interpretation: how loss changes with respect to each of hprebn\n",
    "note: both bndiff and bnmeani depend on hprebn, so we need to backpropagate through both branches\n",
    "\n",
    "(1st branch) derivation of hprebn in relation to bndiff: bndiff = hprebn - bnmeani\n",
    "bndiff = a + -b\n",
    "dbndiff_da = 1\n",
    "dbndiff_db = -1\n",
    "\n",
    "(2nd branch) derivation of hprebn in relation to bnmeani: bnmeani = hprebn.mean(dim=0, keepdim=True)\n",
    "bnmeani = (a + b) / 2\n",
    "dbnmeani_da = 1 / 2\n",
    "\n",
    "derivation of hprebn in relation to loss: 1.0 * chain_rule + dbnmeani_dn * chain_rule\n",
    "\"\"\"\n",
    "dloss_dhprebn = dloss_dbndiff.clone() + torch.ones_like(hprebn) / hprebn.shape[0] * dloss_dbnmeani\n",
    "cmp(\"dloss_dhprebn\", dloss_dhprebn, hprebn)"
   ]
  },
  {
   "cell_type": "markdown",
   "metadata": {},
   "source": [
    "### Step: Linear layer 1"
   ]
  },
  {
   "cell_type": "code",
   "execution_count": 34,
   "metadata": {},
   "outputs": [
    {
     "name": "stdout",
     "output_type": "stream",
     "text": [
      "dloss_dembcat   | exact: True  | approx: True  | max_diff: 0.00\n",
      "dloss_dW1       | exact: True  | approx: True  | max_diff: 0.00\n",
      "dloss_db1       | exact: True  | approx: True  | max_diff: 0.00\n"
     ]
    }
   ],
   "source": [
    "\"\"\"\n",
    "interpretation: how loss changes with respect to each element of the linear layer: hprebn = embcat @ W1 + b1    \n",
    "\n",
    "derivation of embcat in relation to hprebn: dhprebn/dembcat = W1.T\n",
    "derivation of W1 in relation to hprebn: dhprebn/dW1 = embcat.T\n",
    "derivation of b1 in relation to hprebn: dhprebn/db1 = 1\n",
    "\n",
    "derivation of embcat in relation to loss: chain rule @ W1.T\n",
    "derivation of W1 in relation to loss: embcat.T @ chain rule\n",
    "derivation of b1 in relation to loss: SUM(chain rule) @ 1\n",
    "\"\"\"\n",
    "dloss_dembcat = dloss_dhprebn @ W1.T\n",
    "dloss_dW1 = embcat.T @ dloss_dhprebn\n",
    "dloss_db1 = dloss_dhprebn.sum(dim=0)\n",
    "cmp(\"dloss_dembcat\", dloss_dembcat, embcat)\n",
    "cmp(\"dloss_dW1\", dloss_dW1, W1)\n",
    "cmp(\"dloss_db1\", dloss_db1, b1)"
   ]
  },
  {
   "cell_type": "markdown",
   "metadata": {},
   "source": [
    "### Step: Setup the forward pass"
   ]
  },
  {
   "cell_type": "code",
   "execution_count": 35,
   "metadata": {},
   "outputs": [
    {
     "name": "stdout",
     "output_type": "stream",
     "text": [
      "dloss_demb      | exact: True  | approx: True  | max_diff: 0.00\n"
     ]
    }
   ],
   "source": [
    "\"\"\"\n",
    "interpretation: how loss changes with respect to each of emb\n",
    "\n",
    "derivation of emb in relation to loss: embcat = emb.view(emb.shape[0], -1)    \n",
    "note: embcat is a reshaped version of emb and its derivative is the undo of the reshape\n",
    "\"\"\"\n",
    "dloss_demb = dloss_dembcat.view(emb.shape)\n",
    "cmp(\"dloss_demb\", dloss_demb, emb)"
   ]
  },
  {
   "cell_type": "code",
   "execution_count": 36,
   "metadata": {},
   "outputs": [
    {
     "name": "stdout",
     "output_type": "stream",
     "text": [
      "dloss_dC        | exact: True  | approx: True  | max_diff: 0.00\n"
     ]
    }
   ],
   "source": [
    "\"\"\"\n",
    "interpretation: how loss changes with respect to each of C\n",
    "\n",
    "derivation of C in relation to emb: emb = C[Xb]     \n",
    "note: emb is the result of an indexing operation and its derivative is the undo of the indexing\n",
    "\n",
    "emb.shape: (batch_size, context_len, n_embd)\n",
    "C.shape: (vocab_size, n_embd)\n",
    "Xb.shape: (batch_size, context_len)\n",
    "\"\"\"\n",
    "dloss_dC = torch.zeros_like(C)\n",
    "for k in range(Xb.shape[0]):\n",
    "  for j in range(Xb.shape[1]):\n",
    "    ix = Xb[k, j]\n",
    "    dloss_dC[ix] += dloss_demb[k, j]\n",
    "cmp(\"dloss_dC\", dloss_dC, C)"
   ]
  },
  {
   "cell_type": "markdown",
   "metadata": {},
   "source": [
    "## 2. Cross entropy backpropagation in one go\n",
    "\n",
    "The atomic computation performed above is inefficient. For example, the cross entropy loss could be calculated as a single operation that can be backpropagated in one go.\n",
    "\n",
    "<img src=\"../assets/nn-strut.jpg\" width=\"700\"/>\n",
    "\n",
    "Considering the structure above, to backward propagate the loss all the way to logits in one step for a single individual example:\n",
    "\n",
    "$\\text{loss} = -\\log P(y)$, where $P$ is the softmax vector output, and $y$ is the true label position in the vector.\n",
    "\n",
    "$P(i) = \\frac{e^{l_i}}{\\sum_{j} e^{l_j}}$, where $l$ is the logits vector, and $i$ is the position in the vector.\n",
    "\n",
    "The derivative of the loss with respect to the i-th logit is: $\\frac{\\partial \\text{loss}}{\\partial l_i} = \\frac{\\partial \\text{loss}}{\\partial l_i}[-\\log \\frac{e^{l_i}}{\\sum_{j} e^{l_j}}]$. Deriving this expression, we get: $\\frac{\\partial \\text{loss}}{\\partial l_i} = P(i) - 1(y=i)$, where $1(y=i)$ is the indicator function that is 1 when $y=i$, and 0 otherwise."
   ]
  },
  {
   "cell_type": "code",
   "execution_count": 37,
   "metadata": {},
   "outputs": [
    {
     "name": "stdout",
     "output_type": "stream",
     "text": [
      "dloss_dlogits_fast | exact: False | approx: True  | max_diff: 0.00\n"
     ]
    }
   ],
   "source": [
    "# The match is not exact due to the floating point precision\n",
    "dloss_dlogits_fast = F.softmax(logits, dim=1)\n",
    "dloss_dlogits_fast[range(batch_size), yb] -= 1.0\n",
    "dloss_dlogits_fast /= batch_size\n",
    "cmp(\"dloss_dlogits_fast\", dloss_dlogits_fast, logits)"
   ]
  },
  {
   "cell_type": "code",
   "execution_count": 38,
   "metadata": {},
   "outputs": [
    {
     "name": "stdout",
     "output_type": "stream",
     "text": [
      "First row of probabilities:  [0.05460495 0.01869192 0.06089635 0.01185056 0.01790318 0.04536892\n",
      " 0.02940609 0.04925381 0.03800049 0.02144133 0.01881717 0.01339234\n",
      " 0.04546446 0.09663055 0.02534464 0.03392309 0.03320727 0.03450454\n",
      " 0.07901236 0.01965421 0.05352899 0.03588085 0.02504592 0.03852617\n",
      " 0.02083166 0.03107048 0.04774765]\n",
      "First row of dloss_dlogits:  [ 0.05460495  0.01869192  0.06089636  0.01185056  0.01790318  0.04536892\n",
      "  0.02940609  0.04925381  0.03800049  0.02144133  0.01881717  0.01339234\n",
      "  0.04546446  0.09663058 -0.9746554   0.03392309  0.03320728  0.03450454\n",
      "  0.07901236  0.01965421  0.053529    0.03588085  0.02504592  0.03852617\n",
      "  0.02083166  0.03107048  0.04774765]\n",
      "Sum of first row of dloss_dlogits:  -6.984919309616089e-10\n"
     ]
    },
    {
     "data": {
      "image/png": "[encoded data removed]",
      "text/plain": [
       "<Figure size 600x600 with 1 Axes>"
      ]
     },
     "metadata": {},
     "output_type": "display_data"
    }
   ],
   "source": [
    "\"\"\"\n",
    "Interpretation: the black squares are the positions of the correct character in each row, where 1.0 was subtracted from the softmax output.\n",
    "                Consider the gradients at each cell like a `force`, pulling down on the probabilities of the incorrect characters and pushing up on the probability of the correct character. The amount of force (pull and push) is exactly equalized across the row, so that the sum of the forces is zero (ie. repulsion and attraction are equal). Think of the neural net as a massive pulley system, where the forces are balanced across the row, so that the net doesn't move in any direction. This is the essence of the backpropagation algorithm.\n",
    "\n",
    "                For example, if the probability came out exactly correct, the vector would have zeroes everywhere, except for a one at the correct position, resulting in dloss_dlogits being a vector of only zeroes (no pull or push). On the other hand, a very confidently misprediction would be pulled down very heavily and the correct answer will be pushed up by the same amount, while the remaining characters will not be influenced too much.\n",
    "\"\"\"\n",
    "print(\"First row of probabilities: \", F.softmax(logits, dim=1)[0].detach().numpy())\n",
    "print(\"First row of dloss_dlogits: \", (dloss_dlogits[0] * batch_size).detach().numpy())\n",
    "print(\"Sum of first row of dloss_dlogits: \", dloss_dlogits[0].sum().item())\n",
    "\n",
    "plt.figure(figsize=(6, 6))\n",
    "plt.imshow(dloss_dlogits_fast.detach(), cmap=\"gray\")\n",
    "plt.title(\"dloss_dlogits\")\n",
    "plt.xlabel(\"vocab_size\")\n",
    "plt.ylabel(\"batch_size\");"
   ]
  },
  {
   "cell_type": "markdown",
   "metadata": {},
   "source": [
    "## 3. Batch normalization in one go\n",
    "\n",
    "In order to calculate the $\\frac{\\partial \\text{loss}}{\\partial x_i}$ for the batch normalization layer in a single step, consider the algorithm implementation below, from the Batch Norm paper:\n",
    "\n",
    "<img src=\"../assets/batch-norm-algo.jpg\" width=\"400\"/>\n",
    "\n",
    "In this exercise, the algorithm was implemented as shown above, except that it used Bessel's correction for the variance calculation.\n",
    "\n",
    "After all the required derivations (not trivial), the final expression for the derivative of the loss with respect to the input of the batch normalization layer is:\n",
    "\n",
    "$\\frac{\\partial \\text{loss}}{\\partial x_i} = \\frac{\\gamma(\\sigma^2 + \\epsilon)^{-1/2}}{m}[m \\frac{\\partial \\text{loss}}{\\partial y_i} - \\sum_{j} \\frac{\\partial \\text{loss}}{\\partial y_j} - \\frac{m}{m-1} \\hat{x}_i \\sum_{j} \\frac{\\partial \\text{loss}}{\\partial y_i} \\hat{x}_j]$, where $j$ is the local iterator over the batch, representing the index of the elements in the batch."
   ]
  },
  {
   "cell_type": "code",
   "execution_count": 39,
   "metadata": {},
   "outputs": [
    {
     "name": "stdout",
     "output_type": "stream",
     "text": [
      "dloss_dhprebn_fast | exact: False | approx: True  | max_diff: 0.00\n"
     ]
    }
   ],
   "source": [
    "# The match is not exact due to the floating point precision\n",
    "dloss_dhprebn_fast = gamma * bnvar_inv / batch_size * (batch_size * dloss_dhpreact - dloss_dhpreact.sum(dim=0) \\\n",
    "                                                       - batch_size / (batch_size - 1) * bnraw * (dloss_dhpreact * bnraw).sum(dim=0))\n",
    "cmp(\"dloss_dhprebn_fast\", dloss_dhprebn_fast, hprebn)"
   ]
  },
  {
   "cell_type": "markdown",
   "metadata": {},
   "source": [
    "## 4. Putting it all together\n",
    "\n",
    "Train the neural network with the self implemented backpropagation algorithm."
   ]
  },
  {
   "cell_type": "code",
   "execution_count": 40,
   "metadata": {},
   "outputs": [],
   "source": [
    "n_embd = 10         # dimensionality of character embeddings vector\n",
    "n_hidden = 200      # number of neurons in the hidden layer\n",
    "\n",
    "C =  torch.randn(vocab_size, n_embd)\n",
    "# Layer 1\n",
    "W1 = torch.randn(n_embd * context_len, n_hidden) * gain / math.sqrt(n_embd * context_len)\n",
    "b1 = torch.randn(n_hidden) * 0.1\n",
    "# Layer 2\n",
    "W2 = torch.randn(n_hidden, vocab_size) * 0.1\n",
    "b2 = torch.randn(vocab_size) * 0.1\n",
    "# BatchNorm params\n",
    "gamma = torch.randn(1, n_hidden) * 0.1 + 1.0\n",
    "beta =  torch.randn(1, n_hidden) * 0.1\n",
    "\n",
    "params = [C, W1, b1, W2, b2, gamma, beta]\n",
    "for p in params:\n",
    "  p.requires_grad = False\n",
    "\n",
    "# optimization hyperparameters\n",
    "max_epochs = 200_000\n",
    "batch_size = 32\n",
    "lossi = []"
   ]
  },
  {
   "cell_type": "code",
   "execution_count": 41,
   "metadata": {},
   "outputs": [
    {
     "name": "stdout",
     "output_type": "stream",
     "text": [
      "Epoch      0 / 200000: loss = 3.5745\n",
      "Epoch  25000 / 200000: loss = 1.9827\n",
      "Epoch  50000 / 200000: loss = 2.0217\n",
      "Epoch  75000 / 200000: loss = 2.1881\n",
      "Epoch 100000 / 200000: loss = 2.2718\n",
      "Epoch 125000 / 200000: loss = 2.5477\n",
      "Epoch 150000 / 200000: loss = 1.8672\n",
      "Epoch 175000 / 200000: loss = 2.0027\n"
     ]
    }
   ],
   "source": [
    "with torch.no_grad():\n",
    "  for epoch in range(max_epochs):\n",
    "    # construct a mini-batch\n",
    "    ix = torch.randint(0, len(Xtr), (batch_size,))\n",
    "    Xb, yb = Xtr[ix], ytr[ix]            # batch X, y\n",
    "\n",
    "    # forward pass\n",
    "    emb = C[Xb]                          # embedding characters into vectors\n",
    "    embcat = emb.view(emb.shape[0], -1)  # concatenate embeddings\n",
    "\n",
    "    # Linear layer 1\n",
    "    hprebn = embcat @ W1 + b1            # pre-batchnorm hidden layer\n",
    "\n",
    "    # Batch normalization\n",
    "    bnmean = hprebn.mean(dim=0, keepdim=True)\n",
    "    bnvar = hprebn.var(dim=0, keepdim=True, unbiased=True)\n",
    "    bnvar_inv = (bnvar + 1e-5) ** -0.5\n",
    "    bnraw = (hprebn - bnmean) * bnvar_inv\n",
    "    hpreact = gamma * bnraw + beta\n",
    "\n",
    "    # non-linearity\n",
    "    h = torch.tanh(hpreact)\n",
    "    logits = h @ W2 + b2                 # output layer\n",
    "    loss = F.cross_entropy(logits, yb)   # cross-entropy loss\n",
    "\n",
    "    # backward pass\n",
    "    for p in params:\n",
    "      p.grad = None\n",
    "\n",
    "    # manual backpropagation\n",
    "    dloss_dlogits = F.softmax(logits, dim=1)\n",
    "    dloss_dlogits[range(batch_size), yb] -= 1.0\n",
    "    dloss_dlogits /= batch_size\n",
    "\n",
    "    dloss_dh = dloss_dlogits @ W2.T\n",
    "    dloss_dW2 = h.T @ dloss_dlogits\n",
    "    dloss_db2 = dloss_dlogits.sum(dim=0)\n",
    "\n",
    "    dloss_dhpreact = (1.0 - h ** 2) * dloss_dh\n",
    "\n",
    "    dloss_dgamma = (bnraw * dloss_dhpreact).sum(dim=0, keepdim=True)\n",
    "    dloss_dbeta = dloss_dhpreact.sum(dim=0, keepdim=True)\n",
    "    dloss_dhprebn = gamma * bnvar_inv / batch_size * (batch_size * dloss_dhpreact - dloss_dhpreact.sum(dim=0) \\\n",
    "                                                      - batch_size / (batch_size - 1) * bnraw * (dloss_dhpreact * bnraw).sum(dim=0))\n",
    "    \n",
    "    dloss_dembcat = dloss_dhprebn @ W1.T\n",
    "    dloss_dW1 = embcat.T @ dloss_dhprebn\n",
    "    dloss_db1 = dloss_dhprebn.sum(dim=0)\n",
    "\n",
    "    dloss_demb = dloss_dembcat.view(emb.shape)\n",
    "    dloss_dC = torch.zeros_like(C)\n",
    "    for k in range(Xb.shape[0]):\n",
    "      for j in range(Xb.shape[1]):\n",
    "        ix = Xb[k, j]\n",
    "        dloss_dC[ix] += dloss_demb[k, j]\n",
    "\n",
    "    # update the parameters\n",
    "    grads = [dloss_dC, dloss_dW1, dloss_db1, dloss_dW2, dloss_db2, dloss_dgamma, dloss_dbeta]\n",
    "    lr = 0.1 if epoch < 100_000 else 0.01 \n",
    "    for p, grad in zip(params, grads):\n",
    "      p.data += -lr * grad\n",
    "\n",
    "    # track stats\n",
    "    if epoch % 25_000 == 0:\n",
    "      print(f\"Epoch {epoch:6d} / {max_epochs}: loss = {loss.item():.4f}\")\n",
    "    lossi.append(loss.item())"
   ]
  },
  {
   "cell_type": "code",
   "execution_count": 42,
   "metadata": {},
   "outputs": [],
   "source": [
    "# calibrate batch normalization parameters\n",
    "with torch.no_grad():\n",
    "  # pass the entire dataset through the network\n",
    "  emb = C[Xtr]                          # embedding characters into vectors\n",
    "  embcat = emb.view(emb.shape[0], -1)   # concatenate embeddings\n",
    "  hprebn = embcat @ W1 + b1             # pre-batchnorm hidden layer\n",
    "  # measure the mean and variance of the hidden layer\n",
    "  bnmean = hprebn.mean(dim=0, keepdim=True)\n",
    "  bnvar = hprebn.var(dim=0, keepdim=True, unbiased=True)"
   ]
  },
  {
   "cell_type": "code",
   "execution_count": 43,
   "metadata": {},
   "outputs": [
    {
     "name": "stdout",
     "output_type": "stream",
     "text": [
      "loss_tr: 2.0711\n",
      "loss_val: 2.1296\n"
     ]
    }
   ],
   "source": [
    "# evaluate train and validation loss\n",
    "@torch.no_grad()\n",
    "def split_loss(split):\n",
    "  X, y = {\n",
    "    \"tr\": (Xtr, ytr),\n",
    "    \"val\": (Xval, yval),\n",
    "    \"te\": (Xte, yte)\n",
    "  }[split]\n",
    "  emb = C[X]                         \n",
    "  embcat = emb.view(emb.shape[0], -1)\n",
    "  hprebn = embcat @ W1 + b1          \n",
    "  hpreact = gamma * (hprebn - bnmean) / torch.sqrt(bnvar + 1e-5) + beta\n",
    "  h = torch.tanh(hpreact)\n",
    "  logits = h @ W2 + b2\n",
    "  loss = F.cross_entropy(logits, y)\n",
    "  print(f\"loss_{split}: {loss.item():.4f}\")\n",
    "\n",
    "split_loss(\"tr\")\n",
    "split_loss(\"val\")"
   ]
  },
  {
   "cell_type": "markdown",
   "metadata": {},
   "source": [
    "# Sources\n",
    "\n",
    "1. [Ground truth - Building makemore Part 4: Becoming a Backprop Ninja, By Andrej Karpathy](https://www.youtube.com/watch?v=q8SA3rM6ckI&t=6s)\n",
    "2. [Yes, you should understand backprop, By Andrej Karpathy](https://karpathy.medium.com/yes-you-should-understand-backprop-e2f06eab496b)\n",
    "3. [Bessel's Correction](https://math.oxford.emory.edu/site/math117/besselCorrection/)\n",
    "4. [Reducing the Dimensionality of Data with Neural Networks, By G. Hinton](https://www.cs.toronto.edu/~hinton/absps/science.pdf)\n",
    "5. Karpathy, Andrej; Li, Fei-Fei. Deep Fragment Embeddings for Bidirectional Image Sentence Mapping, 2014. URL: https://arxiv.org/pdf/1406.5679.pdf"
   ]
  }
 ],
 "metadata": {
  "kernelspec": {
   "display_name": "ai-cookbook-DNsoNefS",
   "language": "python",
   "name": "python3"
  },
  "language_info": {
   "codemirror_mode": {
    "name": "ipython",
    "version": 3
   },
   "file_extension": ".py",
   "mimetype": "text/x-python",
   "name": "python",
   "nbconvert_exporter": "python",
   "pygments_lexer": "ipython3",
   "version": "3.9.6"
  }
 },
 "nbformat": 4,
 "nbformat_minor": 2
}
