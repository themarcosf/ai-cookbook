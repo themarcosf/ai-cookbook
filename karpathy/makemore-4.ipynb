{
 "cells": [
  {
   "cell_type": "markdown",
   "metadata": {},
   "source": [
    "## Starter code"
   ]
  },
  {
   "cell_type": "code",
   "execution_count": 1,
   "metadata": {},
   "outputs": [],
   "source": [
    "import torch\n",
    "import torch.nn.functional as F\n",
    "import matplotlib.pyplot as plt\n",
    "%matplotlib inline"
   ]
  },
  {
   "cell_type": "code",
   "execution_count": 2,
   "metadata": {},
   "outputs": [
    {
     "data": {
      "text/plain": [
       "['emma', 'olivia', 'ava', 'isabella', 'sophia']"
      ]
     },
     "execution_count": 2,
     "metadata": {},
     "output_type": "execute_result"
    }
   ],
   "source": [
    "import json\n",
    "\n",
    "names = json.loads(open(\"../data/names.txt\", \"r\").read())\n",
    "names = names[\"payload\"][\"blob\"][\"rawLines\"]\n",
    "names[:5]"
   ]
  },
  {
   "cell_type": "code",
   "execution_count": 3,
   "metadata": {},
   "outputs": [
    {
     "name": "stdout",
     "output_type": "stream",
     "text": [
      "Length of dataset:  32033\n"
     ]
    }
   ],
   "source": [
    "print(\"Length of dataset: \", len(names))"
   ]
  },
  {
   "cell_type": "code",
   "execution_count": 4,
   "metadata": {},
   "outputs": [
    {
     "name": "stdout",
     "output_type": "stream",
     "text": [
      "chtoi:  {'a': 1, 'b': 2, 'c': 3, 'd': 4, 'e': 5, 'f': 6, 'g': 7, 'h': 8, 'i': 9, 'j': 10, 'k': 11, 'l': 12, 'm': 13, 'n': 14, 'o': 15, 'p': 16, 'q': 17, 'r': 18, 's': 19, 't': 20, 'u': 21, 'v': 22, 'w': 23, 'x': 24, 'y': 25, 'z': 26, '.': 0}\n",
      "itoch:  {1: 'a', 2: 'b', 3: 'c', 4: 'd', 5: 'e', 6: 'f', 7: 'g', 8: 'h', 9: 'i', 10: 'j', 11: 'k', 12: 'l', 13: 'm', 14: 'n', 15: 'o', 16: 'p', 17: 'q', 18: 'r', 19: 's', 20: 't', 21: 'u', 22: 'v', 23: 'w', 24: 'x', 25: 'y', 26: 'z', 0: '.'}\n",
      "vocab_size:  27\n"
     ]
    }
   ],
   "source": [
    "# build the vocabulary of characters and mappings to/from integers\n",
    "chars = sorted(list(set(\"\".join(names))))\n",
    "chtoi = {ch:i+1 for i, ch in enumerate(chars)}\n",
    "chtoi[\".\"] = 0\n",
    "itoch = {i:ch for ch, i in chtoi.items()}\n",
    "vocab_size = len(chtoi)\n",
    "print(\"chtoi: \", chtoi)\n",
    "print(\"itoch: \", itoch)\n",
    "print(\"vocab_size: \", vocab_size)"
   ]
  },
  {
   "cell_type": "code",
   "execution_count": 5,
   "metadata": {},
   "outputs": [
    {
     "name": "stdout",
     "output_type": "stream",
     "text": [
      "Xtr.shape: torch.Size([182413, 3]), ytr.shape: torch.Size([182413])\n",
      "Xval.shape: torch.Size([22822, 3]), yval.shape: torch.Size([22822])\n",
      "Xte.shape: torch.Size([22911, 3]), yte.shape: torch.Size([22911])\n"
     ]
    }
   ],
   "source": [
    "import random\n",
    "\n",
    "def build_dataset(data, mode=\"tr\", context_len=3):\n",
    "  \"\"\"\n",
    "  Builds the dataset from the given list of words.\n",
    "  \n",
    "  Args:\n",
    "    data (list): list of words to use\n",
    "    mode (str): mode of the dataset (default: \"tr\" for training)\n",
    "    context_len (int): length of the context window (default: 3)\n",
    "  \"\"\"\n",
    "  \n",
    "  X, y = [], []\n",
    "  \n",
    "  for word in data:\n",
    "    context = [0] * context_len\n",
    "    for ch in word + \".\":\n",
    "      ix = chtoi[ch]\n",
    "      X.append(context)\n",
    "      y.append(ix)\n",
    "      context = context[1:] + [ix]\n",
    "  \n",
    "  X = torch.tensor(X)\n",
    "  y = torch.tensor(y)\n",
    "  \n",
    "  print(f\"X{mode}.shape: {X.shape}, y{mode}.shape: {y.shape}\")\n",
    "  return X, y\n",
    "\n",
    "\n",
    "random.shuffle(names)\n",
    "n1 = int(0.8 * len(names))\n",
    "n2 = int(0.9 * len(names))\n",
    "\n",
    "Xtr, ytr = build_dataset(names[:n1])\n",
    "Xval, yval = build_dataset(names[n1:n2], mode=\"val\")\n",
    "Xte, yte = build_dataset(names[n2:], mode=\"te\")"
   ]
  },
  {
   "cell_type": "code",
   "execution_count": 6,
   "metadata": {},
   "outputs": [],
   "source": [
    "def cmp(s, dt, t):\n",
    "  \"\"\"\n",
    "  Utility function to compare manual and PyTorch gradients\n",
    "\n",
    "  Args:\n",
    "    s (str): name of the tensor\n",
    "    dt (torch.Tensor): manual gradient\n",
    "    t (torch.Tensor): PyTorch gradient\n",
    "  \"\"\"\n",
    "  \n",
    "  ex = torch.all(dt == t.grad).item()\n",
    "  app = torch.allclose(dt, t.grad)\n",
    "  max_diff = (dt - t.grad).abs().max().item()\n",
    "  print(f\"{s:15s} | exact: {str(ex):5s} | approx: {str(app):5s} | max_diff: {max_diff:.2f}\")"
   ]
  },
  {
   "cell_type": "code",
   "execution_count": 7,
   "metadata": {},
   "outputs": [
    {
     "data": {
      "text/plain": [
       "4137"
      ]
     },
     "execution_count": 7,
     "metadata": {},
     "output_type": "execute_result"
    }
   ],
   "source": [
    "import math\n",
    "\n",
    "n_embd = 10         # dimensionality of character embeddings vector\n",
    "n_hidden = 64       # number of neurons in the hidden layer\n",
    "context_len = 3     # length of the context window\n",
    "gain = 5.0 / 3.0    # gain for the Kaiming initialization\n",
    "\n",
    "\"\"\"\n",
    "Parameters are initialized in non-standard ways because initializing them with\n",
    "all zeroes could mask an incorrect implementation of the backpropagation.\n",
    "\n",
    "Using b1 despite batch normalization because it's easier to compare the gradients.\n",
    "\"\"\"\n",
    "\n",
    "C =  torch.randn(vocab_size, n_embd,             requires_grad=True)\n",
    "# Layer 1\n",
    "W1 = torch.randn(n_embd * context_len, n_hidden, requires_grad=True) * gain / math.sqrt(n_embd * context_len)\n",
    "b1 = torch.randn(n_hidden,                       requires_grad=True) * 0.1\n",
    "# Layer 2\n",
    "W2 = torch.randn(n_hidden, vocab_size,           requires_grad=True) * 0.1\n",
    "b2 = torch.randn(vocab_size,                     requires_grad=True) * 0.1\n",
    "# BatchNorm params\n",
    "gamma = torch.randn(1, n_hidden,                 requires_grad=True) * 0.1 + 1.0\n",
    "beta =  torch.randn(1, n_hidden,                 requires_grad=True) * 0.1\n",
    "\n",
    "params = [C, W1, b1, W2, b2, gamma, beta]\n",
    "sum(p.nelement() for p in params)"
   ]
  },
  {
   "cell_type": "code",
   "execution_count": 8,
   "metadata": {},
   "outputs": [],
   "source": [
    "batch_size = 32\n",
    "\n",
    "# construct a mini-batch\n",
    "ix = torch.randint(0, len(Xtr), (batch_size,))\n",
    "Xb, yb = Xtr[ix], ytr[ix]     # batch X, y"
   ]
  },
  {
   "cell_type": "code",
   "execution_count": 9,
   "metadata": {},
   "outputs": [
    {
     "data": {
      "text/plain": [
       "tensor(3.5030, grad_fn=<NegBackward0>)"
      ]
     },
     "execution_count": 9,
     "metadata": {},
     "output_type": "execute_result"
    }
   ],
   "source": [
    "# manual implementation of forward pass\n",
    "emb = C[Xb]                                                  # embedding characters into vectors\n",
    "embcat = emb.view(emb.shape[0], -1)                          # concatenate embeddings\n",
    "\n",
    "# Linear layer 1\n",
    "hprebn = embcat @ W1 + b1                                    # pre-batchnorm hidden layer\n",
    "\n",
    "# BatchNorm layer\n",
    "bnmeani = hprebn.mean(0, keepdim=True)\n",
    "bndiff = hprebn - bnmeani\n",
    "bndiffsq = bndiff ** 2\n",
    "bnvar = bndiffsq.sum(0, keepdim=True) / (batch_size - 1)     # Bessel's correction (N-1)\n",
    "bnvar_inv = (bnvar + 1e-5) ** -0.5\n",
    "bnraw = bndiff * bnvar_inv\n",
    "hpreact = gamma * bnraw + beta\n",
    "\n",
    "# non-linearity\n",
    "h = torch.tanh(hpreact)\n",
    "\n",
    "# Linear layer 2 (explicit implementation of cross entropy loss)\n",
    "# NOTE check source @ 21:01, 36:20\n",
    "logits = h @ W2 + b2                                         # output layer\n",
    "logits_maxes = logits.max(1, keepdim=True).values\n",
    "norm_logits = logits - logits_maxes                          # subtract max for numerical stability\n",
    "counts = norm_logits.exp()\n",
    "counts_sum = counts.sum(1, keepdim=True)\n",
    "counts_sum_inv = counts_sum ** -1                            # (1.0 / counts_sum) cannot get bit-exact backpropagation\n",
    "probs = counts * counts_sum_inv\n",
    "log_probs = probs.log()\n",
    "loss = -log_probs[range(batch_size), yb].mean()\n",
    "loss"
   ]
  },
  {
   "cell_type": "code",
   "execution_count": 10,
   "metadata": {},
   "outputs": [
    {
     "data": {
      "text/plain": [
       "tensor(3.5030, grad_fn=<NegBackward0>)"
      ]
     },
     "execution_count": 10,
     "metadata": {},
     "output_type": "execute_result"
    }
   ],
   "source": [
    "# Pytorch backward pass\n",
    "training_tensors = [log_probs, probs, counts_sum_inv, counts_sum, counts, norm_logits, logits_maxes, logits, h, hpreact, bnraw, bnvar_inv, bnvar, bndiffsq, bndiff, bnmeani, hprebn, embcat, emb]\n",
    "\n",
    "for t in training_tensors:\n",
    "  t.retain_grad()\n",
    "\n",
    "for p in params:\n",
    "  p.grad = None\n",
    "\n",
    "loss.backward()\n",
    "loss"
   ]
  },
  {
   "cell_type": "markdown",
   "metadata": {},
   "source": [
    "## Atomic compute graph backpropagation\n",
    "\n",
    "Implement backpropagation manually for the entire forward pass compute graph, using atomic operations as building blocks."
   ]
  },
  {
   "cell_type": "code",
   "execution_count": 18,
   "metadata": {},
   "outputs": [
    {
     "name": "stdout",
     "output_type": "stream",
     "text": [
      "dloss_dlogprobs | exact: True  | approx: True  | max_diff: 0.00\n"
     ]
    }
   ],
   "source": [
    "\"\"\"\n",
    "interpretation: how loss changes with respect to each of log_probs\n",
    "\n",
    "derivation of log_probs in relation to loss: loss = -log_probs[range(batch_size), yb].mean()\n",
    "loss = - (a + b + c) / n\n",
    "loss = -a/n + -b/n + -c/n\n",
    "dloss_da = -1/n\n",
    "dloss_db = -1/n\n",
    "dloss_dc = -1/n\n",
    "\"\"\"\n",
    "dloss_dlogprobs = torch.zeros_like(log_probs)\n",
    "dloss_dlogprobs[range(batch_size), yb] = -1.0 / batch_size\n",
    "cmp(\"dloss_dlogprobs\", dloss_dlogprobs, log_probs)"
   ]
  },
  {
   "cell_type": "code",
   "execution_count": 19,
   "metadata": {},
   "outputs": [
    {
     "name": "stdout",
     "output_type": "stream",
     "text": [
      "dloss_dprobs    | exact: True  | approx: True  | max_diff: 0.00\n"
     ]
    }
   ],
   "source": [
    "\"\"\"\n",
    "interpretation: how loss changes with respect to each of probs\n",
    "note: intuitively, a high probability character will be simply passed through the chain rule, while a low probability will be boosted to generate a high gradient.\n",
    "\n",
    "derivation of probs in relation to log_probs: log_probs = probs.log()\n",
    "log_probs = log(a), log(b), log(c)\n",
    "dlogprobs_da = 1/a\n",
    "dlogprobs_db = 1/b\n",
    "dlogprobs_dc = 1/c\n",
    "\n",
    "derivation of probs in relation to loss: dlogprobs_dn * chain_rule\n",
    "\"\"\"\n",
    "dloss_dprobs = 1.0 / probs * dloss_dlogprobs\n",
    "cmp(\"dloss_dprobs\", dloss_dprobs, probs)"
   ]
  },
  {
   "cell_type": "code",
   "execution_count": 46,
   "metadata": {},
   "outputs": [
    {
     "name": "stdout",
     "output_type": "stream",
     "text": [
      "dloss_dcountssuminv | exact: True  | approx: True  | max_diff: 0.00\n"
     ]
    }
   ],
   "source": [
    "\"\"\"\n",
    "interpretation: how loss changes with respect to each of counts_sum_inv\n",
    "\n",
    "counts.shape: (batch_size, vocab_size)\n",
    "counts_sum_inv.shape: (batch_size, 1)\n",
    "\n",
    "matrix broadcasting with tensors:\n",
    "a[3,2] * b[3,1] ---> c[3,2]\n",
    "a11 * b1, a12 * b1\n",
    "a21 * b2, a22 * b2\n",
    "a31 * b3, a32 * b3\n",
    "\n",
    "derivation of counts_sum_inv in relation to probs: probs = counts * counts_sum_inv\n",
    "probs = a * b\n",
    "dprobs_da = b\n",
    "dprobs_db = a\n",
    "\n",
    "derivation of counts_sum_inv in relation to loss: SUM of dprobs_dn * chain_rule backpropagating through matrix broadcasting\n",
    "\"\"\"\n",
    "dloss_dcountssuminv = (counts * dloss_dprobs).sum(1, keepdim=True)\n",
    "cmp(\"dloss_dcountssuminv\", dloss_dcountssuminv, counts_sum_inv)"
   ]
  },
  {
   "cell_type": "code",
   "execution_count": 51,
   "metadata": {},
   "outputs": [
    {
     "name": "stdout",
     "output_type": "stream",
     "text": [
      "dloss_dcountssum | exact: True  | approx: True  | max_diff: 0.00\n"
     ]
    }
   ],
   "source": [
    "\"\"\"\n",
    "interpretation: how loss changes with respect to each of counts_sum\n",
    "\n",
    "derivation of counts_sum in relation to counts_sum_inv: counts_sum_inv = counts_sum ** -1\n",
    "counts_sum_inv = a ** -1\n",
    "dcountssum_da = - a ** -2\n",
    "\n",
    "derivation of counts_sum in relation to loss: dcountssum_dn * chain_rule\n",
    "\"\"\"\n",
    "dloss_dcountssum = -counts_sum ** -2 * dloss_dcountssuminv\n",
    "cmp(\"dloss_dcountssum\", dloss_dcountssum, counts_sum)"
   ]
  },
  {
   "cell_type": "code",
   "execution_count": 61,
   "metadata": {},
   "outputs": [
    {
     "name": "stdout",
     "output_type": "stream",
     "text": [
      "dloss_dcounts   | exact: True  | approx: True  | max_diff: 0.00\n"
     ]
    }
   ],
   "source": [
    "\"\"\"\n",
    "interpretation: how loss changes with respect to each of counts\n",
    "note: both probs and counts_sum depend on counts, so we need to backpropagate through both branches\n",
    "\n",
    "(1st branch) derivation of counts in relation to probs: probs = counts * counts_sum_inv\n",
    "probs = a * b\n",
    "dprobs_da = b\n",
    "dprobs_db = a\n",
    "\n",
    "(2nd branch) derivation of counts in relation to counts_sum: counts_sum = counts.sum(1, keepdim=True)\n",
    "counts.shape: (batch_size, vocab_size)\n",
    "counts_sum.shape: (batch_size, 1)\n",
    "\n",
    "matrix broadcasting with tensors:\n",
    "sum(a[3,2]) ---> b[3,1]\n",
    "a11 + a12 ---> b1\n",
    "a21 + a22 ---> b2\n",
    "a31 + a32 ---> b3\n",
    "\n",
    "counts_sum = a + b + c\n",
    "dcountssum_da = 1\n",
    "dcountssum_db = 1\n",
    "dcountssum_dc = 1\n",
    "\n",
    "derivation of counts in relation to loss: dprobs_dn * chain_rule + dcountssum_dn * chain_rule\n",
    "\"\"\"\n",
    "dloss_dcounts = counts_sum_inv * dloss_dprobs + torch.ones_like(counts) * dloss_dcountssum\n",
    "cmp(\"dloss_dcounts\", dloss_dcounts, counts)"
   ]
  },
  {
   "cell_type": "code",
   "execution_count": 63,
   "metadata": {},
   "outputs": [
    {
     "name": "stdout",
     "output_type": "stream",
     "text": [
      "dloss_dnormlogits | exact: True  | approx: True  | max_diff: 0.00\n"
     ]
    }
   ],
   "source": [
    "\"\"\"\n",
    "interpretation: how loss changes with respect to each of norm_logits\n",
    "\n",
    "derivation of norm_logits in relation to counts: counts = norm_logits.exp()\n",
    "counts = e ** a\n",
    "dcounts_da = e ** a\n",
    "\n",
    "derivation of norm_logits in relation to loss: dcounts_dn * chain_rule\n",
    "\"\"\"\n",
    "dloss_dnormlogits = counts * dloss_dcounts\n",
    "cmp(\"dloss_dnormlogits\", dloss_dnormlogits, norm_logits)"
   ]
  },
  {
   "cell_type": "code",
   "execution_count": 68,
   "metadata": {},
   "outputs": [
    {
     "name": "stdout",
     "output_type": "stream",
     "text": [
      "dloss_dlogitsmaxes | exact: True  | approx: True  | max_diff: 0.00\n"
     ]
    }
   ],
   "source": [
    "\"\"\"\n",
    "interpretation: how loss changes with respect to each of logits_maxes\n",
    "note: logits_maxes are calculated only for numerical stability of softmax function and do not affect the loss. Therefore, the gradient is zero (or close to it, due to floating point precision).\n",
    "\n",
    "counts.shape: (batch_size, vocab_size)\n",
    "counts_sum_inv.shape: (batch_size, 1)\n",
    "\n",
    "matrix broadcasting with tensors:\n",
    "a[3,2] - b[3,1] ---> c[3,2]\n",
    "a11 - b1, a12 - b1\n",
    "a21 - b2, a22 - b2\n",
    "a31 - b3, a32 - b3\n",
    "\n",
    "derivation of logits_maxes in relation to norm_logits: norm_logits = logits - logits_maxes\n",
    "norm_logits = a + -b\n",
    "dnormlogits_da = 1\n",
    "dnormlogits_db = -1\n",
    "\n",
    "derivation of logits_maxes in relation to loss: SUM of dnormlogits_dn * chain_rule backpropagating through matrix broadcasting\n",
    "\"\"\"\n",
    "dloss_dlogitsmaxes = -dloss_dnormlogits.sum(1, keepdim=True)\n",
    "cmp(\"dloss_dlogitsmaxes\", dloss_dlogitsmaxes, logits_maxes)"
   ]
  },
  {
   "cell_type": "code",
   "execution_count": 75,
   "metadata": {},
   "outputs": [
    {
     "name": "stdout",
     "output_type": "stream",
     "text": [
      "dloss_dlogits   | exact: True  | approx: True  | max_diff: 0.00\n"
     ]
    }
   ],
   "source": [
    "\"\"\"\n",
    "interpretation: how loss changes with respect to each of logits\n",
    "note: both norm_logits and logits_maxes depend on logits, so we need to backpropagate through both branches\n",
    "\n",
    "(1st branch) derivation of logits in relation to norm_logits: check dloss_dlogitsmaxes\n",
    "\n",
    "(2nd branch) derivation of logits in relation to logits_maxes: logits_maxes = logits.max(1, keepdim=True).values\n",
    "logits_maxes = a\n",
    "dlogitsmaxes_da = 1\n",
    "\n",
    "derivation of logits in relation to loss: dnormlogits_dn * chain_rule + dlogitsmaxes_dn * chain_rule\n",
    "\"\"\"\n",
    "dloss_dlogits = dloss_dnormlogits.clone() + F.one_hot(logits.max(1).indices, num_classes=logits.shape[1]) * dloss_dlogitsmaxes\n",
    "cmp(\"dloss_dlogits\", dloss_dlogits, logits)"
   ]
  },
  {
   "cell_type": "code",
   "execution_count": 78,
   "metadata": {},
   "outputs": [
    {
     "data": {
      "text/plain": [
       "Text(0.5, 1.0, 'One-hot encoding of the maximum logits')"
      ]
     },
     "execution_count": 78,
     "metadata": {},
     "output_type": "execute_result"
    },
    {
     "data": {
      "image/png": "[encoded data removed]",
      "text/plain": [
       "<Figure size 640x480 with 1 Axes>"
      ]
     },
     "metadata": {},
     "output_type": "display_data"
    }
   ],
   "source": [
    "plt.imshow(F.one_hot(logits.max(1).indices, num_classes=logits.shape[1]))\n",
    "plt.xlabel(\"logits\")\n",
    "plt.ylabel(\"batch_size\")\n",
    "plt.title(\"One-hot encoding of the maximum logits\")"
   ]
  },
  {
   "cell_type": "markdown",
   "metadata": {},
   "source": [
    "# Sources\n",
    "\n",
    "1. [Ground truth - Building makemore Part 4: Becoming a Backprop Ninja, By Andrej Karpathy](https://www.youtube.com/watch?v=q8SA3rM6ckI&t=6s)\n",
    "2. [Yes, you should understand backprop, By Andrej Karpathy](https://karpathy.medium.com/yes-you-should-understand-backprop-e2f06eab496b)\n",
    "3. [Bessel's Correction](https://math.oxford.emory.edu/site/math117/besselCorrection/)\n",
    "4. [Reducing the Dimensionality of Data with Neural Networks, By G. Hinton](https://www.cs.toronto.edu/~hinton/absps/science.pdf)\n",
    "5. Karpathy, Andrej; Li, Fei-Fei. Deep Fragment Embeddings for Bidirectional Image Sentence Mapping, 2014. URL: https://arxiv.org/pdf/1406.5679.pdf"
   ]
  }
 ],
 "metadata": {
  "kernelspec": {
   "display_name": "ai-cookbook-DNsoNefS",
   "language": "python",
   "name": "python3"
  },
  "language_info": {
   "codemirror_mode": {
    "name": "ipython",
    "version": 3
   },
   "file_extension": ".py",
   "mimetype": "text/x-python",
   "name": "python",
   "nbconvert_exporter": "python",
   "pygments_lexer": "ipython3",
   "version": "3.9.6"
  }
 },
 "nbformat": 4,
 "nbformat_minor": 2
}
