{
 "cells": [
  {
   "cell_type": "markdown",
   "metadata": {},
   "source": [
    "## PART II: Multi Layer Perceptron (MLP)\n",
    "\n",
    "> This implementation is based along the lines of [Bengio et al. 2003](https://www.jmlr.org/papers/volume3/bengio03a/bengio03a.pdf)\n",
    "\n",
    "<img src=\"../assets/neural-prob-LM.jpg\" width=\"400\"/>"
   ]
  },
  {
   "cell_type": "markdown",
   "metadata": {},
   "source": [
    "### Reading and exploring the dataset"
   ]
  },
  {
   "cell_type": "code",
   "execution_count": 1,
   "metadata": {},
   "outputs": [
    {
     "data": {
      "text/plain": [
       "['emma', 'olivia', 'ava', 'isabella', 'sophia']"
      ]
     },
     "execution_count": 1,
     "metadata": {},
     "output_type": "execute_result"
    }
   ],
   "source": [
    "import json\n",
    "\n",
    "names = json.loads(open(\"../data/names.txt\", \"r\").read())\n",
    "names = names[\"payload\"][\"blob\"][\"rawLines\"]\n",
    "names[:5]"
   ]
  },
  {
   "cell_type": "code",
   "execution_count": 2,
   "metadata": {},
   "outputs": [
    {
     "data": {
      "text/plain": [
       "32033"
      ]
     },
     "execution_count": 2,
     "metadata": {},
     "output_type": "execute_result"
    }
   ],
   "source": [
    "len(names)"
   ]
  },
  {
   "cell_type": "code",
   "execution_count": 3,
   "metadata": {},
   "outputs": [],
   "source": [
    "# build the vocabulary of characters and mappings to/from integers\n",
    "chars = sorted(list(set(\"\".join(names))))\n",
    "chtoi = {ch:i+1 for i, ch in enumerate(chars)}\n",
    "chtoi[\".\"] = 0\n",
    "itoch = {i:ch for ch, i in chtoi.items()}"
   ]
  },
  {
   "cell_type": "markdown",
   "metadata": {},
   "source": [
    "### Building the training dataset"
   ]
  },
  {
   "cell_type": "code",
   "execution_count": 4,
   "metadata": {},
   "outputs": [],
   "source": [
    "import torch\n",
    "\n",
    "def build_dataset(data, context_len=3):\n",
    "    \"\"\"\n",
    "    Builds the dataset from the given list of words.\n",
    "\n",
    "    Args:\n",
    "        data (list): list of words to use\n",
    "        context_len (int): length of the context window (default: 3)\n",
    "    \"\"\"\n",
    "\n",
    "    X, y = [], []\n",
    "\n",
    "    for word in data:\n",
    "        context = [0] * context_len\n",
    "        for ch in word + \".\":\n",
    "            ix = chtoi[ch]\n",
    "            X.append(context)\n",
    "            y.append(ix)\n",
    "            context = context[1:] + [ix]\n",
    "    \n",
    "    X = torch.tensor(X)\n",
    "    y = torch.tensor(y)\n",
    "\n",
    "    return X, y"
   ]
  },
  {
   "cell_type": "code",
   "execution_count": 5,
   "metadata": {},
   "outputs": [
    {
     "data": {
      "text/plain": [
       "(torch.Size([32, 3]), torch.int64, torch.Size([32]), torch.int64)"
      ]
     },
     "execution_count": 5,
     "metadata": {},
     "output_type": "execute_result"
    }
   ],
   "source": [
    "X, y = build_dataset(names[:5])\n",
    "X.shape, X.dtype, y.shape, y.dtype"
   ]
  },
  {
   "cell_type": "markdown",
   "metadata": {},
   "source": [
    "### Implementing the embedding lookup table"
   ]
  },
  {
   "cell_type": "code",
   "execution_count": 6,
   "metadata": {},
   "outputs": [
    {
     "data": {
      "text/plain": [
       "(torch.Size([32, 3, 2]),\n",
       " tensor([[-0.0868, -1.0194],\n",
       "         [-0.0868, -1.0194],\n",
       "         [ 1.4253, -1.0625]]))"
      ]
     },
     "execution_count": 6,
     "metadata": {},
     "output_type": "execute_result"
    }
   ],
   "source": [
    "C = torch.randn(27, 2)     # randomly-initialized embedding matrix (27 characters, 2 dimensions)\n",
    "emb = C[X]                 # embeddings for the input sequence\n",
    "emb.shape, emb[1]"
   ]
  },
  {
   "cell_type": "markdown",
   "metadata": {},
   "source": [
    "### Implementing the non-linearity (tanh hidden layer)"
   ]
  },
  {
   "cell_type": "code",
   "execution_count": 7,
   "metadata": {},
   "outputs": [
    {
     "name": "stdout",
     "output_type": "stream",
     "text": [
      "torch.Size([3, 2])\n"
     ]
    },
    {
     "data": {
      "text/plain": [
       "6"
      ]
     },
     "execution_count": 7,
     "metadata": {},
     "output_type": "execute_result"
    }
   ],
   "source": [
    "print(emb.shape[1:])                             # number of inputs: 2-d embeddings * 3 context characters\n",
    "\n",
    "first_element = emb.shape[1:][0]\n",
    "second_element = emb.shape[1:][1]\n",
    "\n",
    "# Multiplying the numbers\n",
    "inputs = first_element * second_element\n",
    "inputs"
   ]
  },
  {
   "cell_type": "code",
   "execution_count": 8,
   "metadata": {},
   "outputs": [
    {
     "data": {
      "text/plain": [
       "(torch.Size([32, 100]),\n",
       " tensor([-0.9720,  0.9999,  0.9706,  0.0837,  0.9906, -0.3903,  0.5342,  0.8771,\n",
       "         -0.4061, -0.9996, -0.5949,  0.9999, -0.9878, -0.9200, -0.9999,  0.8057,\n",
       "          0.9275, -0.9100,  1.0000,  0.9943,  0.9869, -0.9978,  0.6082, -0.6170,\n",
       "         -0.8847,  0.9499, -0.9858,  0.9975,  0.9755, -0.9995, -0.8328,  0.8936,\n",
       "          0.9949,  0.9975, -0.7265,  0.9951, -0.7152,  0.9701, -0.9948, -0.9999,\n",
       "         -0.8901, -0.9969,  0.9803,  0.9737, -0.6483, -0.6682, -0.9999,  1.0000,\n",
       "         -0.9919, -0.0283,  0.9999, -0.9904, -0.9976, -0.9949,  0.9996, -0.9752,\n",
       "          0.9940, -0.6897, -0.4001,  0.8696,  0.2802, -0.9999, -0.9987, -0.5806,\n",
       "          0.9228,  0.9140, -0.9999, -0.0575, -0.9885, -0.9120, -0.2415, -0.1552,\n",
       "         -0.9530, -0.2384, -0.6127, -0.9970, -0.3156, -0.3948,  0.8168,  0.9728,\n",
       "          0.9621, -0.6723, -0.8543,  0.9985, -0.9995, -0.1711,  0.2105, -0.9151,\n",
       "          0.9049, -0.9924,  0.7897,  0.9749,  0.0137, -1.0000, -0.8830,  0.8900,\n",
       "         -0.9764, -0.2131,  0.9994,  0.8215]))"
      ]
     },
     "execution_count": 8,
     "metadata": {},
     "output_type": "execute_result"
    }
   ],
   "source": [
    "n_neurons = 100                                  # number of neurons in the hidden layer\n",
    "\n",
    "W1 = torch.randn(inputs, n_neurons)              # randomly-initialized hidden layer weights (6 inputs, 100 neurons)\n",
    "b1 = torch.randn(n_neurons)                      # randomly-initialized hidden layer biases (100 neurons)\n",
    "h = torch.tanh(emb.view(-1, inputs) @ W1 + b1)   # hidden layer activations\n",
    "h.shape, h[1]"
   ]
  },
  {
   "cell_type": "markdown",
   "metadata": {},
   "source": [
    "### Implementing the output layer\n",
    "\n",
    "> **About logits exponentiation:** The softmax function is often used in the final layer of a neural network-based classifier and consists of a function that turns a vector of real values into a vector of probabilities that sum to 1.\n",
    "\n",
    "> The exponentiation is applied to ensure that all values become positive, as softmax is sensitive to the scale of the input values. Exponentiation also helps to emphasize the differences between the logits, making it easier to distinguish and highlight the higher-scoring logits. It's important to note that the relative order of the logits remains the same after exponentiation, so the model's ability to discriminate between classes is preserved."
   ]
  },
  {
   "cell_type": "code",
   "execution_count": 9,
   "metadata": {},
   "outputs": [
    {
     "data": {
      "text/plain": [
       "(torch.Size([32, 27]),\n",
       " tensor([ 2.3687e+00, -2.9725e-01,  7.8450e-01,  1.1197e+00,  5.5888e+00,\n",
       "          1.2066e+01, -1.4859e+00, -1.0394e+01,  1.2621e-02, -1.7703e+01,\n",
       "          1.0400e+01,  7.3497e-01, -1.2389e+01, -1.1534e+01,  8.1153e+00,\n",
       "          1.1922e+00, -4.7927e+00, -4.6439e+00, -6.6289e+00,  1.5699e+01,\n",
       "         -6.6019e+00,  1.2711e+01, -6.7881e-01,  4.2740e+00,  7.5429e+00,\n",
       "         -6.8165e+00,  8.4437e+00]))"
      ]
     },
     "execution_count": 9,
     "metadata": {},
     "output_type": "execute_result"
    }
   ],
   "source": [
    "W2 = torch.randn(100, 27)          # randomly-initialized output layer weights (100 neurons, 27 outputs)\n",
    "b2 = torch.randn(27)               # randomly-initialized output layer biases (27 outputs)\n",
    "\n",
    "logits = h @ W2 + b2               # output layer activations\n",
    "logits.shape, logits[1]"
   ]
  },
  {
   "cell_type": "code",
   "execution_count": 10,
   "metadata": {},
   "outputs": [
    {
     "data": {
      "text/plain": [
       "(torch.Size([32, 27]),\n",
       " tensor(1.),\n",
       " tensor([1.5000e-06, 1.0430e-07, 3.0767e-07, 4.3021e-07, 3.7545e-05, 2.4419e-02,\n",
       "         3.1774e-08, 4.2995e-12, 1.4219e-07, 2.8765e-15, 4.6119e-03, 2.9280e-07,\n",
       "         5.8491e-13, 1.3751e-12, 4.6969e-04, 4.6256e-07, 1.1640e-09, 1.3507e-09,\n",
       "         1.8557e-10, 9.2300e-01, 1.9063e-10, 4.6526e-02, 7.1216e-08, 1.0082e-05,\n",
       "         2.6500e-04, 1.5382e-10, 6.5225e-04]))"
      ]
     },
     "execution_count": 10,
     "metadata": {},
     "output_type": "execute_result"
    }
   ],
   "source": [
    "counts = logits.exp()                        # convert activations to counts\n",
    "prob = counts / counts.sum(1, keepdims=True) # softmax\n",
    "prob.shape, prob[1].sum(), prob[1]"
   ]
  },
  {
   "cell_type": "markdown",
   "metadata": {},
   "source": [
    "### Implementing the loss function"
   ]
  },
  {
   "cell_type": "code",
   "execution_count": 11,
   "metadata": {},
   "outputs": [
    {
     "data": {
      "text/plain": [
       "tensor([ 5, 13, 13,  1,  0, 15, 12,  9, 22,  9,  1,  0,  1, 22,  1,  0,  9, 19,\n",
       "         1,  2,  5, 12, 12,  1,  0, 19, 15, 16,  8,  9,  1,  0])"
      ]
     },
     "execution_count": 11,
     "metadata": {},
     "output_type": "execute_result"
    }
   ],
   "source": [
    "y"
   ]
  },
  {
   "cell_type": "code",
   "execution_count": 12,
   "metadata": {},
   "outputs": [
    {
     "data": {
      "text/plain": [
       "tensor(15.0896)"
      ]
     },
     "execution_count": 12,
     "metadata": {},
     "output_type": "execute_result"
    }
   ],
   "source": [
    "loss = -prob[torch.arange(prob.shape[0]), y].log().mean()\n",
    "loss"
   ]
  },
  {
   "cell_type": "code",
   "execution_count": 13,
   "metadata": {},
   "outputs": [
    {
     "data": {
      "text/plain": [
       "tensor(15.0896)"
      ]
     },
     "execution_count": 13,
     "metadata": {},
     "output_type": "execute_result"
    }
   ],
   "source": [
    "import torch.nn.functional as F\n",
    "\n",
    "loss = F.cross_entropy(logits, y)\n",
    "loss"
   ]
  },
  {
   "cell_type": "markdown",
   "metadata": {},
   "source": [
    "### Training using batches\n",
    "\n",
    "> Once the dataset gets large enough, it becomes feasible to work with batches of data. This is because, in practice, it is computationally expensive to compute the gradients on the full dataset. However, performing training (ie. forward pass, backward pass and parameter update) on a randomly selected batch of data results in good approximations of the gradients computed on the full dataset.\n",
    "\n",
    "> Because we are using batches of data, the quality of each individual gradient is lower, but the direction of the gradient is good enough to move the parameters towards a local minimum. This is why we see the loss decreasing over time.\n",
    "\n",
    "<img src=\"../assets/lecun-batch-size.jpg\" width=\"600\"/>"
   ]
  },
  {
   "cell_type": "code",
   "execution_count": 14,
   "metadata": {},
   "outputs": [],
   "source": [
    "def train(words, emb_len=2, n_neurons=100, lr=0.01, n_epochs=1000):\n",
    "    \"\"\"\n",
    "    Trains a neural network language model.\n",
    "\n",
    "    Args:\n",
    "        words (list): list of words to use\n",
    "        emb_len (int): length of the embedding vector (default: 2)\n",
    "        n_neurons (int): number of neurons in the hidden layer (default: 100)\n",
    "        lr (float): learning rate (default: 0.01)\n",
    "        n_epochs (int): number of training epochs (default: 1000)\n",
    "    \"\"\"\n",
    "\n",
    "    VOCABULARY = 27\n",
    "\n",
    "    X, y = build_dataset(words)\n",
    "    C = torch.randn(VOCABULARY, emb_len)\n",
    "    W1 = torch.randn(X.shape[1] * emb_len, n_neurons)\n",
    "    b1 = torch.randn(n_neurons)\n",
    "    W2 = torch.randn(n_neurons, VOCABULARY)\n",
    "    b2 = torch.randn(VOCABULARY)\n",
    "\n",
    "    params = [C, W1, b1, W2, b2]\n",
    "\n",
    "    for p in params:\n",
    "        p.requires_grad = True\n",
    "\n",
    "    for _ in range(n_epochs):\n",
    "        # minibatch construction\n",
    "        ix = torch.randint(0, X.shape[0], (32,))\n",
    "        \n",
    "        # forward pass\n",
    "        emb = C[X[ix]]\n",
    "        h = torch.tanh(emb.view(-1, X.shape[1] * emb_len) @ W1 + b1)\n",
    "        logits = h @ W2 + b2\n",
    "        loss = F.cross_entropy(logits, y[ix])\n",
    "\n",
    "        # backward pass\n",
    "        for p in params:\n",
    "            p.grad = None\n",
    "        loss.backward()\n",
    "\n",
    "        # parameter updates\n",
    "        for p in params:\n",
    "            p.data -= lr * p.grad\n",
    "\n",
    "    print(\"loss:\", loss.item())"
   ]
  },
  {
   "cell_type": "code",
   "execution_count": 15,
   "metadata": {},
   "outputs": [
    {
     "name": "stdout",
     "output_type": "stream",
     "text": [
      "loss: 2.7891321182250977\n"
     ]
    }
   ],
   "source": [
    "train(names)"
   ]
  },
  {
   "cell_type": "markdown",
   "metadata": {},
   "source": [
    "### Establishing an appropriate learning rate\n",
    "\n",
    "> **Important:** Regarding working with batches, it is expected that some \"noise\" will be created in the gradients. This is because the gradients are computed on a subset of the data, and not the full dataset. This is why we see the loss \"jumping around\" during training."
   ]
  },
  {
   "cell_type": "code",
   "execution_count": 16,
   "metadata": {},
   "outputs": [],
   "source": [
    "lr_exp = torch.linspace(-3, 0, 1000)\n",
    "lr_schedule = 10**lr_exp"
   ]
  },
  {
   "cell_type": "code",
   "execution_count": 17,
   "metadata": {},
   "outputs": [
    {
     "name": "stdout",
     "output_type": "stream",
     "text": [
      "loss: 5.945590019226074\n"
     ]
    }
   ],
   "source": [
    "VOCABULARY = 27\n",
    "EMBEDDINGS_LENGTH = 2\n",
    "N_NEURONS = 100\n",
    "EPOCHS = 1000\n",
    "\n",
    "X, y = build_dataset(names)\n",
    "C = torch.randn(VOCABULARY, EMBEDDINGS_LENGTH)\n",
    "W1 = torch.randn(X.shape[1] * EMBEDDINGS_LENGTH, N_NEURONS)\n",
    "b1 = torch.randn(N_NEURONS)\n",
    "W2 = torch.randn(N_NEURONS, VOCABULARY)\n",
    "b2 = torch.randn(VOCABULARY)\n",
    "params = [C, W1, b1, W2, b2]\n",
    "\n",
    "for p in params:\n",
    "    p.requires_grad = True\n",
    "\n",
    "lre_epoch = []\n",
    "lrs_epoch = []\n",
    "loss_epoch = []\n",
    "\n",
    "for epoch in range(EPOCHS):\n",
    "    # minibatch construction\n",
    "    ix = torch.randint(0, X.shape[0], (32,))\n",
    "\n",
    "    # forward pass\n",
    "    emb = C[X[ix]]\n",
    "    h = torch.tanh(emb.view(-1, inputs) @ W1 + b1)\n",
    "    logits = h @ W2 + b2\n",
    "    loss = F.cross_entropy(logits, y[ix])\n",
    "\n",
    "    # backward pass\n",
    "    for p in params:\n",
    "        p.grad = None\n",
    "    loss.backward()\n",
    "\n",
    "    # parameter updates\n",
    "    for p in params:\n",
    "        p.data -= lr_schedule[epoch] * p.grad\n",
    "\n",
    "    # track stats\n",
    "    lre_epoch.append(lr_exp[epoch])\n",
    "    lrs_epoch.append(lr_schedule[epoch])\n",
    "    loss_epoch.append(loss.item())\n",
    "\n",
    "print(\"loss:\", loss.item())"
   ]
  },
  {
   "cell_type": "code",
   "execution_count": 18,
   "metadata": {},
   "outputs": [
    {
     "data": {
      "image/png": "[encoded data removed]",
      "text/plain": [
       "<Figure size 640x480 with 1 Axes>"
      ]
     },
     "metadata": {},
     "output_type": "display_data"
    }
   ],
   "source": [
    "import matplotlib.pyplot as plt\n",
    "\n",
    "min_loss_index = loss_epoch.index(min(loss_epoch))\n",
    "\n",
    "plt.plot(lre_epoch, loss_epoch)\n",
    "plt.scatter(lre_epoch[min_loss_index], loss_epoch[min_loss_index], color='red')\n",
    "plt.annotate(f'Min Loss at {lre_epoch[min_loss_index]}', \n",
    "             xy=(lre_epoch[min_loss_index], loss_epoch[min_loss_index]),\n",
    "             xytext=(lre_epoch[min_loss_index] + 0.5, loss_epoch[min_loss_index] + 1),\n",
    "             arrowprops=dict(facecolor='black', arrowstyle='->'))\n",
    "plt.show();"
   ]
  },
  {
   "cell_type": "code",
   "execution_count": 19,
   "metadata": {},
   "outputs": [
    {
     "data": {
      "image/png": "[encoded data removed]",
      "text/plain": [
       "<Figure size 640x480 with 1 Axes>"
      ]
     },
     "metadata": {},
     "output_type": "display_data"
    }
   ],
   "source": [
    "plt.plot(lrs_epoch, loss_epoch)\n",
    "plt.scatter(lrs_epoch[min_loss_index], loss_epoch[min_loss_index], color='red')\n",
    "plt.annotate(f'Min Loss at {lrs_epoch[min_loss_index]}', \n",
    "             xy=(lrs_epoch[min_loss_index], loss_epoch[min_loss_index]),\n",
    "             xytext=(lrs_epoch[min_loss_index] + 0.5, loss_epoch[min_loss_index] + 1),\n",
    "             arrowprops=dict(facecolor='black', arrowstyle='->'))\n",
    "plt.show();"
   ]
  },
  {
   "cell_type": "markdown",
   "metadata": {},
   "source": [
    "### Retraining using an appropriate learning rate"
   ]
  },
  {
   "cell_type": "code",
   "execution_count": 20,
   "metadata": {},
   "outputs": [],
   "source": [
    "def lrs_train(data, lr=0.01, emb_len=2, n_neurons=100, n_epochs=10000, rounds=10):\n",
    "    \"\"\"\n",
    "    Trains a neural network language model with learning rate scheduling.\n",
    "\n",
    "    Args:\n",
    "        data: list of names to train on\n",
    "        lr: learning rate (default: 0.01)\n",
    "        emb_len: embeddings length (default: 2)\n",
    "        n_neurons: number of neurons in the hidden layer (default: 100)\n",
    "        n_epochs: number of epochs to train for (default: 10000)\n",
    "        rounds: number of training rounds (default: 10)\n",
    "    \"\"\"\n",
    "\n",
    "    VOCABULARY = 27\n",
    "\n",
    "    X, y = build_dataset(data)\n",
    "    C = torch.randn(VOCABULARY, emb_len)\n",
    "    W1 = torch.randn(X.shape[1] * emb_len, n_neurons)\n",
    "    b1 = torch.randn(n_neurons)\n",
    "    W2 = torch.randn(n_neurons, VOCABULARY)\n",
    "    b2 = torch.randn(VOCABULARY)\n",
    "\n",
    "    params = [C, W1, b1, W2, b2]\n",
    "\n",
    "    for p in params:\n",
    "        p.requires_grad = True\n",
    "\n",
    "    for i in range(rounds):\n",
    "        for epoch in range(n_epochs):\n",
    "            # minibatch construction\n",
    "            ix = torch.randint(0, X.shape[0], (32,))\n",
    "            \n",
    "            # forward pass\n",
    "            emb = C[X[ix]]\n",
    "            h = torch.tanh(emb.view(-1, inputs) @ W1 + b1)\n",
    "            logits = h @ W2 + b2\n",
    "            loss = F.cross_entropy(logits, y[ix])\n",
    "\n",
    "            # backward pass\n",
    "            for p in params:\n",
    "                p.grad = None\n",
    "            loss.backward()\n",
    "\n",
    "            # parameter updates\n",
    "            for p in params:\n",
    "                _lr = lr if i < 5 else lr/(i-3)\n",
    "                p.data -= _lr * p.grad     # learning rate decay\n",
    "\n",
    "        print(f\"[INFO] Training round: {i+1}/{10} Loss: {loss.item()}\")\n",
    "    \n",
    "    return params"
   ]
  },
  {
   "cell_type": "code",
   "execution_count": 21,
   "metadata": {},
   "outputs": [
    {
     "name": "stdout",
     "output_type": "stream",
     "text": [
      "[INFO] Training round: 1/10 Loss: 2.2130565643310547\n",
      "[INFO] Training round: 2/10 Loss: 2.172166585922241\n",
      "[INFO] Training round: 3/10 Loss: 2.1214563846588135\n",
      "[INFO] Training round: 4/10 Loss: 2.3153913021087646\n",
      "[INFO] Training round: 5/10 Loss: 2.661987781524658\n",
      "[INFO] Training round: 6/10 Loss: 2.4620790481567383\n",
      "[INFO] Training round: 7/10 Loss: 2.0109291076660156\n",
      "[INFO] Training round: 8/10 Loss: 2.4345476627349854\n",
      "[INFO] Training round: 9/10 Loss: 1.9911551475524902\n",
      "[INFO] Training round: 10/10 Loss: 2.2740023136138916\n"
     ]
    }
   ],
   "source": [
    "loss_epoch.index(min(loss_epoch))\n",
    "lr = lrs_epoch[min_loss_index]\n",
    "_ = lrs_train(data=names, lr=lr)"
   ]
  },
  {
   "cell_type": "markdown",
   "metadata": {},
   "source": [
    "### Splitting the data into training, validation and test sets\n",
    "\n",
    "> Neural networs can get very complex and overfit the training data. To avoid this, we can split the data in three sets:\n",
    "\n",
    "> 1. Training set: used to train the parameters of the model. It usually contains 80% of the data.\n",
    "> 2. Validation set: used to evaluate the performance of the model during training, and to perform hyperparameter tuning (eg. learning rate, number of epochs, etc.). It usually contains 10% of the data.\n",
    "> 3. Test set: used to evaluate the final performance of the model. It usually contains 10% of the data.\n",
    "\n",
    "> Basically, lots of experiments are run on the validation set, and the best model is selected. Then, the test set is used to evaluate the final performance of the model."
   ]
  },
  {
   "cell_type": "code",
   "execution_count": 22,
   "metadata": {},
   "outputs": [
    {
     "data": {
      "text/plain": [
       "(torch.Size([182499, 3]), torch.Size([22791, 3]), torch.Size([22856, 3]))"
      ]
     },
     "execution_count": 22,
     "metadata": {},
     "output_type": "execute_result"
    }
   ],
   "source": [
    "import random\n",
    "\n",
    "random.shuffle(names)\n",
    "n1 = int(0.8 * len(names))\n",
    "n2 = int(0.9 * len(names))\n",
    "\n",
    "Xtr, ytr = build_dataset(names[:n1])\n",
    "Xval, yval = build_dataset(names[n1:n2])\n",
    "Xte, yte = build_dataset(names[n2:])\n",
    "\n",
    "Xtr.shape, Xval.shape, Xte.shape"
   ]
  },
  {
   "cell_type": "code",
   "execution_count": 23,
   "metadata": {},
   "outputs": [
    {
     "name": "stdout",
     "output_type": "stream",
     "text": [
      "[INFO] Training round: 1/10 Loss: 2.384755849838257\n",
      "[INFO] Training round: 2/10 Loss: 2.732609987258911\n",
      "[INFO] Training round: 3/10 Loss: 2.677107095718384\n",
      "[INFO] Training round: 4/10 Loss: 2.225705862045288\n",
      "[INFO] Training round: 5/10 Loss: 2.3480117321014404\n",
      "[INFO] Training round: 6/10 Loss: 2.247016191482544\n",
      "[INFO] Training round: 7/10 Loss: 2.353623628616333\n",
      "[INFO] Training round: 8/10 Loss: 2.419191360473633\n",
      "[INFO] Training round: 9/10 Loss: 1.9796421527862549\n",
      "[INFO] Training round: 10/10 Loss: 2.3512966632843018\n"
     ]
    }
   ],
   "source": [
    "model_params = lrs_train(data=names[:n1], lr=lr)"
   ]
  },
  {
   "cell_type": "code",
   "execution_count": 24,
   "metadata": {},
   "outputs": [
    {
     "name": "stdout",
     "output_type": "stream",
     "text": [
      "[INFO] Evaluation round: 1/10 Loss: 2.2368216514587402\n",
      "[INFO] Evaluation round: 2/10 Loss: 2.645007371902466\n",
      "[INFO] Evaluation round: 3/10 Loss: 2.0986523628234863\n",
      "[INFO] Evaluation round: 4/10 Loss: 2.4636495113372803\n",
      "[INFO] Evaluation round: 5/10 Loss: 2.515936851501465\n",
      "[INFO] Evaluation round: 6/10 Loss: 2.153965711593628\n",
      "[INFO] Evaluation round: 7/10 Loss: 1.9959851503372192\n",
      "[INFO] Evaluation round: 8/10 Loss: 2.1140220165252686\n",
      "[INFO] Evaluation round: 9/10 Loss: 2.428232431411743\n",
      "[INFO] Evaluation round: 10/10 Loss: 1.8996719121932983\n"
     ]
    }
   ],
   "source": [
    "[C, W1, b1, W2, b2] = model_params\n",
    "\n",
    "for p in model_params:\n",
    "    p.requires_grad = True\n",
    "\n",
    "for i in range(10):\n",
    "    # minibatch construction\n",
    "    ix = torch.randint(0, Xval.shape[0], (32,))\n",
    "\n",
    "    # forward pass\n",
    "    emb = C[Xval[ix]]\n",
    "    h = torch.tanh(emb.view(-1, inputs) @ W1 + b1)\n",
    "    logits = h @ W2 + b2\n",
    "    loss = F.cross_entropy(logits, yval[ix])\n",
    "    print(f\"[INFO] Evaluation round: {i+1}/{10} Loss: {loss.item()}\")"
   ]
  },
  {
   "cell_type": "markdown",
   "metadata": {},
   "source": [
    "### Visualizing the embeddings created by the model"
   ]
  },
  {
   "cell_type": "code",
   "execution_count": 25,
   "metadata": {},
   "outputs": [
    {
     "data": {
      "image/png": "[encoded data removed]",
      "text/plain": [
       "<Figure size 1000x500 with 1 Axes>"
      ]
     },
     "metadata": {},
     "output_type": "display_data"
    }
   ],
   "source": [
    "plt.figure(figsize=(10, 5))\n",
    "plt.scatter(C[:, 0].data, C[:, 1].data, s=200)\n",
    "for i in range(C.shape[0]):\n",
    "    plt.text(C[i, 0].item(), C[i, 1].item(), itoch[i], ha='center', va='center', color='white')\n",
    "plt.grid(\"minor\");"
   ]
  },
  {
   "cell_type": "markdown",
   "metadata": {},
   "source": [
    "### Sampling from the model"
   ]
  },
  {
   "cell_type": "code",
   "execution_count": 26,
   "metadata": {},
   "outputs": [
    {
     "name": "stdout",
     "output_type": "stream",
     "text": [
      "phaidyn.\n",
      "kmerind.\n",
      "oma.\n",
      "janxtestan.\n",
      "roq.\n",
      "jeyfaadymin.\n",
      "ratja.\n",
      "yamberlyne.\n",
      "indthaman.\n",
      "beshel.\n",
      "zalynn.\n",
      "caphayssazun.\n",
      "ish.\n",
      "viskara.\n",
      "don.\n",
      "han.\n",
      "janiyla.\n",
      "brinne.\n",
      "abralay.\n",
      "aremet.\n"
     ]
    }
   ],
   "source": [
    "CONTEXT_LENGTH = 3\n",
    "\n",
    "for _ in range(20):\n",
    "    out = []\n",
    "    context = [0] * CONTEXT_LENGTH\n",
    "\n",
    "    while True:\n",
    "        emb = C[torch.tensor(context)]\n",
    "        h = torch.tanh(emb.view(1, -1) @ W1 + b1)\n",
    "        logits = h @ W2 + b2\n",
    "        probs = F.softmax(logits, dim=1)\n",
    "        ix = torch.multinomial(probs, num_samples=1).item()\n",
    "        context = context[1:] + [ix]\n",
    "        out.append(ix)\n",
    "        if ix == 0:\n",
    "            break\n",
    "\n",
    "    print(\"\".join([itoch[i] for i in out]))"
   ]
  },
  {
   "cell_type": "markdown",
   "metadata": {},
   "source": [
    "# Sources\n",
    "\n",
    "1. [Pytorch Internals - Edward Z. Yang](http://blog.ezyang.com/2019/05/pytorch-internals/)\n",
    "2. [Ground truth - Building makemore Part 2: MLP, By Andrej Karpathy](https://www.youtube.com/watch?v=TCH_1BHY58I&t=2702s)"
   ]
  }
 ],
 "metadata": {
  "kernelspec": {
   "display_name": "Python 3",
   "language": "python",
   "name": "python3"
  },
  "language_info": {
   "codemirror_mode": {
    "name": "ipython",
    "version": 3
   },
   "file_extension": ".py",
   "mimetype": "text/x-python",
   "name": "python",
   "nbconvert_exporter": "python",
   "pygments_lexer": "ipython3",
   "version": "3.9.6"
  },
  "orig_nbformat": 4
 },
 "nbformat": 4,
 "nbformat_minor": 2
}
