{
 "cells": [
  {
   "cell_type": "code",
   "execution_count": 4,
   "metadata": {},
   "outputs": [],
   "source": [
    "import warnings\n",
    "warnings.filterwarnings('ignore')\n",
    "\n",
    "import torch\n",
    "\n",
    "from transformer_lens import FactoredMatrix"
   ]
  },
  {
   "cell_type": "code",
   "execution_count": 2,
   "metadata": {},
   "outputs": [
    {
     "name": "stdout",
     "output_type": "stream",
     "text": [
      "Using device: mps\n"
     ]
    }
   ],
   "source": [
    "if torch.backends.mps.is_available():\n",
    "    device = torch.device('mps')\n",
    "else:\n",
    "    device = torch.device('cuda' if torch.cuda.is_available() else 'cpu')\n",
    "\n",
    "print(f'Using device: {device}')"
   ]
  },
  {
   "cell_type": "markdown",
   "metadata": {},
   "source": [
    "# 1. "
   ]
  },
  {
   "cell_type": "code",
   "execution_count": 5,
   "metadata": {},
   "outputs": [
    {
     "name": "stdout",
     "output_type": "stream",
     "text": [
      "Norms:\n",
      "tensor(11.3166)\n",
      "tensor(11.3166)\n",
      "Right dimension: 5, Left dimension: 5, Hidden dimension: 2\n"
     ]
    }
   ],
   "source": [
    "A = torch.randn(5, 2)\n",
    "B = torch.randn(2, 5)\n",
    "AB = A @ B\n",
    "AB_factor = FactoredMatrix(A, B)\n",
    "print(\"Norms:\")\n",
    "print(AB.norm())\n",
    "print(AB_factor.norm())\n",
    "\n",
    "print(f\"Right dimension: {AB_factor.rdim}, Left dimension: {AB_factor.ldim}, Hidden dimension: {AB_factor.mdim}\")"
   ]
  },
  {
   "cell_type": "code",
   "execution_count": 6,
   "metadata": {},
   "outputs": [
    {
     "name": "stdout",
     "output_type": "stream",
     "text": [
      "Eigenvalues:\n",
      "tensor([-3.8594e-06+0.0000e+00j, -3.9839e-01+3.2362e-01j,\n",
      "        -3.9839e-01-3.2362e-01j, -2.0023e-08+4.8973e-08j,\n",
      "        -2.0023e-08-4.8973e-08j])\n",
      "tensor([-0.3984+0.3236j, -0.3984-0.3236j])\n",
      "\n",
      "Singular Values:\n",
      "tensor([1.1045e+01, 2.4659e+00, 1.9530e-07, 7.8354e-08, 3.3726e-09])\n",
      "tensor([11.0446,  2.4659])\n",
      "\n",
      "Full SVD:\n",
      "(tensor([[ 0.3214,  0.2192],\n",
      "        [ 0.2939, -0.9133],\n",
      "        [-0.6548, -0.1536],\n",
      "        [-0.3436,  0.1314],\n",
      "        [ 0.5133,  0.2776]]), tensor([11.0446,  2.4659]), tensor([[-0.6408, -0.4334],\n",
      "        [-0.0991,  0.6347],\n",
      "        [ 0.1738, -0.2532],\n",
      "        [-0.6847,  0.4198],\n",
      "        [ 0.2837,  0.4111]]))\n"
     ]
    }
   ],
   "source": [
    "print(\"Eigenvalues:\")\n",
    "print(torch.linalg.eig(AB).eigenvalues)\n",
    "print(AB_factor.eigenvalues)\n",
    "\n",
    "print(\"\\nSingular Values:\")\n",
    "print(torch.linalg.svd(AB).S)\n",
    "print(AB_factor.S)\n",
    "\n",
    "print(\"\\nFull SVD:\")\n",
    "print(AB_factor.svd())"
   ]
  },
  {
   "cell_type": "code",
   "execution_count": 7,
   "metadata": {},
   "outputs": [
    {
     "name": "stdout",
     "output_type": "stream",
     "text": [
      "Unfactored: shape=torch.Size([5, 300]), norm=194.84153747558594\n",
      "Factored: shape=torch.Size([5, 300]), norm=194.84152221679688\n",
      "\n",
      "Right dimension: 300, Left dimension: 5, Hidden dimension: 2\n"
     ]
    }
   ],
   "source": [
    "C = torch.randn(5, 300)\n",
    "ABC = AB @ C\n",
    "ABC_factor = AB_factor @ C\n",
    "\n",
    "print(f\"Unfactored: shape={ABC.shape}, norm={ABC.norm()}\")\n",
    "print(f\"Factored: shape={ABC_factor.shape}, norm={ABC_factor.norm()}\")\n",
    "print(f\"\\nRight dimension: {ABC_factor.rdim}, Left dimension: {ABC_factor.ldim}, Hidden dimension: {ABC_factor.mdim}\")"
   ]
  },
  {
   "cell_type": "code",
   "execution_count": 8,
   "metadata": {},
   "outputs": [],
   "source": [
    "AB_unfactored = AB_factor.AB\n",
    "torch.testing.assert_close(AB_unfactored, AB)"
   ]
  },
  {
   "cell_type": "markdown",
   "metadata": {},
   "source": [
    "# 2. Reverse-engineering circuits"
   ]
  },
  {
   "cell_type": "markdown",
   "metadata": {},
   "source": [
    "# Sources\n",
    "\n",
    "1. [Ground truth - Reverse-engineering induction circuits, by ARENA](https://arena-chapter1-transformer-interp.streamlit.app/[1.2]_Intro_to_Mech_Interp)"
   ]
  }
 ],
 "metadata": {
  "kernelspec": {
   "display_name": ".venv",
   "language": "python",
   "name": "python3"
  },
  "language_info": {
   "codemirror_mode": {
    "name": "ipython",
    "version": 3
   },
   "file_extension": ".py",
   "mimetype": "text/x-python",
   "name": "python",
   "nbconvert_exporter": "python",
   "pygments_lexer": "ipython3",
   "version": "3.12.2"
  }
 },
 "nbformat": 4,
 "nbformat_minor": 2
}
