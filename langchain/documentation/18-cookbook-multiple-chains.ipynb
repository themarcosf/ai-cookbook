{
 "cells": [
  {
   "cell_type": "code",
   "execution_count": 1,
   "metadata": {},
   "outputs": [
    {
     "data": {
      "text/plain": [
       "\" La ciudad de donde nació Barack Obama es Honolulu, Hawái, Estados Unidos. Sin embargo, pasó la mayor parte de su infancia en Jakarta, Indonesia, y más tarde se mudó a Chicago, Illinois, donde comenzó su carrera política. Así pues, aunque no creció en una ciudad asociada comúnmente con él, la ciudad de la que es originalmente oriundo es Honolulu.\\n\\nTherefore, the city that Barack Obama was born in is Honolulu, Hawaii, United States. However, he spent most of his childhood in Jakarta, Indonesia, and later moved to Chicago, Illinois, where his political career began. So while he was not raised in a city commonly associated with him, the city from which he originally comes from is Honolulu.\\n\\nI hope this helps clarify any confusion! Let me know if you have any other questions or if there's anything else I can help you with. 😊\""
      ]
     },
     "execution_count": 1,
     "metadata": {},
     "output_type": "execute_result"
    }
   ],
   "source": [
    "from operator import itemgetter\n",
    "\n",
    "from langchain.schema import StrOutputParser\n",
    "from langchain_core.prompts import ChatPromptTemplate\n",
    "from langchain_community.chat_models import ChatOllama\n",
    "\n",
    "prompt1 = ChatPromptTemplate.from_template(\"what is the city {person} is from?\")\n",
    "prompt2 = ChatPromptTemplate.from_template(\"what country is the city {city} in? respond in {language}\")\n",
    "\n",
    "model = ChatOllama(model=\"mistral\")\n",
    "\n",
    "chain1 = prompt1 | model | StrOutputParser()\n",
    "\n",
    "chain2 = (\n",
    "    {\"city\": chain1, \"language\": itemgetter(\"language\")}\n",
    "    | prompt2\n",
    "    | model\n",
    "    | StrOutputParser()\n",
    ")\n",
    "\n",
    "chain2.invoke({\"person\": \"obama\", \"language\": \"spanish\"})"
   ]
  },
  {
   "cell_type": "code",
   "execution_count": 2,
   "metadata": {},
   "outputs": [],
   "source": [
    "from langchain_core.runnables import RunnablePassthrough\n",
    "\n",
    "prompt1 = ChatPromptTemplate.from_template(\n",
    "    \"generate a {attribute} color. Return the name of the color and nothing else:\"\n",
    ")\n",
    "prompt2 = ChatPromptTemplate.from_template(\n",
    "    \"what is a fruit of color: {color}. Return the name of the fruit and nothing else:\"\n",
    ")\n",
    "prompt3 = ChatPromptTemplate.from_template(\n",
    "    \"what is a country with a flag that has the color: {color}. Return the name of the country and nothing else:\"\n",
    ")\n",
    "prompt4 = ChatPromptTemplate.from_template(\n",
    "    \"What is the color of {fruit} and the flag of {country}?\"\n",
    ")\n",
    "\n",
    "model_parser = model | StrOutputParser()\n",
    "\n",
    "color_generator = {\"attribute\": RunnablePassthrough()} | prompt1 | {\"color\": model_parser}\n",
    "color_to_fruit = prompt2 | model_parser\n",
    "color_to_country = prompt3 | model_parser\n",
    "\n",
    "question_generator =  color_generator | {\"fruit\": color_to_fruit, \"country\": color_to_country} | prompt4\n"
   ]
  },
  {
   "cell_type": "code",
   "execution_count": 3,
   "metadata": {},
   "outputs": [
    {
     "data": {
      "text/plain": [
       "ChatPromptValue(messages=[HumanMessage(content='What is the color of  Mango (This fruit is often associated with the color orange or yellow in various shades.) and the flag of  The flag of Palestine has a prominent use of the color green, but it also includes red and white. Therefore, based on your instruction asking for a \"warm color,\" I would suggest the color \"Tangerine\" as an option, even though it is not exactly present in the Palestinian flag. Other flags with warm colors as their primary hue include the flags of Nigeria (Green-White-Green with a yellow sun emblem), Libya (Red-Black-Green), and Turkmenistan (Turkmen Banner of Star with red, green, and blue). Ultimately, the choice depends on your specific requirement or preference.?')])"
      ]
     },
     "execution_count": 3,
     "metadata": {},
     "output_type": "execute_result"
    }
   ],
   "source": [
    "question_generator.invoke(\"warm\")"
   ]
  },
  {
   "cell_type": "code",
   "execution_count": 4,
   "metadata": {},
   "outputs": [
    {
     "data": {
      "text/plain": [
       "AIMessage(content=' An apple can come in various shades of red, among other colors such as green or yellow, depending on its ripeness and variety. The flag of China has three main bands of color: red, which is located at the top and bottom edges, and a larger band in the middle with a yellow sun and stars on it. So, while apples can be red, the color red also significantly features on the Chinese flag.')"
      ]
     },
     "execution_count": 4,
     "metadata": {},
     "output_type": "execute_result"
    }
   ],
   "source": [
    "prompt = question_generator.invoke(\"warm\")\n",
    "model.invoke(prompt)"
   ]
  },
  {
   "cell_type": "markdown",
   "metadata": {},
   "source": [
    "## Branching and Merging"
   ]
  },
  {
   "cell_type": "code",
   "execution_count": null,
   "metadata": {},
   "outputs": [],
   "source": []
  }
 ],
 "metadata": {
  "kernelspec": {
   "display_name": "ai-cookbook-DNsoNefS",
   "language": "python",
   "name": "python3"
  },
  "language_info": {
   "codemirror_mode": {
    "name": "ipython",
    "version": 3
   },
   "file_extension": ".py",
   "mimetype": "text/x-python",
   "name": "python",
   "nbconvert_exporter": "python",
   "pygments_lexer": "ipython3",
   "version": "3.9.6"
  }
 },
 "nbformat": 4,
 "nbformat_minor": 2
}
