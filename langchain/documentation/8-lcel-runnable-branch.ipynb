{
 "cells": [
  {
   "cell_type": "code",
   "execution_count": 1,
   "metadata": {},
   "outputs": [
    {
     "name": "stderr",
     "output_type": "stream",
     "text": [
      "/Users/marcosf/.local/share/virtualenvs/ai-cookbook-DNsoNefS/lib/python3.9/site-packages/urllib3/__init__.py:34: NotOpenSSLWarning: urllib3 v2 only supports OpenSSL 1.1.1+, currently the 'ssl' module is compiled with 'LibreSSL 2.8.3'. See: https://github.com/urllib3/urllib3/issues/3020\n",
      "  warnings.warn(\n"
     ]
    }
   ],
   "source": [
    "from langchain.prompts import ChatPromptTemplate\n",
    "from langchain_community.chat_models import ChatOllama\n",
    "from langchain_core.output_parsers import StrOutputParser\n",
    "\n",
    "prompt = ChatPromptTemplate.from_messages([\n",
    "  (\"system\", \"Given the user question below, classify it as either being about `LangChain`, `Anthropic`, or `Other`.\"),\n",
    "  (\"system\", \"Respond with only one word. You can choose either `LangChain`, `Anthropic`, or `Other`.\"),\n",
    "  (\"user\", \"{question}\")\n",
    "])\n",
    "\n",
    "chain = prompt | ChatOllama(model=\"mistral\") | StrOutputParser()"
   ]
  },
  {
   "cell_type": "code",
   "execution_count": 2,
   "metadata": {},
   "outputs": [
    {
     "data": {
      "text/plain": [
       "' Other. The question is asking for information that does not specifically relate to LangChain or Anthropic, but rather is asking for the name of a company or organization called \"Anthropic\".'"
      ]
     },
     "execution_count": 2,
     "metadata": {},
     "output_type": "execute_result"
    }
   ],
   "source": [
    "chain.invoke({\"question\": \"how do I call Anthropic?\"})"
   ]
  },
  {
   "cell_type": "code",
   "execution_count": 3,
   "metadata": {},
   "outputs": [],
   "source": [
    "langchain_prompt = ChatPromptTemplate.from_messages([\n",
    "  (\"system\", \"You are an expert in langchain. Always answer questions starting with `As Harrison Chase told me`.\"),\n",
    "  (\"system\", \"Respond to the following question.\"),\n",
    "  (\"user\", \"{question}\")\n",
    "])\n",
    "\n",
    "anthropic_prompt = ChatPromptTemplate.from_messages([\n",
    "  (\"system\", \"You are an expert in anthropic. Always answer questions starting with `As Dario Amodei told me`.\"),\n",
    "  (\"system\", \"Respond to the following question.\"),\n",
    "  (\"user\", \"{question}\")\n",
    "])\n",
    "\n",
    "general_prompt = ChatPromptTemplate.from_messages([\n",
    "  (\"system\", \"Respond to the following question.\"),\n",
    "  (\"user\", \"{question}\")\n",
    "])\n",
    "\n",
    "langchain_chain = langchain_prompt | ChatOllama(model=\"mistral\") | StrOutputParser()\n",
    "anthropic_chain = anthropic_prompt | ChatOllama(model=\"mistral\") | StrOutputParser()\n",
    "general_chain = general_prompt | ChatOllama(model=\"mistral\") | StrOutputParser()"
   ]
  },
  {
   "cell_type": "code",
   "execution_count": 4,
   "metadata": {},
   "outputs": [],
   "source": [
    "from langchain_core.runnables import RunnableBranch\n",
    "\n",
    "branch = RunnableBranch(\n",
    "    (lambda obj: \"anthropic\" in obj[\"topic\"].lower(), anthropic_chain),\n",
    "    (lambda obj: \"langchain\" in obj[\"topic\"].lower(), langchain_chain),\n",
    "    general_chain,\n",
    ")"
   ]
  },
  {
   "cell_type": "code",
   "execution_count": 5,
   "metadata": {},
   "outputs": [],
   "source": [
    "from langchain_core.runnables import RunnableParallel\n",
    "\n",
    "preprocess = RunnableParallel(topic=chain, question=lambda obj: obj[\"question\"])\n",
    "full_chain = preprocess | branch"
   ]
  },
  {
   "cell_type": "code",
   "execution_count": 6,
   "metadata": {},
   "outputs": [
    {
     "data": {
      "text/plain": [
       "\" As Dario Amodei told me, to use Anthropic, you would typically follow these steps:\\n\\n1. Install the Anthropic library or integrate its API into your project.\\n2. Define or load a model that will make decisions on behalf of the anthropic agent. This model could be a machine learning model, a rule-based system, or another type of decision-making algorithm.\\n3. Use Anthropic's APIs to interact with the agent, providing it with context and information about the world and receiving its responses in return. The agent should make decisions based on its goals and values, as defined by you or by Anthropic's default settings.\\n4. Evaluate the agent's performance and adjust it as needed, using techniques such as fine-tuning, data augmentation, or other machine learning methods.\\n5. Continuously monitor the agent's actions to ensure that it is behaving in a safe and beneficial manner, and intervene if necessary.\\n6. As your application grows more complex, you may need to scale up your Anthropic agent by adding additional models or capabilities. This could involve integrating multiple agents with different areas of expertise, or designing a hierarchical architecture where simpler agents defer decisions to more complex ones.\\n7. Use Anthropic's built-in safety and alignment features to help ensure that your agent is behaving ethically and in the best interests of humanity. These features include safety protocols, value alignment techniques, and other mechanisms for ensuring that the agent's goals and values are aligned with yours and with the broader goals of anthropics.\\n\\nOverall, using Anthropic involves a combination of machine learning, systems design, and ethical considerations, all focused on creating an intelligent agent that can help solve complex problems and make decisions in a human-like manner while maintaining safety and ethical alignment.\""
      ]
     },
     "execution_count": 6,
     "metadata": {},
     "output_type": "execute_result"
    }
   ],
   "source": [
    "full_chain.invoke({\"question\": \"how do I use Anthropic?\"})"
   ]
  },
  {
   "cell_type": "code",
   "execution_count": 7,
   "metadata": {},
   "outputs": [
    {
     "data": {
      "text/plain": [
       "\" As Harrison Chase once explained to me, using LangChain involves several steps. First, you need to install it and set up your environment by following the instructions provided in the official documentation or on GitHub. This may include installing necessary dependencies and configuring any required settings.\\n\\nOnce LangChain is installed and configured, you can begin using it for various natural language processing tasks. For instance, if you want to perform sentiment analysis on a text document, you can utilize LangChain's pre-trained models or create your custom model using the provided APIs. Similarly, for translation tasks, you can use the translation API provided by LangChain to translate text between different languages.\\n\\nTo interact with LangChain, you typically write scripts in popular programming languages like Python, Node.js, or Java. These scripts make calls to LangChain's RESTful endpoints or utilize its client libraries to perform the desired NLP tasks on your input data. The results from these tasks can then be processed further and used for various applications, such as text summarization, language detection, or entity recognition.\\n\\nThroughout the process, it is essential to understand that LangChain is a versatile platform, offering various models and APIs tailored to different natural language processing tasks. As you use LangChain, you can continue expanding your knowledge and capabilities by experimenting with these diverse features and integrating them into your projects.\""
      ]
     },
     "execution_count": 7,
     "metadata": {},
     "output_type": "execute_result"
    }
   ],
   "source": [
    "full_chain.invoke({\"question\": \"how do I use LangChain?\"})"
   ]
  },
  {
   "cell_type": "code",
   "execution_count": 8,
   "metadata": {},
   "outputs": [
    {
     "data": {
      "text/plain": [
       "' As Dario Amodei told me, I cannot directly answer that question as I am an expert in anthropic principles and not arithmetic. However, if you were asking for a philosophical interpretation of the number \"four,\" which is the result of adding two and two, there have been various interpretations throughout history. Some might view it as a concrete, objective truth, while others might see it as a construct of our minds or language. From an anthropic perspective, we could consider how our ability to perform arithmetic is a crucial aspect of human intelligence and a key factor in our understanding and interaction with the world around us. But remember, this is just one possible interpretation.'"
      ]
     },
     "execution_count": 8,
     "metadata": {},
     "output_type": "execute_result"
    }
   ],
   "source": [
    "full_chain.invoke({\"question\": \"whats 2 + 2\"})"
   ]
  }
 ],
 "metadata": {
  "kernelspec": {
   "display_name": "ai-cookbook-DNsoNefS",
   "language": "python",
   "name": "python3"
  },
  "language_info": {
   "codemirror_mode": {
    "name": "ipython",
    "version": 3
   },
   "file_extension": ".py",
   "mimetype": "text/x-python",
   "name": "python",
   "nbconvert_exporter": "python",
   "pygments_lexer": "ipython3",
   "version": "3.9.6"
  }
 },
 "nbformat": 4,
 "nbformat_minor": 2
}
