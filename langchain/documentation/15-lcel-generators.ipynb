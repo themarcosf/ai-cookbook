{
 "cells": [
  {
   "cell_type": "markdown",
   "metadata": {},
   "source": [
    "# `Sync version`"
   ]
  },
  {
   "cell_type": "code",
   "execution_count": 1,
   "metadata": {},
   "outputs": [],
   "source": [
    "from langchain.prompts.chat import ChatPromptTemplate\n",
    "from langchain_core.output_parsers import StrOutputParser\n",
    "from langchain_community.chat_models import ChatOllama\n",
    "\n",
    "prompt = ChatPromptTemplate.from_template(\"Write a comma-separated list of 5 animals similar to: {animal}\")\n",
    "model = ChatOllama(model=\"mistral\", temperature=0.0)\n",
    "chain = prompt | model | StrOutputParser()"
   ]
  },
  {
   "cell_type": "code",
   "execution_count": 2,
   "metadata": {},
   "outputs": [
    {
     "data": {
      "text/plain": [
       "<generator object RunnableSequence.stream at 0x10ff686d0>"
      ]
     },
     "execution_count": 2,
     "metadata": {},
     "output_type": "execute_result"
    }
   ],
   "source": [
    "chain.stream({\"animal\": \"bear\"})"
   ]
  },
  {
   "cell_type": "code",
   "execution_count": 4,
   "metadata": {},
   "outputs": [
    {
     "data": {
      "text/plain": [
       "' 1. Elephant, known for their large size and trunk\\n\\n2. Rhinoceros, characterized by their thick skin and horn\\n\\n3. Walrus, living primarily in the Arctic with a distinctive tusk and blubber layer\\n\\n4. Orangutan, a primate native to Indonesia and Malaysia with long arms and a reddish-brown fur\\n\\n5. Hippopotamus, semi-aquatic mammal found in sub-Saharan Africa with large size and powerful jaws.'"
      ]
     },
     "execution_count": 4,
     "metadata": {},
     "output_type": "execute_result"
    }
   ],
   "source": [
    "chain.invoke({\"animal\": \"bear\"})"
   ]
  },
  {
   "cell_type": "code",
   "execution_count": 3,
   "metadata": {},
   "outputs": [
    {
     "name": "stdout",
     "output_type": "stream",
     "text": [
      " 1. Elephant, with its large size and powerful build\n",
      "2. Rhinoceros, known for their thick skin and distinctive horn\n",
      "3. Hippopotamus, semi-aquatic herbivores with large bodies\n",
      "4. Walrus, marine mammals with tusks and a thick layer of blubber\n",
      "5. Orangutan, highly intelligent primates native to Southeast Asia with shaggy red fur."
     ]
    }
   ],
   "source": [
    "for chunk in chain.stream({\"animal\": \"bear\"}):\n",
    "    print(chunk, end=\"\", flush=True)"
   ]
  },
  {
   "cell_type": "code",
   "execution_count": 5,
   "metadata": {},
   "outputs": [],
   "source": [
    "from typing import Iterator, List\n",
    "\n",
    "def split_into_list(input: Iterator[str]) -> Iterator[List[str]]:\n",
    "    \"\"\"\n",
    "    This is a custom parser that splits an iterator of llm tokens\n",
    "    into a list of strings separated by commas\n",
    "    \"\"\"\n",
    "\n",
    "    buffer = \"\"\n",
    "    for chunk in input:\n",
    "        buffer += chunk\n",
    "        while \",\" in buffer:\n",
    "            comma_index = buffer.index(\",\")\n",
    "            yield [buffer[:comma_index].strip()]\n",
    "            buffer = buffer[comma_index + 1 :]\n",
    "    yield [buffer.strip()]"
   ]
  },
  {
   "cell_type": "code",
   "execution_count": 6,
   "metadata": {},
   "outputs": [],
   "source": [
    "list_chain = chain | split_into_list"
   ]
  },
  {
   "cell_type": "code",
   "execution_count": 7,
   "metadata": {},
   "outputs": [
    {
     "name": "stdout",
     "output_type": "stream",
     "text": [
      "['1. Elephant']\n",
      "['with its large size and powerful build\\n2. Rhinoceros']\n",
      "['known for their thick skin and distinctive horn\\n3. Hippopotamus']\n",
      "['semi-aquatic herbivores with large bodies\\n4. Walrus']\n",
      "['marine mammals with tusks and a thick layer of blubber\\n5. Orangutan']\n",
      "['highly intelligent primates native to Southeast Asia with shaggy red fur.']\n"
     ]
    }
   ],
   "source": [
    "for chunk in list_chain.stream({\"animal\": \"bear\"}):\n",
    "    print(chunk, flush=True)"
   ]
  },
  {
   "cell_type": "code",
   "execution_count": 8,
   "metadata": {},
   "outputs": [
    {
     "data": {
      "text/plain": [
       "['1. Elephant',\n",
       " 'known for their large size and trunk\\n\\n2. Rhinoceros',\n",
       " 'characterized by their thick skin and horn\\n\\n3. Walrus',\n",
       " 'living primarily in the Arctic with a distinctive tusk and blubber layer\\n\\n4. Orangutan',\n",
       " 'a primate native to Indonesia and Malaysia with long arms and a reddish-brown fur\\n\\n5. Hippopotamus',\n",
       " 'semi-aquatic mammal found in sub-Saharan Africa with large size and powerful jaws.']"
      ]
     },
     "execution_count": 8,
     "metadata": {},
     "output_type": "execute_result"
    }
   ],
   "source": [
    "list_chain.invoke({\"animal\": \"bear\"})"
   ]
  },
  {
   "cell_type": "markdown",
   "metadata": {},
   "source": [
    "# `Async version`"
   ]
  },
  {
   "cell_type": "code",
   "execution_count": 10,
   "metadata": {},
   "outputs": [],
   "source": [
    "from typing import AsyncIterator\n",
    "\n",
    "\n",
    "async def asplit_into_list(input: AsyncIterator[str],) -> AsyncIterator[List[str]]:\n",
    "    \"\"\"\n",
    "    This is an async custom parser that splits an iterator\n",
    "    of llm tokens into a list of strings separated by commas\n",
    "    \"\"\"\n",
    "\n",
    "    buffer = \"\"\n",
    "    async for (chunk) in input:\n",
    "        buffer += chunk\n",
    "        while \",\" in buffer:\n",
    "            comma_index = buffer.index(\",\")\n",
    "            yield [buffer[:comma_index].strip()]\n",
    "            buffer = buffer[comma_index + 1 :]\n",
    "    yield [buffer.strip()]\n",
    "\n",
    "\n",
    "list_chain = chain | asplit_into_list"
   ]
  },
  {
   "cell_type": "code",
   "execution_count": 11,
   "metadata": {},
   "outputs": [
    {
     "name": "stdout",
     "output_type": "stream",
     "text": [
      "['1. Elephant']\n",
      "['with its large size and powerful build\\n2. Rhinoceros']\n",
      "['known for their thick skin and distinctive horn\\n3. Hippopotamus']\n",
      "['semi-aquatic herbivores with large bodies\\n4. Walrus']\n",
      "['marine mammals with tusks and a thick layer of blubber\\n5. Orangutan']\n",
      "['highly intelligent primates native to Southeast Asia with shaggy red fur.']\n"
     ]
    }
   ],
   "source": [
    "async for chunk in list_chain.astream({\"animal\": \"bear\"}):\n",
    "    print(chunk, flush=True)"
   ]
  },
  {
   "cell_type": "code",
   "execution_count": 12,
   "metadata": {},
   "outputs": [
    {
     "data": {
      "text/plain": [
       "['1. Elephant',\n",
       " 'known for their large size and trunk\\n\\n2. Rhinoceros',\n",
       " 'characterized by their thick skin and horn\\n\\n3. Walrus',\n",
       " 'living primarily in the Arctic with a distinctive tusk and blubber layer\\n\\n4. Orangutan',\n",
       " 'a primate native to Indonesia and Malaysia with long arms and a reddish-brown fur\\n\\n5. Hippopotamus',\n",
       " 'semi-aquatic mammal found in sub-Saharan Africa with large size and powerful jaws.']"
      ]
     },
     "execution_count": 12,
     "metadata": {},
     "output_type": "execute_result"
    }
   ],
   "source": [
    "await list_chain.ainvoke({\"animal\": \"bear\"})"
   ]
  }
 ],
 "metadata": {
  "kernelspec": {
   "display_name": "ai-cookbook-DNsoNefS",
   "language": "python",
   "name": "python3"
  },
  "language_info": {
   "codemirror_mode": {
    "name": "ipython",
    "version": 3
   },
   "file_extension": ".py",
   "mimetype": "text/x-python",
   "name": "python",
   "nbconvert_exporter": "python",
   "pygments_lexer": "ipython3",
   "version": "3.9.6"
  }
 },
 "nbformat": 4,
 "nbformat_minor": 2
}
