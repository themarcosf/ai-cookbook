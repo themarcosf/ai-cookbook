{
 "cells": [
  {
   "cell_type": "code",
   "execution_count": 5,
   "metadata": {},
   "outputs": [
    {
     "data": {
      "text/plain": [
       "' Harrison worked at Kensho, but this information is unrelated to the fact that bears like to eat honey.'"
      ]
     },
     "execution_count": 5,
     "metadata": {},
     "output_type": "execute_result"
    }
   ],
   "source": [
    "from langchain_community.vectorstores import FAISS\n",
    "from langchain_core.output_parsers import StrOutputParser\n",
    "from langchain_core.prompts import ChatPromptTemplate\n",
    "from langchain_core.runnables import RunnableParallel, RunnablePassthrough\n",
    "from langchain_community.embeddings import OllamaEmbeddings\n",
    "from langchain_community.chat_models import ChatOllama\n",
    "\n",
    "vectorstore = FAISS.from_texts(\n",
    "    [\"harrison worked at kensho\", \"bears like to eat honey\"],\n",
    "    embedding=OllamaEmbeddings(model=\"mistral\"),\n",
    ")\n",
    "retriever = vectorstore.as_retriever()\n",
    "\n",
    "prompt = ChatPromptTemplate.from_messages([\n",
    "  (\"system\", \"Answer the question based only on the following context: {context}\"),\n",
    "  (\"human\", \"Question: {question}\")\n",
    "])\n",
    "\n",
    "model = ChatOllama(model=\"mistral\", temperature=0)\n",
    "\n",
    "retrieval = RunnableParallel({\"context\": retriever, \"question\": RunnablePassthrough()})\n",
    "\n",
    "chain = retrieval | prompt | model | StrOutputParser()\n",
    "\n",
    "chain.invoke(\"where did harrison work?\")"
   ]
  },
  {
   "cell_type": "code",
   "execution_count": 6,
   "metadata": {},
   "outputs": [
    {
     "data": {
      "text/plain": [
       "' Risposta: Harrison ha lavorato a Kensho.\\n\\nEnglish translation: Harrison worked at Kensho.'"
      ]
     },
     "execution_count": 6,
     "metadata": {},
     "output_type": "execute_result"
    }
   ],
   "source": [
    "from operator import itemgetter\n",
    "\n",
    "prompt = ChatPromptTemplate.from_messages([\n",
    "  (\"system\", \"Answer the question based only on the following context: {context}\"),\n",
    "  (\"human\", \"Question: {question}\"),\n",
    "  (\"system\", \"Answer in the following language: {language}\")\n",
    "])\n",
    "\n",
    "retrieval = RunnableParallel({\n",
    "  \"context\": itemgetter(\"question\") | retriever, \n",
    "  \"question\": itemgetter(\"question\"),\n",
    "  \"language\": itemgetter(\"language\")\n",
    "})\n",
    "\n",
    "chain = retrieval | prompt | model | StrOutputParser()\n",
    "\n",
    "chain.invoke({\"question\": \"where did harrison work\", \"language\": \"italian\"})"
   ]
  },
  {
   "cell_type": "markdown",
   "metadata": {},
   "source": [
    "# `Conversational Retrieval Chain`"
   ]
  },
  {
   "cell_type": "code",
   "execution_count": 7,
   "metadata": {},
   "outputs": [],
   "source": [
    "from langchain.schema import format_document\n",
    "from langchain_core.messages import AIMessage, HumanMessage, get_buffer_string\n",
    "from langchain_core.runnables import RunnableParallel\n",
    "from langchain.prompts.prompt import PromptTemplate\n",
    "\n",
    "def _combine_documents(docs):\n",
    "    \"\"\"Combine a list of documents into a single string.\"\"\"\n",
    "    doc_strings = [format_document(doc, DEFAULT_DOCUMENT_PROMPT) for doc in docs]\n",
    "    return \"\\n\\n\".join(doc_strings)\n",
    "\n",
    "CONDENSE_QUESTION_PROMPT = PromptTemplate.from_template(\n",
    "    \"\"\"Given the following conversation and a follow up question, rephrase the follow up question to be a standalone question, in its original language.\n",
    "    Chat History:{chat_history}\n",
    "    Follow Up Input: {question}\n",
    "    Standalone question:\n",
    "    \"\"\"\n",
    ")\n",
    "\n",
    "DEFAULT_DOCUMENT_PROMPT = PromptTemplate.from_template(\"{page_content}\")\n",
    "\n",
    "ANSWER_PROMPT = ChatPromptTemplate.from_messages([\n",
    "    (\"system\", \"Answer the question based only on the following context: {context}\"),\n",
    "    (\"human\", \"Question: {question}\"),\n",
    "])\n",
    "\n",
    "_inputs = RunnableParallel(\n",
    "    standalone_question=RunnablePassthrough.assign(chat_history=lambda x: get_buffer_string(x[\"chat_history\"]))\n",
    "    | CONDENSE_QUESTION_PROMPT\n",
    "    | model\n",
    "    | StrOutputParser(),\n",
    ")\n",
    "\n",
    "_context = {\n",
    "    \"context\": itemgetter(\"standalone_question\") | retriever | _combine_documents,\n",
    "    \"question\": lambda x: x[\"standalone_question\"],\n",
    "}\n",
    "\n",
    "conversational_qa_chain = _inputs | _context | ANSWER_PROMPT | model"
   ]
  },
  {
   "cell_type": "code",
   "execution_count": 8,
   "metadata": {},
   "outputs": [
    {
     "data": {
      "text/plain": [
       "AIMessage(content=\" Harrison works at Kensho. However, the information given in the question does not provide any details about Harrison's job role or connection to bears or honey.\")"
      ]
     },
     "execution_count": 8,
     "metadata": {},
     "output_type": "execute_result"
    }
   ],
   "source": [
    "conversational_qa_chain.invoke({\"question\": \"where did harrison work?\", \"chat_history\": []})"
   ]
  },
  {
   "cell_type": "code",
   "execution_count": 9,
   "metadata": {},
   "outputs": [
    {
     "data": {
      "text/plain": [
       "AIMessage(content=\" Harrison worked at Kensho. The context does not provide any information about Harrison's job duties or tasks related to bears or honey.\")"
      ]
     },
     "execution_count": 9,
     "metadata": {},
     "output_type": "execute_result"
    }
   ],
   "source": [
    "conversational_qa_chain.invoke(\n",
    "    {\n",
    "        \"question\": \"where did he work?\",\n",
    "        \"chat_history\": [\n",
    "            HumanMessage(content=\"Who wrote this notebook?\"),\n",
    "            AIMessage(content=\"Harrison\"),\n",
    "        ],\n",
    "    }\n",
    ")"
   ]
  },
  {
   "cell_type": "markdown",
   "metadata": {},
   "source": [
    "## `With Memory and returning source documents`"
   ]
  },
  {
   "cell_type": "code",
   "execution_count": 10,
   "metadata": {},
   "outputs": [],
   "source": [
    "from langchain.memory import ConversationBufferMemory\n",
    "from langchain_core.runnables import RunnableLambda\n",
    "\n",
    "memory = ConversationBufferMemory(return_messages=True, output_key=\"answer\", input_key=\"question\")\n",
    "\n",
    "loaded_memory = RunnablePassthrough.assign(chat_history=RunnableLambda(memory.load_memory_variables) | itemgetter(\"history\"))\n",
    "\n",
    "standalone_question = {\n",
    "    \"standalone_question\": {\n",
    "        \"question\": lambda x: x[\"question\"],\n",
    "        \"chat_history\": lambda x: get_buffer_string(x[\"chat_history\"]),\n",
    "    }\n",
    "    | CONDENSE_QUESTION_PROMPT\n",
    "    | model\n",
    "    | StrOutputParser(),\n",
    "}\n",
    "\n",
    "retrieved_documents = {\n",
    "    \"docs\": itemgetter(\"standalone_question\") | retriever,\n",
    "    \"question\": lambda x: x[\"standalone_question\"],\n",
    "}\n",
    "\n",
    "final_inputs = {\n",
    "    \"context\": lambda x: _combine_documents(x[\"docs\"]),\n",
    "    \"question\": itemgetter(\"question\"),\n",
    "}\n",
    "\n",
    "answer = {\n",
    "    \"answer\": final_inputs | ANSWER_PROMPT | model,\n",
    "    \"docs\": itemgetter(\"docs\"),\n",
    "}\n",
    "\n",
    "chain = loaded_memory | standalone_question | retrieved_documents | answer"
   ]
  },
  {
   "cell_type": "code",
   "execution_count": 12,
   "metadata": {},
   "outputs": [
    {
     "data": {
      "text/plain": [
       "{'answer': AIMessage(content=\" Harrison works at Kensho. However, the information given in the question does not provide any details about Harrison's job role or connection to bears or honey.\"),\n",
       " 'docs': [Document(page_content='bears like to eat honey'),\n",
       "  Document(page_content='harrison worked at kensho')]}"
      ]
     },
     "execution_count": 12,
     "metadata": {},
     "output_type": "execute_result"
    }
   ],
   "source": [
    "inputs = {\"question\": \"where did harrison work?\"}\n",
    "result = chain.invoke(inputs)\n",
    "result"
   ]
  },
  {
   "cell_type": "code",
   "execution_count": 13,
   "metadata": {},
   "outputs": [
    {
     "data": {
      "text/plain": [
       "{'answer': AIMessage(content=\" The context does not provide enough information to determine the exact location or company where Harrison works. Harrison's occupation was mentioned in relation to a statement about bears and honey, but there is no connection between Harrison's work and bears or honey in the given context.\"),\n",
       " 'docs': [Document(page_content='bears like to eat honey'),\n",
       "  Document(page_content='harrison worked at kensho')]}"
      ]
     },
     "execution_count": 13,
     "metadata": {},
     "output_type": "execute_result"
    }
   ],
   "source": [
    "memory.save_context(inputs, {\"answer\": result[\"answer\"].content})\n",
    "memory.load_memory_variables({})\n",
    "\n",
    "result = chain.invoke({\"question\": \"but where did he really work?\"})\n",
    "result"
   ]
  }
 ],
 "metadata": {
  "kernelspec": {
   "display_name": "ai-cookbook-DNsoNefS",
   "language": "python",
   "name": "python3"
  },
  "language_info": {
   "codemirror_mode": {
    "name": "ipython",
    "version": 3
   },
   "file_extension": ".py",
   "mimetype": "text/x-python",
   "name": "python",
   "nbconvert_exporter": "python",
   "pygments_lexer": "ipython3",
   "version": "3.9.6"
  }
 },
 "nbformat": 4,
 "nbformat_minor": 2
}
