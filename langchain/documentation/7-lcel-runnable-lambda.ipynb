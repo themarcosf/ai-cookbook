{
 "cells": [
  {
   "cell_type": "markdown",
   "metadata": {},
   "source": [
    "#### `All inputs to lambda functions need to be a SINGLE argument. If a function accepts multiple arguments, it should be wrapped into a single input wrapper and then unpacked.`"
   ]
  },
  {
   "cell_type": "code",
   "execution_count": 3,
   "metadata": {},
   "outputs": [],
   "source": [
    "from operator import itemgetter\n",
    "\n",
    "from langchain_core.prompts import ChatPromptTemplate\n",
    "from langchain_core.runnables import RunnableLambda, RunnableParallel\n",
    "from langchain_community.chat_models import ChatOllama\n",
    "\n",
    "\n",
    "def length_function(text):\n",
    "    return len(text)\n",
    "\n",
    "\n",
    "def _multiple_length_function(text1, text2):\n",
    "    return len(text1) * len(text2)\n",
    "\n",
    "\n",
    "def multiple_length_function(_dict):\n",
    "    return _multiple_length_function(_dict[\"text1\"], _dict[\"text2\"])\n",
    "\n",
    "\n",
    "prompt = ChatPromptTemplate.from_template(\"what is {a} + {b}\")\n",
    "model = ChatOllama(model=\"mistral\")\n",
    "\n",
    "retrieval = RunnableParallel(\n",
    "    a=itemgetter(\"foo\") | RunnableLambda(length_function),\n",
    "    b={\"text1\": itemgetter(\"foo\"), \"text2\": itemgetter(\"bar\")} | RunnableLambda(multiple_length_function),\n",
    ")\n",
    "\n",
    "chain = retrieval | prompt | model"
   ]
  },
  {
   "cell_type": "code",
   "execution_count": 4,
   "metadata": {},
   "outputs": [
    {
     "data": {
      "text/plain": [
       "AIMessage(content=' The sum of the numbers 3 and 9 is 12. In mathematical terms, you can represent this as:\\n\\n3 (the first number) + 9 (the second number) = 12 (the answer)')"
      ]
     },
     "execution_count": 4,
     "metadata": {},
     "output_type": "execute_result"
    }
   ],
   "source": [
    "chain.invoke({\"foo\": \"bar\", \"bar\": \"gah\"})"
   ]
  },
  {
   "cell_type": "markdown",
   "metadata": {},
   "source": [
    "# Accepting a `Runnable Config`"
   ]
  },
  {
   "cell_type": "code",
   "execution_count": 10,
   "metadata": {},
   "outputs": [],
   "source": [
    "import json\n",
    "from langchain_community.chat_models import ChatOllama\n",
    "from langchain_core.runnables import RunnableConfig\n",
    "from langchain_core.output_parsers import StrOutputParser\n",
    "\n",
    "\n",
    "def parse_or_fix(text: str, config: RunnableConfig):\n",
    "    prompt = ChatPromptTemplate.from_messages([\n",
    "        (\"system\", \"Fix the following text: {input}\"), \n",
    "        (\"system\", \"Error: {error}\"),\n",
    "        (\"system\", \"Don't narrate, just respond with the fixed data.\")\n",
    "    ])\n",
    "\n",
    "    model = ChatOllama(model=\"mistral\")\n",
    "\n",
    "    chain = prompt | model | StrOutputParser()\n",
    "    \n",
    "    for _ in range(3):\n",
    "        try:\n",
    "            return json.loads(text)\n",
    "        except Exception as e:\n",
    "            text = chain.invoke({\"input\": text, \"error\": e}, config)\n",
    "    return \"Failed to parse\""
   ]
  },
  {
   "cell_type": "code",
   "execution_count": 27,
   "metadata": {},
   "outputs": [
    {
     "name": "stdout",
     "output_type": "stream",
     "text": [
      "llm start\n",
      "llm new token\n",
      "{'token': ' {', 'run_id': UUID('6333041b-e82d-4764-9084-c2d004814998'), 'parent_run_id': UUID('81eba2c1-5951-46d5-88ed-9de7b0f627f1'), 'tags': ['seq:step:2', 'my-tag'], 'chunk': None, 'verbose': False}\n",
      "llm new token\n",
      "{'token': ' \"', 'run_id': UUID('6333041b-e82d-4764-9084-c2d004814998'), 'parent_run_id': UUID('81eba2c1-5951-46d5-88ed-9de7b0f627f1'), 'tags': ['seq:step:2', 'my-tag'], 'chunk': None, 'verbose': False}\n",
      "llm new token\n",
      "{'token': 'foo', 'run_id': UUID('6333041b-e82d-4764-9084-c2d004814998'), 'parent_run_id': UUID('81eba2c1-5951-46d5-88ed-9de7b0f627f1'), 'tags': ['seq:step:2', 'my-tag'], 'chunk': None, 'verbose': False}\n",
      "llm new token\n",
      "{'token': '\":', 'run_id': UUID('6333041b-e82d-4764-9084-c2d004814998'), 'parent_run_id': UUID('81eba2c1-5951-46d5-88ed-9de7b0f627f1'), 'tags': ['seq:step:2', 'my-tag'], 'chunk': None, 'verbose': False}\n",
      "llm new token\n",
      "{'token': ' \"', 'run_id': UUID('6333041b-e82d-4764-9084-c2d004814998'), 'parent_run_id': UUID('81eba2c1-5951-46d5-88ed-9de7b0f627f1'), 'tags': ['seq:step:2', 'my-tag'], 'chunk': None, 'verbose': False}\n",
      "llm new token\n",
      "{'token': 'bar', 'run_id': UUID('6333041b-e82d-4764-9084-c2d004814998'), 'parent_run_id': UUID('81eba2c1-5951-46d5-88ed-9de7b0f627f1'), 'tags': ['seq:step:2', 'my-tag'], 'chunk': None, 'verbose': False}\n",
      "llm new token\n",
      "{'token': '\"', 'run_id': UUID('6333041b-e82d-4764-9084-c2d004814998'), 'parent_run_id': UUID('81eba2c1-5951-46d5-88ed-9de7b0f627f1'), 'tags': ['seq:step:2', 'my-tag'], 'chunk': None, 'verbose': False}\n",
      "llm new token\n",
      "{'token': ' }', 'run_id': UUID('6333041b-e82d-4764-9084-c2d004814998'), 'parent_run_id': UUID('81eba2c1-5951-46d5-88ed-9de7b0f627f1'), 'tags': ['seq:step:2', 'my-tag'], 'chunk': None, 'verbose': False}\n",
      "llm new token\n",
      "{'token': '', 'run_id': UUID('6333041b-e82d-4764-9084-c2d004814998'), 'parent_run_id': UUID('81eba2c1-5951-46d5-88ed-9de7b0f627f1'), 'tags': ['seq:step:2', 'my-tag'], 'chunk': None, 'verbose': False}\n",
      "llm end\n",
      "{'foo': 'bar'}\n"
     ]
    }
   ],
   "source": [
    "from langchain_core.callbacks.base import BaseCallbackHandler\n",
    "\n",
    "class CustomCallbackHandler(BaseCallbackHandler):\n",
    "    def __init__(self):\n",
    "        super().__init__()\n",
    "\n",
    "    def on_llm_start(self, *args, **kwargs):\n",
    "        print(\"llm start\")\n",
    "\n",
    "    def on_llm_new_token(self, *args, **kwargs):\n",
    "        print(\"llm new token\")\n",
    "        print(kwargs)\n",
    "\n",
    "    def on_llm_end(self, *args, **kwargs):\n",
    "        print(\"llm end\")\n",
    "\n",
    "\n",
    "runnable_config = RunnableConfig(\n",
    "    callbacks=[CustomCallbackHandler()],\n",
    "    tags=[\"my-tag\"],\n",
    ")\n",
    "\n",
    "output = RunnableLambda(parse_or_fix).invoke(\"{foo: bar}\", runnable_config)\n",
    "print(output)"
   ]
  },
  {
   "cell_type": "code",
   "execution_count": null,
   "metadata": {},
   "outputs": [],
   "source": []
  }
 ],
 "metadata": {
  "kernelspec": {
   "display_name": "ai-cookbook-DNsoNefS",
   "language": "python",
   "name": "python3"
  },
  "language_info": {
   "codemirror_mode": {
    "name": "ipython",
    "version": 3
   },
   "file_extension": ".py",
   "mimetype": "text/x-python",
   "name": "python",
   "nbconvert_exporter": "python",
   "pygments_lexer": "ipython3",
   "version": "3.9.6"
  }
 },
 "nbformat": 4,
 "nbformat_minor": 2
}
