{
 "cells": [
  {
   "cell_type": "markdown",
   "metadata": {},
   "source": [
    "# `Setup`"
   ]
  },
  {
   "cell_type": "code",
   "execution_count": 1,
   "metadata": {},
   "outputs": [
    {
     "name": "stdout",
     "output_type": "stream",
     "text": [
      "\n",
      "Starting Redis...\n",
      "0800224747e1accd131b4141385bc275f2adf1cbeb7e9ae46336952f4597c452\n",
      "Redis started.\n"
     ]
    },
    {
     "name": "stderr",
     "output_type": "stream",
     "text": [
      "Error: No such object: redis\n"
     ]
    }
   ],
   "source": [
    "import subprocess\n",
    "\n",
    "try:\n",
    "    subprocess.run([\"docker\", \"inspect\", \"--format\", \"'{{.State.Running}}'\", \"redis\"], check=True)\n",
    "    print(\"Redis is already running.\")\n",
    "except subprocess.CalledProcessError:\n",
    "    print(\"Starting Redis...\")\n",
    "    subprocess.run([\"docker\", \"run\", \"--name\", \"redis\", \"-p\", \"6379:6379\", \"-d\", \"redis/redis-stack:latest\"])\n",
    "    print(\"Redis started.\")"
   ]
  },
  {
   "cell_type": "markdown",
   "metadata": {},
   "source": [
    "# `Dict input, message output`"
   ]
  },
  {
   "cell_type": "code",
   "execution_count": 3,
   "metadata": {},
   "outputs": [],
   "source": [
    "from typing import Optional\n",
    "\n",
    "from langchain_community.chat_message_histories import RedisChatMessageHistory\n",
    "from langchain_community.chat_models import ChatOllama\n",
    "from langchain_core.chat_history import BaseChatMessageHistory\n",
    "from langchain_core.prompts import ChatPromptTemplate, MessagesPlaceholder\n",
    "from langchain_core.runnables.history import RunnableWithMessageHistory"
   ]
  },
  {
   "cell_type": "code",
   "execution_count": 4,
   "metadata": {},
   "outputs": [],
   "source": [
    "prompt = ChatPromptTemplate.from_messages([\n",
    "    (\"system\", \"You're an assistant who's good at {ability}\"),\n",
    "    MessagesPlaceholder(variable_name=\"history\"),\n",
    "    (\"human\", \"{question}\"),\n",
    "])\n",
    "\n",
    "chain = prompt | ChatOllama(model=\"mistral\")"
   ]
  },
  {
   "cell_type": "code",
   "execution_count": 5,
   "metadata": {},
   "outputs": [],
   "source": [
    "chain_with_history = RunnableWithMessageHistory(\n",
    "    chain,\n",
    "    lambda session_id: RedisChatMessageHistory(session_id),\n",
    "    input_messages_key=\"question\",\n",
    "    history_messages_key=\"history\",\n",
    ")"
   ]
  },
  {
   "cell_type": "code",
   "execution_count": 8,
   "metadata": {},
   "outputs": [
    {
     "data": {
      "text/plain": [
       "AIMessage(content=\" In mathematics, particularly in the field of trigonometry, the cosine function is one of the three main functions along with sine and tangent. It is defined for non-negative angles θ as the ratio of the length of the adjacent side to the hypotenuse of a right triangle. In other words, if we have a right triangle with sides labeled opposite, adjacent, and hypotenuse (often shortened to OP, A, and H), then the cosine of θ (denoted as cos(θ)) is given by:\\n\\ncos(θ) = adjacent side / hypotenuse\\n\\nIn terms of angles in degrees or radians, the cosine function gives the ratio of the length of the adjacent side to the hypotenuse for a given angle. It can also be represented as a function of an angle using various mathematical notations such as cos(x) or C(x), where x is the angle in either degrees or radians.\\n\\nThe cosine function has some important properties: it is always between -1 and 1, it's even symmetric, meaning that cos(-x) = cos(x), and it oscillates between positive and negative values for angles between 0 and 2π (or 0 and 2π radians). The graph of the cosine function has a characteristic shape with repeated peaks and troughs. It is commonly used in various areas, including physics, engineering, and signal processing, to represent periodic phenomena.\")"
      ]
     },
     "execution_count": 8,
     "metadata": {},
     "output_type": "execute_result"
    }
   ],
   "source": [
    "chain_with_history.invoke(\n",
    "    {\"ability\": \"math\", \"question\": \"What does cosine mean?\"},\n",
    "    config={\"configurable\": {\"session_id\": \"foobar\"}},\n",
    ")"
   ]
  },
  {
   "cell_type": "code",
   "execution_count": 9,
   "metadata": {},
   "outputs": [
    {
     "data": {
      "text/plain": [
       "AIMessage(content=' The inverse cosine function, denoted as arccos(x) or acos(x), is the inverse operation of the cosine function. It returns the angle (measured in degrees or radians) whose cosine value is a given input x. Since the cosine function outputs values between -1 and 1, its inverse, arccos(x), has a defined output only for inputs between -1 and 1. For other values of x, such as x < -1 or x > 1, there are two possible angles that could have given the input value as their cosine, making the inverse function ambiguous. In these cases, arccos(x) will return one of those valid angles based on a specific convention.\\n\\nThe arccosine function is defined as:\\n\\narccos(x) = θ, where cos(θ) = x and θ is in the first or fourth quadrants (i.e., θ lies between 0 and π/2 or π and 3π/2).\\n\\nThe main difference between the cosine function and its inverse is that the cosine function takes an angle as an input, while arccosine takes a cosine value as an input and returns the corresponding angle. The graph of arccosine function is the reflection of the cosine function about the line y = x in the symmetry axis.')"
      ]
     },
     "execution_count": 9,
     "metadata": {},
     "output_type": "execute_result"
    }
   ],
   "source": [
    "chain_with_history.invoke(\n",
    "    {\"ability\": \"math\", \"question\": \"What's its inverse\"},\n",
    "    config={\"configurable\": {\"session_id\": \"foobar\"}},\n",
    ")"
   ]
  },
  {
   "cell_type": "markdown",
   "metadata": {},
   "source": [
    "## `Messages input, dict output`"
   ]
  },
  {
   "cell_type": "code",
   "execution_count": 10,
   "metadata": {},
   "outputs": [
    {
     "data": {
      "text/plain": [
       "{'output_message': AIMessage(content=' Simone de Beauvoir, a French philosopher and writer, is best known for her work on existentialist philosophy and feminist theory. In her philosophical works, she did not specifically focus on the topic of free will as extensively as some other philosophers have. However, she did touch upon this concept in relation to human freedom and existence.\\n\\nIn \"The Second Sex,\" one of her most famous works, Beauvoir argues that women are not inherently different from men but are socially constructed as inferior. She also emphasizes the importance of individual freedom and choice, stating that individuals create their own meaning and purpose in life through their experiences and actions.\\n\\nIn this context, Beauvoir seems to lean toward the belief that humans possess free will, with the ability to make choices based on their unique circumstances and consciousness. However, she also acknowledges the role of social conditioning and societal expectations in shaping individual choices and limiting freedom, particularly for women.\\n\\nIt\\'s important to note that Beauvoir\\'s views on free will are not as well-defined or systematic as those of philosophers who have dedicated their careers to this topic. Her ideas should be considered within the larger context of her works and her focus on existentialism and feminist theory.')}"
      ]
     },
     "execution_count": 10,
     "metadata": {},
     "output_type": "execute_result"
    }
   ],
   "source": [
    "from langchain_core.messages import HumanMessage\n",
    "from langchain_core.runnables import RunnableParallel\n",
    "\n",
    "chain = RunnableParallel({\"output_message\": ChatOllama(model=\"mistral\")})\n",
    "chain_with_history = RunnableWithMessageHistory(\n",
    "    chain,\n",
    "    lambda session_id: RedisChatMessageHistory(session_id),\n",
    "    output_messages_key=\"output_message\",\n",
    ")\n",
    "\n",
    "chain_with_history.invoke(\n",
    "    [HumanMessage(content=\"What did Simone de Beauvoir believe about free will\")],\n",
    "    config={\"configurable\": {\"session_id\": \"baz\"}},\n",
    ")"
   ]
  },
  {
   "cell_type": "code",
   "execution_count": 11,
   "metadata": {},
   "outputs": [
    {
     "data": {
      "text/plain": [
       "{'output_message': AIMessage(content=' Simone de Beauvoir and Jean-Paul Sartre, both French philosophers, shared many philosophical views, particularly in their emphasis on existentialism and the concept of human freedom. While they agreed on the importance of free will, there are some differences in how they approached the topic.\\n\\nSartre, in his seminal work \"Being and Nothingness,\" argues for the absolute freedom of consciousness, known as \"radical freedom.\" He posits that humans are born into a world without inherent meaning or purpose and must create their own existence through their choices and actions. This radical freedom is not determined by any external factors, including biology or social conditioning.\\n\\nBeauvoir\\'s views on free will can be seen as influenced by Sartre\\'s ideas but with a feminist perspective. In \"The Second Sex,\" she acknowledges the role of individual choice and consciousness but also emphasizes the importance of understanding how social conditioning and societal expectations impact freedom, particularly for women. She argues that women\\'s experiences are shaped differently due to their gendered identity, limiting their freedoms in various ways.\\n\\nDespite their similarities, there is a subtle difference between Beauvoir and Sartre on free will. While both philosophers believe in human freedom, Beauvoir acknowledges the role of external factors, such as social conditioning and gender roles, in shaping individuals\\' choices and limiting their freedoms. In contrast, Sartre\\'s concept of radical freedom suggests that there are no inherent limitations on individual choice and freedom, although this can be a challenging idea to reconcile with the realities of human existence.\\n\\nOverall, Beauvoir\\'s perspective on free will builds upon Sartre\\'s ideas but provides a more nuanced understanding, taking into account the role of gender and social conditioning in limiting individual freedoms.')}"
      ]
     },
     "execution_count": 11,
     "metadata": {},
     "output_type": "execute_result"
    }
   ],
   "source": [
    "chain_with_history.invoke(\n",
    "    [HumanMessage(content=\"How did this compare to Sartre\")],\n",
    "    config={\"configurable\": {\"session_id\": \"baz\"}},\n",
    ")"
   ]
  },
  {
   "cell_type": "markdown",
   "metadata": {},
   "source": [
    "## `With itemgetter`"
   ]
  },
  {
   "cell_type": "code",
   "execution_count": 12,
   "metadata": {},
   "outputs": [
    {
     "data": {
      "text/plain": [
       "RunnableWithMessageHistory(bound=RunnableBinding(bound=RunnableBinding(bound=RunnableAssign(mapper={\n",
       "  input_messages: RunnableBinding(bound=RunnableLambda(_enter_history), config={'run_name': 'load_history'})\n",
       "}), config={'run_name': 'insert_history'})\n",
       "| RunnableBinding(bound=RunnableLambda(itemgetter('input_messages'))\n",
       "  | ChatOllama(model='mistral'), config_factories=[<function Runnable.with_listeners.<locals>.<lambda> at 0x117cf85e0>]), config={'run_name': 'RunnableWithMessageHistory'}), get_session_history=<function <lambda> at 0x117cf8700>, input_messages_key='input_messages', history_factory_config=[ConfigurableFieldSpec(id='session_id', annotation=<class 'str'>, name='Session ID', description='Unique identifier for a session.', default='', is_shared=True, dependencies=None)])"
      ]
     },
     "execution_count": 12,
     "metadata": {},
     "output_type": "execute_result"
    }
   ],
   "source": [
    "from operator import itemgetter\n",
    "\n",
    "RunnableWithMessageHistory(\n",
    "    ChatOllama(model=\"mistral\"),\n",
    "    lambda session_id: RedisChatMessageHistory(session_id),\n",
    ")\n",
    "\n",
    "RunnableWithMessageHistory(\n",
    "    itemgetter(\"input_messages\") | ChatOllama(model=\"mistral\"),\n",
    "    lambda session_id: RedisChatMessageHistory(session_id),\n",
    "    input_messages_key=\"input_messages\",\n",
    ")"
   ]
  },
  {
   "cell_type": "markdown",
   "metadata": {},
   "source": [
    "# `Tear down`"
   ]
  },
  {
   "cell_type": "code",
   "execution_count": 13,
   "metadata": {},
   "outputs": [
    {
     "name": "stdout",
     "output_type": "stream",
     "text": [
      "'true'\n",
      "redis\n",
      "redis\n",
      "Redis has been stopped and removed.\n"
     ]
    }
   ],
   "source": [
    "try:\n",
    "    subprocess.run([\"docker\", \"inspect\", \"--format\", \"'{{.State.Running}}'\", \"redis\"], check=True)\n",
    "    subprocess.run([\"docker\", \"stop\", \"redis\"])\n",
    "    subprocess.run([\"docker\", \"rm\", \"redis\"])\n",
    "    print(\"Redis has been stopped and removed.\")\n",
    "\n",
    "except subprocess.CalledProcessError:\n",
    "    print(\"Redis is not currently running.\")"
   ]
  }
 ],
 "metadata": {
  "kernelspec": {
   "display_name": "ai-cookbook-DNsoNefS",
   "language": "python",
   "name": "python3"
  },
  "language_info": {
   "codemirror_mode": {
    "name": "ipython",
    "version": 3
   },
   "file_extension": ".py",
   "mimetype": "text/x-python",
   "name": "python",
   "nbconvert_exporter": "python",
   "pygments_lexer": "ipython3",
   "version": "3.9.6"
  }
 },
 "nbformat": 4,
 "nbformat_minor": 2
}
