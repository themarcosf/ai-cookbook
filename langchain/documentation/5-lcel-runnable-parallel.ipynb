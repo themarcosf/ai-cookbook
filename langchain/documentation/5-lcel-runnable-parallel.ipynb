{
 "cells": [
  {
   "cell_type": "code",
   "execution_count": 2,
   "metadata": {},
   "outputs": [
    {
     "data": {
      "text/plain": [
       "\" Harrison worked at Kensho, based on the given context, there is no relation between the context about bears and honey with Harrison's place of work.\""
      ]
     },
     "execution_count": 2,
     "metadata": {},
     "output_type": "execute_result"
    }
   ],
   "source": [
    "from langchain_community.vectorstores import FAISS\n",
    "from langchain_core.output_parsers import StrOutputParser\n",
    "from langchain_core.prompts import ChatPromptTemplate\n",
    "from langchain_core.runnables import RunnableParallel, RunnablePassthrough\n",
    "from langchain_community.embeddings import OllamaEmbeddings\n",
    "from langchain_community.chat_models import ChatOllama\n",
    "\n",
    "vectorstore = FAISS.from_texts(\n",
    "    [\"harrison worked at kensho\", \"bears like to eat honey\"],\n",
    "    embedding=OllamaEmbeddings(model=\"mistral\"),\n",
    ")\n",
    "\n",
    "retriever = vectorstore.as_retriever()\n",
    "\n",
    "prompt = ChatPromptTemplate.from_messages([\n",
    "  (\"system\", \"Answer the question based only on the following context: {context}\"),\n",
    "  (\"human\", \"Question: {question}\")\n",
    "])\n",
    "\n",
    "model = ChatOllama(model=\"mistral\")\n",
    "\n",
    "retrieval = RunnableParallel(context=retriever, question=RunnablePassthrough())\n",
    "\n",
    "chain = retrieval | prompt | model | StrOutputParser()\n",
    "\n",
    "chain.invoke(\"where did harrison work?\")"
   ]
  },
  {
   "cell_type": "markdown",
   "metadata": {},
   "source": [
    "# Using `itemgetter` as shorthand"
   ]
  },
  {
   "cell_type": "code",
   "execution_count": 4,
   "metadata": {},
   "outputs": [
    {
     "data": {
      "text/plain": [
       "' Risposta in lingua italiana: Harrison ha lavorato a Kensho. (Harrison worked at Kensho.)'"
      ]
     },
     "execution_count": 4,
     "metadata": {},
     "output_type": "execute_result"
    }
   ],
   "source": [
    "from operator import itemgetter\n",
    "from langchain_core.output_parsers import StrOutputParser\n",
    "from langchain_core.prompts import ChatPromptTemplate\n",
    "\n",
    "prompt = ChatPromptTemplate.from_messages([\n",
    "  (\"system\", \"Answer the question based only on the following context: {context}\"),\n",
    "  (\"system\", \"Answer in the following language: {language}\"),\n",
    "  (\"human\", \"Question: {question}\")\n",
    "])\n",
    "\n",
    "retrieval = RunnableParallel(\n",
    "  context=itemgetter(\"question\") | retriever,\n",
    "  question=itemgetter(\"question\") | RunnablePassthrough(), \n",
    "  language=itemgetter(\"language\") | RunnablePassthrough()\n",
    ")\n",
    "\n",
    "chain = retrieval | prompt | model | StrOutputParser()\n",
    "\n",
    "chain.invoke({\"question\": \"where did harrison work\", \"language\": \"italian\"})"
   ]
  }
 ],
 "metadata": {
  "kernelspec": {
   "display_name": "ai-cookbook-DNsoNefS",
   "language": "python",
   "name": "python3"
  },
  "language_info": {
   "codemirror_mode": {
    "name": "ipython",
    "version": 3
   },
   "file_extension": ".py",
   "mimetype": "text/x-python",
   "name": "python",
   "nbconvert_exporter": "python",
   "pygments_lexer": "ipython3",
   "version": "3.9.6"
  }
 },
 "nbformat": 4,
 "nbformat_minor": 2
}
