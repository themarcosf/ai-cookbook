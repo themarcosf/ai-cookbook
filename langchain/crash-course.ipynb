{
 "cells": [
  {
   "cell_type": "code",
   "execution_count": 1,
   "metadata": {},
   "outputs": [
    {
     "data": {
      "text/plain": [
       "True"
      ]
     },
     "execution_count": 1,
     "metadata": {},
     "output_type": "execute_result"
    }
   ],
   "source": [
    "from dotenv import load_dotenv\n",
    "\n",
    "# Load environment variables\n",
    "load_dotenv()"
   ]
  },
  {
   "cell_type": "markdown",
   "metadata": {},
   "source": [
    "# Models: open and closed source"
   ]
  },
  {
   "cell_type": "code",
   "execution_count": 2,
   "metadata": {},
   "outputs": [
    {
     "name": "stderr",
     "output_type": "stream",
     "text": [
      "/Users/marcosf/.local/share/virtualenvs/project-R8Px3RHJ/lib/python3.9/site-packages/urllib3/__init__.py:34: NotOpenSSLWarning: urllib3 v2 only supports OpenSSL 1.1.1+, currently the 'ssl' module is compiled with 'LibreSSL 2.8.3'. See: https://github.com/urllib3/urllib3/issues/3020\n",
      "  warnings.warn(\n"
     ]
    }
   ],
   "source": [
    "from langchain_openai import OpenAI\n",
    "\n",
    "openai_llm = OpenAI(temperature=0.6)"
   ]
  },
  {
   "cell_type": "code",
   "execution_count": 3,
   "metadata": {},
   "outputs": [],
   "source": [
    "text_a = \"Q: Qual é a capital do Brasil?\\nA:\"\n",
    "text_b = \"Q: What is the capital of France?\\nA:\""
   ]
  },
  {
   "cell_type": "code",
   "execution_count": 4,
   "metadata": {},
   "outputs": [
    {
     "name": "stderr",
     "output_type": "stream",
     "text": [
      "/Users/marcosf/.local/share/virtualenvs/project-R8Px3RHJ/lib/python3.9/site-packages/langchain_core/_api/deprecation.py:115: LangChainDeprecationWarning: The function `predict` was deprecated in LangChain 0.1.7 and will be removed in 0.2.0. Use invoke instead.\n",
      "  warn_deprecated(\n"
     ]
    },
    {
     "name": "stdout",
     "output_type": "stream",
     "text": [
      "Q: Qual é a capital do Brasil?\n",
      "A:  A capital do Brasil é Brasília.\n",
      "Q: What is the capital of France?\n",
      "A:  The capital of France is Paris.\n"
     ]
    }
   ],
   "source": [
    "print(text_a, openai_llm.predict(text_a))\n",
    "print(text_b, openai_llm.predict(text_b))"
   ]
  },
  {
   "cell_type": "code",
   "execution_count": 5,
   "metadata": {},
   "outputs": [
    {
     "name": "stderr",
     "output_type": "stream",
     "text": [
      "/Users/marcosf/.local/share/virtualenvs/project-R8Px3RHJ/lib/python3.9/site-packages/tqdm/auto.py:21: TqdmWarning: IProgress not found. Please update jupyter and ipywidgets. See https://ipywidgets.readthedocs.io/en/stable/user_install.html\n",
      "  from .autonotebook import tqdm as notebook_tqdm\n",
      "/Users/marcosf/.local/share/virtualenvs/project-R8Px3RHJ/lib/python3.9/site-packages/huggingface_hub/utils/_deprecation.py:131: FutureWarning: 'InferenceApi' (from 'huggingface_hub.inference_api') is deprecated and will be removed from version '1.0'. `InferenceApi` client is deprecated in favor of the more feature-complete `InferenceClient`. Check out this guide to learn how to convert your script to use it: https://huggingface.co/docs/huggingface_hub/guides/inference#legacy-inferenceapi-client.\n",
      "  warnings.warn(warning_message, FutureWarning)\n"
     ]
    }
   ],
   "source": [
    "from langchain_community.llms import HuggingFaceHub\n",
    "\n",
    "hf_llm = HuggingFaceHub(repo_id=\"google/flan-t5-base\", model_kwargs={\"temperature\": 0.6})"
   ]
  },
  {
   "cell_type": "code",
   "execution_count": 6,
   "metadata": {},
   "outputs": [
    {
     "name": "stdout",
     "output_type": "stream",
     "text": [
      "Q: Qual é a capital do Brasil?\n",
      "A: Brasil\n",
      "Q: What is the capital of France?\n",
      "A: Paris\n"
     ]
    }
   ],
   "source": [
    "print(text_a, hf_llm.predict(text_a))\n",
    "print(text_b, hf_llm.predict(text_b))"
   ]
  },
  {
   "cell_type": "markdown",
   "metadata": {},
   "source": [
    "# Prompt Templates and LLMChain"
   ]
  },
  {
   "cell_type": "code",
   "execution_count": 7,
   "metadata": {},
   "outputs": [
    {
     "data": {
      "text/plain": [
       "'Tell me the capital of Brazil.'"
      ]
     },
     "execution_count": 7,
     "metadata": {},
     "output_type": "execute_result"
    }
   ],
   "source": [
    "from langchain.prompts import PromptTemplate\n",
    "\n",
    "prompt_template = PromptTemplate(\n",
    "  input_variables=[\"country\"],\n",
    "  template=\"Tell me the capital of {country}.\"\n",
    ")\n",
    "\n",
    "prompt_template.format(country=\"Brazil\")"
   ]
  },
  {
   "cell_type": "code",
   "execution_count": 8,
   "metadata": {},
   "outputs": [
    {
     "name": "stderr",
     "output_type": "stream",
     "text": [
      "/Users/marcosf/.local/share/virtualenvs/project-R8Px3RHJ/lib/python3.9/site-packages/langchain_core/_api/deprecation.py:115: LangChainDeprecationWarning: The function `run` was deprecated in LangChain 0.1.0 and will be removed in 0.2.0. Use invoke instead.\n",
      "  warn_deprecated(\n"
     ]
    },
    {
     "data": {
      "text/plain": [
       "'\\n\\nThe capital of Brazil is Brasília. '"
      ]
     },
     "execution_count": 8,
     "metadata": {},
     "output_type": "execute_result"
    }
   ],
   "source": [
    "from langchain.chains import LLMChain\n",
    "\n",
    "openai_llm_chain = LLMChain(\n",
    "  llm=openai_llm,\n",
    "  prompt=prompt_template\n",
    ")\n",
    "openai_llm_chain.run(country=\"Brazil\")"
   ]
  },
  {
   "cell_type": "code",
   "execution_count": 9,
   "metadata": {},
   "outputs": [
    {
     "data": {
      "text/plain": [
       "'porto alegre'"
      ]
     },
     "execution_count": 9,
     "metadata": {},
     "output_type": "execute_result"
    }
   ],
   "source": [
    "hf_llm_chain = LLMChain(\n",
    "  llm=hf_llm,\n",
    "  prompt=prompt_template\n",
    ")\n",
    "hf_llm_chain.run(country=\"Brazil\")"
   ]
  },
  {
   "cell_type": "markdown",
   "metadata": {},
   "source": [
    "# Combining multiple chains using Sequential Chain"
   ]
  },
  {
   "cell_type": "code",
   "execution_count": 10,
   "metadata": {},
   "outputs": [],
   "source": [
    "from langchain.chains import SimpleSequentialChain"
   ]
  },
  {
   "cell_type": "code",
   "execution_count": 11,
   "metadata": {},
   "outputs": [],
   "source": [
    "base_prompt = PromptTemplate(\n",
    "  input_variables=[\"country\"],\n",
    "  template=\"Tell me the capital of {country}.\"\n",
    ")\n",
    "\n",
    "followup_prompt = PromptTemplate(\n",
    "  input_variables=[\"capital\"],\n",
    "  template=\"List five interesting things to do in {capital}.\"\n",
    "\n",
    ")"
   ]
  },
  {
   "cell_type": "code",
   "execution_count": 12,
   "metadata": {},
   "outputs": [
    {
     "data": {
      "text/plain": [
       "\"\\n\\n1. Visit the Three Powers Plaza: This is where the three branches of the Brazilian government are located - the Presidential Palace, the National Congress, and the Supreme Court. It's a great place to learn about Brazil's political system and to see some impressive architecture.\\n\\n2. Explore the Cathedral of Brasília: Designed by renowned architect Oscar Niemeyer, this unique cathedral is a must-see attraction in Brasília. Its modern and abstract design is a stark contrast to the traditional cathedrals found in other cities.\\n\\n3. Stroll around the Brasília National Park: This park is a great escape from the hustle and bustle of the city. It's a large green space with walking trails, lakes, and even a small zoo. It's the perfect spot for a picnic or a relaxing afternoon.\\n\\n4. Visit the National Museum of the Republic: This museum showcases the history and culture of Brazil, with exhibitions on art, archaeology, and anthropology. It's a great place to learn about the country's indigenous peoples and its colonial past.\\n\\n5. Take a tour of the Palácio do Planalto: This is the official workplace of the President of Brazil and is open to the public for guided tours. It's a great opportunity to see the inner\""
      ]
     },
     "execution_count": 12,
     "metadata": {},
     "output_type": "execute_result"
    }
   ],
   "source": [
    "base_openai_chain = LLMChain(\n",
    "  llm=openai_llm,\n",
    "  prompt=base_prompt\n",
    ")\n",
    "\n",
    "followup_openai_chain = LLMChain(\n",
    "  llm=openai_llm,\n",
    "  prompt=followup_prompt\n",
    ")\n",
    "\n",
    "sequential_openai_chain = SimpleSequentialChain(\n",
    "  chains=[base_openai_chain, followup_openai_chain]\n",
    ")\n",
    "\n",
    "sequential_openai_chain.run(\"Brazil\")"
   ]
  },
  {
   "cell_type": "code",
   "execution_count": 13,
   "metadata": {},
   "outputs": [
    {
     "data": {
      "text/plain": [
       "'Porto alegre is a city in the north of Portugal.'"
      ]
     },
     "execution_count": 13,
     "metadata": {},
     "output_type": "execute_result"
    }
   ],
   "source": [
    "base_hf_chain = LLMChain(\n",
    "  llm=hf_llm,\n",
    "  prompt=base_prompt\n",
    ")\n",
    "\n",
    "followup_hf_chain = LLMChain(\n",
    "  llm=hf_llm,\n",
    "  prompt=followup_prompt\n",
    ")\n",
    "\n",
    "sequential_hf_chain = SimpleSequentialChain(\n",
    "  chains=[base_hf_chain, followup_hf_chain]\n",
    ")\n",
    "\n",
    "sequential_hf_chain.run(\"Brazil\")"
   ]
  },
  {
   "cell_type": "code",
   "execution_count": 19,
   "metadata": {},
   "outputs": [
    {
     "data": {
      "text/plain": [
       "{'country': 'Brazil',\n",
       " 'capital': '\\n\\nThe capital of Brazil is Brasília.',\n",
       " 'interesting_things': '\\n\\n1. Visit the Presidential Palace: Also known as the Planalto Palace, this impressive building is the official workplace and residence of the President of Brazil. Visitors can take guided tours to learn about the history and architecture of the palace.\\n\\n2. Explore the National Museum: Located in the heart of Brasília, the National Museum is home to a vast collection of artifacts, artworks, and exhibits that showcase the cultural and natural history of Brazil. It is a must-visit for history buffs and art lovers.\\n\\n3. Admire the Brasília Cathedral: Designed by renowned architect Oscar Niemeyer, the Brasília Cathedral is an architectural marvel. Its unique circular shape and stunning stained glass windows make it a must-see attraction in the city.\\n\\n4. Stroll around Lake Paranoá: This artificial lake is a popular spot for outdoor activities and relaxation. Visitors can take a scenic walk along the lake, go boating or kayaking, or simply enjoy a picnic with a view of the city skyline.\\n\\n5. Experience the Brasília Nightlife: Brasília is known for its vibrant nightlife, with a variety of bars, clubs, and live music venues scattered throughout the city. From traditional Brazilian music to international DJs, there is something for everyone to enjoy.'}"
      ]
     },
     "execution_count": 19,
     "metadata": {},
     "output_type": "execute_result"
    }
   ],
   "source": [
    "from langchain.chains import SequentialChain\n",
    "\n",
    "base_chain_output_key = LLMChain(\n",
    "  llm=openai_llm,\n",
    "  prompt=base_prompt,\n",
    "  output_key=\"capital\"\n",
    ")\n",
    "\n",
    "followup_chain_output_key = LLMChain(\n",
    "  llm=openai_llm,\n",
    "  prompt=followup_prompt,\n",
    "  output_key=\"interesting_things\"\n",
    ")\n",
    "\n",
    "sequential_chain_output_key = SequentialChain(\n",
    "  chains=[base_chain_output_key, followup_chain_output_key],\n",
    "  input_variables=[\"country\"],\n",
    "  output_variables=[\"capital\", \"interesting_things\"]\n",
    ")\n",
    "\n",
    "sequential_chain_output_key({\"country\": \"Brazil\"})"
   ]
  },
  {
   "cell_type": "markdown",
   "metadata": {},
   "source": [
    "# Chatmodels with ChatOpenAI"
   ]
  },
  {
   "cell_type": "code",
   "execution_count": 21,
   "metadata": {},
   "outputs": [],
   "source": [
    "from langchain_openai import ChatOpenAI\n",
    "from langchain.schema import HumanMessage, SystemMessage\n",
    "\n",
    "chat_openai_llm = ChatOpenAI(\n",
    "  temperature=0.6,\n",
    "  model=\"gpt-3.5-turbo\"\n",
    ")"
   ]
  },
  {
   "cell_type": "code",
   "execution_count": 23,
   "metadata": {},
   "outputs": [
    {
     "name": "stderr",
     "output_type": "stream",
     "text": [
      "/Users/marcosf/.local/share/virtualenvs/project-R8Px3RHJ/lib/python3.9/site-packages/langchain_core/_api/deprecation.py:115: LangChainDeprecationWarning: The function `__call__` was deprecated in LangChain 0.1.7 and will be removed in 0.2.0. Use invoke instead.\n",
      "  warn_deprecated(\n"
     ]
    },
    {
     "data": {
      "text/plain": [
       "AIMessage(content='Lettuce ketchup!')"
      ]
     },
     "execution_count": 23,
     "metadata": {},
     "output_type": "execute_result"
    }
   ],
   "source": [
    "chat_messages = [\n",
    "  SystemMessage(content=\"You are a comedian AI assistant. You can tell jokes and make people laugh.\"),\n",
    "  HumanMessage(content=\"What did the tomate tell the lettuce?\")\n",
    "]\n",
    "\n",
    "chat_openai_llm(chat_messages)"
   ]
  },
  {
   "cell_type": "markdown",
   "metadata": {},
   "source": [
    "# PromptTemplates + LLM + OutputParsers"
   ]
  },
  {
   "cell_type": "code",
   "execution_count": 24,
   "metadata": {},
   "outputs": [],
   "source": [
    "from langchain_openai import ChatOpenAI\n",
    "from langchain.prompts.chat import ChatPromptTemplate\n",
    "from langchain.schema import BaseOutputParser"
   ]
  },
  {
   "cell_type": "code",
   "execution_count": null,
   "metadata": {},
   "outputs": [],
   "source": []
  }
 ],
 "metadata": {
  "kernelspec": {
   "display_name": "project-R8Px3RHJ",
   "language": "python",
   "name": "python3"
  },
  "language_info": {
   "codemirror_mode": {
    "name": "ipython",
    "version": 3
   },
   "file_extension": ".py",
   "mimetype": "text/x-python",
   "name": "python",
   "nbconvert_exporter": "python",
   "pygments_lexer": "ipython3",
   "version": "3.9.6"
  }
 },
 "nbformat": 4,
 "nbformat_minor": 2
}
